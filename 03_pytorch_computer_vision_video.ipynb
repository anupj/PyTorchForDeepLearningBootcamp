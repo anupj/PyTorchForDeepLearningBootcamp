{
  "nbformat": 4,
  "nbformat_minor": 0,
  "metadata": {
    "colab": {
      "provenance": [],
      "gpuType": "T4",
      "authorship_tag": "ABX9TyMXt15t6j6i020DsM6YWuer",
      "include_colab_link": true
    },
    "kernelspec": {
      "name": "python3",
      "display_name": "Python 3"
    },
    "language_info": {
      "name": "python"
    },
    "widgets": {
      "application/vnd.jupyter.widget-state+json": {
        "5c8b522d8ca54614bbc52c7f2d8a3b6f": {
          "model_module": "@jupyter-widgets/controls",
          "model_name": "HBoxModel",
          "model_module_version": "1.5.0",
          "state": {
            "_dom_classes": [],
            "_model_module": "@jupyter-widgets/controls",
            "_model_module_version": "1.5.0",
            "_model_name": "HBoxModel",
            "_view_count": null,
            "_view_module": "@jupyter-widgets/controls",
            "_view_module_version": "1.5.0",
            "_view_name": "HBoxView",
            "box_style": "",
            "children": [
              "IPY_MODEL_c0ebd16e72f644b9ae864f85011d7799",
              "IPY_MODEL_a18a8d2082f84f4b88fbbe557b806a37",
              "IPY_MODEL_e0404610cf8b4753a44200ae5fdd53ad"
            ],
            "layout": "IPY_MODEL_014dd41637064552933b7089335bd6f7"
          }
        },
        "c0ebd16e72f644b9ae864f85011d7799": {
          "model_module": "@jupyter-widgets/controls",
          "model_name": "HTMLModel",
          "model_module_version": "1.5.0",
          "state": {
            "_dom_classes": [],
            "_model_module": "@jupyter-widgets/controls",
            "_model_module_version": "1.5.0",
            "_model_name": "HTMLModel",
            "_view_count": null,
            "_view_module": "@jupyter-widgets/controls",
            "_view_module_version": "1.5.0",
            "_view_name": "HTMLView",
            "description": "",
            "description_tooltip": null,
            "layout": "IPY_MODEL_7f2ee9f2f77b4cd3961cd8033b815520",
            "placeholder": "​",
            "style": "IPY_MODEL_eff74fb00c9742b39b805e2589f60b24",
            "value": "100%"
          }
        },
        "a18a8d2082f84f4b88fbbe557b806a37": {
          "model_module": "@jupyter-widgets/controls",
          "model_name": "FloatProgressModel",
          "model_module_version": "1.5.0",
          "state": {
            "_dom_classes": [],
            "_model_module": "@jupyter-widgets/controls",
            "_model_module_version": "1.5.0",
            "_model_name": "FloatProgressModel",
            "_view_count": null,
            "_view_module": "@jupyter-widgets/controls",
            "_view_module_version": "1.5.0",
            "_view_name": "ProgressView",
            "bar_style": "success",
            "description": "",
            "description_tooltip": null,
            "layout": "IPY_MODEL_5402862be304461796565e90a0788f5c",
            "max": 3,
            "min": 0,
            "orientation": "horizontal",
            "style": "IPY_MODEL_fe0371868775410baa21b77da7dfa907",
            "value": 3
          }
        },
        "e0404610cf8b4753a44200ae5fdd53ad": {
          "model_module": "@jupyter-widgets/controls",
          "model_name": "HTMLModel",
          "model_module_version": "1.5.0",
          "state": {
            "_dom_classes": [],
            "_model_module": "@jupyter-widgets/controls",
            "_model_module_version": "1.5.0",
            "_model_name": "HTMLModel",
            "_view_count": null,
            "_view_module": "@jupyter-widgets/controls",
            "_view_module_version": "1.5.0",
            "_view_name": "HTMLView",
            "description": "",
            "description_tooltip": null,
            "layout": "IPY_MODEL_7957c1f351a947e3b53e5329741844e9",
            "placeholder": "​",
            "style": "IPY_MODEL_985ed144668f4543959068fbcac285a1",
            "value": " 3/3 [00:29&lt;00:00,  9.86s/it]"
          }
        },
        "014dd41637064552933b7089335bd6f7": {
          "model_module": "@jupyter-widgets/base",
          "model_name": "LayoutModel",
          "model_module_version": "1.2.0",
          "state": {
            "_model_module": "@jupyter-widgets/base",
            "_model_module_version": "1.2.0",
            "_model_name": "LayoutModel",
            "_view_count": null,
            "_view_module": "@jupyter-widgets/base",
            "_view_module_version": "1.2.0",
            "_view_name": "LayoutView",
            "align_content": null,
            "align_items": null,
            "align_self": null,
            "border": null,
            "bottom": null,
            "display": null,
            "flex": null,
            "flex_flow": null,
            "grid_area": null,
            "grid_auto_columns": null,
            "grid_auto_flow": null,
            "grid_auto_rows": null,
            "grid_column": null,
            "grid_gap": null,
            "grid_row": null,
            "grid_template_areas": null,
            "grid_template_columns": null,
            "grid_template_rows": null,
            "height": null,
            "justify_content": null,
            "justify_items": null,
            "left": null,
            "margin": null,
            "max_height": null,
            "max_width": null,
            "min_height": null,
            "min_width": null,
            "object_fit": null,
            "object_position": null,
            "order": null,
            "overflow": null,
            "overflow_x": null,
            "overflow_y": null,
            "padding": null,
            "right": null,
            "top": null,
            "visibility": null,
            "width": null
          }
        },
        "7f2ee9f2f77b4cd3961cd8033b815520": {
          "model_module": "@jupyter-widgets/base",
          "model_name": "LayoutModel",
          "model_module_version": "1.2.0",
          "state": {
            "_model_module": "@jupyter-widgets/base",
            "_model_module_version": "1.2.0",
            "_model_name": "LayoutModel",
            "_view_count": null,
            "_view_module": "@jupyter-widgets/base",
            "_view_module_version": "1.2.0",
            "_view_name": "LayoutView",
            "align_content": null,
            "align_items": null,
            "align_self": null,
            "border": null,
            "bottom": null,
            "display": null,
            "flex": null,
            "flex_flow": null,
            "grid_area": null,
            "grid_auto_columns": null,
            "grid_auto_flow": null,
            "grid_auto_rows": null,
            "grid_column": null,
            "grid_gap": null,
            "grid_row": null,
            "grid_template_areas": null,
            "grid_template_columns": null,
            "grid_template_rows": null,
            "height": null,
            "justify_content": null,
            "justify_items": null,
            "left": null,
            "margin": null,
            "max_height": null,
            "max_width": null,
            "min_height": null,
            "min_width": null,
            "object_fit": null,
            "object_position": null,
            "order": null,
            "overflow": null,
            "overflow_x": null,
            "overflow_y": null,
            "padding": null,
            "right": null,
            "top": null,
            "visibility": null,
            "width": null
          }
        },
        "eff74fb00c9742b39b805e2589f60b24": {
          "model_module": "@jupyter-widgets/controls",
          "model_name": "DescriptionStyleModel",
          "model_module_version": "1.5.0",
          "state": {
            "_model_module": "@jupyter-widgets/controls",
            "_model_module_version": "1.5.0",
            "_model_name": "DescriptionStyleModel",
            "_view_count": null,
            "_view_module": "@jupyter-widgets/base",
            "_view_module_version": "1.2.0",
            "_view_name": "StyleView",
            "description_width": ""
          }
        },
        "5402862be304461796565e90a0788f5c": {
          "model_module": "@jupyter-widgets/base",
          "model_name": "LayoutModel",
          "model_module_version": "1.2.0",
          "state": {
            "_model_module": "@jupyter-widgets/base",
            "_model_module_version": "1.2.0",
            "_model_name": "LayoutModel",
            "_view_count": null,
            "_view_module": "@jupyter-widgets/base",
            "_view_module_version": "1.2.0",
            "_view_name": "LayoutView",
            "align_content": null,
            "align_items": null,
            "align_self": null,
            "border": null,
            "bottom": null,
            "display": null,
            "flex": null,
            "flex_flow": null,
            "grid_area": null,
            "grid_auto_columns": null,
            "grid_auto_flow": null,
            "grid_auto_rows": null,
            "grid_column": null,
            "grid_gap": null,
            "grid_row": null,
            "grid_template_areas": null,
            "grid_template_columns": null,
            "grid_template_rows": null,
            "height": null,
            "justify_content": null,
            "justify_items": null,
            "left": null,
            "margin": null,
            "max_height": null,
            "max_width": null,
            "min_height": null,
            "min_width": null,
            "object_fit": null,
            "object_position": null,
            "order": null,
            "overflow": null,
            "overflow_x": null,
            "overflow_y": null,
            "padding": null,
            "right": null,
            "top": null,
            "visibility": null,
            "width": null
          }
        },
        "fe0371868775410baa21b77da7dfa907": {
          "model_module": "@jupyter-widgets/controls",
          "model_name": "ProgressStyleModel",
          "model_module_version": "1.5.0",
          "state": {
            "_model_module": "@jupyter-widgets/controls",
            "_model_module_version": "1.5.0",
            "_model_name": "ProgressStyleModel",
            "_view_count": null,
            "_view_module": "@jupyter-widgets/base",
            "_view_module_version": "1.2.0",
            "_view_name": "StyleView",
            "bar_color": null,
            "description_width": ""
          }
        },
        "7957c1f351a947e3b53e5329741844e9": {
          "model_module": "@jupyter-widgets/base",
          "model_name": "LayoutModel",
          "model_module_version": "1.2.0",
          "state": {
            "_model_module": "@jupyter-widgets/base",
            "_model_module_version": "1.2.0",
            "_model_name": "LayoutModel",
            "_view_count": null,
            "_view_module": "@jupyter-widgets/base",
            "_view_module_version": "1.2.0",
            "_view_name": "LayoutView",
            "align_content": null,
            "align_items": null,
            "align_self": null,
            "border": null,
            "bottom": null,
            "display": null,
            "flex": null,
            "flex_flow": null,
            "grid_area": null,
            "grid_auto_columns": null,
            "grid_auto_flow": null,
            "grid_auto_rows": null,
            "grid_column": null,
            "grid_gap": null,
            "grid_row": null,
            "grid_template_areas": null,
            "grid_template_columns": null,
            "grid_template_rows": null,
            "height": null,
            "justify_content": null,
            "justify_items": null,
            "left": null,
            "margin": null,
            "max_height": null,
            "max_width": null,
            "min_height": null,
            "min_width": null,
            "object_fit": null,
            "object_position": null,
            "order": null,
            "overflow": null,
            "overflow_x": null,
            "overflow_y": null,
            "padding": null,
            "right": null,
            "top": null,
            "visibility": null,
            "width": null
          }
        },
        "985ed144668f4543959068fbcac285a1": {
          "model_module": "@jupyter-widgets/controls",
          "model_name": "DescriptionStyleModel",
          "model_module_version": "1.5.0",
          "state": {
            "_model_module": "@jupyter-widgets/controls",
            "_model_module_version": "1.5.0",
            "_model_name": "DescriptionStyleModel",
            "_view_count": null,
            "_view_module": "@jupyter-widgets/base",
            "_view_module_version": "1.2.0",
            "_view_name": "StyleView",
            "description_width": ""
          }
        },
        "2fa9bc8aeeb14d829d7523ca17bf4599": {
          "model_module": "@jupyter-widgets/controls",
          "model_name": "HBoxModel",
          "model_module_version": "1.5.0",
          "state": {
            "_dom_classes": [],
            "_model_module": "@jupyter-widgets/controls",
            "_model_module_version": "1.5.0",
            "_model_name": "HBoxModel",
            "_view_count": null,
            "_view_module": "@jupyter-widgets/controls",
            "_view_module_version": "1.5.0",
            "_view_name": "HBoxView",
            "box_style": "",
            "children": [
              "IPY_MODEL_e57bc6eeb0394d24a8d8f3d9166863d0",
              "IPY_MODEL_d65a142cb19c40188a2cbee2abe3b923",
              "IPY_MODEL_3da2115e9d7d4768aac91ecd7a607802"
            ],
            "layout": "IPY_MODEL_311a8f847180497d8640f55bc667b5ea"
          }
        },
        "e57bc6eeb0394d24a8d8f3d9166863d0": {
          "model_module": "@jupyter-widgets/controls",
          "model_name": "HTMLModel",
          "model_module_version": "1.5.0",
          "state": {
            "_dom_classes": [],
            "_model_module": "@jupyter-widgets/controls",
            "_model_module_version": "1.5.0",
            "_model_name": "HTMLModel",
            "_view_count": null,
            "_view_module": "@jupyter-widgets/controls",
            "_view_module_version": "1.5.0",
            "_view_name": "HTMLView",
            "description": "",
            "description_tooltip": null,
            "layout": "IPY_MODEL_5595435555c1425ea89237342010f355",
            "placeholder": "​",
            "style": "IPY_MODEL_310c457a7dd34eb380aba19c5acd5bd1",
            "value": "100%"
          }
        },
        "d65a142cb19c40188a2cbee2abe3b923": {
          "model_module": "@jupyter-widgets/controls",
          "model_name": "FloatProgressModel",
          "model_module_version": "1.5.0",
          "state": {
            "_dom_classes": [],
            "_model_module": "@jupyter-widgets/controls",
            "_model_module_version": "1.5.0",
            "_model_name": "FloatProgressModel",
            "_view_count": null,
            "_view_module": "@jupyter-widgets/controls",
            "_view_module_version": "1.5.0",
            "_view_name": "ProgressView",
            "bar_style": "success",
            "description": "",
            "description_tooltip": null,
            "layout": "IPY_MODEL_95450dbce33d4595a2a4e89a8b0630a4",
            "max": 313,
            "min": 0,
            "orientation": "horizontal",
            "style": "IPY_MODEL_76f973d524ae4ab2a314a56a86886f35",
            "value": 313
          }
        },
        "3da2115e9d7d4768aac91ecd7a607802": {
          "model_module": "@jupyter-widgets/controls",
          "model_name": "HTMLModel",
          "model_module_version": "1.5.0",
          "state": {
            "_dom_classes": [],
            "_model_module": "@jupyter-widgets/controls",
            "_model_module_version": "1.5.0",
            "_model_name": "HTMLModel",
            "_view_count": null,
            "_view_module": "@jupyter-widgets/controls",
            "_view_module_version": "1.5.0",
            "_view_name": "HTMLView",
            "description": "",
            "description_tooltip": null,
            "layout": "IPY_MODEL_253afa0cdef547dbaf7c19bb81640eb6",
            "placeholder": "​",
            "style": "IPY_MODEL_ef7584a129ae432ba336cd1864d3f308",
            "value": " 313/313 [00:01&lt;00:00, 243.32it/s]"
          }
        },
        "311a8f847180497d8640f55bc667b5ea": {
          "model_module": "@jupyter-widgets/base",
          "model_name": "LayoutModel",
          "model_module_version": "1.2.0",
          "state": {
            "_model_module": "@jupyter-widgets/base",
            "_model_module_version": "1.2.0",
            "_model_name": "LayoutModel",
            "_view_count": null,
            "_view_module": "@jupyter-widgets/base",
            "_view_module_version": "1.2.0",
            "_view_name": "LayoutView",
            "align_content": null,
            "align_items": null,
            "align_self": null,
            "border": null,
            "bottom": null,
            "display": null,
            "flex": null,
            "flex_flow": null,
            "grid_area": null,
            "grid_auto_columns": null,
            "grid_auto_flow": null,
            "grid_auto_rows": null,
            "grid_column": null,
            "grid_gap": null,
            "grid_row": null,
            "grid_template_areas": null,
            "grid_template_columns": null,
            "grid_template_rows": null,
            "height": null,
            "justify_content": null,
            "justify_items": null,
            "left": null,
            "margin": null,
            "max_height": null,
            "max_width": null,
            "min_height": null,
            "min_width": null,
            "object_fit": null,
            "object_position": null,
            "order": null,
            "overflow": null,
            "overflow_x": null,
            "overflow_y": null,
            "padding": null,
            "right": null,
            "top": null,
            "visibility": null,
            "width": null
          }
        },
        "5595435555c1425ea89237342010f355": {
          "model_module": "@jupyter-widgets/base",
          "model_name": "LayoutModel",
          "model_module_version": "1.2.0",
          "state": {
            "_model_module": "@jupyter-widgets/base",
            "_model_module_version": "1.2.0",
            "_model_name": "LayoutModel",
            "_view_count": null,
            "_view_module": "@jupyter-widgets/base",
            "_view_module_version": "1.2.0",
            "_view_name": "LayoutView",
            "align_content": null,
            "align_items": null,
            "align_self": null,
            "border": null,
            "bottom": null,
            "display": null,
            "flex": null,
            "flex_flow": null,
            "grid_area": null,
            "grid_auto_columns": null,
            "grid_auto_flow": null,
            "grid_auto_rows": null,
            "grid_column": null,
            "grid_gap": null,
            "grid_row": null,
            "grid_template_areas": null,
            "grid_template_columns": null,
            "grid_template_rows": null,
            "height": null,
            "justify_content": null,
            "justify_items": null,
            "left": null,
            "margin": null,
            "max_height": null,
            "max_width": null,
            "min_height": null,
            "min_width": null,
            "object_fit": null,
            "object_position": null,
            "order": null,
            "overflow": null,
            "overflow_x": null,
            "overflow_y": null,
            "padding": null,
            "right": null,
            "top": null,
            "visibility": null,
            "width": null
          }
        },
        "310c457a7dd34eb380aba19c5acd5bd1": {
          "model_module": "@jupyter-widgets/controls",
          "model_name": "DescriptionStyleModel",
          "model_module_version": "1.5.0",
          "state": {
            "_model_module": "@jupyter-widgets/controls",
            "_model_module_version": "1.5.0",
            "_model_name": "DescriptionStyleModel",
            "_view_count": null,
            "_view_module": "@jupyter-widgets/base",
            "_view_module_version": "1.2.0",
            "_view_name": "StyleView",
            "description_width": ""
          }
        },
        "95450dbce33d4595a2a4e89a8b0630a4": {
          "model_module": "@jupyter-widgets/base",
          "model_name": "LayoutModel",
          "model_module_version": "1.2.0",
          "state": {
            "_model_module": "@jupyter-widgets/base",
            "_model_module_version": "1.2.0",
            "_model_name": "LayoutModel",
            "_view_count": null,
            "_view_module": "@jupyter-widgets/base",
            "_view_module_version": "1.2.0",
            "_view_name": "LayoutView",
            "align_content": null,
            "align_items": null,
            "align_self": null,
            "border": null,
            "bottom": null,
            "display": null,
            "flex": null,
            "flex_flow": null,
            "grid_area": null,
            "grid_auto_columns": null,
            "grid_auto_flow": null,
            "grid_auto_rows": null,
            "grid_column": null,
            "grid_gap": null,
            "grid_row": null,
            "grid_template_areas": null,
            "grid_template_columns": null,
            "grid_template_rows": null,
            "height": null,
            "justify_content": null,
            "justify_items": null,
            "left": null,
            "margin": null,
            "max_height": null,
            "max_width": null,
            "min_height": null,
            "min_width": null,
            "object_fit": null,
            "object_position": null,
            "order": null,
            "overflow": null,
            "overflow_x": null,
            "overflow_y": null,
            "padding": null,
            "right": null,
            "top": null,
            "visibility": null,
            "width": null
          }
        },
        "76f973d524ae4ab2a314a56a86886f35": {
          "model_module": "@jupyter-widgets/controls",
          "model_name": "ProgressStyleModel",
          "model_module_version": "1.5.0",
          "state": {
            "_model_module": "@jupyter-widgets/controls",
            "_model_module_version": "1.5.0",
            "_model_name": "ProgressStyleModel",
            "_view_count": null,
            "_view_module": "@jupyter-widgets/base",
            "_view_module_version": "1.2.0",
            "_view_name": "StyleView",
            "bar_color": null,
            "description_width": ""
          }
        },
        "253afa0cdef547dbaf7c19bb81640eb6": {
          "model_module": "@jupyter-widgets/base",
          "model_name": "LayoutModel",
          "model_module_version": "1.2.0",
          "state": {
            "_model_module": "@jupyter-widgets/base",
            "_model_module_version": "1.2.0",
            "_model_name": "LayoutModel",
            "_view_count": null,
            "_view_module": "@jupyter-widgets/base",
            "_view_module_version": "1.2.0",
            "_view_name": "LayoutView",
            "align_content": null,
            "align_items": null,
            "align_self": null,
            "border": null,
            "bottom": null,
            "display": null,
            "flex": null,
            "flex_flow": null,
            "grid_area": null,
            "grid_auto_columns": null,
            "grid_auto_flow": null,
            "grid_auto_rows": null,
            "grid_column": null,
            "grid_gap": null,
            "grid_row": null,
            "grid_template_areas": null,
            "grid_template_columns": null,
            "grid_template_rows": null,
            "height": null,
            "justify_content": null,
            "justify_items": null,
            "left": null,
            "margin": null,
            "max_height": null,
            "max_width": null,
            "min_height": null,
            "min_width": null,
            "object_fit": null,
            "object_position": null,
            "order": null,
            "overflow": null,
            "overflow_x": null,
            "overflow_y": null,
            "padding": null,
            "right": null,
            "top": null,
            "visibility": null,
            "width": null
          }
        },
        "ef7584a129ae432ba336cd1864d3f308": {
          "model_module": "@jupyter-widgets/controls",
          "model_name": "DescriptionStyleModel",
          "model_module_version": "1.5.0",
          "state": {
            "_model_module": "@jupyter-widgets/controls",
            "_model_module_version": "1.5.0",
            "_model_name": "DescriptionStyleModel",
            "_view_count": null,
            "_view_module": "@jupyter-widgets/base",
            "_view_module_version": "1.2.0",
            "_view_name": "StyleView",
            "description_width": ""
          }
        },
        "1b514fc5a0864e61b53d9fa7604dc508": {
          "model_module": "@jupyter-widgets/controls",
          "model_name": "HBoxModel",
          "model_module_version": "1.5.0",
          "state": {
            "_dom_classes": [],
            "_model_module": "@jupyter-widgets/controls",
            "_model_module_version": "1.5.0",
            "_model_name": "HBoxModel",
            "_view_count": null,
            "_view_module": "@jupyter-widgets/controls",
            "_view_module_version": "1.5.0",
            "_view_name": "HBoxView",
            "box_style": "",
            "children": [
              "IPY_MODEL_404b1f12e47949d9a697e12dba46d35d",
              "IPY_MODEL_3b50b72abdc74c7880ed599c82374482",
              "IPY_MODEL_e08dac21b9894d6d9ade1b5d201b8f93"
            ],
            "layout": "IPY_MODEL_5b41e43f234243e6a8f901d7f09dd666"
          }
        },
        "404b1f12e47949d9a697e12dba46d35d": {
          "model_module": "@jupyter-widgets/controls",
          "model_name": "HTMLModel",
          "model_module_version": "1.5.0",
          "state": {
            "_dom_classes": [],
            "_model_module": "@jupyter-widgets/controls",
            "_model_module_version": "1.5.0",
            "_model_name": "HTMLModel",
            "_view_count": null,
            "_view_module": "@jupyter-widgets/controls",
            "_view_module_version": "1.5.0",
            "_view_name": "HTMLView",
            "description": "",
            "description_tooltip": null,
            "layout": "IPY_MODEL_7aa04d9a04a9425789fdd26bbc23acbf",
            "placeholder": "​",
            "style": "IPY_MODEL_1f27e5cba08143a6984ff512449d7ef5",
            "value": "100%"
          }
        },
        "3b50b72abdc74c7880ed599c82374482": {
          "model_module": "@jupyter-widgets/controls",
          "model_name": "FloatProgressModel",
          "model_module_version": "1.5.0",
          "state": {
            "_dom_classes": [],
            "_model_module": "@jupyter-widgets/controls",
            "_model_module_version": "1.5.0",
            "_model_name": "FloatProgressModel",
            "_view_count": null,
            "_view_module": "@jupyter-widgets/controls",
            "_view_module_version": "1.5.0",
            "_view_name": "ProgressView",
            "bar_style": "success",
            "description": "",
            "description_tooltip": null,
            "layout": "IPY_MODEL_fb6bc48c1f634578877ebf3d4c2a806f",
            "max": 3,
            "min": 0,
            "orientation": "horizontal",
            "style": "IPY_MODEL_a937584e75ed4c3a8c2cf3b2e2aa4f2c",
            "value": 3
          }
        },
        "e08dac21b9894d6d9ade1b5d201b8f93": {
          "model_module": "@jupyter-widgets/controls",
          "model_name": "HTMLModel",
          "model_module_version": "1.5.0",
          "state": {
            "_dom_classes": [],
            "_model_module": "@jupyter-widgets/controls",
            "_model_module_version": "1.5.0",
            "_model_name": "HTMLModel",
            "_view_count": null,
            "_view_module": "@jupyter-widgets/controls",
            "_view_module_version": "1.5.0",
            "_view_name": "HTMLView",
            "description": "",
            "description_tooltip": null,
            "layout": "IPY_MODEL_9aa388599770496a8fcad08613ed95b1",
            "placeholder": "​",
            "style": "IPY_MODEL_3733f8f158464d3398153711f437da81",
            "value": " 3/3 [00:31&lt;00:00, 10.31s/it]"
          }
        },
        "5b41e43f234243e6a8f901d7f09dd666": {
          "model_module": "@jupyter-widgets/base",
          "model_name": "LayoutModel",
          "model_module_version": "1.2.0",
          "state": {
            "_model_module": "@jupyter-widgets/base",
            "_model_module_version": "1.2.0",
            "_model_name": "LayoutModel",
            "_view_count": null,
            "_view_module": "@jupyter-widgets/base",
            "_view_module_version": "1.2.0",
            "_view_name": "LayoutView",
            "align_content": null,
            "align_items": null,
            "align_self": null,
            "border": null,
            "bottom": null,
            "display": null,
            "flex": null,
            "flex_flow": null,
            "grid_area": null,
            "grid_auto_columns": null,
            "grid_auto_flow": null,
            "grid_auto_rows": null,
            "grid_column": null,
            "grid_gap": null,
            "grid_row": null,
            "grid_template_areas": null,
            "grid_template_columns": null,
            "grid_template_rows": null,
            "height": null,
            "justify_content": null,
            "justify_items": null,
            "left": null,
            "margin": null,
            "max_height": null,
            "max_width": null,
            "min_height": null,
            "min_width": null,
            "object_fit": null,
            "object_position": null,
            "order": null,
            "overflow": null,
            "overflow_x": null,
            "overflow_y": null,
            "padding": null,
            "right": null,
            "top": null,
            "visibility": null,
            "width": null
          }
        },
        "7aa04d9a04a9425789fdd26bbc23acbf": {
          "model_module": "@jupyter-widgets/base",
          "model_name": "LayoutModel",
          "model_module_version": "1.2.0",
          "state": {
            "_model_module": "@jupyter-widgets/base",
            "_model_module_version": "1.2.0",
            "_model_name": "LayoutModel",
            "_view_count": null,
            "_view_module": "@jupyter-widgets/base",
            "_view_module_version": "1.2.0",
            "_view_name": "LayoutView",
            "align_content": null,
            "align_items": null,
            "align_self": null,
            "border": null,
            "bottom": null,
            "display": null,
            "flex": null,
            "flex_flow": null,
            "grid_area": null,
            "grid_auto_columns": null,
            "grid_auto_flow": null,
            "grid_auto_rows": null,
            "grid_column": null,
            "grid_gap": null,
            "grid_row": null,
            "grid_template_areas": null,
            "grid_template_columns": null,
            "grid_template_rows": null,
            "height": null,
            "justify_content": null,
            "justify_items": null,
            "left": null,
            "margin": null,
            "max_height": null,
            "max_width": null,
            "min_height": null,
            "min_width": null,
            "object_fit": null,
            "object_position": null,
            "order": null,
            "overflow": null,
            "overflow_x": null,
            "overflow_y": null,
            "padding": null,
            "right": null,
            "top": null,
            "visibility": null,
            "width": null
          }
        },
        "1f27e5cba08143a6984ff512449d7ef5": {
          "model_module": "@jupyter-widgets/controls",
          "model_name": "DescriptionStyleModel",
          "model_module_version": "1.5.0",
          "state": {
            "_model_module": "@jupyter-widgets/controls",
            "_model_module_version": "1.5.0",
            "_model_name": "DescriptionStyleModel",
            "_view_count": null,
            "_view_module": "@jupyter-widgets/base",
            "_view_module_version": "1.2.0",
            "_view_name": "StyleView",
            "description_width": ""
          }
        },
        "fb6bc48c1f634578877ebf3d4c2a806f": {
          "model_module": "@jupyter-widgets/base",
          "model_name": "LayoutModel",
          "model_module_version": "1.2.0",
          "state": {
            "_model_module": "@jupyter-widgets/base",
            "_model_module_version": "1.2.0",
            "_model_name": "LayoutModel",
            "_view_count": null,
            "_view_module": "@jupyter-widgets/base",
            "_view_module_version": "1.2.0",
            "_view_name": "LayoutView",
            "align_content": null,
            "align_items": null,
            "align_self": null,
            "border": null,
            "bottom": null,
            "display": null,
            "flex": null,
            "flex_flow": null,
            "grid_area": null,
            "grid_auto_columns": null,
            "grid_auto_flow": null,
            "grid_auto_rows": null,
            "grid_column": null,
            "grid_gap": null,
            "grid_row": null,
            "grid_template_areas": null,
            "grid_template_columns": null,
            "grid_template_rows": null,
            "height": null,
            "justify_content": null,
            "justify_items": null,
            "left": null,
            "margin": null,
            "max_height": null,
            "max_width": null,
            "min_height": null,
            "min_width": null,
            "object_fit": null,
            "object_position": null,
            "order": null,
            "overflow": null,
            "overflow_x": null,
            "overflow_y": null,
            "padding": null,
            "right": null,
            "top": null,
            "visibility": null,
            "width": null
          }
        },
        "a937584e75ed4c3a8c2cf3b2e2aa4f2c": {
          "model_module": "@jupyter-widgets/controls",
          "model_name": "ProgressStyleModel",
          "model_module_version": "1.5.0",
          "state": {
            "_model_module": "@jupyter-widgets/controls",
            "_model_module_version": "1.5.0",
            "_model_name": "ProgressStyleModel",
            "_view_count": null,
            "_view_module": "@jupyter-widgets/base",
            "_view_module_version": "1.2.0",
            "_view_name": "StyleView",
            "bar_color": null,
            "description_width": ""
          }
        },
        "9aa388599770496a8fcad08613ed95b1": {
          "model_module": "@jupyter-widgets/base",
          "model_name": "LayoutModel",
          "model_module_version": "1.2.0",
          "state": {
            "_model_module": "@jupyter-widgets/base",
            "_model_module_version": "1.2.0",
            "_model_name": "LayoutModel",
            "_view_count": null,
            "_view_module": "@jupyter-widgets/base",
            "_view_module_version": "1.2.0",
            "_view_name": "LayoutView",
            "align_content": null,
            "align_items": null,
            "align_self": null,
            "border": null,
            "bottom": null,
            "display": null,
            "flex": null,
            "flex_flow": null,
            "grid_area": null,
            "grid_auto_columns": null,
            "grid_auto_flow": null,
            "grid_auto_rows": null,
            "grid_column": null,
            "grid_gap": null,
            "grid_row": null,
            "grid_template_areas": null,
            "grid_template_columns": null,
            "grid_template_rows": null,
            "height": null,
            "justify_content": null,
            "justify_items": null,
            "left": null,
            "margin": null,
            "max_height": null,
            "max_width": null,
            "min_height": null,
            "min_width": null,
            "object_fit": null,
            "object_position": null,
            "order": null,
            "overflow": null,
            "overflow_x": null,
            "overflow_y": null,
            "padding": null,
            "right": null,
            "top": null,
            "visibility": null,
            "width": null
          }
        },
        "3733f8f158464d3398153711f437da81": {
          "model_module": "@jupyter-widgets/controls",
          "model_name": "DescriptionStyleModel",
          "model_module_version": "1.5.0",
          "state": {
            "_model_module": "@jupyter-widgets/controls",
            "_model_module_version": "1.5.0",
            "_model_name": "DescriptionStyleModel",
            "_view_count": null,
            "_view_module": "@jupyter-widgets/base",
            "_view_module_version": "1.2.0",
            "_view_name": "StyleView",
            "description_width": ""
          }
        },
        "7d320b95d1de4b319c0fb148ceb427a1": {
          "model_module": "@jupyter-widgets/controls",
          "model_name": "HBoxModel",
          "model_module_version": "1.5.0",
          "state": {
            "_dom_classes": [],
            "_model_module": "@jupyter-widgets/controls",
            "_model_module_version": "1.5.0",
            "_model_name": "HBoxModel",
            "_view_count": null,
            "_view_module": "@jupyter-widgets/controls",
            "_view_module_version": "1.5.0",
            "_view_name": "HBoxView",
            "box_style": "",
            "children": [
              "IPY_MODEL_79abc70376084ab38028857f13d8c7db",
              "IPY_MODEL_65a3ce8b90b641bf976a4f405b7332cb",
              "IPY_MODEL_5d9a53c19ed44f14b327fd9e883d8998"
            ],
            "layout": "IPY_MODEL_1e6576bed03a4ee2aaa97742bc7f533e"
          }
        },
        "79abc70376084ab38028857f13d8c7db": {
          "model_module": "@jupyter-widgets/controls",
          "model_name": "HTMLModel",
          "model_module_version": "1.5.0",
          "state": {
            "_dom_classes": [],
            "_model_module": "@jupyter-widgets/controls",
            "_model_module_version": "1.5.0",
            "_model_name": "HTMLModel",
            "_view_count": null,
            "_view_module": "@jupyter-widgets/controls",
            "_view_module_version": "1.5.0",
            "_view_name": "HTMLView",
            "description": "",
            "description_tooltip": null,
            "layout": "IPY_MODEL_e7226e047e1d4656b46e322a68a65a2b",
            "placeholder": "​",
            "style": "IPY_MODEL_af5609e2e2e44c9293f8b237f5068b18",
            "value": "100%"
          }
        },
        "65a3ce8b90b641bf976a4f405b7332cb": {
          "model_module": "@jupyter-widgets/controls",
          "model_name": "FloatProgressModel",
          "model_module_version": "1.5.0",
          "state": {
            "_dom_classes": [],
            "_model_module": "@jupyter-widgets/controls",
            "_model_module_version": "1.5.0",
            "_model_name": "FloatProgressModel",
            "_view_count": null,
            "_view_module": "@jupyter-widgets/controls",
            "_view_module_version": "1.5.0",
            "_view_name": "ProgressView",
            "bar_style": "success",
            "description": "",
            "description_tooltip": null,
            "layout": "IPY_MODEL_e9cbc5d6e4a84015aff92ae9261d76f5",
            "max": 313,
            "min": 0,
            "orientation": "horizontal",
            "style": "IPY_MODEL_38a701e77b284bbe9b87f63d3a390f04",
            "value": 313
          }
        },
        "5d9a53c19ed44f14b327fd9e883d8998": {
          "model_module": "@jupyter-widgets/controls",
          "model_name": "HTMLModel",
          "model_module_version": "1.5.0",
          "state": {
            "_dom_classes": [],
            "_model_module": "@jupyter-widgets/controls",
            "_model_module_version": "1.5.0",
            "_model_name": "HTMLModel",
            "_view_count": null,
            "_view_module": "@jupyter-widgets/controls",
            "_view_module_version": "1.5.0",
            "_view_name": "HTMLView",
            "description": "",
            "description_tooltip": null,
            "layout": "IPY_MODEL_917a56a0097c48968d8e040c8053d354",
            "placeholder": "​",
            "style": "IPY_MODEL_2963c7efa31b48fbb69efd733e78dcfb",
            "value": " 313/313 [00:02&lt;00:00, 100.08it/s]"
          }
        },
        "1e6576bed03a4ee2aaa97742bc7f533e": {
          "model_module": "@jupyter-widgets/base",
          "model_name": "LayoutModel",
          "model_module_version": "1.2.0",
          "state": {
            "_model_module": "@jupyter-widgets/base",
            "_model_module_version": "1.2.0",
            "_model_name": "LayoutModel",
            "_view_count": null,
            "_view_module": "@jupyter-widgets/base",
            "_view_module_version": "1.2.0",
            "_view_name": "LayoutView",
            "align_content": null,
            "align_items": null,
            "align_self": null,
            "border": null,
            "bottom": null,
            "display": null,
            "flex": null,
            "flex_flow": null,
            "grid_area": null,
            "grid_auto_columns": null,
            "grid_auto_flow": null,
            "grid_auto_rows": null,
            "grid_column": null,
            "grid_gap": null,
            "grid_row": null,
            "grid_template_areas": null,
            "grid_template_columns": null,
            "grid_template_rows": null,
            "height": null,
            "justify_content": null,
            "justify_items": null,
            "left": null,
            "margin": null,
            "max_height": null,
            "max_width": null,
            "min_height": null,
            "min_width": null,
            "object_fit": null,
            "object_position": null,
            "order": null,
            "overflow": null,
            "overflow_x": null,
            "overflow_y": null,
            "padding": null,
            "right": null,
            "top": null,
            "visibility": null,
            "width": null
          }
        },
        "e7226e047e1d4656b46e322a68a65a2b": {
          "model_module": "@jupyter-widgets/base",
          "model_name": "LayoutModel",
          "model_module_version": "1.2.0",
          "state": {
            "_model_module": "@jupyter-widgets/base",
            "_model_module_version": "1.2.0",
            "_model_name": "LayoutModel",
            "_view_count": null,
            "_view_module": "@jupyter-widgets/base",
            "_view_module_version": "1.2.0",
            "_view_name": "LayoutView",
            "align_content": null,
            "align_items": null,
            "align_self": null,
            "border": null,
            "bottom": null,
            "display": null,
            "flex": null,
            "flex_flow": null,
            "grid_area": null,
            "grid_auto_columns": null,
            "grid_auto_flow": null,
            "grid_auto_rows": null,
            "grid_column": null,
            "grid_gap": null,
            "grid_row": null,
            "grid_template_areas": null,
            "grid_template_columns": null,
            "grid_template_rows": null,
            "height": null,
            "justify_content": null,
            "justify_items": null,
            "left": null,
            "margin": null,
            "max_height": null,
            "max_width": null,
            "min_height": null,
            "min_width": null,
            "object_fit": null,
            "object_position": null,
            "order": null,
            "overflow": null,
            "overflow_x": null,
            "overflow_y": null,
            "padding": null,
            "right": null,
            "top": null,
            "visibility": null,
            "width": null
          }
        },
        "af5609e2e2e44c9293f8b237f5068b18": {
          "model_module": "@jupyter-widgets/controls",
          "model_name": "DescriptionStyleModel",
          "model_module_version": "1.5.0",
          "state": {
            "_model_module": "@jupyter-widgets/controls",
            "_model_module_version": "1.5.0",
            "_model_name": "DescriptionStyleModel",
            "_view_count": null,
            "_view_module": "@jupyter-widgets/base",
            "_view_module_version": "1.2.0",
            "_view_name": "StyleView",
            "description_width": ""
          }
        },
        "e9cbc5d6e4a84015aff92ae9261d76f5": {
          "model_module": "@jupyter-widgets/base",
          "model_name": "LayoutModel",
          "model_module_version": "1.2.0",
          "state": {
            "_model_module": "@jupyter-widgets/base",
            "_model_module_version": "1.2.0",
            "_model_name": "LayoutModel",
            "_view_count": null,
            "_view_module": "@jupyter-widgets/base",
            "_view_module_version": "1.2.0",
            "_view_name": "LayoutView",
            "align_content": null,
            "align_items": null,
            "align_self": null,
            "border": null,
            "bottom": null,
            "display": null,
            "flex": null,
            "flex_flow": null,
            "grid_area": null,
            "grid_auto_columns": null,
            "grid_auto_flow": null,
            "grid_auto_rows": null,
            "grid_column": null,
            "grid_gap": null,
            "grid_row": null,
            "grid_template_areas": null,
            "grid_template_columns": null,
            "grid_template_rows": null,
            "height": null,
            "justify_content": null,
            "justify_items": null,
            "left": null,
            "margin": null,
            "max_height": null,
            "max_width": null,
            "min_height": null,
            "min_width": null,
            "object_fit": null,
            "object_position": null,
            "order": null,
            "overflow": null,
            "overflow_x": null,
            "overflow_y": null,
            "padding": null,
            "right": null,
            "top": null,
            "visibility": null,
            "width": null
          }
        },
        "38a701e77b284bbe9b87f63d3a390f04": {
          "model_module": "@jupyter-widgets/controls",
          "model_name": "ProgressStyleModel",
          "model_module_version": "1.5.0",
          "state": {
            "_model_module": "@jupyter-widgets/controls",
            "_model_module_version": "1.5.0",
            "_model_name": "ProgressStyleModel",
            "_view_count": null,
            "_view_module": "@jupyter-widgets/base",
            "_view_module_version": "1.2.0",
            "_view_name": "StyleView",
            "bar_color": null,
            "description_width": ""
          }
        },
        "917a56a0097c48968d8e040c8053d354": {
          "model_module": "@jupyter-widgets/base",
          "model_name": "LayoutModel",
          "model_module_version": "1.2.0",
          "state": {
            "_model_module": "@jupyter-widgets/base",
            "_model_module_version": "1.2.0",
            "_model_name": "LayoutModel",
            "_view_count": null,
            "_view_module": "@jupyter-widgets/base",
            "_view_module_version": "1.2.0",
            "_view_name": "LayoutView",
            "align_content": null,
            "align_items": null,
            "align_self": null,
            "border": null,
            "bottom": null,
            "display": null,
            "flex": null,
            "flex_flow": null,
            "grid_area": null,
            "grid_auto_columns": null,
            "grid_auto_flow": null,
            "grid_auto_rows": null,
            "grid_column": null,
            "grid_gap": null,
            "grid_row": null,
            "grid_template_areas": null,
            "grid_template_columns": null,
            "grid_template_rows": null,
            "height": null,
            "justify_content": null,
            "justify_items": null,
            "left": null,
            "margin": null,
            "max_height": null,
            "max_width": null,
            "min_height": null,
            "min_width": null,
            "object_fit": null,
            "object_position": null,
            "order": null,
            "overflow": null,
            "overflow_x": null,
            "overflow_y": null,
            "padding": null,
            "right": null,
            "top": null,
            "visibility": null,
            "width": null
          }
        },
        "2963c7efa31b48fbb69efd733e78dcfb": {
          "model_module": "@jupyter-widgets/controls",
          "model_name": "DescriptionStyleModel",
          "model_module_version": "1.5.0",
          "state": {
            "_model_module": "@jupyter-widgets/controls",
            "_model_module_version": "1.5.0",
            "_model_name": "DescriptionStyleModel",
            "_view_count": null,
            "_view_module": "@jupyter-widgets/base",
            "_view_module_version": "1.2.0",
            "_view_name": "StyleView",
            "description_width": ""
          }
        },
        "fabc5dbbe7734a3f9dba32b414d89fcd": {
          "model_module": "@jupyter-widgets/controls",
          "model_name": "HBoxModel",
          "model_module_version": "1.5.0",
          "state": {
            "_dom_classes": [],
            "_model_module": "@jupyter-widgets/controls",
            "_model_module_version": "1.5.0",
            "_model_name": "HBoxModel",
            "_view_count": null,
            "_view_module": "@jupyter-widgets/controls",
            "_view_module_version": "1.5.0",
            "_view_name": "HBoxView",
            "box_style": "",
            "children": [
              "IPY_MODEL_6424a48b37b5440493117404cf9ae758",
              "IPY_MODEL_bbca997be8bb4382ba41ace7c9d927d2",
              "IPY_MODEL_dadb32214647456d8404e2126ba19d22"
            ],
            "layout": "IPY_MODEL_43ce631a9b4749429eb6ecd609b897d9"
          }
        },
        "6424a48b37b5440493117404cf9ae758": {
          "model_module": "@jupyter-widgets/controls",
          "model_name": "HTMLModel",
          "model_module_version": "1.5.0",
          "state": {
            "_dom_classes": [],
            "_model_module": "@jupyter-widgets/controls",
            "_model_module_version": "1.5.0",
            "_model_name": "HTMLModel",
            "_view_count": null,
            "_view_module": "@jupyter-widgets/controls",
            "_view_module_version": "1.5.0",
            "_view_name": "HTMLView",
            "description": "",
            "description_tooltip": null,
            "layout": "IPY_MODEL_fa6931d72321401e86c023149af56e90",
            "placeholder": "​",
            "style": "IPY_MODEL_d4c4ccdc5f0a4d60a5065764d85e654f",
            "value": "100%"
          }
        },
        "bbca997be8bb4382ba41ace7c9d927d2": {
          "model_module": "@jupyter-widgets/controls",
          "model_name": "FloatProgressModel",
          "model_module_version": "1.5.0",
          "state": {
            "_dom_classes": [],
            "_model_module": "@jupyter-widgets/controls",
            "_model_module_version": "1.5.0",
            "_model_name": "FloatProgressModel",
            "_view_count": null,
            "_view_module": "@jupyter-widgets/controls",
            "_view_module_version": "1.5.0",
            "_view_name": "ProgressView",
            "bar_style": "success",
            "description": "",
            "description_tooltip": null,
            "layout": "IPY_MODEL_5d3d2d1b7adb44268455de56140dfda4",
            "max": 3,
            "min": 0,
            "orientation": "horizontal",
            "style": "IPY_MODEL_4bf436401e7e42f6bf433966bee70738",
            "value": 3
          }
        },
        "dadb32214647456d8404e2126ba19d22": {
          "model_module": "@jupyter-widgets/controls",
          "model_name": "HTMLModel",
          "model_module_version": "1.5.0",
          "state": {
            "_dom_classes": [],
            "_model_module": "@jupyter-widgets/controls",
            "_model_module_version": "1.5.0",
            "_model_name": "HTMLModel",
            "_view_count": null,
            "_view_module": "@jupyter-widgets/controls",
            "_view_module_version": "1.5.0",
            "_view_name": "HTMLView",
            "description": "",
            "description_tooltip": null,
            "layout": "IPY_MODEL_e50201d7bd86410f890db88711a028c8",
            "placeholder": "​",
            "style": "IPY_MODEL_b56b18a3a92a4decad7d05cde13c0816",
            "value": " 3/3 [00:37&lt;00:00, 12.47s/it]"
          }
        },
        "43ce631a9b4749429eb6ecd609b897d9": {
          "model_module": "@jupyter-widgets/base",
          "model_name": "LayoutModel",
          "model_module_version": "1.2.0",
          "state": {
            "_model_module": "@jupyter-widgets/base",
            "_model_module_version": "1.2.0",
            "_model_name": "LayoutModel",
            "_view_count": null,
            "_view_module": "@jupyter-widgets/base",
            "_view_module_version": "1.2.0",
            "_view_name": "LayoutView",
            "align_content": null,
            "align_items": null,
            "align_self": null,
            "border": null,
            "bottom": null,
            "display": null,
            "flex": null,
            "flex_flow": null,
            "grid_area": null,
            "grid_auto_columns": null,
            "grid_auto_flow": null,
            "grid_auto_rows": null,
            "grid_column": null,
            "grid_gap": null,
            "grid_row": null,
            "grid_template_areas": null,
            "grid_template_columns": null,
            "grid_template_rows": null,
            "height": null,
            "justify_content": null,
            "justify_items": null,
            "left": null,
            "margin": null,
            "max_height": null,
            "max_width": null,
            "min_height": null,
            "min_width": null,
            "object_fit": null,
            "object_position": null,
            "order": null,
            "overflow": null,
            "overflow_x": null,
            "overflow_y": null,
            "padding": null,
            "right": null,
            "top": null,
            "visibility": null,
            "width": null
          }
        },
        "fa6931d72321401e86c023149af56e90": {
          "model_module": "@jupyter-widgets/base",
          "model_name": "LayoutModel",
          "model_module_version": "1.2.0",
          "state": {
            "_model_module": "@jupyter-widgets/base",
            "_model_module_version": "1.2.0",
            "_model_name": "LayoutModel",
            "_view_count": null,
            "_view_module": "@jupyter-widgets/base",
            "_view_module_version": "1.2.0",
            "_view_name": "LayoutView",
            "align_content": null,
            "align_items": null,
            "align_self": null,
            "border": null,
            "bottom": null,
            "display": null,
            "flex": null,
            "flex_flow": null,
            "grid_area": null,
            "grid_auto_columns": null,
            "grid_auto_flow": null,
            "grid_auto_rows": null,
            "grid_column": null,
            "grid_gap": null,
            "grid_row": null,
            "grid_template_areas": null,
            "grid_template_columns": null,
            "grid_template_rows": null,
            "height": null,
            "justify_content": null,
            "justify_items": null,
            "left": null,
            "margin": null,
            "max_height": null,
            "max_width": null,
            "min_height": null,
            "min_width": null,
            "object_fit": null,
            "object_position": null,
            "order": null,
            "overflow": null,
            "overflow_x": null,
            "overflow_y": null,
            "padding": null,
            "right": null,
            "top": null,
            "visibility": null,
            "width": null
          }
        },
        "d4c4ccdc5f0a4d60a5065764d85e654f": {
          "model_module": "@jupyter-widgets/controls",
          "model_name": "DescriptionStyleModel",
          "model_module_version": "1.5.0",
          "state": {
            "_model_module": "@jupyter-widgets/controls",
            "_model_module_version": "1.5.0",
            "_model_name": "DescriptionStyleModel",
            "_view_count": null,
            "_view_module": "@jupyter-widgets/base",
            "_view_module_version": "1.2.0",
            "_view_name": "StyleView",
            "description_width": ""
          }
        },
        "5d3d2d1b7adb44268455de56140dfda4": {
          "model_module": "@jupyter-widgets/base",
          "model_name": "LayoutModel",
          "model_module_version": "1.2.0",
          "state": {
            "_model_module": "@jupyter-widgets/base",
            "_model_module_version": "1.2.0",
            "_model_name": "LayoutModel",
            "_view_count": null,
            "_view_module": "@jupyter-widgets/base",
            "_view_module_version": "1.2.0",
            "_view_name": "LayoutView",
            "align_content": null,
            "align_items": null,
            "align_self": null,
            "border": null,
            "bottom": null,
            "display": null,
            "flex": null,
            "flex_flow": null,
            "grid_area": null,
            "grid_auto_columns": null,
            "grid_auto_flow": null,
            "grid_auto_rows": null,
            "grid_column": null,
            "grid_gap": null,
            "grid_row": null,
            "grid_template_areas": null,
            "grid_template_columns": null,
            "grid_template_rows": null,
            "height": null,
            "justify_content": null,
            "justify_items": null,
            "left": null,
            "margin": null,
            "max_height": null,
            "max_width": null,
            "min_height": null,
            "min_width": null,
            "object_fit": null,
            "object_position": null,
            "order": null,
            "overflow": null,
            "overflow_x": null,
            "overflow_y": null,
            "padding": null,
            "right": null,
            "top": null,
            "visibility": null,
            "width": null
          }
        },
        "4bf436401e7e42f6bf433966bee70738": {
          "model_module": "@jupyter-widgets/controls",
          "model_name": "ProgressStyleModel",
          "model_module_version": "1.5.0",
          "state": {
            "_model_module": "@jupyter-widgets/controls",
            "_model_module_version": "1.5.0",
            "_model_name": "ProgressStyleModel",
            "_view_count": null,
            "_view_module": "@jupyter-widgets/base",
            "_view_module_version": "1.2.0",
            "_view_name": "StyleView",
            "bar_color": null,
            "description_width": ""
          }
        },
        "e50201d7bd86410f890db88711a028c8": {
          "model_module": "@jupyter-widgets/base",
          "model_name": "LayoutModel",
          "model_module_version": "1.2.0",
          "state": {
            "_model_module": "@jupyter-widgets/base",
            "_model_module_version": "1.2.0",
            "_model_name": "LayoutModel",
            "_view_count": null,
            "_view_module": "@jupyter-widgets/base",
            "_view_module_version": "1.2.0",
            "_view_name": "LayoutView",
            "align_content": null,
            "align_items": null,
            "align_self": null,
            "border": null,
            "bottom": null,
            "display": null,
            "flex": null,
            "flex_flow": null,
            "grid_area": null,
            "grid_auto_columns": null,
            "grid_auto_flow": null,
            "grid_auto_rows": null,
            "grid_column": null,
            "grid_gap": null,
            "grid_row": null,
            "grid_template_areas": null,
            "grid_template_columns": null,
            "grid_template_rows": null,
            "height": null,
            "justify_content": null,
            "justify_items": null,
            "left": null,
            "margin": null,
            "max_height": null,
            "max_width": null,
            "min_height": null,
            "min_width": null,
            "object_fit": null,
            "object_position": null,
            "order": null,
            "overflow": null,
            "overflow_x": null,
            "overflow_y": null,
            "padding": null,
            "right": null,
            "top": null,
            "visibility": null,
            "width": null
          }
        },
        "b56b18a3a92a4decad7d05cde13c0816": {
          "model_module": "@jupyter-widgets/controls",
          "model_name": "DescriptionStyleModel",
          "model_module_version": "1.5.0",
          "state": {
            "_model_module": "@jupyter-widgets/controls",
            "_model_module_version": "1.5.0",
            "_model_name": "DescriptionStyleModel",
            "_view_count": null,
            "_view_module": "@jupyter-widgets/base",
            "_view_module_version": "1.2.0",
            "_view_name": "StyleView",
            "description_width": ""
          }
        },
        "a0fec7e8b99548238fddd0b681285667": {
          "model_module": "@jupyter-widgets/controls",
          "model_name": "HBoxModel",
          "model_module_version": "1.5.0",
          "state": {
            "_dom_classes": [],
            "_model_module": "@jupyter-widgets/controls",
            "_model_module_version": "1.5.0",
            "_model_name": "HBoxModel",
            "_view_count": null,
            "_view_module": "@jupyter-widgets/controls",
            "_view_module_version": "1.5.0",
            "_view_name": "HBoxView",
            "box_style": "",
            "children": [
              "IPY_MODEL_1967342fec524413b42e6f86a2aa6b64",
              "IPY_MODEL_eb2cd0a6cce546a2af1754014024098a",
              "IPY_MODEL_4f382c2878d044798ba5e04e60a455b7"
            ],
            "layout": "IPY_MODEL_50eb1e04fcb44512a954a589c52c9ee3"
          }
        },
        "1967342fec524413b42e6f86a2aa6b64": {
          "model_module": "@jupyter-widgets/controls",
          "model_name": "HTMLModel",
          "model_module_version": "1.5.0",
          "state": {
            "_dom_classes": [],
            "_model_module": "@jupyter-widgets/controls",
            "_model_module_version": "1.5.0",
            "_model_name": "HTMLModel",
            "_view_count": null,
            "_view_module": "@jupyter-widgets/controls",
            "_view_module_version": "1.5.0",
            "_view_name": "HTMLView",
            "description": "",
            "description_tooltip": null,
            "layout": "IPY_MODEL_ded4d2b1dd2644faa18a17d4d596c3fc",
            "placeholder": "​",
            "style": "IPY_MODEL_05ee978adba448589879671909c127e8",
            "value": "100%"
          }
        },
        "eb2cd0a6cce546a2af1754014024098a": {
          "model_module": "@jupyter-widgets/controls",
          "model_name": "FloatProgressModel",
          "model_module_version": "1.5.0",
          "state": {
            "_dom_classes": [],
            "_model_module": "@jupyter-widgets/controls",
            "_model_module_version": "1.5.0",
            "_model_name": "FloatProgressModel",
            "_view_count": null,
            "_view_module": "@jupyter-widgets/controls",
            "_view_module_version": "1.5.0",
            "_view_name": "ProgressView",
            "bar_style": "success",
            "description": "",
            "description_tooltip": null,
            "layout": "IPY_MODEL_fcabce15029840cea1bbc5122ebaf56c",
            "max": 313,
            "min": 0,
            "orientation": "horizontal",
            "style": "IPY_MODEL_f3d7aca729654b2c83c266e55dd699e9",
            "value": 313
          }
        },
        "4f382c2878d044798ba5e04e60a455b7": {
          "model_module": "@jupyter-widgets/controls",
          "model_name": "HTMLModel",
          "model_module_version": "1.5.0",
          "state": {
            "_dom_classes": [],
            "_model_module": "@jupyter-widgets/controls",
            "_model_module_version": "1.5.0",
            "_model_name": "HTMLModel",
            "_view_count": null,
            "_view_module": "@jupyter-widgets/controls",
            "_view_module_version": "1.5.0",
            "_view_name": "HTMLView",
            "description": "",
            "description_tooltip": null,
            "layout": "IPY_MODEL_b1dc7eac13ee40d4be09cfc8d80ee989",
            "placeholder": "​",
            "style": "IPY_MODEL_e2d87368a70a42128622d99f8b5dfae0",
            "value": " 313/313 [00:01&lt;00:00, 236.80it/s]"
          }
        },
        "50eb1e04fcb44512a954a589c52c9ee3": {
          "model_module": "@jupyter-widgets/base",
          "model_name": "LayoutModel",
          "model_module_version": "1.2.0",
          "state": {
            "_model_module": "@jupyter-widgets/base",
            "_model_module_version": "1.2.0",
            "_model_name": "LayoutModel",
            "_view_count": null,
            "_view_module": "@jupyter-widgets/base",
            "_view_module_version": "1.2.0",
            "_view_name": "LayoutView",
            "align_content": null,
            "align_items": null,
            "align_self": null,
            "border": null,
            "bottom": null,
            "display": null,
            "flex": null,
            "flex_flow": null,
            "grid_area": null,
            "grid_auto_columns": null,
            "grid_auto_flow": null,
            "grid_auto_rows": null,
            "grid_column": null,
            "grid_gap": null,
            "grid_row": null,
            "grid_template_areas": null,
            "grid_template_columns": null,
            "grid_template_rows": null,
            "height": null,
            "justify_content": null,
            "justify_items": null,
            "left": null,
            "margin": null,
            "max_height": null,
            "max_width": null,
            "min_height": null,
            "min_width": null,
            "object_fit": null,
            "object_position": null,
            "order": null,
            "overflow": null,
            "overflow_x": null,
            "overflow_y": null,
            "padding": null,
            "right": null,
            "top": null,
            "visibility": null,
            "width": null
          }
        },
        "ded4d2b1dd2644faa18a17d4d596c3fc": {
          "model_module": "@jupyter-widgets/base",
          "model_name": "LayoutModel",
          "model_module_version": "1.2.0",
          "state": {
            "_model_module": "@jupyter-widgets/base",
            "_model_module_version": "1.2.0",
            "_model_name": "LayoutModel",
            "_view_count": null,
            "_view_module": "@jupyter-widgets/base",
            "_view_module_version": "1.2.0",
            "_view_name": "LayoutView",
            "align_content": null,
            "align_items": null,
            "align_self": null,
            "border": null,
            "bottom": null,
            "display": null,
            "flex": null,
            "flex_flow": null,
            "grid_area": null,
            "grid_auto_columns": null,
            "grid_auto_flow": null,
            "grid_auto_rows": null,
            "grid_column": null,
            "grid_gap": null,
            "grid_row": null,
            "grid_template_areas": null,
            "grid_template_columns": null,
            "grid_template_rows": null,
            "height": null,
            "justify_content": null,
            "justify_items": null,
            "left": null,
            "margin": null,
            "max_height": null,
            "max_width": null,
            "min_height": null,
            "min_width": null,
            "object_fit": null,
            "object_position": null,
            "order": null,
            "overflow": null,
            "overflow_x": null,
            "overflow_y": null,
            "padding": null,
            "right": null,
            "top": null,
            "visibility": null,
            "width": null
          }
        },
        "05ee978adba448589879671909c127e8": {
          "model_module": "@jupyter-widgets/controls",
          "model_name": "DescriptionStyleModel",
          "model_module_version": "1.5.0",
          "state": {
            "_model_module": "@jupyter-widgets/controls",
            "_model_module_version": "1.5.0",
            "_model_name": "DescriptionStyleModel",
            "_view_count": null,
            "_view_module": "@jupyter-widgets/base",
            "_view_module_version": "1.2.0",
            "_view_name": "StyleView",
            "description_width": ""
          }
        },
        "fcabce15029840cea1bbc5122ebaf56c": {
          "model_module": "@jupyter-widgets/base",
          "model_name": "LayoutModel",
          "model_module_version": "1.2.0",
          "state": {
            "_model_module": "@jupyter-widgets/base",
            "_model_module_version": "1.2.0",
            "_model_name": "LayoutModel",
            "_view_count": null,
            "_view_module": "@jupyter-widgets/base",
            "_view_module_version": "1.2.0",
            "_view_name": "LayoutView",
            "align_content": null,
            "align_items": null,
            "align_self": null,
            "border": null,
            "bottom": null,
            "display": null,
            "flex": null,
            "flex_flow": null,
            "grid_area": null,
            "grid_auto_columns": null,
            "grid_auto_flow": null,
            "grid_auto_rows": null,
            "grid_column": null,
            "grid_gap": null,
            "grid_row": null,
            "grid_template_areas": null,
            "grid_template_columns": null,
            "grid_template_rows": null,
            "height": null,
            "justify_content": null,
            "justify_items": null,
            "left": null,
            "margin": null,
            "max_height": null,
            "max_width": null,
            "min_height": null,
            "min_width": null,
            "object_fit": null,
            "object_position": null,
            "order": null,
            "overflow": null,
            "overflow_x": null,
            "overflow_y": null,
            "padding": null,
            "right": null,
            "top": null,
            "visibility": null,
            "width": null
          }
        },
        "f3d7aca729654b2c83c266e55dd699e9": {
          "model_module": "@jupyter-widgets/controls",
          "model_name": "ProgressStyleModel",
          "model_module_version": "1.5.0",
          "state": {
            "_model_module": "@jupyter-widgets/controls",
            "_model_module_version": "1.5.0",
            "_model_name": "ProgressStyleModel",
            "_view_count": null,
            "_view_module": "@jupyter-widgets/base",
            "_view_module_version": "1.2.0",
            "_view_name": "StyleView",
            "bar_color": null,
            "description_width": ""
          }
        },
        "b1dc7eac13ee40d4be09cfc8d80ee989": {
          "model_module": "@jupyter-widgets/base",
          "model_name": "LayoutModel",
          "model_module_version": "1.2.0",
          "state": {
            "_model_module": "@jupyter-widgets/base",
            "_model_module_version": "1.2.0",
            "_model_name": "LayoutModel",
            "_view_count": null,
            "_view_module": "@jupyter-widgets/base",
            "_view_module_version": "1.2.0",
            "_view_name": "LayoutView",
            "align_content": null,
            "align_items": null,
            "align_self": null,
            "border": null,
            "bottom": null,
            "display": null,
            "flex": null,
            "flex_flow": null,
            "grid_area": null,
            "grid_auto_columns": null,
            "grid_auto_flow": null,
            "grid_auto_rows": null,
            "grid_column": null,
            "grid_gap": null,
            "grid_row": null,
            "grid_template_areas": null,
            "grid_template_columns": null,
            "grid_template_rows": null,
            "height": null,
            "justify_content": null,
            "justify_items": null,
            "left": null,
            "margin": null,
            "max_height": null,
            "max_width": null,
            "min_height": null,
            "min_width": null,
            "object_fit": null,
            "object_position": null,
            "order": null,
            "overflow": null,
            "overflow_x": null,
            "overflow_y": null,
            "padding": null,
            "right": null,
            "top": null,
            "visibility": null,
            "width": null
          }
        },
        "e2d87368a70a42128622d99f8b5dfae0": {
          "model_module": "@jupyter-widgets/controls",
          "model_name": "DescriptionStyleModel",
          "model_module_version": "1.5.0",
          "state": {
            "_model_module": "@jupyter-widgets/controls",
            "_model_module_version": "1.5.0",
            "_model_name": "DescriptionStyleModel",
            "_view_count": null,
            "_view_module": "@jupyter-widgets/base",
            "_view_module_version": "1.2.0",
            "_view_name": "StyleView",
            "description_width": ""
          }
        },
        "0ee9b2199dc842e38217587d6b2b196e": {
          "model_module": "@jupyter-widgets/controls",
          "model_name": "HBoxModel",
          "model_module_version": "1.5.0",
          "state": {
            "_dom_classes": [],
            "_model_module": "@jupyter-widgets/controls",
            "_model_module_version": "1.5.0",
            "_model_name": "HBoxModel",
            "_view_count": null,
            "_view_module": "@jupyter-widgets/controls",
            "_view_module_version": "1.5.0",
            "_view_name": "HBoxView",
            "box_style": "",
            "children": [
              "IPY_MODEL_6ed6e73c50744079835880fa69dcb256",
              "IPY_MODEL_ae3bb558e21f4310affe351b4830133d",
              "IPY_MODEL_ed8693405a3c4b37bc7cdb8c1519e464"
            ],
            "layout": "IPY_MODEL_91f3fa14745f4e3997849239f35045e9"
          }
        },
        "6ed6e73c50744079835880fa69dcb256": {
          "model_module": "@jupyter-widgets/controls",
          "model_name": "HTMLModel",
          "model_module_version": "1.5.0",
          "state": {
            "_dom_classes": [],
            "_model_module": "@jupyter-widgets/controls",
            "_model_module_version": "1.5.0",
            "_model_name": "HTMLModel",
            "_view_count": null,
            "_view_module": "@jupyter-widgets/controls",
            "_view_module_version": "1.5.0",
            "_view_name": "HTMLView",
            "description": "",
            "description_tooltip": null,
            "layout": "IPY_MODEL_8e24abe02ee54bf4b6a9c51c0562627c",
            "placeholder": "​",
            "style": "IPY_MODEL_ec928b0a6dcb4fb38bcf88bac9bcdae8",
            "value": "Making predictions...: 100%"
          }
        },
        "ae3bb558e21f4310affe351b4830133d": {
          "model_module": "@jupyter-widgets/controls",
          "model_name": "FloatProgressModel",
          "model_module_version": "1.5.0",
          "state": {
            "_dom_classes": [],
            "_model_module": "@jupyter-widgets/controls",
            "_model_module_version": "1.5.0",
            "_model_name": "FloatProgressModel",
            "_view_count": null,
            "_view_module": "@jupyter-widgets/controls",
            "_view_module_version": "1.5.0",
            "_view_name": "ProgressView",
            "bar_style": "success",
            "description": "",
            "description_tooltip": null,
            "layout": "IPY_MODEL_6d1964b0d512496ba8fc327a5e4ad362",
            "max": 313,
            "min": 0,
            "orientation": "horizontal",
            "style": "IPY_MODEL_2c521e5fa24d4821999415ede60b7644",
            "value": 313
          }
        },
        "ed8693405a3c4b37bc7cdb8c1519e464": {
          "model_module": "@jupyter-widgets/controls",
          "model_name": "HTMLModel",
          "model_module_version": "1.5.0",
          "state": {
            "_dom_classes": [],
            "_model_module": "@jupyter-widgets/controls",
            "_model_module_version": "1.5.0",
            "_model_name": "HTMLModel",
            "_view_count": null,
            "_view_module": "@jupyter-widgets/controls",
            "_view_module_version": "1.5.0",
            "_view_name": "HTMLView",
            "description": "",
            "description_tooltip": null,
            "layout": "IPY_MODEL_fa89445a2ab14b41856a2410887f04ac",
            "placeholder": "​",
            "style": "IPY_MODEL_35c118d642bf4b408d7f1a52f06a8876",
            "value": " 313/313 [00:01&lt;00:00, 239.69it/s]"
          }
        },
        "91f3fa14745f4e3997849239f35045e9": {
          "model_module": "@jupyter-widgets/base",
          "model_name": "LayoutModel",
          "model_module_version": "1.2.0",
          "state": {
            "_model_module": "@jupyter-widgets/base",
            "_model_module_version": "1.2.0",
            "_model_name": "LayoutModel",
            "_view_count": null,
            "_view_module": "@jupyter-widgets/base",
            "_view_module_version": "1.2.0",
            "_view_name": "LayoutView",
            "align_content": null,
            "align_items": null,
            "align_self": null,
            "border": null,
            "bottom": null,
            "display": null,
            "flex": null,
            "flex_flow": null,
            "grid_area": null,
            "grid_auto_columns": null,
            "grid_auto_flow": null,
            "grid_auto_rows": null,
            "grid_column": null,
            "grid_gap": null,
            "grid_row": null,
            "grid_template_areas": null,
            "grid_template_columns": null,
            "grid_template_rows": null,
            "height": null,
            "justify_content": null,
            "justify_items": null,
            "left": null,
            "margin": null,
            "max_height": null,
            "max_width": null,
            "min_height": null,
            "min_width": null,
            "object_fit": null,
            "object_position": null,
            "order": null,
            "overflow": null,
            "overflow_x": null,
            "overflow_y": null,
            "padding": null,
            "right": null,
            "top": null,
            "visibility": null,
            "width": null
          }
        },
        "8e24abe02ee54bf4b6a9c51c0562627c": {
          "model_module": "@jupyter-widgets/base",
          "model_name": "LayoutModel",
          "model_module_version": "1.2.0",
          "state": {
            "_model_module": "@jupyter-widgets/base",
            "_model_module_version": "1.2.0",
            "_model_name": "LayoutModel",
            "_view_count": null,
            "_view_module": "@jupyter-widgets/base",
            "_view_module_version": "1.2.0",
            "_view_name": "LayoutView",
            "align_content": null,
            "align_items": null,
            "align_self": null,
            "border": null,
            "bottom": null,
            "display": null,
            "flex": null,
            "flex_flow": null,
            "grid_area": null,
            "grid_auto_columns": null,
            "grid_auto_flow": null,
            "grid_auto_rows": null,
            "grid_column": null,
            "grid_gap": null,
            "grid_row": null,
            "grid_template_areas": null,
            "grid_template_columns": null,
            "grid_template_rows": null,
            "height": null,
            "justify_content": null,
            "justify_items": null,
            "left": null,
            "margin": null,
            "max_height": null,
            "max_width": null,
            "min_height": null,
            "min_width": null,
            "object_fit": null,
            "object_position": null,
            "order": null,
            "overflow": null,
            "overflow_x": null,
            "overflow_y": null,
            "padding": null,
            "right": null,
            "top": null,
            "visibility": null,
            "width": null
          }
        },
        "ec928b0a6dcb4fb38bcf88bac9bcdae8": {
          "model_module": "@jupyter-widgets/controls",
          "model_name": "DescriptionStyleModel",
          "model_module_version": "1.5.0",
          "state": {
            "_model_module": "@jupyter-widgets/controls",
            "_model_module_version": "1.5.0",
            "_model_name": "DescriptionStyleModel",
            "_view_count": null,
            "_view_module": "@jupyter-widgets/base",
            "_view_module_version": "1.2.0",
            "_view_name": "StyleView",
            "description_width": ""
          }
        },
        "6d1964b0d512496ba8fc327a5e4ad362": {
          "model_module": "@jupyter-widgets/base",
          "model_name": "LayoutModel",
          "model_module_version": "1.2.0",
          "state": {
            "_model_module": "@jupyter-widgets/base",
            "_model_module_version": "1.2.0",
            "_model_name": "LayoutModel",
            "_view_count": null,
            "_view_module": "@jupyter-widgets/base",
            "_view_module_version": "1.2.0",
            "_view_name": "LayoutView",
            "align_content": null,
            "align_items": null,
            "align_self": null,
            "border": null,
            "bottom": null,
            "display": null,
            "flex": null,
            "flex_flow": null,
            "grid_area": null,
            "grid_auto_columns": null,
            "grid_auto_flow": null,
            "grid_auto_rows": null,
            "grid_column": null,
            "grid_gap": null,
            "grid_row": null,
            "grid_template_areas": null,
            "grid_template_columns": null,
            "grid_template_rows": null,
            "height": null,
            "justify_content": null,
            "justify_items": null,
            "left": null,
            "margin": null,
            "max_height": null,
            "max_width": null,
            "min_height": null,
            "min_width": null,
            "object_fit": null,
            "object_position": null,
            "order": null,
            "overflow": null,
            "overflow_x": null,
            "overflow_y": null,
            "padding": null,
            "right": null,
            "top": null,
            "visibility": null,
            "width": null
          }
        },
        "2c521e5fa24d4821999415ede60b7644": {
          "model_module": "@jupyter-widgets/controls",
          "model_name": "ProgressStyleModel",
          "model_module_version": "1.5.0",
          "state": {
            "_model_module": "@jupyter-widgets/controls",
            "_model_module_version": "1.5.0",
            "_model_name": "ProgressStyleModel",
            "_view_count": null,
            "_view_module": "@jupyter-widgets/base",
            "_view_module_version": "1.2.0",
            "_view_name": "StyleView",
            "bar_color": null,
            "description_width": ""
          }
        },
        "fa89445a2ab14b41856a2410887f04ac": {
          "model_module": "@jupyter-widgets/base",
          "model_name": "LayoutModel",
          "model_module_version": "1.2.0",
          "state": {
            "_model_module": "@jupyter-widgets/base",
            "_model_module_version": "1.2.0",
            "_model_name": "LayoutModel",
            "_view_count": null,
            "_view_module": "@jupyter-widgets/base",
            "_view_module_version": "1.2.0",
            "_view_name": "LayoutView",
            "align_content": null,
            "align_items": null,
            "align_self": null,
            "border": null,
            "bottom": null,
            "display": null,
            "flex": null,
            "flex_flow": null,
            "grid_area": null,
            "grid_auto_columns": null,
            "grid_auto_flow": null,
            "grid_auto_rows": null,
            "grid_column": null,
            "grid_gap": null,
            "grid_row": null,
            "grid_template_areas": null,
            "grid_template_columns": null,
            "grid_template_rows": null,
            "height": null,
            "justify_content": null,
            "justify_items": null,
            "left": null,
            "margin": null,
            "max_height": null,
            "max_width": null,
            "min_height": null,
            "min_width": null,
            "object_fit": null,
            "object_position": null,
            "order": null,
            "overflow": null,
            "overflow_x": null,
            "overflow_y": null,
            "padding": null,
            "right": null,
            "top": null,
            "visibility": null,
            "width": null
          }
        },
        "35c118d642bf4b408d7f1a52f06a8876": {
          "model_module": "@jupyter-widgets/controls",
          "model_name": "DescriptionStyleModel",
          "model_module_version": "1.5.0",
          "state": {
            "_model_module": "@jupyter-widgets/controls",
            "_model_module_version": "1.5.0",
            "_model_name": "DescriptionStyleModel",
            "_view_count": null,
            "_view_module": "@jupyter-widgets/base",
            "_view_module_version": "1.2.0",
            "_view_name": "StyleView",
            "description_width": ""
          }
        },
        "84e16bf6b3a74e8bb132dc1e03d833a9": {
          "model_module": "@jupyter-widgets/controls",
          "model_name": "HBoxModel",
          "model_module_version": "1.5.0",
          "state": {
            "_dom_classes": [],
            "_model_module": "@jupyter-widgets/controls",
            "_model_module_version": "1.5.0",
            "_model_name": "HBoxModel",
            "_view_count": null,
            "_view_module": "@jupyter-widgets/controls",
            "_view_module_version": "1.5.0",
            "_view_name": "HBoxView",
            "box_style": "",
            "children": [
              "IPY_MODEL_04a239f8920f46ef8a8c3a164f8d35d9",
              "IPY_MODEL_01c57348ee434c4f934a61e7715b7137",
              "IPY_MODEL_dda6b07e4674444ea7e472ef525cf9db"
            ],
            "layout": "IPY_MODEL_456985ca4bfc42d1a4580341463142fe"
          }
        },
        "04a239f8920f46ef8a8c3a164f8d35d9": {
          "model_module": "@jupyter-widgets/controls",
          "model_name": "HTMLModel",
          "model_module_version": "1.5.0",
          "state": {
            "_dom_classes": [],
            "_model_module": "@jupyter-widgets/controls",
            "_model_module_version": "1.5.0",
            "_model_name": "HTMLModel",
            "_view_count": null,
            "_view_module": "@jupyter-widgets/controls",
            "_view_module_version": "1.5.0",
            "_view_name": "HTMLView",
            "description": "",
            "description_tooltip": null,
            "layout": "IPY_MODEL_5aeee1ed9fdf433abc2bd35062760661",
            "placeholder": "​",
            "style": "IPY_MODEL_06196e48509d4fe7bd80c98321e9877a",
            "value": "100%"
          }
        },
        "01c57348ee434c4f934a61e7715b7137": {
          "model_module": "@jupyter-widgets/controls",
          "model_name": "FloatProgressModel",
          "model_module_version": "1.5.0",
          "state": {
            "_dom_classes": [],
            "_model_module": "@jupyter-widgets/controls",
            "_model_module_version": "1.5.0",
            "_model_name": "FloatProgressModel",
            "_view_count": null,
            "_view_module": "@jupyter-widgets/controls",
            "_view_module_version": "1.5.0",
            "_view_name": "ProgressView",
            "bar_style": "success",
            "description": "",
            "description_tooltip": null,
            "layout": "IPY_MODEL_d8f8e3a7888e489cabf886a7fa761258",
            "max": 313,
            "min": 0,
            "orientation": "horizontal",
            "style": "IPY_MODEL_44c837e1aeab471dbde7cf0d47c03630",
            "value": 313
          }
        },
        "dda6b07e4674444ea7e472ef525cf9db": {
          "model_module": "@jupyter-widgets/controls",
          "model_name": "HTMLModel",
          "model_module_version": "1.5.0",
          "state": {
            "_dom_classes": [],
            "_model_module": "@jupyter-widgets/controls",
            "_model_module_version": "1.5.0",
            "_model_name": "HTMLModel",
            "_view_count": null,
            "_view_module": "@jupyter-widgets/controls",
            "_view_module_version": "1.5.0",
            "_view_name": "HTMLView",
            "description": "",
            "description_tooltip": null,
            "layout": "IPY_MODEL_11e775e1646a493db720f75f1f7646b1",
            "placeholder": "​",
            "style": "IPY_MODEL_12c3555efdd8452e903215c5c39a4d5d",
            "value": " 313/313 [00:01&lt;00:00, 222.41it/s]"
          }
        },
        "456985ca4bfc42d1a4580341463142fe": {
          "model_module": "@jupyter-widgets/base",
          "model_name": "LayoutModel",
          "model_module_version": "1.2.0",
          "state": {
            "_model_module": "@jupyter-widgets/base",
            "_model_module_version": "1.2.0",
            "_model_name": "LayoutModel",
            "_view_count": null,
            "_view_module": "@jupyter-widgets/base",
            "_view_module_version": "1.2.0",
            "_view_name": "LayoutView",
            "align_content": null,
            "align_items": null,
            "align_self": null,
            "border": null,
            "bottom": null,
            "display": null,
            "flex": null,
            "flex_flow": null,
            "grid_area": null,
            "grid_auto_columns": null,
            "grid_auto_flow": null,
            "grid_auto_rows": null,
            "grid_column": null,
            "grid_gap": null,
            "grid_row": null,
            "grid_template_areas": null,
            "grid_template_columns": null,
            "grid_template_rows": null,
            "height": null,
            "justify_content": null,
            "justify_items": null,
            "left": null,
            "margin": null,
            "max_height": null,
            "max_width": null,
            "min_height": null,
            "min_width": null,
            "object_fit": null,
            "object_position": null,
            "order": null,
            "overflow": null,
            "overflow_x": null,
            "overflow_y": null,
            "padding": null,
            "right": null,
            "top": null,
            "visibility": null,
            "width": null
          }
        },
        "5aeee1ed9fdf433abc2bd35062760661": {
          "model_module": "@jupyter-widgets/base",
          "model_name": "LayoutModel",
          "model_module_version": "1.2.0",
          "state": {
            "_model_module": "@jupyter-widgets/base",
            "_model_module_version": "1.2.0",
            "_model_name": "LayoutModel",
            "_view_count": null,
            "_view_module": "@jupyter-widgets/base",
            "_view_module_version": "1.2.0",
            "_view_name": "LayoutView",
            "align_content": null,
            "align_items": null,
            "align_self": null,
            "border": null,
            "bottom": null,
            "display": null,
            "flex": null,
            "flex_flow": null,
            "grid_area": null,
            "grid_auto_columns": null,
            "grid_auto_flow": null,
            "grid_auto_rows": null,
            "grid_column": null,
            "grid_gap": null,
            "grid_row": null,
            "grid_template_areas": null,
            "grid_template_columns": null,
            "grid_template_rows": null,
            "height": null,
            "justify_content": null,
            "justify_items": null,
            "left": null,
            "margin": null,
            "max_height": null,
            "max_width": null,
            "min_height": null,
            "min_width": null,
            "object_fit": null,
            "object_position": null,
            "order": null,
            "overflow": null,
            "overflow_x": null,
            "overflow_y": null,
            "padding": null,
            "right": null,
            "top": null,
            "visibility": null,
            "width": null
          }
        },
        "06196e48509d4fe7bd80c98321e9877a": {
          "model_module": "@jupyter-widgets/controls",
          "model_name": "DescriptionStyleModel",
          "model_module_version": "1.5.0",
          "state": {
            "_model_module": "@jupyter-widgets/controls",
            "_model_module_version": "1.5.0",
            "_model_name": "DescriptionStyleModel",
            "_view_count": null,
            "_view_module": "@jupyter-widgets/base",
            "_view_module_version": "1.2.0",
            "_view_name": "StyleView",
            "description_width": ""
          }
        },
        "d8f8e3a7888e489cabf886a7fa761258": {
          "model_module": "@jupyter-widgets/base",
          "model_name": "LayoutModel",
          "model_module_version": "1.2.0",
          "state": {
            "_model_module": "@jupyter-widgets/base",
            "_model_module_version": "1.2.0",
            "_model_name": "LayoutModel",
            "_view_count": null,
            "_view_module": "@jupyter-widgets/base",
            "_view_module_version": "1.2.0",
            "_view_name": "LayoutView",
            "align_content": null,
            "align_items": null,
            "align_self": null,
            "border": null,
            "bottom": null,
            "display": null,
            "flex": null,
            "flex_flow": null,
            "grid_area": null,
            "grid_auto_columns": null,
            "grid_auto_flow": null,
            "grid_auto_rows": null,
            "grid_column": null,
            "grid_gap": null,
            "grid_row": null,
            "grid_template_areas": null,
            "grid_template_columns": null,
            "grid_template_rows": null,
            "height": null,
            "justify_content": null,
            "justify_items": null,
            "left": null,
            "margin": null,
            "max_height": null,
            "max_width": null,
            "min_height": null,
            "min_width": null,
            "object_fit": null,
            "object_position": null,
            "order": null,
            "overflow": null,
            "overflow_x": null,
            "overflow_y": null,
            "padding": null,
            "right": null,
            "top": null,
            "visibility": null,
            "width": null
          }
        },
        "44c837e1aeab471dbde7cf0d47c03630": {
          "model_module": "@jupyter-widgets/controls",
          "model_name": "ProgressStyleModel",
          "model_module_version": "1.5.0",
          "state": {
            "_model_module": "@jupyter-widgets/controls",
            "_model_module_version": "1.5.0",
            "_model_name": "ProgressStyleModel",
            "_view_count": null,
            "_view_module": "@jupyter-widgets/base",
            "_view_module_version": "1.2.0",
            "_view_name": "StyleView",
            "bar_color": null,
            "description_width": ""
          }
        },
        "11e775e1646a493db720f75f1f7646b1": {
          "model_module": "@jupyter-widgets/base",
          "model_name": "LayoutModel",
          "model_module_version": "1.2.0",
          "state": {
            "_model_module": "@jupyter-widgets/base",
            "_model_module_version": "1.2.0",
            "_model_name": "LayoutModel",
            "_view_count": null,
            "_view_module": "@jupyter-widgets/base",
            "_view_module_version": "1.2.0",
            "_view_name": "LayoutView",
            "align_content": null,
            "align_items": null,
            "align_self": null,
            "border": null,
            "bottom": null,
            "display": null,
            "flex": null,
            "flex_flow": null,
            "grid_area": null,
            "grid_auto_columns": null,
            "grid_auto_flow": null,
            "grid_auto_rows": null,
            "grid_column": null,
            "grid_gap": null,
            "grid_row": null,
            "grid_template_areas": null,
            "grid_template_columns": null,
            "grid_template_rows": null,
            "height": null,
            "justify_content": null,
            "justify_items": null,
            "left": null,
            "margin": null,
            "max_height": null,
            "max_width": null,
            "min_height": null,
            "min_width": null,
            "object_fit": null,
            "object_position": null,
            "order": null,
            "overflow": null,
            "overflow_x": null,
            "overflow_y": null,
            "padding": null,
            "right": null,
            "top": null,
            "visibility": null,
            "width": null
          }
        },
        "12c3555efdd8452e903215c5c39a4d5d": {
          "model_module": "@jupyter-widgets/controls",
          "model_name": "DescriptionStyleModel",
          "model_module_version": "1.5.0",
          "state": {
            "_model_module": "@jupyter-widgets/controls",
            "_model_module_version": "1.5.0",
            "_model_name": "DescriptionStyleModel",
            "_view_count": null,
            "_view_module": "@jupyter-widgets/base",
            "_view_module_version": "1.2.0",
            "_view_name": "StyleView",
            "description_width": ""
          }
        }
      }
    },
    "accelerator": "GPU"
  },
  "cells": [
    {
      "cell_type": "markdown",
      "metadata": {
        "id": "view-in-github",
        "colab_type": "text"
      },
      "source": [
        "<a href=\"https://colab.research.google.com/github/anupj/PyTorchForDeepLearningBootcamp/blob/main/03_pytorch_computer_vision_video.ipynb\" target=\"_parent\"><img src=\"https://colab.research.google.com/assets/colab-badge.svg\" alt=\"Open In Colab\"/></a>"
      ]
    },
    {
      "cell_type": "markdown",
      "source": [
        "# PyTorch Computer Vision\n",
        "\n",
        "See reference online book - https://www.learnpytorch.io/03_pytorch_computer_vision/"
      ],
      "metadata": {
        "id": "0AucpNp0MAeA"
      }
    },
    {
      "cell_type": "markdown",
      "source": [
        "## 0. Computer vision libraries in PyTorch\n",
        "\n",
        "* `torchvision` - base domain library in PyTorch - [docs](https://pytorch.org/vision/stable/index.html)\n",
        "* `torchvision.datasets` - get datasets and data loading functions for computer vision here\n",
        "* `torchvision.models` - get pretrained computer vision models that you can leverage for your own problems\n",
        "* `torchvision.transforms` - functions for manipulating your vision data (images) to be suitable for use with an ML model\n",
        "* `torch.utils.data.Dataset` - Base dataset class for PyTorch\n",
        "* `torch.utils.data.DataLoader` - Creates a Python iterable over a dataset\n"
      ],
      "metadata": {
        "id": "fHHdwppXUvCI"
      }
    },
    {
      "cell_type": "code",
      "source": [
        "# Import PyTorch\n",
        "import torch\n",
        "from torch import nn\n",
        "\n",
        "# Import torchvision\n",
        "import torchvision\n",
        "from torchvision import datasets\n",
        "from torchvision import transforms\n",
        "from torchvision.transforms import ToTensor\n",
        "\n",
        "# Import matplotlib for visualisation\n",
        "import matplotlib.pyplot as plt\n",
        "\n",
        "# Check versions\n",
        "print(torch.__version__)\n",
        "print(torchvision.__version__)\n"
      ],
      "metadata": {
        "colab": {
          "base_uri": "https://localhost:8080/"
        },
        "id": "4NFVqoC6WoC8",
        "outputId": "5c96943e-53f0-4576-f723-5f5004192c00"
      },
      "execution_count": 1,
      "outputs": [
        {
          "output_type": "stream",
          "name": "stdout",
          "text": [
            "2.5.1+cu121\n",
            "0.20.1+cu121\n"
          ]
        }
      ]
    },
    {
      "cell_type": "markdown",
      "source": [
        "## 1. Getting a dataset\n",
        "We will use `FashionMNIST` dataset from [torchvision](https://pytorch.org/vision/0.19/generated/torchvision.datasets.FashionMNIST.html) module in PyTorch library."
      ],
      "metadata": {
        "id": "p4JnJKsFQxaA"
      }
    },
    {
      "cell_type": "code",
      "source": [
        "# Setup training data\n",
        "\n",
        "train_data = datasets.FashionMNIST(\n",
        "    root = \"data\", # where to download data to\n",
        "    train=True, # if `true` then we want training dataset instead of testing dataset\n",
        "    download=True, # do we want to download it? y/n\n",
        "    transform=transforms.ToTensor(), # How do we want to transform the data?\n",
        "    target_transform=None # How do we want to transform the labels/targets?\n",
        ")\n",
        "\n",
        "test_data = datasets.FashionMNIST(\n",
        "    root=\"data\",\n",
        "    train=False,\n",
        "    download=True,\n",
        "    transform=transforms.ToTensor(),\n",
        "    target_transform=None\n",
        ")"
      ],
      "metadata": {
        "id": "aYTskBErR_Gf",
        "colab": {
          "base_uri": "https://localhost:8080/"
        },
        "outputId": "ee374d32-65ab-485f-d3e1-bacfe2017184"
      },
      "execution_count": 2,
      "outputs": [
        {
          "output_type": "stream",
          "name": "stdout",
          "text": [
            "Downloading http://fashion-mnist.s3-website.eu-central-1.amazonaws.com/train-images-idx3-ubyte.gz\n",
            "Downloading http://fashion-mnist.s3-website.eu-central-1.amazonaws.com/train-images-idx3-ubyte.gz to data/FashionMNIST/raw/train-images-idx3-ubyte.gz\n"
          ]
        },
        {
          "output_type": "stream",
          "name": "stderr",
          "text": [
            "100%|██████████| 26.4M/26.4M [00:00<00:00, 128MB/s] \n"
          ]
        },
        {
          "output_type": "stream",
          "name": "stdout",
          "text": [
            "Extracting data/FashionMNIST/raw/train-images-idx3-ubyte.gz to data/FashionMNIST/raw\n",
            "\n",
            "Downloading http://fashion-mnist.s3-website.eu-central-1.amazonaws.com/train-labels-idx1-ubyte.gz\n",
            "Downloading http://fashion-mnist.s3-website.eu-central-1.amazonaws.com/train-labels-idx1-ubyte.gz to data/FashionMNIST/raw/train-labels-idx1-ubyte.gz\n"
          ]
        },
        {
          "output_type": "stream",
          "name": "stderr",
          "text": [
            "100%|██████████| 29.5k/29.5k [00:00<00:00, 5.32MB/s]"
          ]
        },
        {
          "output_type": "stream",
          "name": "stdout",
          "text": [
            "Extracting data/FashionMNIST/raw/train-labels-idx1-ubyte.gz to data/FashionMNIST/raw\n",
            "\n",
            "Downloading http://fashion-mnist.s3-website.eu-central-1.amazonaws.com/t10k-images-idx3-ubyte.gz\n",
            "Downloading http://fashion-mnist.s3-website.eu-central-1.amazonaws.com/t10k-images-idx3-ubyte.gz to data/FashionMNIST/raw/t10k-images-idx3-ubyte.gz\n"
          ]
        },
        {
          "output_type": "stream",
          "name": "stderr",
          "text": [
            "\n",
            "100%|██████████| 4.42M/4.42M [00:00<00:00, 56.8MB/s]\n"
          ]
        },
        {
          "output_type": "stream",
          "name": "stdout",
          "text": [
            "Extracting data/FashionMNIST/raw/t10k-images-idx3-ubyte.gz to data/FashionMNIST/raw\n",
            "\n",
            "Downloading http://fashion-mnist.s3-website.eu-central-1.amazonaws.com/t10k-labels-idx1-ubyte.gz\n",
            "Downloading http://fashion-mnist.s3-website.eu-central-1.amazonaws.com/t10k-labels-idx1-ubyte.gz to data/FashionMNIST/raw/t10k-labels-idx1-ubyte.gz\n"
          ]
        },
        {
          "output_type": "stream",
          "name": "stderr",
          "text": [
            "100%|██████████| 5.15k/5.15k [00:00<00:00, 17.2MB/s]"
          ]
        },
        {
          "output_type": "stream",
          "name": "stdout",
          "text": [
            "Extracting data/FashionMNIST/raw/t10k-labels-idx1-ubyte.gz to data/FashionMNIST/raw\n",
            "\n"
          ]
        },
        {
          "output_type": "stream",
          "name": "stderr",
          "text": [
            "\n"
          ]
        }
      ]
    },
    {
      "cell_type": "code",
      "source": [
        "len(train_data), len(test_data)"
      ],
      "metadata": {
        "colab": {
          "base_uri": "https://localhost:8080/"
        },
        "id": "7SHs8ANxT4fg",
        "outputId": "68c2aca7-6684-4be4-cad3-75f490b15352"
      },
      "execution_count": 3,
      "outputs": [
        {
          "output_type": "execute_result",
          "data": {
            "text/plain": [
              "(60000, 10000)"
            ]
          },
          "metadata": {},
          "execution_count": 3
        }
      ]
    },
    {
      "cell_type": "code",
      "source": [
        "# See the first training example\n",
        "image, label = train_data[0]\n",
        "print(f\"image: {image}\")\n",
        "print(f\"label: {label}\")\n"
      ],
      "metadata": {
        "colab": {
          "base_uri": "https://localhost:8080/"
        },
        "collapsed": true,
        "id": "aZFdH14MT_Na",
        "outputId": "be3ca2eb-b96a-4966-a56f-3acf7b8206b6"
      },
      "execution_count": 4,
      "outputs": [
        {
          "output_type": "stream",
          "name": "stdout",
          "text": [
            "image: tensor([[[0.0000, 0.0000, 0.0000, 0.0000, 0.0000, 0.0000, 0.0000, 0.0000,\n",
            "          0.0000, 0.0000, 0.0000, 0.0000, 0.0000, 0.0000, 0.0000, 0.0000,\n",
            "          0.0000, 0.0000, 0.0000, 0.0000, 0.0000, 0.0000, 0.0000, 0.0000,\n",
            "          0.0000, 0.0000, 0.0000, 0.0000],\n",
            "         [0.0000, 0.0000, 0.0000, 0.0000, 0.0000, 0.0000, 0.0000, 0.0000,\n",
            "          0.0000, 0.0000, 0.0000, 0.0000, 0.0000, 0.0000, 0.0000, 0.0000,\n",
            "          0.0000, 0.0000, 0.0000, 0.0000, 0.0000, 0.0000, 0.0000, 0.0000,\n",
            "          0.0000, 0.0000, 0.0000, 0.0000],\n",
            "         [0.0000, 0.0000, 0.0000, 0.0000, 0.0000, 0.0000, 0.0000, 0.0000,\n",
            "          0.0000, 0.0000, 0.0000, 0.0000, 0.0000, 0.0000, 0.0000, 0.0000,\n",
            "          0.0000, 0.0000, 0.0000, 0.0000, 0.0000, 0.0000, 0.0000, 0.0000,\n",
            "          0.0000, 0.0000, 0.0000, 0.0000],\n",
            "         [0.0000, 0.0000, 0.0000, 0.0000, 0.0000, 0.0000, 0.0000, 0.0000,\n",
            "          0.0000, 0.0000, 0.0000, 0.0000, 0.0039, 0.0000, 0.0000, 0.0510,\n",
            "          0.2863, 0.0000, 0.0000, 0.0039, 0.0157, 0.0000, 0.0000, 0.0000,\n",
            "          0.0000, 0.0039, 0.0039, 0.0000],\n",
            "         [0.0000, 0.0000, 0.0000, 0.0000, 0.0000, 0.0000, 0.0000, 0.0000,\n",
            "          0.0000, 0.0000, 0.0000, 0.0000, 0.0118, 0.0000, 0.1412, 0.5333,\n",
            "          0.4980, 0.2431, 0.2118, 0.0000, 0.0000, 0.0000, 0.0039, 0.0118,\n",
            "          0.0157, 0.0000, 0.0000, 0.0118],\n",
            "         [0.0000, 0.0000, 0.0000, 0.0000, 0.0000, 0.0000, 0.0000, 0.0000,\n",
            "          0.0000, 0.0000, 0.0000, 0.0000, 0.0235, 0.0000, 0.4000, 0.8000,\n",
            "          0.6902, 0.5255, 0.5647, 0.4824, 0.0902, 0.0000, 0.0000, 0.0000,\n",
            "          0.0000, 0.0471, 0.0392, 0.0000],\n",
            "         [0.0000, 0.0000, 0.0000, 0.0000, 0.0000, 0.0000, 0.0000, 0.0000,\n",
            "          0.0000, 0.0000, 0.0000, 0.0000, 0.0000, 0.0000, 0.6078, 0.9255,\n",
            "          0.8118, 0.6980, 0.4196, 0.6118, 0.6314, 0.4275, 0.2510, 0.0902,\n",
            "          0.3020, 0.5098, 0.2824, 0.0588],\n",
            "         [0.0000, 0.0000, 0.0000, 0.0000, 0.0000, 0.0000, 0.0000, 0.0000,\n",
            "          0.0000, 0.0000, 0.0000, 0.0039, 0.0000, 0.2706, 0.8118, 0.8745,\n",
            "          0.8549, 0.8471, 0.8471, 0.6392, 0.4980, 0.4745, 0.4784, 0.5725,\n",
            "          0.5529, 0.3451, 0.6745, 0.2588],\n",
            "         [0.0000, 0.0000, 0.0000, 0.0000, 0.0000, 0.0000, 0.0000, 0.0000,\n",
            "          0.0000, 0.0039, 0.0039, 0.0039, 0.0000, 0.7843, 0.9098, 0.9098,\n",
            "          0.9137, 0.8980, 0.8745, 0.8745, 0.8431, 0.8353, 0.6431, 0.4980,\n",
            "          0.4824, 0.7686, 0.8980, 0.0000],\n",
            "         [0.0000, 0.0000, 0.0000, 0.0000, 0.0000, 0.0000, 0.0000, 0.0000,\n",
            "          0.0000, 0.0000, 0.0000, 0.0000, 0.0000, 0.7176, 0.8824, 0.8471,\n",
            "          0.8745, 0.8941, 0.9216, 0.8902, 0.8784, 0.8706, 0.8784, 0.8667,\n",
            "          0.8745, 0.9608, 0.6784, 0.0000],\n",
            "         [0.0000, 0.0000, 0.0000, 0.0000, 0.0000, 0.0000, 0.0000, 0.0000,\n",
            "          0.0000, 0.0000, 0.0000, 0.0000, 0.0000, 0.7569, 0.8941, 0.8549,\n",
            "          0.8353, 0.7765, 0.7059, 0.8314, 0.8235, 0.8275, 0.8353, 0.8745,\n",
            "          0.8627, 0.9529, 0.7922, 0.0000],\n",
            "         [0.0000, 0.0000, 0.0000, 0.0000, 0.0000, 0.0000, 0.0000, 0.0000,\n",
            "          0.0000, 0.0039, 0.0118, 0.0000, 0.0471, 0.8588, 0.8627, 0.8314,\n",
            "          0.8549, 0.7529, 0.6627, 0.8902, 0.8157, 0.8549, 0.8784, 0.8314,\n",
            "          0.8863, 0.7725, 0.8196, 0.2039],\n",
            "         [0.0000, 0.0000, 0.0000, 0.0000, 0.0000, 0.0000, 0.0000, 0.0000,\n",
            "          0.0000, 0.0000, 0.0235, 0.0000, 0.3882, 0.9569, 0.8706, 0.8627,\n",
            "          0.8549, 0.7961, 0.7765, 0.8667, 0.8431, 0.8353, 0.8706, 0.8627,\n",
            "          0.9608, 0.4667, 0.6549, 0.2196],\n",
            "         [0.0000, 0.0000, 0.0000, 0.0000, 0.0000, 0.0000, 0.0000, 0.0000,\n",
            "          0.0000, 0.0157, 0.0000, 0.0000, 0.2157, 0.9255, 0.8941, 0.9020,\n",
            "          0.8941, 0.9412, 0.9098, 0.8353, 0.8549, 0.8745, 0.9176, 0.8510,\n",
            "          0.8510, 0.8196, 0.3608, 0.0000],\n",
            "         [0.0000, 0.0000, 0.0039, 0.0157, 0.0235, 0.0275, 0.0078, 0.0000,\n",
            "          0.0000, 0.0000, 0.0000, 0.0000, 0.9294, 0.8863, 0.8510, 0.8745,\n",
            "          0.8706, 0.8588, 0.8706, 0.8667, 0.8471, 0.8745, 0.8980, 0.8431,\n",
            "          0.8549, 1.0000, 0.3020, 0.0000],\n",
            "         [0.0000, 0.0118, 0.0000, 0.0000, 0.0000, 0.0000, 0.0000, 0.0000,\n",
            "          0.0000, 0.2431, 0.5686, 0.8000, 0.8941, 0.8118, 0.8353, 0.8667,\n",
            "          0.8549, 0.8157, 0.8275, 0.8549, 0.8784, 0.8745, 0.8588, 0.8431,\n",
            "          0.8784, 0.9569, 0.6235, 0.0000],\n",
            "         [0.0000, 0.0000, 0.0000, 0.0000, 0.0706, 0.1725, 0.3216, 0.4196,\n",
            "          0.7412, 0.8941, 0.8627, 0.8706, 0.8510, 0.8863, 0.7843, 0.8039,\n",
            "          0.8275, 0.9020, 0.8784, 0.9176, 0.6902, 0.7373, 0.9804, 0.9725,\n",
            "          0.9137, 0.9333, 0.8431, 0.0000],\n",
            "         [0.0000, 0.2235, 0.7333, 0.8157, 0.8784, 0.8667, 0.8784, 0.8157,\n",
            "          0.8000, 0.8392, 0.8157, 0.8196, 0.7843, 0.6235, 0.9608, 0.7569,\n",
            "          0.8078, 0.8745, 1.0000, 1.0000, 0.8667, 0.9176, 0.8667, 0.8275,\n",
            "          0.8627, 0.9098, 0.9647, 0.0000],\n",
            "         [0.0118, 0.7922, 0.8941, 0.8784, 0.8667, 0.8275, 0.8275, 0.8392,\n",
            "          0.8039, 0.8039, 0.8039, 0.8627, 0.9412, 0.3137, 0.5882, 1.0000,\n",
            "          0.8980, 0.8667, 0.7373, 0.6039, 0.7490, 0.8235, 0.8000, 0.8196,\n",
            "          0.8706, 0.8941, 0.8824, 0.0000],\n",
            "         [0.3843, 0.9137, 0.7765, 0.8235, 0.8706, 0.8980, 0.8980, 0.9176,\n",
            "          0.9765, 0.8627, 0.7608, 0.8431, 0.8510, 0.9451, 0.2549, 0.2863,\n",
            "          0.4157, 0.4588, 0.6588, 0.8588, 0.8667, 0.8431, 0.8510, 0.8745,\n",
            "          0.8745, 0.8784, 0.8980, 0.1137],\n",
            "         [0.2941, 0.8000, 0.8314, 0.8000, 0.7569, 0.8039, 0.8275, 0.8824,\n",
            "          0.8471, 0.7255, 0.7725, 0.8078, 0.7765, 0.8353, 0.9412, 0.7647,\n",
            "          0.8902, 0.9608, 0.9373, 0.8745, 0.8549, 0.8314, 0.8196, 0.8706,\n",
            "          0.8627, 0.8667, 0.9020, 0.2627],\n",
            "         [0.1882, 0.7961, 0.7176, 0.7608, 0.8353, 0.7725, 0.7255, 0.7451,\n",
            "          0.7608, 0.7529, 0.7922, 0.8392, 0.8588, 0.8667, 0.8627, 0.9255,\n",
            "          0.8824, 0.8471, 0.7804, 0.8078, 0.7294, 0.7098, 0.6941, 0.6745,\n",
            "          0.7098, 0.8039, 0.8078, 0.4510],\n",
            "         [0.0000, 0.4784, 0.8588, 0.7569, 0.7020, 0.6706, 0.7176, 0.7686,\n",
            "          0.8000, 0.8235, 0.8353, 0.8118, 0.8275, 0.8235, 0.7843, 0.7686,\n",
            "          0.7608, 0.7490, 0.7647, 0.7490, 0.7765, 0.7529, 0.6902, 0.6118,\n",
            "          0.6549, 0.6941, 0.8235, 0.3608],\n",
            "         [0.0000, 0.0000, 0.2902, 0.7412, 0.8314, 0.7490, 0.6863, 0.6745,\n",
            "          0.6863, 0.7098, 0.7255, 0.7373, 0.7412, 0.7373, 0.7569, 0.7765,\n",
            "          0.8000, 0.8196, 0.8235, 0.8235, 0.8275, 0.7373, 0.7373, 0.7608,\n",
            "          0.7529, 0.8471, 0.6667, 0.0000],\n",
            "         [0.0078, 0.0000, 0.0000, 0.0000, 0.2588, 0.7843, 0.8706, 0.9294,\n",
            "          0.9373, 0.9490, 0.9647, 0.9529, 0.9569, 0.8667, 0.8627, 0.7569,\n",
            "          0.7490, 0.7020, 0.7137, 0.7137, 0.7098, 0.6902, 0.6510, 0.6588,\n",
            "          0.3882, 0.2275, 0.0000, 0.0000],\n",
            "         [0.0000, 0.0000, 0.0000, 0.0000, 0.0000, 0.0000, 0.0000, 0.1569,\n",
            "          0.2392, 0.1725, 0.2824, 0.1608, 0.1373, 0.0000, 0.0000, 0.0000,\n",
            "          0.0000, 0.0000, 0.0000, 0.0000, 0.0000, 0.0000, 0.0000, 0.0000,\n",
            "          0.0000, 0.0000, 0.0000, 0.0000],\n",
            "         [0.0000, 0.0000, 0.0000, 0.0000, 0.0000, 0.0000, 0.0000, 0.0000,\n",
            "          0.0000, 0.0000, 0.0000, 0.0000, 0.0000, 0.0000, 0.0000, 0.0000,\n",
            "          0.0000, 0.0000, 0.0000, 0.0000, 0.0000, 0.0000, 0.0000, 0.0000,\n",
            "          0.0000, 0.0000, 0.0000, 0.0000],\n",
            "         [0.0000, 0.0000, 0.0000, 0.0000, 0.0000, 0.0000, 0.0000, 0.0000,\n",
            "          0.0000, 0.0000, 0.0000, 0.0000, 0.0000, 0.0000, 0.0000, 0.0000,\n",
            "          0.0000, 0.0000, 0.0000, 0.0000, 0.0000, 0.0000, 0.0000, 0.0000,\n",
            "          0.0000, 0.0000, 0.0000, 0.0000]]])\n",
            "label: 9\n"
          ]
        }
      ]
    },
    {
      "cell_type": "code",
      "source": [
        "class_names = train_data.classes\n",
        "class_names"
      ],
      "metadata": {
        "colab": {
          "base_uri": "https://localhost:8080/"
        },
        "id": "KEChoiaSVtEe",
        "outputId": "2f21f655-b710-49df-c350-15a6d1df8e96"
      },
      "execution_count": 5,
      "outputs": [
        {
          "output_type": "execute_result",
          "data": {
            "text/plain": [
              "['T-shirt/top',\n",
              " 'Trouser',\n",
              " 'Pullover',\n",
              " 'Dress',\n",
              " 'Coat',\n",
              " 'Sandal',\n",
              " 'Shirt',\n",
              " 'Sneaker',\n",
              " 'Bag',\n",
              " 'Ankle boot']"
            ]
          },
          "metadata": {},
          "execution_count": 5
        }
      ]
    },
    {
      "cell_type": "code",
      "source": [
        "class_to_idx = train_data.class_to_idx\n",
        "class_to_idx"
      ],
      "metadata": {
        "colab": {
          "base_uri": "https://localhost:8080/"
        },
        "id": "QjCgPV7dWIiu",
        "outputId": "69598e8c-b74b-4433-ca03-119b12d491c9"
      },
      "execution_count": 6,
      "outputs": [
        {
          "output_type": "execute_result",
          "data": {
            "text/plain": [
              "{'T-shirt/top': 0,\n",
              " 'Trouser': 1,\n",
              " 'Pullover': 2,\n",
              " 'Dress': 3,\n",
              " 'Coat': 4,\n",
              " 'Sandal': 5,\n",
              " 'Shirt': 6,\n",
              " 'Sneaker': 7,\n",
              " 'Bag': 8,\n",
              " 'Ankle boot': 9}"
            ]
          },
          "metadata": {},
          "execution_count": 6
        }
      ]
    },
    {
      "cell_type": "code",
      "source": [
        "train_data.targets"
      ],
      "metadata": {
        "colab": {
          "base_uri": "https://localhost:8080/"
        },
        "id": "NoFxr2MzWXSe",
        "outputId": "c6787d3f-5e08-4471-bfa0-8dab054c641b"
      },
      "execution_count": 7,
      "outputs": [
        {
          "output_type": "execute_result",
          "data": {
            "text/plain": [
              "tensor([9, 0, 0,  ..., 3, 0, 5])"
            ]
          },
          "metadata": {},
          "execution_count": 7
        }
      ]
    },
    {
      "cell_type": "code",
      "source": [
        "# Check the shape of our image\n",
        "print(f\" Image shape: {image.shape} -> [color_channels, height, width]\")\n",
        "print(f\"Image label: {class_names[label]}\")"
      ],
      "metadata": {
        "colab": {
          "base_uri": "https://localhost:8080/"
        },
        "id": "OAAo4fHTWZ4S",
        "outputId": "02bbd7a7-914b-4218-9acf-983b3cf9a619"
      },
      "execution_count": 8,
      "outputs": [
        {
          "output_type": "stream",
          "name": "stdout",
          "text": [
            " Image shape: torch.Size([1, 28, 28]) -> [color_channels, height, width]\n",
            "Image label: Ankle boot\n"
          ]
        }
      ]
    },
    {
      "cell_type": "markdown",
      "source": [
        "### 1.2 Visualizing our data"
      ],
      "metadata": {
        "id": "qfZDbW8fWayr"
      }
    },
    {
      "cell_type": "code",
      "source": [
        "import matplotlib.pyplot as plt\n",
        "image, label = train_data[0]\n",
        "print(f\"Image shape: {image.shape}\")\n",
        "# we are going to use matplotlib to show our image\n",
        "plt.imshow(image.squeeze())\n",
        "plt.title(label)\n",
        "image"
      ],
      "metadata": {
        "colab": {
          "base_uri": "https://localhost:8080/",
          "height": 1000
        },
        "id": "7Fh0yVrLWbHR",
        "outputId": "c9f9ad6f-1c8b-48ac-8c69-cba3cad788f7"
      },
      "execution_count": 9,
      "outputs": [
        {
          "output_type": "stream",
          "name": "stdout",
          "text": [
            "Image shape: torch.Size([1, 28, 28])\n"
          ]
        },
        {
          "output_type": "execute_result",
          "data": {
            "text/plain": [
              "tensor([[[0.0000, 0.0000, 0.0000, 0.0000, 0.0000, 0.0000, 0.0000, 0.0000,\n",
              "          0.0000, 0.0000, 0.0000, 0.0000, 0.0000, 0.0000, 0.0000, 0.0000,\n",
              "          0.0000, 0.0000, 0.0000, 0.0000, 0.0000, 0.0000, 0.0000, 0.0000,\n",
              "          0.0000, 0.0000, 0.0000, 0.0000],\n",
              "         [0.0000, 0.0000, 0.0000, 0.0000, 0.0000, 0.0000, 0.0000, 0.0000,\n",
              "          0.0000, 0.0000, 0.0000, 0.0000, 0.0000, 0.0000, 0.0000, 0.0000,\n",
              "          0.0000, 0.0000, 0.0000, 0.0000, 0.0000, 0.0000, 0.0000, 0.0000,\n",
              "          0.0000, 0.0000, 0.0000, 0.0000],\n",
              "         [0.0000, 0.0000, 0.0000, 0.0000, 0.0000, 0.0000, 0.0000, 0.0000,\n",
              "          0.0000, 0.0000, 0.0000, 0.0000, 0.0000, 0.0000, 0.0000, 0.0000,\n",
              "          0.0000, 0.0000, 0.0000, 0.0000, 0.0000, 0.0000, 0.0000, 0.0000,\n",
              "          0.0000, 0.0000, 0.0000, 0.0000],\n",
              "         [0.0000, 0.0000, 0.0000, 0.0000, 0.0000, 0.0000, 0.0000, 0.0000,\n",
              "          0.0000, 0.0000, 0.0000, 0.0000, 0.0039, 0.0000, 0.0000, 0.0510,\n",
              "          0.2863, 0.0000, 0.0000, 0.0039, 0.0157, 0.0000, 0.0000, 0.0000,\n",
              "          0.0000, 0.0039, 0.0039, 0.0000],\n",
              "         [0.0000, 0.0000, 0.0000, 0.0000, 0.0000, 0.0000, 0.0000, 0.0000,\n",
              "          0.0000, 0.0000, 0.0000, 0.0000, 0.0118, 0.0000, 0.1412, 0.5333,\n",
              "          0.4980, 0.2431, 0.2118, 0.0000, 0.0000, 0.0000, 0.0039, 0.0118,\n",
              "          0.0157, 0.0000, 0.0000, 0.0118],\n",
              "         [0.0000, 0.0000, 0.0000, 0.0000, 0.0000, 0.0000, 0.0000, 0.0000,\n",
              "          0.0000, 0.0000, 0.0000, 0.0000, 0.0235, 0.0000, 0.4000, 0.8000,\n",
              "          0.6902, 0.5255, 0.5647, 0.4824, 0.0902, 0.0000, 0.0000, 0.0000,\n",
              "          0.0000, 0.0471, 0.0392, 0.0000],\n",
              "         [0.0000, 0.0000, 0.0000, 0.0000, 0.0000, 0.0000, 0.0000, 0.0000,\n",
              "          0.0000, 0.0000, 0.0000, 0.0000, 0.0000, 0.0000, 0.6078, 0.9255,\n",
              "          0.8118, 0.6980, 0.4196, 0.6118, 0.6314, 0.4275, 0.2510, 0.0902,\n",
              "          0.3020, 0.5098, 0.2824, 0.0588],\n",
              "         [0.0000, 0.0000, 0.0000, 0.0000, 0.0000, 0.0000, 0.0000, 0.0000,\n",
              "          0.0000, 0.0000, 0.0000, 0.0039, 0.0000, 0.2706, 0.8118, 0.8745,\n",
              "          0.8549, 0.8471, 0.8471, 0.6392, 0.4980, 0.4745, 0.4784, 0.5725,\n",
              "          0.5529, 0.3451, 0.6745, 0.2588],\n",
              "         [0.0000, 0.0000, 0.0000, 0.0000, 0.0000, 0.0000, 0.0000, 0.0000,\n",
              "          0.0000, 0.0039, 0.0039, 0.0039, 0.0000, 0.7843, 0.9098, 0.9098,\n",
              "          0.9137, 0.8980, 0.8745, 0.8745, 0.8431, 0.8353, 0.6431, 0.4980,\n",
              "          0.4824, 0.7686, 0.8980, 0.0000],\n",
              "         [0.0000, 0.0000, 0.0000, 0.0000, 0.0000, 0.0000, 0.0000, 0.0000,\n",
              "          0.0000, 0.0000, 0.0000, 0.0000, 0.0000, 0.7176, 0.8824, 0.8471,\n",
              "          0.8745, 0.8941, 0.9216, 0.8902, 0.8784, 0.8706, 0.8784, 0.8667,\n",
              "          0.8745, 0.9608, 0.6784, 0.0000],\n",
              "         [0.0000, 0.0000, 0.0000, 0.0000, 0.0000, 0.0000, 0.0000, 0.0000,\n",
              "          0.0000, 0.0000, 0.0000, 0.0000, 0.0000, 0.7569, 0.8941, 0.8549,\n",
              "          0.8353, 0.7765, 0.7059, 0.8314, 0.8235, 0.8275, 0.8353, 0.8745,\n",
              "          0.8627, 0.9529, 0.7922, 0.0000],\n",
              "         [0.0000, 0.0000, 0.0000, 0.0000, 0.0000, 0.0000, 0.0000, 0.0000,\n",
              "          0.0000, 0.0039, 0.0118, 0.0000, 0.0471, 0.8588, 0.8627, 0.8314,\n",
              "          0.8549, 0.7529, 0.6627, 0.8902, 0.8157, 0.8549, 0.8784, 0.8314,\n",
              "          0.8863, 0.7725, 0.8196, 0.2039],\n",
              "         [0.0000, 0.0000, 0.0000, 0.0000, 0.0000, 0.0000, 0.0000, 0.0000,\n",
              "          0.0000, 0.0000, 0.0235, 0.0000, 0.3882, 0.9569, 0.8706, 0.8627,\n",
              "          0.8549, 0.7961, 0.7765, 0.8667, 0.8431, 0.8353, 0.8706, 0.8627,\n",
              "          0.9608, 0.4667, 0.6549, 0.2196],\n",
              "         [0.0000, 0.0000, 0.0000, 0.0000, 0.0000, 0.0000, 0.0000, 0.0000,\n",
              "          0.0000, 0.0157, 0.0000, 0.0000, 0.2157, 0.9255, 0.8941, 0.9020,\n",
              "          0.8941, 0.9412, 0.9098, 0.8353, 0.8549, 0.8745, 0.9176, 0.8510,\n",
              "          0.8510, 0.8196, 0.3608, 0.0000],\n",
              "         [0.0000, 0.0000, 0.0039, 0.0157, 0.0235, 0.0275, 0.0078, 0.0000,\n",
              "          0.0000, 0.0000, 0.0000, 0.0000, 0.9294, 0.8863, 0.8510, 0.8745,\n",
              "          0.8706, 0.8588, 0.8706, 0.8667, 0.8471, 0.8745, 0.8980, 0.8431,\n",
              "          0.8549, 1.0000, 0.3020, 0.0000],\n",
              "         [0.0000, 0.0118, 0.0000, 0.0000, 0.0000, 0.0000, 0.0000, 0.0000,\n",
              "          0.0000, 0.2431, 0.5686, 0.8000, 0.8941, 0.8118, 0.8353, 0.8667,\n",
              "          0.8549, 0.8157, 0.8275, 0.8549, 0.8784, 0.8745, 0.8588, 0.8431,\n",
              "          0.8784, 0.9569, 0.6235, 0.0000],\n",
              "         [0.0000, 0.0000, 0.0000, 0.0000, 0.0706, 0.1725, 0.3216, 0.4196,\n",
              "          0.7412, 0.8941, 0.8627, 0.8706, 0.8510, 0.8863, 0.7843, 0.8039,\n",
              "          0.8275, 0.9020, 0.8784, 0.9176, 0.6902, 0.7373, 0.9804, 0.9725,\n",
              "          0.9137, 0.9333, 0.8431, 0.0000],\n",
              "         [0.0000, 0.2235, 0.7333, 0.8157, 0.8784, 0.8667, 0.8784, 0.8157,\n",
              "          0.8000, 0.8392, 0.8157, 0.8196, 0.7843, 0.6235, 0.9608, 0.7569,\n",
              "          0.8078, 0.8745, 1.0000, 1.0000, 0.8667, 0.9176, 0.8667, 0.8275,\n",
              "          0.8627, 0.9098, 0.9647, 0.0000],\n",
              "         [0.0118, 0.7922, 0.8941, 0.8784, 0.8667, 0.8275, 0.8275, 0.8392,\n",
              "          0.8039, 0.8039, 0.8039, 0.8627, 0.9412, 0.3137, 0.5882, 1.0000,\n",
              "          0.8980, 0.8667, 0.7373, 0.6039, 0.7490, 0.8235, 0.8000, 0.8196,\n",
              "          0.8706, 0.8941, 0.8824, 0.0000],\n",
              "         [0.3843, 0.9137, 0.7765, 0.8235, 0.8706, 0.8980, 0.8980, 0.9176,\n",
              "          0.9765, 0.8627, 0.7608, 0.8431, 0.8510, 0.9451, 0.2549, 0.2863,\n",
              "          0.4157, 0.4588, 0.6588, 0.8588, 0.8667, 0.8431, 0.8510, 0.8745,\n",
              "          0.8745, 0.8784, 0.8980, 0.1137],\n",
              "         [0.2941, 0.8000, 0.8314, 0.8000, 0.7569, 0.8039, 0.8275, 0.8824,\n",
              "          0.8471, 0.7255, 0.7725, 0.8078, 0.7765, 0.8353, 0.9412, 0.7647,\n",
              "          0.8902, 0.9608, 0.9373, 0.8745, 0.8549, 0.8314, 0.8196, 0.8706,\n",
              "          0.8627, 0.8667, 0.9020, 0.2627],\n",
              "         [0.1882, 0.7961, 0.7176, 0.7608, 0.8353, 0.7725, 0.7255, 0.7451,\n",
              "          0.7608, 0.7529, 0.7922, 0.8392, 0.8588, 0.8667, 0.8627, 0.9255,\n",
              "          0.8824, 0.8471, 0.7804, 0.8078, 0.7294, 0.7098, 0.6941, 0.6745,\n",
              "          0.7098, 0.8039, 0.8078, 0.4510],\n",
              "         [0.0000, 0.4784, 0.8588, 0.7569, 0.7020, 0.6706, 0.7176, 0.7686,\n",
              "          0.8000, 0.8235, 0.8353, 0.8118, 0.8275, 0.8235, 0.7843, 0.7686,\n",
              "          0.7608, 0.7490, 0.7647, 0.7490, 0.7765, 0.7529, 0.6902, 0.6118,\n",
              "          0.6549, 0.6941, 0.8235, 0.3608],\n",
              "         [0.0000, 0.0000, 0.2902, 0.7412, 0.8314, 0.7490, 0.6863, 0.6745,\n",
              "          0.6863, 0.7098, 0.7255, 0.7373, 0.7412, 0.7373, 0.7569, 0.7765,\n",
              "          0.8000, 0.8196, 0.8235, 0.8235, 0.8275, 0.7373, 0.7373, 0.7608,\n",
              "          0.7529, 0.8471, 0.6667, 0.0000],\n",
              "         [0.0078, 0.0000, 0.0000, 0.0000, 0.2588, 0.7843, 0.8706, 0.9294,\n",
              "          0.9373, 0.9490, 0.9647, 0.9529, 0.9569, 0.8667, 0.8627, 0.7569,\n",
              "          0.7490, 0.7020, 0.7137, 0.7137, 0.7098, 0.6902, 0.6510, 0.6588,\n",
              "          0.3882, 0.2275, 0.0000, 0.0000],\n",
              "         [0.0000, 0.0000, 0.0000, 0.0000, 0.0000, 0.0000, 0.0000, 0.1569,\n",
              "          0.2392, 0.1725, 0.2824, 0.1608, 0.1373, 0.0000, 0.0000, 0.0000,\n",
              "          0.0000, 0.0000, 0.0000, 0.0000, 0.0000, 0.0000, 0.0000, 0.0000,\n",
              "          0.0000, 0.0000, 0.0000, 0.0000],\n",
              "         [0.0000, 0.0000, 0.0000, 0.0000, 0.0000, 0.0000, 0.0000, 0.0000,\n",
              "          0.0000, 0.0000, 0.0000, 0.0000, 0.0000, 0.0000, 0.0000, 0.0000,\n",
              "          0.0000, 0.0000, 0.0000, 0.0000, 0.0000, 0.0000, 0.0000, 0.0000,\n",
              "          0.0000, 0.0000, 0.0000, 0.0000],\n",
              "         [0.0000, 0.0000, 0.0000, 0.0000, 0.0000, 0.0000, 0.0000, 0.0000,\n",
              "          0.0000, 0.0000, 0.0000, 0.0000, 0.0000, 0.0000, 0.0000, 0.0000,\n",
              "          0.0000, 0.0000, 0.0000, 0.0000, 0.0000, 0.0000, 0.0000, 0.0000,\n",
              "          0.0000, 0.0000, 0.0000, 0.0000]]])"
            ]
          },
          "metadata": {},
          "execution_count": 9
        },
        {
          "output_type": "display_data",
          "data": {
            "text/plain": [
              "<Figure size 640x480 with 1 Axes>"
            ],
            "image/png": "[encoded data removed]"
          },
          "metadata": {}
        }
      ]
    },
    {
      "cell_type": "code",
      "source": [
        "plt.imshow(image.squeeze(), cmap=\"gray\")\n",
        "plt.title(class_names[label])\n",
        "plt.axis(False)"
      ],
      "metadata": {
        "colab": {
          "base_uri": "https://localhost:8080/",
          "height": 445
        },
        "id": "0JkezzolWbgi",
        "outputId": "0005e10e-c42f-4b09-a2a3-40990a2f3ca0"
      },
      "execution_count": 10,
      "outputs": [
        {
          "output_type": "execute_result",
          "data": {
            "text/plain": [
              "(-0.5, 27.5, 27.5, -0.5)"
            ]
          },
          "metadata": {},
          "execution_count": 10
        },
        {
          "output_type": "display_data",
          "data": {
            "text/plain": [
              "<Figure size 640x480 with 1 Axes>"
            ],
            "image/png": "[encoded data removed]"
          },
          "metadata": {}
        }
      ]
    },
    {
      "cell_type": "code",
      "source": [
        "# Plot sample images from the dataset\n",
        "torch.manual_seed(42)\n",
        "fig = plt.figure(figsize=(9,9))\n",
        "rows, cols = 4, 4\n",
        "for i in range(1, rows*cols+1):\n",
        "  random_idx = torch.randint(0, len(train_data), size=[1]).item()\n",
        "  img, label = train_data[random_idx]\n",
        "  fig.add_subplot(rows, cols, i) #(rows, cols, index)\n",
        "  plt.imshow(img.squeeze(), cmap=\"gray\")\n",
        "  plt.imshow(img.squeeze(), cmap=\"gray\")\n",
        "  plt.title(class_names[label])\n",
        "  plt.axis(False)\n",
        "\n"
      ],
      "metadata": {
        "colab": {
          "base_uri": "https://localhost:8080/",
          "height": 752
        },
        "id": "A9zN63nMWbxt",
        "outputId": "1c4378b0-e7b0-4f73-a799-7f854d7c586d"
      },
      "execution_count": 11,
      "outputs": [
        {
          "output_type": "display_data",
          "data": {
            "text/plain": [
              "<Figure size 900x900 with 16 Axes>"
            ],
            "image/png": "[encoded data removed]"
          },
          "metadata": {}
        }
      ]
    },
    {
      "cell_type": "code",
      "source": [
        "train_data, test_data"
      ],
      "metadata": {
        "colab": {
          "base_uri": "https://localhost:8080/"
        },
        "id": "HO80dNUzWcGG",
        "outputId": "9275ea63-1619-4412-d4b9-63467fbc11ba"
      },
      "execution_count": 12,
      "outputs": [
        {
          "output_type": "execute_result",
          "data": {
            "text/plain": [
              "(Dataset FashionMNIST\n",
              "     Number of datapoints: 60000\n",
              "     Root location: data\n",
              "     Split: Train\n",
              "     StandardTransform\n",
              " Transform: ToTensor(),\n",
              " Dataset FashionMNIST\n",
              "     Number of datapoints: 10000\n",
              "     Root location: data\n",
              "     Split: Test\n",
              "     StandardTransform\n",
              " Transform: ToTensor())"
            ]
          },
          "metadata": {},
          "execution_count": 12
        }
      ]
    },
    {
      "cell_type": "markdown",
      "source": [
        "## 2. Prepare DataLoader\n",
        "\n",
        "Right now, our data is in the form of PyTorch Datasets.\n",
        "**DataLoader** turns our dataset into a Python iterable.\n",
        "More specifically, we want to turn our data into batches (or mini-batches) - why would we do this?\n",
        "\n",
        "1. It is more computationally efficient, i.e. your computing h/w may not be able to look (store in memory) at 60,000 images in one hit. So we break it down to 32 images at a time (batch size of ~32)\n",
        "2. It gives our NN more chances to update its **gradient** per epoch\n",
        "\n",
        "Link to understand this better - https://towardsdatascience.com/batch-mini-batch-stochastic-gradient-descent-7a62ecba642a\n"
      ],
      "metadata": {
        "id": "lDi16Xo0UePQ"
      }
    },
    {
      "cell_type": "markdown",
      "source": [
        "### 2.1 Create mini-batches"
      ],
      "metadata": {
        "id": "djZy9pYHNYmC"
      }
    },
    {
      "cell_type": "code",
      "source": [
        "# Create mini-batches\n",
        "from torch.utils.data import DataLoader\n",
        "\n",
        "# Setup the batch size hyperparameter\n",
        "BATCH_SIZE = 32\n",
        "\n",
        "# Turn MNIST dataset into batches\n",
        "train_dataloader = DataLoader(dataset=train_data,\n",
        "                              batch_size=BATCH_SIZE,\n",
        "                              shuffle=True)\n",
        "\n",
        "test_dataloader = DataLoader(dataset=test_data,\n",
        "                             batch_size=BATCH_SIZE,\n",
        "                             shuffle=True)\n",
        "\n",
        "\n",
        "# Let's print out what we've created\n",
        "print(f\"DataLoaders: {train_dataloader, test_dataloader}\")\n",
        "print(f\"Length of train_dataloader: {len(train_dataloader)} batches of size 32\")\n",
        "print(f\"Length of test_dataloader: {len(test_dataloader)}  batches of size 32\")"
      ],
      "metadata": {
        "id": "_15RMBswUeKq",
        "colab": {
          "base_uri": "https://localhost:8080/"
        },
        "outputId": "5dffd187-0529-4418-85f3-1c9246598e83"
      },
      "execution_count": 13,
      "outputs": [
        {
          "output_type": "stream",
          "name": "stdout",
          "text": [
            "DataLoaders: (<torch.utils.data.dataloader.DataLoader object at 0x7901b3419e40>, <torch.utils.data.dataloader.DataLoader object at 0x7901b341b490>)\n",
            "Length of train_dataloader: 1875 batches of size 32\n",
            "Length of test_dataloader: 313  batches of size 32\n"
          ]
        }
      ]
    },
    {
      "cell_type": "code",
      "source": [
        "# Check out what's inside the training dataloader\n",
        "train_features_batch, train_labels_batch = next(iter(train_dataloader))\n",
        "train_features_batch.shape, train_labels_batch.shape"
      ],
      "metadata": {
        "colab": {
          "base_uri": "https://localhost:8080/"
        },
        "id": "I4EA1NrIOAt7",
        "outputId": "bdf445e7-438a-4f86-abe2-fb18ef001d67"
      },
      "execution_count": 14,
      "outputs": [
        {
          "output_type": "execute_result",
          "data": {
            "text/plain": [
              "(torch.Size([32, 1, 28, 28]), torch.Size([32]))"
            ]
          },
          "metadata": {},
          "execution_count": 14
        }
      ]
    },
    {
      "cell_type": "markdown",
      "source": [
        "### 2.2 Visualize the mini-batches"
      ],
      "metadata": {
        "id": "DiBwfaadNgAY"
      }
    },
    {
      "cell_type": "code",
      "source": [
        "# Show a random shape from a batch\n",
        "torch.manual_seed(42)\n",
        "random_idx = torch.randint(0, len(train_features_batch), size=(1,)).item()\n",
        "img, label = train_features_batch[random_idx], train_labels_batch[random_idx]\n",
        "plt.imshow(img.squeeze(), cmap=\"gray\")\n",
        "plt.title(class_names[label])\n",
        "plt.axis(False)\n",
        "print(f\"Image size: {img.shape}\")\n",
        "print(f\"Label: {label}, label size: {label.shape}\")\n"
      ],
      "metadata": {
        "id": "ssoUj4NwUeI1",
        "colab": {
          "base_uri": "https://localhost:8080/",
          "height": 463
        },
        "outputId": "bd482aab-1369-4fb3-c726-0572efa1039f"
      },
      "execution_count": 15,
      "outputs": [
        {
          "output_type": "stream",
          "name": "stdout",
          "text": [
            "Image size: torch.Size([1, 28, 28])\n",
            "Label: 6, label size: torch.Size([])\n"
          ]
        },
        {
          "output_type": "display_data",
          "data": {
            "text/plain": [
              "<Figure size 640x480 with 1 Axes>"
            ],
            "image/png": "[encoded data removed]"
          },
          "metadata": {}
        }
      ]
    },
    {
      "cell_type": "markdown",
      "source": [
        "## 3. Model 0: Build a baseline vision model\n",
        "\n",
        "When starting to build a series of machine learning models, it is best practice to start with a baseline model.\n",
        "A baseline model is a simple model you will try and improve upon with subsequent models.\n",
        "\n",
        "Start simple and add complexity when necessary."
      ],
      "metadata": {
        "id": "kiHXBX24UeGn"
      }
    },
    {
      "cell_type": "code",
      "source": [
        "# Create a flatten layer\n",
        "flatten_model = nn.Flatten()\n",
        "\n",
        "# Get a single sample batch\n",
        "x = train_features_batch[0]\n",
        "\n",
        "# Flatten the sample\n",
        "output = flatten_model(x) # performs forward pass\n",
        "\n",
        "# Print out what happened\n",
        "print(f\"Shape before flattening: {x.shape}\")\n",
        "print(f\"Shape after flattening: {output.shape}\")"
      ],
      "metadata": {
        "id": "gylzdGksUeD3",
        "colab": {
          "base_uri": "https://localhost:8080/"
        },
        "outputId": "f170bb34-43a9-4622-b618-3a57c138a0df"
      },
      "execution_count": 16,
      "outputs": [
        {
          "output_type": "stream",
          "name": "stdout",
          "text": [
            "Shape before flattening: torch.Size([1, 28, 28])\n",
            "Shape after flattening: torch.Size([1, 784])\n"
          ]
        }
      ]
    },
    {
      "cell_type": "markdown",
      "source": [
        "### 3.1 Define v0 model"
      ],
      "metadata": {
        "id": "IIozEm3ULJUh"
      }
    },
    {
      "cell_type": "code",
      "source": [
        "from torch import nn\n",
        "class FashionMNISTModelV0(nn.Module):\n",
        "  def __init__(self,\n",
        "               input_shape: int,\n",
        "               hidden_units: int,\n",
        "               output_shape: int):\n",
        "    super().__init__()\n",
        "    self.layer_stack = nn.Sequential(\n",
        "        nn.Flatten(),\n",
        "        nn.Linear(in_features=input_shape,\n",
        "                   out_features=hidden_units),\n",
        "        nn.Linear(in_features=hidden_units,\n",
        "                  out_features=output_shape)\n",
        "    )\n",
        "\n",
        "  def forward(self, x):\n",
        "    return self.layer_stack(x)\n"
      ],
      "metadata": {
        "id": "gQv4FpThUd_8"
      },
      "execution_count": 17,
      "outputs": []
    },
    {
      "cell_type": "code",
      "source": [
        "torch.manual_seed(42)\n",
        "\n",
        "# Setup model with input parameters\n",
        "model_0 = FashionMNISTModelV0(\n",
        "    input_shape=784, # 28 x 28\n",
        "    hidden_units=10, # num of neurons in a layer\n",
        "    output_shape=len(class_names) # one for every class\n",
        ").to(\"cpu\")"
      ],
      "metadata": {
        "id": "t1aNCm4ybGMA"
      },
      "execution_count": 18,
      "outputs": []
    },
    {
      "cell_type": "code",
      "source": [
        "dummy_x = torch.rand([1, 1, 28, 28])\n",
        "model_0(dummy_x)"
      ],
      "metadata": {
        "id": "ud_QuxJmbGKI",
        "colab": {
          "base_uri": "https://localhost:8080/"
        },
        "outputId": "38291cd1-e64e-41de-fa83-2f1da57155eb"
      },
      "execution_count": 19,
      "outputs": [
        {
          "output_type": "execute_result",
          "data": {
            "text/plain": [
              "tensor([[-0.0315,  0.3171,  0.0531, -0.2525,  0.5959,  0.2112,  0.3233,  0.2694,\n",
              "         -0.1004,  0.0157]], grad_fn=<AddmmBackward0>)"
            ]
          },
          "metadata": {},
          "execution_count": 19
        }
      ]
    },
    {
      "cell_type": "code",
      "source": [
        "model_0.state_dict()"
      ],
      "metadata": {
        "id": "vinLYsPGbGIF",
        "colab": {
          "base_uri": "https://localhost:8080/"
        },
        "collapsed": true,
        "outputId": "babc0ddb-0f86-4966-c7ae-81efc3471bc5"
      },
      "execution_count": 20,
      "outputs": [
        {
          "output_type": "execute_result",
          "data": {
            "text/plain": [
              "OrderedDict([('layer_stack.1.weight',\n",
              "              tensor([[ 0.0273,  0.0296, -0.0084,  ..., -0.0142,  0.0093,  0.0135],\n",
              "                      [-0.0188, -0.0354,  0.0187,  ..., -0.0106, -0.0001,  0.0115],\n",
              "                      [-0.0008,  0.0017,  0.0045,  ..., -0.0127, -0.0188,  0.0059],\n",
              "                      ...,\n",
              "                      [-0.0116,  0.0273, -0.0344,  ...,  0.0176,  0.0283, -0.0011],\n",
              "                      [-0.0230,  0.0257,  0.0291,  ..., -0.0187, -0.0087,  0.0001],\n",
              "                      [ 0.0176, -0.0147,  0.0053,  ..., -0.0336, -0.0221,  0.0205]])),\n",
              "             ('layer_stack.1.bias',\n",
              "              tensor([-0.0093,  0.0283, -0.0033,  0.0255,  0.0017,  0.0037, -0.0302, -0.0123,\n",
              "                       0.0018,  0.0163])),\n",
              "             ('layer_stack.2.weight',\n",
              "              tensor([[ 0.0614, -0.0687,  0.0021,  0.2718,  0.2109,  0.1079, -0.2279, -0.1063,\n",
              "                        0.2019,  0.2847],\n",
              "                      [-0.1495,  0.1344, -0.0740,  0.2006, -0.0475, -0.2514, -0.3130, -0.0118,\n",
              "                        0.0932, -0.1864],\n",
              "                      [ 0.2488,  0.1500,  0.1907,  0.1457, -0.3050, -0.0580,  0.1643,  0.1565,\n",
              "                       -0.2877, -0.1792],\n",
              "                      [ 0.2305, -0.2618,  0.2397, -0.0610,  0.0232,  0.1542,  0.0851, -0.2027,\n",
              "                        0.1030, -0.2715],\n",
              "                      [-0.1596, -0.0555, -0.0633,  0.2302, -0.1726,  0.2654,  0.1473,  0.1029,\n",
              "                        0.2252, -0.2160],\n",
              "                      [-0.2725,  0.0118,  0.1559,  0.1596,  0.0132,  0.3024,  0.1124,  0.1366,\n",
              "                       -0.1533,  0.0965],\n",
              "                      [-0.1184, -0.2555, -0.2057, -0.1909, -0.0477, -0.1324,  0.2905,  0.1307,\n",
              "                       -0.2629,  0.0133],\n",
              "                      [ 0.2727, -0.0127,  0.0513,  0.0863, -0.1043, -0.2047, -0.1185, -0.0825,\n",
              "                        0.2488, -0.2571],\n",
              "                      [ 0.0425, -0.1209, -0.0336, -0.0281, -0.1227,  0.0730,  0.0747, -0.1816,\n",
              "                        0.1943,  0.2853],\n",
              "                      [-0.1310,  0.0645, -0.1171,  0.2168, -0.0245, -0.2820,  0.0736,  0.2621,\n",
              "                        0.0012, -0.0810]])),\n",
              "             ('layer_stack.2.bias',\n",
              "              tensor([-0.0087,  0.1791,  0.2712, -0.0791,  0.1685,  0.1762,  0.2825,  0.2266,\n",
              "                      -0.2612, -0.2613]))])"
            ]
          },
          "metadata": {},
          "execution_count": 20
        }
      ]
    },
    {
      "cell_type": "markdown",
      "source": [
        "### 3.2 Setup loss, optimizer and evaluation metrics\n",
        "\n",
        "* **Loss function** - since we're working with multi-class data, our loss function will be `nn.CrossEntropyLoss()`\n",
        "* **Optimizer** - our optimizer `torch.optim.SGD()` (stochastic gradient descent)\n",
        "* **Evaluation metric** - since we're working on a classification problem, let's use accuracy as our evaluation metric"
      ],
      "metadata": {
        "id": "1AyPRo_xbGFG"
      }
    },
    {
      "cell_type": "code",
      "source": [
        "import requests\n",
        "from pathlib import Path\n",
        "\n",
        "# Download helper functions from learnpytorch repo\n",
        "if Path(\"helper_functions.py\").is_file():\n",
        "  print(\"helper functions.py already exists, skipping download...\")\n",
        "else:\n",
        "  print(\"Downloading helper_functions.py\")\n",
        "  request = requests.get(\"https://raw.githubusercontent.com/mrdbourke/pytorch-deep-learning/refs/heads/main/helper_functions.py\")\n",
        "  with open(\"helper_functions.py\", \"wb\") as f:\n",
        "    f.write(request.content)\n",
        "  print(\"Downloaded and saved\")\n"
      ],
      "metadata": {
        "id": "jRJ6FAGMbGCz",
        "colab": {
          "base_uri": "https://localhost:8080/"
        },
        "outputId": "c79af643-95e2-47af-ac3d-b5a2ae11ba5e"
      },
      "execution_count": 21,
      "outputs": [
        {
          "output_type": "stream",
          "name": "stdout",
          "text": [
            "Downloading helper_functions.py\n",
            "Downloaded and saved\n"
          ]
        }
      ]
    },
    {
      "cell_type": "code",
      "source": [],
      "metadata": {
        "id": "m0pM1QlLfrxo"
      },
      "execution_count": 21,
      "outputs": []
    },
    {
      "cell_type": "code",
      "source": [
        "# Import accuracy metric\n",
        "from helper_functions import accuracy_fn\n",
        "\n",
        "# Setup loss function and optimizer\n",
        "loss_fn = nn.CrossEntropyLoss()\n",
        "optimizer = torch.optim.SGD(params=model_0.parameters(),\n",
        "                            lr=0.1)"
      ],
      "metadata": {
        "id": "RtL973aMfXUY"
      },
      "execution_count": 22,
      "outputs": []
    },
    {
      "cell_type": "markdown",
      "source": [
        "### 3.3 Creating a function to time our experiments\n",
        "\n",
        "Machine learning is very experimental.\n",
        "\n",
        "You'll want to track two main things:\n",
        "1. Model's performance (loss and accuracy values etc)\n",
        "2. How fast it runs  "
      ],
      "metadata": {
        "id": "fPeodCIyz4ee"
      }
    },
    {
      "cell_type": "code",
      "source": [
        "from timeit import default_timer as timer\n",
        "def print_train_time(start: float,\n",
        "                     end: float,\n",
        "                     device: torch.device = None):\n",
        "  \"\"\"Prints difference between start and end time.\"\"\"\n",
        "  total_time = end - start\n",
        "  print(f\"Train time on {device}: {total_time:.3f} seconds\")\n",
        "  return total_time"
      ],
      "metadata": {
        "id": "ogBzjVIO0jER"
      },
      "execution_count": 23,
      "outputs": []
    },
    {
      "cell_type": "code",
      "source": [
        "start_time = timer()\n",
        "# some code...\n",
        "end_time = timer()\n",
        "print_train_time(start=start_time,\n",
        "                 end=end_time\n",
        "                )"
      ],
      "metadata": {
        "colab": {
          "base_uri": "https://localhost:8080/"
        },
        "id": "QaYxII3N1SAQ",
        "outputId": "852af50d-f988-484c-cc74-e5668271a43c"
      },
      "execution_count": 24,
      "outputs": [
        {
          "output_type": "stream",
          "name": "stdout",
          "text": [
            "Train time on None: 0.000 seconds\n"
          ]
        },
        {
          "output_type": "execute_result",
          "data": {
            "text/plain": [
              "4.717299999867919e-05"
            ]
          },
          "metadata": {},
          "execution_count": 24
        }
      ]
    },
    {
      "cell_type": "markdown",
      "source": [
        "### 3.4 Creating a training loop and training a model on batches of data\n",
        "\n",
        "1. Loop through epochs\n",
        "2. Loop through training batches, perform training steps, calculate the train loss per batch\n",
        "3. Loop through testing batches, perform testing steps, calculate the test loss per batch\n",
        "4. Print out what's happening\n",
        "5. Time it all to check how fast the model is"
      ],
      "metadata": {
        "id": "PKXxeOPEXYtk"
      }
    },
    {
      "cell_type": "code",
      "source": [
        "# Import tqdm for progress bar\n",
        "from tqdm.auto import tqdm\n",
        "\n",
        "# Set the seed and start the timer\n",
        "torch.manual_seed(42)\n",
        "train_time_start_on_cpu = timer()\n",
        "\n",
        "# Set the number of epochs (we'll keep this small for faster training time)\n",
        "epochs = 3\n",
        "\n",
        "# Create training and test loop\n",
        "for epoch in tqdm(range(epochs)):\n",
        "  print(f\"Epoch: {epoch}\\n-------\")\n",
        "  ### Training\n",
        "  train_loss = 0\n",
        "  # Add a loop to loop through the training batches\n",
        "  for batch, (X,y) in enumerate(train_dataloader): # X=image, y=label\n",
        "    model_0.train() # set it into training mode\n",
        "    # 1. Forward pass\n",
        "    y_pred = model_0(X)\n",
        "\n",
        "    # 2. Calculate loss (per batch)\n",
        "    loss = loss_fn(y_pred, y)\n",
        "    train_loss += loss # accumlate the loss per batch\n",
        "\n",
        "    # 3. Optimizer zero grad\n",
        "    optimizer.zero_grad()\n",
        "\n",
        "    # 4. Loss backward\n",
        "    loss.backward()\n",
        "\n",
        "    # 5. Optimizer step\n",
        "    # Note we are optimising our models parameter per batch\n",
        "    optimizer.step()\n",
        "\n",
        "    # Print out what's happening\n",
        "    if batch % 400 == 0:\n",
        "      print(f\"Looked at {batch * len(X)}/{len(train_dataloader.dataset)} samples.\")\n",
        "\n",
        "  # Divide total train loss by length of train dataloader\n",
        "  train_loss /= len(train_dataloader)\n",
        "\n",
        "  ### Testing\n",
        "  test_loss, test_acc = 0, 0\n",
        "  model_0.eval() # Set the model into evaluation mode\n",
        "  with torch.inference_mode():\n",
        "    for X_test, y_test in test_dataloader:\n",
        "      # 1. Forward pass\n",
        "      test_pred = model_0(X_test)\n",
        "\n",
        "      # 2. Calculate loss (accumulatively)\n",
        "      test_loss += loss_fn(test_pred, y_test)\n",
        "\n",
        "      # 3. Calculate the accuracy\n",
        "      test_acc += accuracy_fn(y_true=y_test,\n",
        "                              y_pred=test_pred.argmax(dim=1))\n",
        "\n",
        "    # calculate the test loss average per batch\n",
        "    test_loss /= len(test_dataloader)\n",
        "\n",
        "    # calculate the test acc average per batch\n",
        "    test_acc /= len(test_dataloader)\n",
        "\n",
        "  # Print out what's happening\n",
        "  print(f\"\\nTrain loss: {train_loss:.4f} | Test loss: {test_loss:.4f}, Test acc: {test_acc:.4f}\")\n",
        "\n",
        "\n",
        "# Calculate training time\n",
        "train_time_end_on_cpu = timer()\n",
        "total_train_time_model_0 = print_train_time(start=train_time_start_on_cpu,\n",
        "                                            end=train_time_end_on_cpu,\n",
        "                                            device=str(next(model_0.parameters()).device))\n"
      ],
      "metadata": {
        "colab": {
          "base_uri": "https://localhost:8080/",
          "height": 535,
          "referenced_widgets": [
            "5c8b522d8ca54614bbc52c7f2d8a3b6f",
            "c0ebd16e72f644b9ae864f85011d7799",
            "a18a8d2082f84f4b88fbbe557b806a37",
            "e0404610cf8b4753a44200ae5fdd53ad",
            "014dd41637064552933b7089335bd6f7",
            "7f2ee9f2f77b4cd3961cd8033b815520",
            "eff74fb00c9742b39b805e2589f60b24",
            "5402862be304461796565e90a0788f5c",
            "fe0371868775410baa21b77da7dfa907",
            "7957c1f351a947e3b53e5329741844e9",
            "985ed144668f4543959068fbcac285a1"
          ]
        },
        "id": "kSqVPK_FYV6M",
        "outputId": "ea419ce3-748a-4ebc-8705-7e9ff018a4a6"
      },
      "execution_count": 25,
      "outputs": [
        {
          "output_type": "display_data",
          "data": {
            "text/plain": [
              "  0%|          | 0/3 [00:00<?, ?it/s]"
            ],
            "application/vnd.jupyter.widget-view+json": {
              "version_major": 2,
              "version_minor": 0,
              "model_id": "5c8b522d8ca54614bbc52c7f2d8a3b6f"
            }
          },
          "metadata": {}
        },
        {
          "output_type": "stream",
          "name": "stdout",
          "text": [
            "Epoch: 0\n",
            "-------\n",
            "Looked at 0/60000 samples.\n",
            "Looked at 12800/60000 samples.\n",
            "Looked at 25600/60000 samples.\n",
            "Looked at 38400/60000 samples.\n",
            "Looked at 51200/60000 samples.\n",
            "\n",
            "Train loss: 0.5904 | Test loss: 0.5102, Test acc: 82.0387\n",
            "Epoch: 1\n",
            "-------\n",
            "Looked at 0/60000 samples.\n",
            "Looked at 12800/60000 samples.\n",
            "Looked at 25600/60000 samples.\n",
            "Looked at 38400/60000 samples.\n",
            "Looked at 51200/60000 samples.\n",
            "\n",
            "Train loss: 0.4743 | Test loss: 0.5268, Test acc: 81.6793\n",
            "Epoch: 2\n",
            "-------\n",
            "Looked at 0/60000 samples.\n",
            "Looked at 12800/60000 samples.\n",
            "Looked at 25600/60000 samples.\n",
            "Looked at 38400/60000 samples.\n",
            "Looked at 51200/60000 samples.\n",
            "\n",
            "Train loss: 0.4537 | Test loss: 0.5126, Test acc: 82.9972\n",
            "Train time on cpu: 29.958 seconds\n"
          ]
        }
      ]
    },
    {
      "cell_type": "markdown",
      "source": [
        "## 4. Make predictions and get Model 0 results\n"
      ],
      "metadata": {
        "id": "ogVtxJsn0iBh"
      }
    },
    {
      "cell_type": "code",
      "source": [
        "torch.manual_seed(42)\n",
        "def eval_model(model: torch.nn.Module,\n",
        "               data_loader: torch.utils.data.DataLoader,\n",
        "               loss_fn: torch.nn.Module,\n",
        "               accuracy_fn):\n",
        "  \"\"\"Returns a dictionary containing the results of model predictions on data_loader\"\"\"\n",
        "  loss, acc = 0, 0\n",
        "  model.eval() # set it in evaluation mode\n",
        "  with torch.inference_mode():\n",
        "    for X, y in tqdm(data_loader):\n",
        "      # Forward pass - make predictions\n",
        "      y_pred = model(X)\n",
        "\n",
        "      # Calculate and accumulate the loss and accuracy values per batch\n",
        "      loss += loss_fn(y_pred, y)\n",
        "      acc += accuracy_fn(y_true=y,\n",
        "                         y_pred=y_pred.argmax(dim=1))\n",
        "\n",
        "    # Find the average loss and accuracy values\n",
        "    loss /= len(data_loader)\n",
        "    acc /= len(data_loader)\n",
        "\n",
        "  return {\"model_name\": model.__class__.__name__,\n",
        "          \"model_loss\": loss.item(),\n",
        "          \"model_acc\": acc}"
      ],
      "metadata": {
        "id": "xQZxIQnAo6Z5"
      },
      "execution_count": 26,
      "outputs": []
    },
    {
      "cell_type": "code",
      "source": [
        "# Calculate model 0 results on test dataset\n",
        "model_0_results = eval_model(model=model_0,\n",
        "                             data_loader=test_dataloader,\n",
        "                             loss_fn=loss_fn,\n",
        "                             accuracy_fn=accuracy_fn)\n",
        "model_0_results"
      ],
      "metadata": {
        "colab": {
          "base_uri": "https://localhost:8080/",
          "height": 101,
          "referenced_widgets": [
            "2fa9bc8aeeb14d829d7523ca17bf4599",
            "e57bc6eeb0394d24a8d8f3d9166863d0",
            "d65a142cb19c40188a2cbee2abe3b923",
            "3da2115e9d7d4768aac91ecd7a607802",
            "311a8f847180497d8640f55bc667b5ea",
            "5595435555c1425ea89237342010f355",
            "310c457a7dd34eb380aba19c5acd5bd1",
            "95450dbce33d4595a2a4e89a8b0630a4",
            "76f973d524ae4ab2a314a56a86886f35",
            "253afa0cdef547dbaf7c19bb81640eb6",
            "ef7584a129ae432ba336cd1864d3f308"
          ]
        },
        "id": "TDl9W-DlnxmS",
        "outputId": "bac1e682-f751-4c0f-f009-5ffb21308f65"
      },
      "execution_count": 27,
      "outputs": [
        {
          "output_type": "display_data",
          "data": {
            "text/plain": [
              "  0%|          | 0/313 [00:00<?, ?it/s]"
            ],
            "application/vnd.jupyter.widget-view+json": {
              "version_major": 2,
              "version_minor": 0,
              "model_id": "2fa9bc8aeeb14d829d7523ca17bf4599"
            }
          },
          "metadata": {}
        },
        {
          "output_type": "execute_result",
          "data": {
            "text/plain": [
              "{'model_name': 'FashionMNISTModelV0',\n",
              " 'model_loss': 0.512529730796814,\n",
              " 'model_acc': 83.00718849840256}"
            ]
          },
          "metadata": {},
          "execution_count": 27
        }
      ]
    },
    {
      "cell_type": "markdown",
      "source": [
        "## 5. Setup device agnostic-code (for using a GPU if there is one)"
      ],
      "metadata": {
        "id": "TvVcXSbKnSIC"
      }
    },
    {
      "cell_type": "code",
      "source": [
        "\n",
        "# Setup device agnostic code\n",
        "device = \"cuda\" if torch.cuda.is_available() else \"cpu\"\n",
        "device"
      ],
      "metadata": {
        "colab": {
          "base_uri": "https://localhost:8080/",
          "height": 35
        },
        "id": "vlXpZxX2piqd",
        "outputId": "e8062b01-8457-4ef6-b63e-92dda21338e9"
      },
      "execution_count": 28,
      "outputs": [
        {
          "output_type": "execute_result",
          "data": {
            "text/plain": [
              "'cuda'"
            ],
            "application/vnd.google.colaboratory.intrinsic+json": {
              "type": "string"
            }
          },
          "metadata": {},
          "execution_count": 28
        }
      ]
    },
    {
      "cell_type": "markdown",
      "source": [
        "## 6. Model 1: Building a better model with non-linearity"
      ],
      "metadata": {
        "id": "l9gPW2WDsifh"
      }
    },
    {
      "cell_type": "code",
      "source": [
        "# Create a model with non-linear and linear_layers\n",
        "class FashionMNISTModelV1(nn.Module):\n",
        "  def __init__(self,\n",
        "               input_shape: int,\n",
        "               hidden_units: int,\n",
        "               output_shape: int):\n",
        "    super().__init__()\n",
        "    self.layer_stack = nn.Sequential(\n",
        "        nn.Flatten(), # flatten inputs into a single vector\n",
        "        nn.Linear(in_features=input_shape,\n",
        "                  out_features=hidden_units),\n",
        "        nn.ReLU(),\n",
        "        nn.Linear(in_features=hidden_units,\n",
        "                  out_features=output_shape),\n",
        "        nn.ReLU(),\n",
        "\n",
        "    )\n",
        "\n",
        "  def forward(self, x: torch.Tensor):\n",
        "    return self.layer_stack(x)\n"
      ],
      "metadata": {
        "id": "2eO-7bK0sj1s"
      },
      "execution_count": 29,
      "outputs": []
    },
    {
      "cell_type": "code",
      "source": [
        "# Create an instance of model_1\n",
        "torch.manual_seed(42)\n",
        "model_1 = FashionMNISTModelV1(input_shape=784, # this is the output of flatten after our 28*28 image goes in\n",
        "                              hidden_units=10, # num of units/neuron in the hidden layer\n",
        "                              output_shape=len(class_names)).to(device) # send to GPU if available"
      ],
      "metadata": {
        "id": "uo_h4ySNsizc"
      },
      "execution_count": 30,
      "outputs": []
    },
    {
      "cell_type": "code",
      "source": [
        "next(model_1.parameters()).device"
      ],
      "metadata": {
        "colab": {
          "base_uri": "https://localhost:8080/"
        },
        "id": "I_Ta85hIsi8H",
        "outputId": "e4f0a424-884b-4229-cbca-c46d160bd3c4"
      },
      "execution_count": 31,
      "outputs": [
        {
          "output_type": "execute_result",
          "data": {
            "text/plain": [
              "device(type='cuda', index=0)"
            ]
          },
          "metadata": {},
          "execution_count": 31
        }
      ]
    },
    {
      "cell_type": "markdown",
      "source": [
        "### 6.1 Setup loss, optimizer and evaluation metrics"
      ],
      "metadata": {
        "id": "6z9Znyquopwm"
      }
    },
    {
      "cell_type": "code",
      "source": [
        "from helper_functions import accuracy_fn\n",
        "\n",
        "# Create a loss function and optimiser for model_1\n",
        "loss_fn = nn.CrossEntropyLoss() # calculates or measures how *wrong* our model is\n",
        "\n",
        "# An optimizer updates the model's parameters to reduce the loss\n",
        "optimizer = torch.optim.SGD(params=model_1.parameters(),\n",
        "                            lr=0.1)"
      ],
      "metadata": {
        "id": "VNiOS0qHsjCt"
      },
      "execution_count": 32,
      "outputs": []
    },
    {
      "cell_type": "markdown",
      "source": [
        "### 6.2 Create functions for training and evaluation/testing loops\n",
        "\n",
        "* Create `train_step()` for training loop\n",
        "* Create `test_step()` for test loop"
      ],
      "metadata": {
        "id": "o21RVgJQpJpp"
      }
    },
    {
      "cell_type": "code",
      "source": [
        "# Creating a function of training step\n",
        "\n",
        "def train_step(model: torch.nn.Module,\n",
        "                data_loader: torch.utils.data.DataLoader,\n",
        "                loss_fn: torch.nn.Module,\n",
        "                optimizer: torch.nn.Module,\n",
        "                accuracy_fn,\n",
        "                device: torch.device = device):\n",
        "  \"\"\" Performs training with model trying to learn on data_loader.\"\"\"\n",
        "\n",
        "  train_loss = 0\n",
        "  train_acc = 0\n",
        "\n",
        "  # set it into training mode\n",
        "  model.train()\n",
        "\n",
        "  # Add a loop to loop through the training batches\n",
        "  for batch, (X,y) in enumerate(data_loader): # X=image, y=label\n",
        "    # Put data on target device\n",
        "    X, y = X.to(device), y.to(device)\n",
        "\n",
        "    # 1. Forward pass\n",
        "    y_pred = model(X) # outputs raw logits\n",
        "\n",
        "    # 2. Calculate loss and accuracy (per batch)\n",
        "    loss = loss_fn(y_pred, y)\n",
        "    train_loss += loss # accumlate the loss per batch\n",
        "    train_acc += accuracy_fn(y_true=y,\n",
        "                              y_pred=y_pred.argmax(dim=1) # raw logits -> prediction labels\n",
        "                              )\n",
        "\n",
        "    # 3. Optimizer zero grad\n",
        "    optimizer.zero_grad()\n",
        "\n",
        "    # 4. Loss backward\n",
        "    loss.backward()\n",
        "\n",
        "    # 5. Optimizer step\n",
        "    # Note: we are optimising our models parameter per batch\n",
        "    optimizer.step()\n",
        "\n",
        "  # Divide total train loss and acc by length of train dataloader\n",
        "  train_loss /= len(data_loader)\n",
        "  train_acc /= len(data_loader)\n",
        "  print(f\"\\nTraining loss: {train_loss:.5f} | Training accuracy: {train_acc:.2f}%\\n\")"
      ],
      "metadata": {
        "id": "xeh57QW5sjGo"
      },
      "execution_count": 33,
      "outputs": []
    },
    {
      "cell_type": "code",
      "source": [
        "# Create a function for test step\n",
        "\n",
        "def test_step(model: torch.nn.Module,\n",
        "              data_loader: torch.utils.data.DataLoader,\n",
        "              loss_fn: torch.nn.Module,\n",
        "              accuracy_fn,\n",
        "              device: torch.device = device\n",
        "              ):\n",
        "  \"\"\"Performs testing with model on test data_loader\"\"\"\n",
        "  test_loss, test_acc = 0, 0\n",
        "  model.eval() # Put the model into evaluation mode\n",
        "\n",
        "  # Turn on inference mode context manager\n",
        "  with torch.inference_mode():\n",
        "    for X, y in data_loader:\n",
        "      # Set the device on the data\n",
        "      X, y = X.to(device), y.to(device)\n",
        "\n",
        "      # 1. Forward pass\n",
        "      test_pred = model(X)\n",
        "\n",
        "      # 2. Calculate loss (accumulatively)\n",
        "      test_loss += loss_fn(test_pred, y)\n",
        "\n",
        "      # 3. Calculate the accuracy\n",
        "      test_acc += accuracy_fn(y_true=y,\n",
        "                              y_pred=test_pred.argmax(dim=1))\n",
        "\n",
        "    # calculate the test loss and accuracy average per batch\n",
        "    test_loss /= len(test_dataloader)\n",
        "    test_acc /= len(test_dataloader)\n",
        "    # Print out what's happening\n",
        "    print(f\"\\nTesting loss: {test_loss:.5f}, Testing accuracy: {test_acc:.2f}%\\n\")"
      ],
      "metadata": {
        "id": "Mc3D46qisjJb"
      },
      "execution_count": 34,
      "outputs": []
    },
    {
      "cell_type": "markdown",
      "source": [
        "### 6.3 Train and test model_1 using the newly defined methods"
      ],
      "metadata": {
        "id": "YhEnNqJusjMc"
      }
    },
    {
      "cell_type": "code",
      "source": [
        "# Train and test model_1\n",
        "\n",
        "# start by setting the manual seed\n",
        "torch.manual_seed(42)\n",
        "\n",
        "# Measure time\n",
        "from timeit import default_timer as timer\n",
        "train_time_start_on_gpu = timer()\n",
        "\n",
        "# Set epochs\n",
        "epochs = 3\n",
        "\n",
        "# Create an optimization and evaluation loop using `train_step()` and `test_step`\n",
        "for epoch in tqdm(range(epochs)):\n",
        "  print(f\"Epoch: {epoch}\\n--------\")\n",
        "  train_step(model=model_1,\n",
        "             data_loader=train_dataloader,\n",
        "             loss_fn=loss_fn,\n",
        "             optimizer=optimizer,\n",
        "             accuracy_fn=accuracy_fn,\n",
        "             device=device)\n",
        "  test_step(model=model_1,\n",
        "            data_loader=test_dataloader,\n",
        "            loss_fn=loss_fn,\n",
        "            accuracy_fn=accuracy_fn,\n",
        "            device=device)\n",
        "\n",
        "train_time_end_on_gpu = timer()\n",
        "\n",
        "total_train_time_model_1 =  print_train_time(start=train_time_start_on_gpu,\n",
        "                                             end=train_time_end_on_gpu,\n",
        "                                             device=device)\n"
      ],
      "metadata": {
        "colab": {
          "base_uri": "https://localhost:8080/",
          "height": 483,
          "referenced_widgets": [
            "1b514fc5a0864e61b53d9fa7604dc508",
            "404b1f12e47949d9a697e12dba46d35d",
            "3b50b72abdc74c7880ed599c82374482",
            "e08dac21b9894d6d9ade1b5d201b8f93",
            "5b41e43f234243e6a8f901d7f09dd666",
            "7aa04d9a04a9425789fdd26bbc23acbf",
            "1f27e5cba08143a6984ff512449d7ef5",
            "fb6bc48c1f634578877ebf3d4c2a806f",
            "a937584e75ed4c3a8c2cf3b2e2aa4f2c",
            "9aa388599770496a8fcad08613ed95b1",
            "3733f8f158464d3398153711f437da81"
          ]
        },
        "id": "DoUieZ2qsjPE",
        "outputId": "e30e75aa-83c9-48fb-8705-c92bf69bb45c"
      },
      "execution_count": 35,
      "outputs": [
        {
          "output_type": "display_data",
          "data": {
            "text/plain": [
              "  0%|          | 0/3 [00:00<?, ?it/s]"
            ],
            "application/vnd.jupyter.widget-view+json": {
              "version_major": 2,
              "version_minor": 0,
              "model_id": "1b514fc5a0864e61b53d9fa7604dc508"
            }
          },
          "metadata": {}
        },
        {
          "output_type": "stream",
          "name": "stdout",
          "text": [
            "Epoch: 0\n",
            "--------\n",
            "\n",
            "Training loss: 1.09199 | Training accuracy: 61.34%\n",
            "\n",
            "\n",
            "Testing loss: 0.95690, Testing accuracy: 64.98%\n",
            "\n",
            "Epoch: 1\n",
            "--------\n",
            "\n",
            "Training loss: 0.73779 | Training accuracy: 73.69%\n",
            "\n",
            "\n",
            "Testing loss: 0.72388, Testing accuracy: 74.21%\n",
            "\n",
            "Epoch: 2\n",
            "--------\n",
            "\n",
            "Training loss: 0.66776 | Training accuracy: 76.08%\n",
            "\n",
            "\n",
            "Testing loss: 0.68751, Testing accuracy: 75.64%\n",
            "\n",
            "Train time on cuda: 31.189 seconds\n"
          ]
        }
      ]
    },
    {
      "cell_type": "markdown",
      "source": [
        "Sometimes depending on your data/h/w you might find that your model trains faster on CPU than GPU.\n",
        "\n",
        "See this excellent article as a resource:\n",
        "https://horace.io/brrr_intro.html"
      ],
      "metadata": {
        "id": "HbAjfXwHsjR3"
      }
    },
    {
      "cell_type": "code",
      "source": [
        "\n",
        "# rewriting `eval_model` to be device agnostic\n",
        "torch.manual_seed(42)\n",
        "def eval_model(model: torch.nn.Module,\n",
        "               data_loader: torch.utils.data.DataLoader,\n",
        "               loss_fn: torch.nn.Module,\n",
        "               accuracy_fn,\n",
        "               device: torch.device = device):\n",
        "  \"\"\"Returns a dictionary containing the results of model predictions on data_loader\"\"\"\n",
        "  loss, acc = 0, 0\n",
        "  model.eval() # set it in evaluation mode\n",
        "  with torch.inference_mode():\n",
        "    for X, y in tqdm(data_loader):\n",
        "      # Make our data device agnostic\n",
        "      X, y = X.to(device), y.to(device)\n",
        "\n",
        "      # Forward pass - make predictions\n",
        "      y_pred = model(X)\n",
        "\n",
        "      # Calculate and accumulate the loss and accuracy values per batch\n",
        "      loss += loss_fn(y_pred, y)\n",
        "      acc += accuracy_fn(y_true=y,\n",
        "                         y_pred=y_pred.argmax(dim=1))\n",
        "\n",
        "    # Find the average loss and accuracy values\n",
        "    loss /= len(data_loader)\n",
        "    acc /= len(data_loader)\n",
        "\n",
        "  return {\"model_name\": model.__class__.__name__,\n",
        "          \"model_loss\": loss.item(),\n",
        "          \"model_acc\": acc}"
      ],
      "metadata": {
        "id": "PYJZrq0u5onH"
      },
      "execution_count": 36,
      "outputs": []
    },
    {
      "cell_type": "code",
      "source": [
        "# Get model_1 results dictionary\n",
        "model_1_results = eval_model(model=model_1,\n",
        "                             data_loader=test_dataloader,\n",
        "                             loss_fn=loss_fn,\n",
        "                             accuracy_fn=accuracy_fn,\n",
        "                             device=device)"
      ],
      "metadata": {
        "colab": {
          "base_uri": "https://localhost:8080/",
          "height": 49,
          "referenced_widgets": [
            "7d320b95d1de4b319c0fb148ceb427a1",
            "79abc70376084ab38028857f13d8c7db",
            "65a3ce8b90b641bf976a4f405b7332cb",
            "5d9a53c19ed44f14b327fd9e883d8998",
            "1e6576bed03a4ee2aaa97742bc7f533e",
            "e7226e047e1d4656b46e322a68a65a2b",
            "af5609e2e2e44c9293f8b237f5068b18",
            "e9cbc5d6e4a84015aff92ae9261d76f5",
            "38a701e77b284bbe9b87f63d3a390f04",
            "917a56a0097c48968d8e040c8053d354",
            "2963c7efa31b48fbb69efd733e78dcfb"
          ]
        },
        "id": "Jw42BPSdsjUN",
        "outputId": "5cf482c8-4af8-4ab7-f701-d111500928dd"
      },
      "execution_count": 37,
      "outputs": [
        {
          "output_type": "display_data",
          "data": {
            "text/plain": [
              "  0%|          | 0/313 [00:00<?, ?it/s]"
            ],
            "application/vnd.jupyter.widget-view+json": {
              "version_major": 2,
              "version_minor": 0,
              "model_id": "7d320b95d1de4b319c0fb148ceb427a1"
            }
          },
          "metadata": {}
        }
      ]
    },
    {
      "cell_type": "code",
      "source": [
        "model_1_results, model_0_results"
      ],
      "metadata": {
        "colab": {
          "base_uri": "https://localhost:8080/"
        },
        "id": "1HN_gSDF58xr",
        "outputId": "01d79817-8604-47c4-d1de-d5c281d7b955"
      },
      "execution_count": 38,
      "outputs": [
        {
          "output_type": "execute_result",
          "data": {
            "text/plain": [
              "({'model_name': 'FashionMNISTModelV1',\n",
              "  'model_loss': 0.6881523728370667,\n",
              "  'model_acc': 75.61900958466454},\n",
              " {'model_name': 'FashionMNISTModelV0',\n",
              "  'model_loss': 0.512529730796814,\n",
              "  'model_acc': 83.00718849840256})"
            ]
          },
          "metadata": {},
          "execution_count": 38
        }
      ]
    },
    {
      "cell_type": "markdown",
      "source": [
        "## Model 2: Building a Convolutional Neural Network (CNN)\n",
        "\n",
        "CNN's are also known as **ConvNets**\n",
        "CNN's are also known for finding patterns in visual data.\n",
        "\n",
        "To find out what's happening inside a CNN, see this website: https://poloclub.github.io/cnn-explainer/"
      ],
      "metadata": {
        "id": "MYsob6ElEDYw"
      }
    },
    {
      "cell_type": "code",
      "source": [
        "# Create a CNN\n",
        "class FashionMNISTModelV2(nn.Module):\n",
        "  \"\"\"\n",
        "  Model architecture that replicates the Tiny VGG\n",
        "  model from CNN explainer website\n",
        "  \"\"\"\n",
        "  def __init__(self,\n",
        "               input_shape: int,\n",
        "               hidden_units: int,\n",
        "               output_shape: int):\n",
        "    super().__init__()\n",
        "    # A typical CNN architecture is composed of \"blocks\"\n",
        "    # A block is composed of one or more layers\n",
        "    self.conv_block_1 = nn.Sequential(\n",
        "        # `kernel_size`, `stride`, and `padding` are hyperparameters which are values that we set ourselves\n",
        "        nn.Conv2d(in_channels=input_shape,\n",
        "                  out_channels=hidden_units,\n",
        "                  kernel_size=3,\n",
        "                  stride=1,\n",
        "                  padding=1),\n",
        "        nn.ReLU(),\n",
        "        nn.Conv2d(in_channels=hidden_units,\n",
        "                  out_channels=hidden_units,\n",
        "                  kernel_size=3,\n",
        "                  stride=1,\n",
        "                  padding=1),\n",
        "        nn.ReLU(),\n",
        "        nn.MaxPool2d(kernel_size=2)\n",
        "    )\n",
        "    self.conv_block_2 = nn.Sequential(\n",
        "      nn.Conv2d(in_channels=hidden_units,\n",
        "                out_channels=hidden_units,\n",
        "                kernel_size=3,\n",
        "                stride=1,\n",
        "                padding=1),\n",
        "      nn.ReLU(),\n",
        "      nn.Conv2d(in_channels=hidden_units,\n",
        "                out_channels=hidden_units,\n",
        "                kernel_size=3,\n",
        "                stride=1,\n",
        "                padding=1),\n",
        "      nn.ReLU(),\n",
        "      nn.MaxPool2d(kernel_size=2)\n",
        "    )\n",
        "    # this is the output layer\n",
        "    self.classifier = nn.Sequential(\n",
        "        nn.Flatten(),\n",
        "        nn.Linear(in_features=hidden_units * 7 * 7,\n",
        "                  out_features=output_shape)\n",
        "    )\n",
        "\n",
        "  def forward(self, x):\n",
        "    x = self.conv_block_1(x)\n",
        "    # print(f\"Output shape of conv_block_1: {x.shape}\")\n",
        "    x = self.conv_block_2(x)\n",
        "    # print(f\"Output shape of conv_block_2: {x.shape}\")\n",
        "    x = self.classifier(x)\n",
        "    # print(f\"Output shape of classifier: {x.shape}\")\n",
        "    return x"
      ],
      "metadata": {
        "id": "TTg2y0ubEOsj"
      },
      "execution_count": 39,
      "outputs": []
    },
    {
      "cell_type": "code",
      "source": [
        "# Instantiate an instance of v2 cnn model\n",
        "torch.manual_seed(42)\n",
        "\n",
        "model_2 = FashionMNISTModelV2(input_shape=1,\n",
        "                              hidden_units=10,\n",
        "                              output_shape=len(class_names)).to(device)"
      ],
      "metadata": {
        "id": "HVkY323QEO2Y"
      },
      "execution_count": 40,
      "outputs": []
    },
    {
      "cell_type": "code",
      "source": [
        "print(f\"image shape: {image.shape}\")\n",
        "print(f\"image.squeeze().shape: {image.squeeze().shape}\")\n",
        "print(f\"image.unsqueeze().shape: {image.unsqueeze(0).shape}\")\n",
        "print(f\"image shape: {image.shape}\")"
      ],
      "metadata": {
        "colab": {
          "base_uri": "https://localhost:8080/"
        },
        "id": "EmiHTgbj4Tct",
        "outputId": "a1791af2-e574-44fb-aa83-beff667fa02a"
      },
      "execution_count": 41,
      "outputs": [
        {
          "output_type": "stream",
          "name": "stdout",
          "text": [
            "image shape: torch.Size([1, 28, 28])\n",
            "image.squeeze().shape: torch.Size([28, 28])\n",
            "image.unsqueeze().shape: torch.Size([1, 1, 28, 28])\n",
            "image shape: torch.Size([1, 28, 28])\n"
          ]
        }
      ]
    },
    {
      "cell_type": "code",
      "source": [
        "print(f\"image shape: {image.shape}\")\n",
        "image = image.to(device)\n",
        "plt.imshow(image.squeeze().cpu(), cmap=\"gray\")\n",
        "print(f\"image shape: {image.shape}\")"
      ],
      "metadata": {
        "colab": {
          "base_uri": "https://localhost:8080/",
          "height": 465
        },
        "id": "Yojng_X1xXCl",
        "outputId": "290aa0f9-ee66-4ae5-ab0f-a931f6bc9df4"
      },
      "execution_count": 42,
      "outputs": [
        {
          "output_type": "stream",
          "name": "stdout",
          "text": [
            "image shape: torch.Size([1, 28, 28])\n",
            "image shape: torch.Size([1, 28, 28])\n"
          ]
        },
        {
          "output_type": "display_data",
          "data": {
            "text/plain": [
              "<Figure size 640x480 with 1 Axes>"
            ],
            "image/png": "[encoded data removed]"
          },
          "metadata": {}
        }
      ]
    },
    {
      "cell_type": "code",
      "source": [
        "print(f\"image.shape is: {image.shape}\")\n",
        "print(f\"image.unsqueeze().shape: {image.unsqueeze(0).shape}\")\n",
        "model_2(image.unsqueeze(0))\n",
        "print(f\"image.shape is: {image.shape}\")\n"
      ],
      "metadata": {
        "colab": {
          "base_uri": "https://localhost:8080/"
        },
        "id": "fA3ORJOayxa_",
        "outputId": "d35f436a-fc2d-4523-ed30-8b964a50edf5"
      },
      "execution_count": 43,
      "outputs": [
        {
          "output_type": "stream",
          "name": "stdout",
          "text": [
            "image.shape is: torch.Size([1, 28, 28])\n",
            "image.unsqueeze().shape: torch.Size([1, 1, 28, 28])\n",
            "image.shape is: torch.Size([1, 28, 28])\n"
          ]
        }
      ]
    },
    {
      "cell_type": "code",
      "source": [
        "rand_image_tensor = torch.randn(size=(1, 28, 28))\n",
        "rand_image_tensor.shape"
      ],
      "metadata": {
        "colab": {
          "base_uri": "https://localhost:8080/"
        },
        "id": "5stzRNZH0sm5",
        "outputId": "c3c77eda-329f-4a98-fc6e-ab5c1d434d94"
      },
      "execution_count": 44,
      "outputs": [
        {
          "output_type": "execute_result",
          "data": {
            "text/plain": [
              "torch.Size([1, 28, 28])"
            ]
          },
          "metadata": {},
          "execution_count": 44
        }
      ]
    },
    {
      "cell_type": "code",
      "source": [
        "# Pass the image through model\n",
        "model_2(rand_image_tensor.unsqueeze(0).to(device))"
      ],
      "metadata": {
        "colab": {
          "base_uri": "https://localhost:8080/"
        },
        "id": "yYxD8PgK0skr",
        "outputId": "77f0ed80-4e79-4f22-ca5f-0484f4e14c2f"
      },
      "execution_count": 45,
      "outputs": [
        {
          "output_type": "execute_result",
          "data": {
            "text/plain": [
              "tensor([[ 0.0366, -0.0940,  0.0686, -0.0485,  0.0068,  0.0290,  0.0132,  0.0084,\n",
              "         -0.0030, -0.0185]], device='cuda:0', grad_fn=<AddmmBackward0>)"
            ]
          },
          "metadata": {},
          "execution_count": 45
        }
      ]
    },
    {
      "cell_type": "markdown",
      "source": [
        "### 7.1. Steppng through `nn.Conv2d()`\n",
        "\n",
        "[Conv2d docs](https://pytorch.org/docs/stable/generated/torch.nn.Conv2d.html)"
      ],
      "metadata": {
        "id": "-EMJrcdQEO7C"
      }
    },
    {
      "cell_type": "code",
      "source": [
        "torch.manual_seed(42)\n",
        "\n",
        "# Create a batch of images\n",
        "images = torch.randn(size=(32, 3, 64, 64)) # (batch_num, num_channels, height, width)\n",
        "first_image = images[0]\n",
        "print(f\"images tensor shape: {images.shape}\")\n",
        "print(f\"first image tensor shape: {first_image.shape}\")\n",
        "print(f\"first image:\\n{first_image}\")"
      ],
      "metadata": {
        "colab": {
          "base_uri": "https://localhost:8080/"
        },
        "id": "svxZEc48EO91",
        "outputId": "8a8a5b57-69cd-45be-e8e0-dcb54e41585c"
      },
      "execution_count": 46,
      "outputs": [
        {
          "output_type": "stream",
          "name": "stdout",
          "text": [
            "images tensor shape: torch.Size([32, 3, 64, 64])\n",
            "first image tensor shape: torch.Size([3, 64, 64])\n",
            "first image:\n",
            "tensor([[[ 1.9269,  1.4873,  0.9007,  ...,  1.8446, -1.1845,  1.3835],\n",
            "         [ 1.4451,  0.8564,  2.2181,  ...,  0.3399,  0.7200,  0.4114],\n",
            "         [ 1.9312,  1.0119, -1.4364,  ..., -0.5558,  0.7043,  0.7099],\n",
            "         ...,\n",
            "         [-0.5610, -0.4830,  0.4770,  ..., -0.2713, -0.9537, -0.6737],\n",
            "         [ 0.3076, -0.1277,  0.0366,  ..., -2.0060,  0.2824, -0.8111],\n",
            "         [-1.5486,  0.0485, -0.7712,  ..., -0.1403,  0.9416, -0.0118]],\n",
            "\n",
            "        [[-0.5197,  1.8524,  1.8365,  ...,  0.8935, -1.5114, -0.8515],\n",
            "         [ 2.0818,  1.0677, -1.4277,  ...,  1.6612, -2.6223, -0.4319],\n",
            "         [-0.1010, -0.4388, -1.9775,  ...,  0.2106,  0.2536, -0.7318],\n",
            "         ...,\n",
            "         [ 0.2779,  0.7342, -0.3736,  ..., -0.4601,  0.1815,  0.1850],\n",
            "         [ 0.7205, -0.2833,  0.0937,  ..., -0.1002, -2.3609,  2.2465],\n",
            "         [-1.3242, -0.1973,  0.2920,  ...,  0.5409,  0.6940,  1.8563]],\n",
            "\n",
            "        [[-0.7978,  1.0261,  1.1465,  ...,  1.2134,  0.9354, -0.0780],\n",
            "         [-1.4647, -1.9571,  0.1017,  ..., -1.9986, -0.7409,  0.7011],\n",
            "         [-1.3938,  0.8466, -1.7191,  ..., -1.1867,  0.1320,  0.3407],\n",
            "         ...,\n",
            "         [ 0.8206, -0.3745,  1.2499,  ..., -0.0676,  0.0385,  0.6335],\n",
            "         [-0.5589, -0.3393,  0.2347,  ...,  2.1181,  2.4569,  1.3083],\n",
            "         [-0.4092,  1.5199,  0.2401,  ..., -0.2558,  0.7870,  0.9924]]])\n"
          ]
        }
      ]
    },
    {
      "cell_type": "code",
      "source": [
        "torch.__version__"
      ],
      "metadata": {
        "colab": {
          "base_uri": "https://localhost:8080/",
          "height": 35
        },
        "id": "8z3udH320q2g",
        "outputId": "13eaffd7-7186-444f-ec93-0e261d807a48"
      },
      "execution_count": 47,
      "outputs": [
        {
          "output_type": "execute_result",
          "data": {
            "text/plain": [
              "'2.5.1+cu121'"
            ],
            "application/vnd.google.colaboratory.intrinsic+json": {
              "type": "string"
            }
          },
          "metadata": {},
          "execution_count": 47
        }
      ]
    },
    {
      "cell_type": "code",
      "source": [
        "# Create a single conv2d layer\n",
        "conv_layer = nn.Conv2d(in_channels=3,\n",
        "                       out_channels=10,\n",
        "                       kernel_size=(3,3),\n",
        "                       stride=1,\n",
        "                       padding=0)\n",
        "print(f\"first_image shape: {first_image.shape}\\n\")\n",
        "# Pass the data through the convolutional layer\n",
        "conv_output = conv_layer(first_image)\n",
        "conv_output.shape"
      ],
      "metadata": {
        "colab": {
          "base_uri": "https://localhost:8080/"
        },
        "id": "nWKn7fUrEPAW",
        "outputId": "fe17e4cd-39f8-40a7-d7d0-a73436ebcb46"
      },
      "execution_count": 48,
      "outputs": [
        {
          "output_type": "stream",
          "name": "stdout",
          "text": [
            "first_image shape: torch.Size([3, 64, 64])\n",
            "\n"
          ]
        },
        {
          "output_type": "execute_result",
          "data": {
            "text/plain": [
              "torch.Size([10, 62, 62])"
            ]
          },
          "metadata": {},
          "execution_count": 48
        }
      ]
    },
    {
      "cell_type": "markdown",
      "source": [
        "### 7.2 Stepping through `nn.MaxPool2d()`\n",
        "[docs](https://pytorch.org/docs/stable/generated/torch.nn.MaxPool2d.html#maxpool2d)"
      ],
      "metadata": {
        "id": "IkCmiEzCEPC_"
      }
    },
    {
      "cell_type": "code",
      "source": [
        "first_image.shape"
      ],
      "metadata": {
        "colab": {
          "base_uri": "https://localhost:8080/"
        },
        "id": "3bbS5mUEEPFg",
        "outputId": "b9db8269-5f93-444b-9264-cd4a6ff042a9"
      },
      "execution_count": 49,
      "outputs": [
        {
          "output_type": "execute_result",
          "data": {
            "text/plain": [
              "torch.Size([3, 64, 64])"
            ]
          },
          "metadata": {},
          "execution_count": 49
        }
      ]
    },
    {
      "cell_type": "code",
      "source": [
        "# Print out the original test image without unsqueezed dimension\n",
        "print(f\"Test image original shape: {first_image.shape}\")\n",
        "print(f\"Test image with unsqueezed dimension: {first_image.unsqueeze(dim=0).shape}\")\n",
        "\n",
        "# Create a sample nn.MaxPool2d layer\n",
        "max_pool_layer = nn.MaxPool2d(kernel_size=2)\n",
        "\n",
        "# Pass data through just the conv_layer\n",
        "test_image_through_conv_layer = conv_layer(first_image)\n",
        "print(f\"Shape after going through conv_layer(): {test_image_through_conv_layer.shape}\")\n",
        "\n",
        "# Pass data through max pool layer\n",
        "test_image_through_maxpool_layer = max_pool_layer(test_image_through_conv_layer)\n",
        "print(f\"Shape after going through conv_layer() and max_pool_layer(): {test_image_through_maxpool_layer.shape}\")"
      ],
      "metadata": {
        "colab": {
          "base_uri": "https://localhost:8080/"
        },
        "id": "OExJPfl5EPIF",
        "outputId": "0148e795-f63d-48a9-9775-a4bfb8415cdf"
      },
      "execution_count": 50,
      "outputs": [
        {
          "output_type": "stream",
          "name": "stdout",
          "text": [
            "Test image original shape: torch.Size([3, 64, 64])\n",
            "Test image with unsqueezed dimension: torch.Size([1, 3, 64, 64])\n",
            "Shape after going through conv_layer(): torch.Size([10, 62, 62])\n",
            "Shape after going through conv_layer() and max_pool_layer(): torch.Size([10, 31, 31])\n"
          ]
        }
      ]
    },
    {
      "cell_type": "code",
      "source": [],
      "metadata": {
        "id": "mWVyKAhIEPK9"
      },
      "execution_count": 50,
      "outputs": []
    },
    {
      "cell_type": "code",
      "source": [],
      "metadata": {
        "id": "58bYdYDyEPNd"
      },
      "execution_count": 50,
      "outputs": []
    },
    {
      "cell_type": "code",
      "source": [],
      "metadata": {
        "id": "oAykSq-DEPP1"
      },
      "execution_count": 50,
      "outputs": []
    },
    {
      "cell_type": "markdown",
      "source": [
        "### 7.3 Setup a loss function and optimizer for our CNN `model_2`"
      ],
      "metadata": {
        "id": "i1ADBchgz2qU"
      }
    },
    {
      "cell_type": "code",
      "source": [
        "# Setup loss function/eval metrics/optimizer\n",
        "from helper_functions import accuracy_fn\n",
        "\n",
        "loss_fn = nn.CrossEntropyLoss()\n",
        "optimizer = torch.optim.SGD(params=model_2.parameters(),\n",
        "                            lr=0.1)"
      ],
      "metadata": {
        "id": "Nb70QCbibvfU"
      },
      "execution_count": 51,
      "outputs": []
    },
    {
      "cell_type": "markdown",
      "source": [
        "### 7.4 Training and testing CNN `model_2` using our training and test functions"
      ],
      "metadata": {
        "id": "DWeINfO5clV2"
      }
    },
    {
      "cell_type": "code",
      "source": [
        "torch.manual_seed(42)\n",
        "torch.cuda.manual_seed(42)\n",
        "\n",
        "# Measure time\n",
        "from timeit import default_timer as timer\n",
        "train_time_start_model_2 = timer()\n",
        "\n",
        "# Train and test code\n",
        "epochs = 3\n",
        "\n",
        "for epoch in tqdm(range(epochs)):\n",
        "  print(f\"Epoch: {epoch} \\n---------\")\n",
        "  train_step(model=model_2,\n",
        "             data_loader=train_dataloader,\n",
        "             loss_fn=loss_fn,\n",
        "             optimizer=optimizer,\n",
        "             accuracy_fn=accuracy_fn,\n",
        "             device=device)\n",
        "\n",
        "  test_step(model=model_2,\n",
        "            data_loader=test_dataloader,\n",
        "            loss_fn=loss_fn,\n",
        "            accuracy_fn=accuracy_fn,\n",
        "            device=device)\n",
        "\n",
        "train_time_end_model_2 = timer()\n",
        "total_train_time_model_2 = print_train_time(start=train_time_start_model_2,\n",
        "                                            end=train_time_end_model_2,\n",
        "                                            device=device)"
      ],
      "metadata": {
        "colab": {
          "base_uri": "https://localhost:8080/",
          "height": 483,
          "referenced_widgets": [
            "fabc5dbbe7734a3f9dba32b414d89fcd",
            "6424a48b37b5440493117404cf9ae758",
            "bbca997be8bb4382ba41ace7c9d927d2",
            "dadb32214647456d8404e2126ba19d22",
            "43ce631a9b4749429eb6ecd609b897d9",
            "fa6931d72321401e86c023149af56e90",
            "d4c4ccdc5f0a4d60a5065764d85e654f",
            "5d3d2d1b7adb44268455de56140dfda4",
            "4bf436401e7e42f6bf433966bee70738",
            "e50201d7bd86410f890db88711a028c8",
            "b56b18a3a92a4decad7d05cde13c0816"
          ]
        },
        "id": "o2mtlVgucvgL",
        "outputId": "b9439bbf-f09a-42da-c873-928ac24004d9"
      },
      "execution_count": 52,
      "outputs": [
        {
          "output_type": "display_data",
          "data": {
            "text/plain": [
              "  0%|          | 0/3 [00:00<?, ?it/s]"
            ],
            "application/vnd.jupyter.widget-view+json": {
              "version_major": 2,
              "version_minor": 0,
              "model_id": "fabc5dbbe7734a3f9dba32b414d89fcd"
            }
          },
          "metadata": {}
        },
        {
          "output_type": "stream",
          "name": "stdout",
          "text": [
            "Epoch: 0 \n",
            "---------\n",
            "\n",
            "Training loss: 0.59395 | Training accuracy: 78.44%\n",
            "\n",
            "\n",
            "Testing loss: 0.39985, Testing accuracy: 85.56%\n",
            "\n",
            "Epoch: 1 \n",
            "---------\n",
            "\n",
            "Training loss: 0.35894 | Training accuracy: 87.03%\n",
            "\n",
            "\n",
            "Testing loss: 0.38113, Testing accuracy: 86.39%\n",
            "\n",
            "Epoch: 2 \n",
            "---------\n",
            "\n",
            "Training loss: 0.32303 | Training accuracy: 88.34%\n",
            "\n",
            "\n",
            "Testing loss: 0.34423, Testing accuracy: 87.70%\n",
            "\n",
            "Train time on cuda: 37.479 seconds\n"
          ]
        }
      ]
    },
    {
      "cell_type": "code",
      "source": [
        "# Get model 2 results\n",
        "model_2_results = eval_model(model=model_2,\n",
        "                             data_loader=test_dataloader,\n",
        "                             loss_fn=loss_fn,\n",
        "                             accuracy_fn=accuracy_fn,\n",
        "                             device=device\n",
        ")\n",
        "\n",
        "model_2_results"
      ],
      "metadata": {
        "colab": {
          "base_uri": "https://localhost:8080/",
          "height": 101,
          "referenced_widgets": [
            "a0fec7e8b99548238fddd0b681285667",
            "1967342fec524413b42e6f86a2aa6b64",
            "eb2cd0a6cce546a2af1754014024098a",
            "4f382c2878d044798ba5e04e60a455b7",
            "50eb1e04fcb44512a954a589c52c9ee3",
            "ded4d2b1dd2644faa18a17d4d596c3fc",
            "05ee978adba448589879671909c127e8",
            "fcabce15029840cea1bbc5122ebaf56c",
            "f3d7aca729654b2c83c266e55dd699e9",
            "b1dc7eac13ee40d4be09cfc8d80ee989",
            "e2d87368a70a42128622d99f8b5dfae0"
          ]
        },
        "id": "gMUNESJai2IR",
        "outputId": "b0e41df9-1d85-493c-a204-b7f729ac2b7d"
      },
      "execution_count": 53,
      "outputs": [
        {
          "output_type": "display_data",
          "data": {
            "text/plain": [
              "  0%|          | 0/313 [00:00<?, ?it/s]"
            ],
            "application/vnd.jupyter.widget-view+json": {
              "version_major": 2,
              "version_minor": 0,
              "model_id": "a0fec7e8b99548238fddd0b681285667"
            }
          },
          "metadata": {}
        },
        {
          "output_type": "execute_result",
          "data": {
            "text/plain": [
              "{'model_name': 'FashionMNISTModelV2',\n",
              " 'model_loss': 0.3437938392162323,\n",
              " 'model_acc': 87.70966453674122}"
            ]
          },
          "metadata": {},
          "execution_count": 53
        }
      ]
    },
    {
      "cell_type": "markdown",
      "source": [
        "## 8. Compare model results and training time"
      ],
      "metadata": {
        "id": "iZwkCTQ7jR5l"
      }
    },
    {
      "cell_type": "code",
      "source": [
        "import pandas as pd\n",
        "compare_results = pd.DataFrame([model_0_results,\n",
        "                               model_1_results,\n",
        "                               model_2_results])\n",
        "compare_results"
      ],
      "metadata": {
        "colab": {
          "base_uri": "https://localhost:8080/",
          "height": 143
        },
        "id": "UsQ_2vzUj1sD",
        "outputId": "6ff8f63b-6469-4713-a7d4-2d0b56f2093b"
      },
      "execution_count": 54,
      "outputs": [
        {
          "output_type": "execute_result",
          "data": {
            "text/plain": [
              "            model_name  model_loss  model_acc\n",
              "0  FashionMNISTModelV0    0.512530  83.007188\n",
              "1  FashionMNISTModelV1    0.688152  75.619010\n",
              "2  FashionMNISTModelV2    0.343794  87.709665"
            ],
            "text/html": [
              "\n",
              "  <div id=\"df-85cf2035-e25d-411c-91cd-3791357db6e0\" class=\"colab-df-container\">\n",
              "    <div>\n",
              "<style scoped>\n",
              "    .dataframe tbody tr th:only-of-type {\n",
              "        vertical-align: middle;\n",
              "    }\n",
              "\n",
              "    .dataframe tbody tr th {\n",
              "        vertical-align: top;\n",
              "    }\n",
              "\n",
              "    .dataframe thead th {\n",
              "        text-align: right;\n",
              "    }\n",
              "</style>\n",
              "<table border=\"1\" class=\"dataframe\">\n",
              "  <thead>\n",
              "    <tr style=\"text-align: right;\">\n",
              "      <th></th>\n",
              "      <th>model_name</th>\n",
              "      <th>model_loss</th>\n",
              "      <th>model_acc</th>\n",
              "    </tr>\n",
              "  </thead>\n",
              "  <tbody>\n",
              "    <tr>\n",
              "      <th>0</th>\n",
              "      <td>FashionMNISTModelV0</td>\n",
              "      <td>0.512530</td>\n",
              "      <td>83.007188</td>\n",
              "    </tr>\n",
              "    <tr>\n",
              "      <th>1</th>\n",
              "      <td>FashionMNISTModelV1</td>\n",
              "      <td>0.688152</td>\n",
              "      <td>75.619010</td>\n",
              "    </tr>\n",
              "    <tr>\n",
              "      <th>2</th>\n",
              "      <td>FashionMNISTModelV2</td>\n",
              "      <td>0.343794</td>\n",
              "      <td>87.709665</td>\n",
              "    </tr>\n",
              "  </tbody>\n",
              "</table>\n",
              "</div>\n",
              "    <div class=\"colab-df-buttons\">\n",
              "\n",
              "  <div class=\"colab-df-container\">\n",
              "    <button class=\"colab-df-convert\" onclick=\"convertToInteractive('df-85cf2035-e25d-411c-91cd-3791357db6e0')\"\n",
              "            title=\"Convert this dataframe to an interactive table.\"\n",
              "            style=\"display:none;\">\n",
              "\n",
              "  <svg xmlns=\"http://www.w3.org/2000/svg\" height=\"24px\" viewBox=\"0 -960 960 960\">\n",
              "    <path d=\"M120-120v-720h720v720H120Zm60-500h600v-160H180v160Zm220 220h160v-160H400v160Zm0 220h160v-160H400v160ZM180-400h160v-160H180v160Zm440 0h160v-160H620v160ZM180-180h160v-160H180v160Zm440 0h160v-160H620v160Z\"/>\n",
              "  </svg>\n",
              "    </button>\n",
              "\n",
              "  <style>\n",
              "    .colab-df-container {\n",
              "      display:flex;\n",
              "      gap: 12px;\n",
              "    }\n",
              "\n",
              "    .colab-df-convert {\n",
              "      background-color: #E8F0FE;\n",
              "      border: none;\n",
              "      border-radius: 50%;\n",
              "      cursor: pointer;\n",
              "      display: none;\n",
              "      fill: #1967D2;\n",
              "      height: 32px;\n",
              "      padding: 0 0 0 0;\n",
              "      width: 32px;\n",
              "    }\n",
              "\n",
              "    .colab-df-convert:hover {\n",
              "      background-color: #E2EBFA;\n",
              "      box-shadow: 0px 1px 2px rgba(60, 64, 67, 0.3), 0px 1px 3px 1px rgba(60, 64, 67, 0.15);\n",
              "      fill: #174EA6;\n",
              "    }\n",
              "\n",
              "    .colab-df-buttons div {\n",
              "      margin-bottom: 4px;\n",
              "    }\n",
              "\n",
              "    [theme=dark] .colab-df-convert {\n",
              "      background-color: #3B4455;\n",
              "      fill: #D2E3FC;\n",
              "    }\n",
              "\n",
              "    [theme=dark] .colab-df-convert:hover {\n",
              "      background-color: #434B5C;\n",
              "      box-shadow: 0px 1px 3px 1px rgba(0, 0, 0, 0.15);\n",
              "      filter: drop-shadow(0px 1px 2px rgba(0, 0, 0, 0.3));\n",
              "      fill: #FFFFFF;\n",
              "    }\n",
              "  </style>\n",
              "\n",
              "    <script>\n",
              "      const buttonEl =\n",
              "        document.querySelector('#df-85cf2035-e25d-411c-91cd-3791357db6e0 button.colab-df-convert');\n",
              "      buttonEl.style.display =\n",
              "        google.colab.kernel.accessAllowed ? 'block' : 'none';\n",
              "\n",
              "      async function convertToInteractive(key) {\n",
              "        const element = document.querySelector('#df-85cf2035-e25d-411c-91cd-3791357db6e0');\n",
              "        const dataTable =\n",
              "          await google.colab.kernel.invokeFunction('convertToInteractive',\n",
              "                                                    [key], {});\n",
              "        if (!dataTable) return;\n",
              "\n",
              "        const docLinkHtml = 'Like what you see? Visit the ' +\n",
              "          '<a target=\"_blank\" href=https://colab.research.google.com/notebooks/data_table.ipynb>data table notebook</a>'\n",
              "          + ' to learn more about interactive tables.';\n",
              "        element.innerHTML = '';\n",
              "        dataTable['output_type'] = 'display_data';\n",
              "        await google.colab.output.renderOutput(dataTable, element);\n",
              "        const docLink = document.createElement('div');\n",
              "        docLink.innerHTML = docLinkHtml;\n",
              "        element.appendChild(docLink);\n",
              "      }\n",
              "    </script>\n",
              "  </div>\n",
              "\n",
              "\n",
              "<div id=\"df-37fa848a-44dc-4a1e-a346-ebad90d1c3bd\">\n",
              "  <button class=\"colab-df-quickchart\" onclick=\"quickchart('df-37fa848a-44dc-4a1e-a346-ebad90d1c3bd')\"\n",
              "            title=\"Suggest charts\"\n",
              "            style=\"display:none;\">\n",
              "\n",
              "<svg xmlns=\"http://www.w3.org/2000/svg\" height=\"24px\"viewBox=\"0 0 24 24\"\n",
              "     width=\"24px\">\n",
              "    <g>\n",
              "        <path d=\"M19 3H5c-1.1 0-2 .9-2 2v14c0 1.1.9 2 2 2h14c1.1 0 2-.9 2-2V5c0-1.1-.9-2-2-2zM9 17H7v-7h2v7zm4 0h-2V7h2v10zm4 0h-2v-4h2v4z\"/>\n",
              "    </g>\n",
              "</svg>\n",
              "  </button>\n",
              "\n",
              "<style>\n",
              "  .colab-df-quickchart {\n",
              "      --bg-color: #E8F0FE;\n",
              "      --fill-color: #1967D2;\n",
              "      --hover-bg-color: #E2EBFA;\n",
              "      --hover-fill-color: #174EA6;\n",
              "      --disabled-fill-color: #AAA;\n",
              "      --disabled-bg-color: #DDD;\n",
              "  }\n",
              "\n",
              "  [theme=dark] .colab-df-quickchart {\n",
              "      --bg-color: #3B4455;\n",
              "      --fill-color: #D2E3FC;\n",
              "      --hover-bg-color: #434B5C;\n",
              "      --hover-fill-color: #FFFFFF;\n",
              "      --disabled-bg-color: #3B4455;\n",
              "      --disabled-fill-color: #666;\n",
              "  }\n",
              "\n",
              "  .colab-df-quickchart {\n",
              "    background-color: var(--bg-color);\n",
              "    border: none;\n",
              "    border-radius: 50%;\n",
              "    cursor: pointer;\n",
              "    display: none;\n",
              "    fill: var(--fill-color);\n",
              "    height: 32px;\n",
              "    padding: 0;\n",
              "    width: 32px;\n",
              "  }\n",
              "\n",
              "  .colab-df-quickchart:hover {\n",
              "    background-color: var(--hover-bg-color);\n",
              "    box-shadow: 0 1px 2px rgba(60, 64, 67, 0.3), 0 1px 3px 1px rgba(60, 64, 67, 0.15);\n",
              "    fill: var(--button-hover-fill-color);\n",
              "  }\n",
              "\n",
              "  .colab-df-quickchart-complete:disabled,\n",
              "  .colab-df-quickchart-complete:disabled:hover {\n",
              "    background-color: var(--disabled-bg-color);\n",
              "    fill: var(--disabled-fill-color);\n",
              "    box-shadow: none;\n",
              "  }\n",
              "\n",
              "  .colab-df-spinner {\n",
              "    border: 2px solid var(--fill-color);\n",
              "    border-color: transparent;\n",
              "    border-bottom-color: var(--fill-color);\n",
              "    animation:\n",
              "      spin 1s steps(1) infinite;\n",
              "  }\n",
              "\n",
              "  @keyframes spin {\n",
              "    0% {\n",
              "      border-color: transparent;\n",
              "      border-bottom-color: var(--fill-color);\n",
              "      border-left-color: var(--fill-color);\n",
              "    }\n",
              "    20% {\n",
              "      border-color: transparent;\n",
              "      border-left-color: var(--fill-color);\n",
              "      border-top-color: var(--fill-color);\n",
              "    }\n",
              "    30% {\n",
              "      border-color: transparent;\n",
              "      border-left-color: var(--fill-color);\n",
              "      border-top-color: var(--fill-color);\n",
              "      border-right-color: var(--fill-color);\n",
              "    }\n",
              "    40% {\n",
              "      border-color: transparent;\n",
              "      border-right-color: var(--fill-color);\n",
              "      border-top-color: var(--fill-color);\n",
              "    }\n",
              "    60% {\n",
              "      border-color: transparent;\n",
              "      border-right-color: var(--fill-color);\n",
              "    }\n",
              "    80% {\n",
              "      border-color: transparent;\n",
              "      border-right-color: var(--fill-color);\n",
              "      border-bottom-color: var(--fill-color);\n",
              "    }\n",
              "    90% {\n",
              "      border-color: transparent;\n",
              "      border-bottom-color: var(--fill-color);\n",
              "    }\n",
              "  }\n",
              "</style>\n",
              "\n",
              "  <script>\n",
              "    async function quickchart(key) {\n",
              "      const quickchartButtonEl =\n",
              "        document.querySelector('#' + key + ' button');\n",
              "      quickchartButtonEl.disabled = true;  // To prevent multiple clicks.\n",
              "      quickchartButtonEl.classList.add('colab-df-spinner');\n",
              "      try {\n",
              "        const charts = await google.colab.kernel.invokeFunction(\n",
              "            'suggestCharts', [key], {});\n",
              "      } catch (error) {\n",
              "        console.error('Error during call to suggestCharts:', error);\n",
              "      }\n",
              "      quickchartButtonEl.classList.remove('colab-df-spinner');\n",
              "      quickchartButtonEl.classList.add('colab-df-quickchart-complete');\n",
              "    }\n",
              "    (() => {\n",
              "      let quickchartButtonEl =\n",
              "        document.querySelector('#df-37fa848a-44dc-4a1e-a346-ebad90d1c3bd button');\n",
              "      quickchartButtonEl.style.display =\n",
              "        google.colab.kernel.accessAllowed ? 'block' : 'none';\n",
              "    })();\n",
              "  </script>\n",
              "</div>\n",
              "\n",
              "  <div id=\"id_c9981a2b-f4ce-413e-8894-c792ebbcd6f7\">\n",
              "    <style>\n",
              "      .colab-df-generate {\n",
              "        background-color: #E8F0FE;\n",
              "        border: none;\n",
              "        border-radius: 50%;\n",
              "        cursor: pointer;\n",
              "        display: none;\n",
              "        fill: #1967D2;\n",
              "        height: 32px;\n",
              "        padding: 0 0 0 0;\n",
              "        width: 32px;\n",
              "      }\n",
              "\n",
              "      .colab-df-generate:hover {\n",
              "        background-color: #E2EBFA;\n",
              "        box-shadow: 0px 1px 2px rgba(60, 64, 67, 0.3), 0px 1px 3px 1px rgba(60, 64, 67, 0.15);\n",
              "        fill: #174EA6;\n",
              "      }\n",
              "\n",
              "      [theme=dark] .colab-df-generate {\n",
              "        background-color: #3B4455;\n",
              "        fill: #D2E3FC;\n",
              "      }\n",
              "\n",
              "      [theme=dark] .colab-df-generate:hover {\n",
              "        background-color: #434B5C;\n",
              "        box-shadow: 0px 1px 3px 1px rgba(0, 0, 0, 0.15);\n",
              "        filter: drop-shadow(0px 1px 2px rgba(0, 0, 0, 0.3));\n",
              "        fill: #FFFFFF;\n",
              "      }\n",
              "    </style>\n",
              "    <button class=\"colab-df-generate\" onclick=\"generateWithVariable('compare_results')\"\n",
              "            title=\"Generate code using this dataframe.\"\n",
              "            style=\"display:none;\">\n",
              "\n",
              "  <svg xmlns=\"http://www.w3.org/2000/svg\" height=\"24px\"viewBox=\"0 0 24 24\"\n",
              "       width=\"24px\">\n",
              "    <path d=\"M7,19H8.4L18.45,9,17,7.55,7,17.6ZM5,21V16.75L18.45,3.32a2,2,0,0,1,2.83,0l1.4,1.43a1.91,1.91,0,0,1,.58,1.4,1.91,1.91,0,0,1-.58,1.4L9.25,21ZM18.45,9,17,7.55Zm-12,3A5.31,5.31,0,0,0,4.9,8.1,5.31,5.31,0,0,0,1,6.5,5.31,5.31,0,0,0,4.9,4.9,5.31,5.31,0,0,0,6.5,1,5.31,5.31,0,0,0,8.1,4.9,5.31,5.31,0,0,0,12,6.5,5.46,5.46,0,0,0,6.5,12Z\"/>\n",
              "  </svg>\n",
              "    </button>\n",
              "    <script>\n",
              "      (() => {\n",
              "      const buttonEl =\n",
              "        document.querySelector('#id_c9981a2b-f4ce-413e-8894-c792ebbcd6f7 button.colab-df-generate');\n",
              "      buttonEl.style.display =\n",
              "        google.colab.kernel.accessAllowed ? 'block' : 'none';\n",
              "\n",
              "      buttonEl.onclick = () => {\n",
              "        google.colab.notebook.generateWithVariable('compare_results');\n",
              "      }\n",
              "      })();\n",
              "    </script>\n",
              "  </div>\n",
              "\n",
              "    </div>\n",
              "  </div>\n"
            ],
            "application/vnd.google.colaboratory.intrinsic+json": {
              "type": "dataframe",
              "variable_name": "compare_results",
              "summary": "{\n  \"name\": \"compare_results\",\n  \"rows\": 3,\n  \"fields\": [\n    {\n      \"column\": \"model_name\",\n      \"properties\": {\n        \"dtype\": \"string\",\n        \"num_unique_values\": 3,\n        \"samples\": [\n          \"FashionMNISTModelV0\",\n          \"FashionMNISTModelV1\",\n          \"FashionMNISTModelV2\"\n        ],\n        \"semantic_type\": \"\",\n        \"description\": \"\"\n      }\n    },\n    {\n      \"column\": \"model_loss\",\n      \"properties\": {\n        \"dtype\": \"number\",\n        \"std\": 0.1721907436450364,\n        \"min\": 0.3437938392162323,\n        \"max\": 0.6881523728370667,\n        \"num_unique_values\": 3,\n        \"samples\": [\n          0.512529730796814,\n          0.6881523728370667,\n          0.3437938392162323\n        ],\n        \"semantic_type\": \"\",\n        \"description\": \"\"\n      }\n    },\n    {\n      \"column\": \"model_acc\",\n      \"properties\": {\n        \"dtype\": \"number\",\n        \"std\": 6.094839425321619,\n        \"min\": 75.61900958466454,\n        \"max\": 87.70966453674122,\n        \"num_unique_values\": 3,\n        \"samples\": [\n          83.00718849840256,\n          75.61900958466454,\n          87.70966453674122\n        ],\n        \"semantic_type\": \"\",\n        \"description\": \"\"\n      }\n    }\n  ]\n}"
            }
          },
          "metadata": {},
          "execution_count": 54
        }
      ]
    },
    {
      "cell_type": "code",
      "source": [
        "compare_results[\"training_time\"] = [total_train_time_model_0,\n",
        "                                    total_train_time_model_1,\n",
        "                                    total_train_time_model_2]\n",
        "compare_results"
      ],
      "metadata": {
        "colab": {
          "base_uri": "https://localhost:8080/",
          "height": 143
        },
        "id": "AQIr5WIhkwLI",
        "outputId": "e828ed70-f19e-4803-febc-c5078ed6309f"
      },
      "execution_count": 55,
      "outputs": [
        {
          "output_type": "execute_result",
          "data": {
            "text/plain": [
              "            model_name  model_loss  model_acc  training_time\n",
              "0  FashionMNISTModelV0    0.512530  83.007188      29.957508\n",
              "1  FashionMNISTModelV1    0.688152  75.619010      31.189441\n",
              "2  FashionMNISTModelV2    0.343794  87.709665      37.478976"
            ],
            "text/html": [
              "\n",
              "  <div id=\"df-66dd05e1-e523-4ee9-bc5b-cfa5863c7265\" class=\"colab-df-container\">\n",
              "    <div>\n",
              "<style scoped>\n",
              "    .dataframe tbody tr th:only-of-type {\n",
              "        vertical-align: middle;\n",
              "    }\n",
              "\n",
              "    .dataframe tbody tr th {\n",
              "        vertical-align: top;\n",
              "    }\n",
              "\n",
              "    .dataframe thead th {\n",
              "        text-align: right;\n",
              "    }\n",
              "</style>\n",
              "<table border=\"1\" class=\"dataframe\">\n",
              "  <thead>\n",
              "    <tr style=\"text-align: right;\">\n",
              "      <th></th>\n",
              "      <th>model_name</th>\n",
              "      <th>model_loss</th>\n",
              "      <th>model_acc</th>\n",
              "      <th>training_time</th>\n",
              "    </tr>\n",
              "  </thead>\n",
              "  <tbody>\n",
              "    <tr>\n",
              "      <th>0</th>\n",
              "      <td>FashionMNISTModelV0</td>\n",
              "      <td>0.512530</td>\n",
              "      <td>83.007188</td>\n",
              "      <td>29.957508</td>\n",
              "    </tr>\n",
              "    <tr>\n",
              "      <th>1</th>\n",
              "      <td>FashionMNISTModelV1</td>\n",
              "      <td>0.688152</td>\n",
              "      <td>75.619010</td>\n",
              "      <td>31.189441</td>\n",
              "    </tr>\n",
              "    <tr>\n",
              "      <th>2</th>\n",
              "      <td>FashionMNISTModelV2</td>\n",
              "      <td>0.343794</td>\n",
              "      <td>87.709665</td>\n",
              "      <td>37.478976</td>\n",
              "    </tr>\n",
              "  </tbody>\n",
              "</table>\n",
              "</div>\n",
              "    <div class=\"colab-df-buttons\">\n",
              "\n",
              "  <div class=\"colab-df-container\">\n",
              "    <button class=\"colab-df-convert\" onclick=\"convertToInteractive('df-66dd05e1-e523-4ee9-bc5b-cfa5863c7265')\"\n",
              "            title=\"Convert this dataframe to an interactive table.\"\n",
              "            style=\"display:none;\">\n",
              "\n",
              "  <svg xmlns=\"http://www.w3.org/2000/svg\" height=\"24px\" viewBox=\"0 -960 960 960\">\n",
              "    <path d=\"M120-120v-720h720v720H120Zm60-500h600v-160H180v160Zm220 220h160v-160H400v160Zm0 220h160v-160H400v160ZM180-400h160v-160H180v160Zm440 0h160v-160H620v160ZM180-180h160v-160H180v160Zm440 0h160v-160H620v160Z\"/>\n",
              "  </svg>\n",
              "    </button>\n",
              "\n",
              "  <style>\n",
              "    .colab-df-container {\n",
              "      display:flex;\n",
              "      gap: 12px;\n",
              "    }\n",
              "\n",
              "    .colab-df-convert {\n",
              "      background-color: #E8F0FE;\n",
              "      border: none;\n",
              "      border-radius: 50%;\n",
              "      cursor: pointer;\n",
              "      display: none;\n",
              "      fill: #1967D2;\n",
              "      height: 32px;\n",
              "      padding: 0 0 0 0;\n",
              "      width: 32px;\n",
              "    }\n",
              "\n",
              "    .colab-df-convert:hover {\n",
              "      background-color: #E2EBFA;\n",
              "      box-shadow: 0px 1px 2px rgba(60, 64, 67, 0.3), 0px 1px 3px 1px rgba(60, 64, 67, 0.15);\n",
              "      fill: #174EA6;\n",
              "    }\n",
              "\n",
              "    .colab-df-buttons div {\n",
              "      margin-bottom: 4px;\n",
              "    }\n",
              "\n",
              "    [theme=dark] .colab-df-convert {\n",
              "      background-color: #3B4455;\n",
              "      fill: #D2E3FC;\n",
              "    }\n",
              "\n",
              "    [theme=dark] .colab-df-convert:hover {\n",
              "      background-color: #434B5C;\n",
              "      box-shadow: 0px 1px 3px 1px rgba(0, 0, 0, 0.15);\n",
              "      filter: drop-shadow(0px 1px 2px rgba(0, 0, 0, 0.3));\n",
              "      fill: #FFFFFF;\n",
              "    }\n",
              "  </style>\n",
              "\n",
              "    <script>\n",
              "      const buttonEl =\n",
              "        document.querySelector('#df-66dd05e1-e523-4ee9-bc5b-cfa5863c7265 button.colab-df-convert');\n",
              "      buttonEl.style.display =\n",
              "        google.colab.kernel.accessAllowed ? 'block' : 'none';\n",
              "\n",
              "      async function convertToInteractive(key) {\n",
              "        const element = document.querySelector('#df-66dd05e1-e523-4ee9-bc5b-cfa5863c7265');\n",
              "        const dataTable =\n",
              "          await google.colab.kernel.invokeFunction('convertToInteractive',\n",
              "                                                    [key], {});\n",
              "        if (!dataTable) return;\n",
              "\n",
              "        const docLinkHtml = 'Like what you see? Visit the ' +\n",
              "          '<a target=\"_blank\" href=https://colab.research.google.com/notebooks/data_table.ipynb>data table notebook</a>'\n",
              "          + ' to learn more about interactive tables.';\n",
              "        element.innerHTML = '';\n",
              "        dataTable['output_type'] = 'display_data';\n",
              "        await google.colab.output.renderOutput(dataTable, element);\n",
              "        const docLink = document.createElement('div');\n",
              "        docLink.innerHTML = docLinkHtml;\n",
              "        element.appendChild(docLink);\n",
              "      }\n",
              "    </script>\n",
              "  </div>\n",
              "\n",
              "\n",
              "<div id=\"df-160fb122-1967-484d-a854-699a6157b0f6\">\n",
              "  <button class=\"colab-df-quickchart\" onclick=\"quickchart('df-160fb122-1967-484d-a854-699a6157b0f6')\"\n",
              "            title=\"Suggest charts\"\n",
              "            style=\"display:none;\">\n",
              "\n",
              "<svg xmlns=\"http://www.w3.org/2000/svg\" height=\"24px\"viewBox=\"0 0 24 24\"\n",
              "     width=\"24px\">\n",
              "    <g>\n",
              "        <path d=\"M19 3H5c-1.1 0-2 .9-2 2v14c0 1.1.9 2 2 2h14c1.1 0 2-.9 2-2V5c0-1.1-.9-2-2-2zM9 17H7v-7h2v7zm4 0h-2V7h2v10zm4 0h-2v-4h2v4z\"/>\n",
              "    </g>\n",
              "</svg>\n",
              "  </button>\n",
              "\n",
              "<style>\n",
              "  .colab-df-quickchart {\n",
              "      --bg-color: #E8F0FE;\n",
              "      --fill-color: #1967D2;\n",
              "      --hover-bg-color: #E2EBFA;\n",
              "      --hover-fill-color: #174EA6;\n",
              "      --disabled-fill-color: #AAA;\n",
              "      --disabled-bg-color: #DDD;\n",
              "  }\n",
              "\n",
              "  [theme=dark] .colab-df-quickchart {\n",
              "      --bg-color: #3B4455;\n",
              "      --fill-color: #D2E3FC;\n",
              "      --hover-bg-color: #434B5C;\n",
              "      --hover-fill-color: #FFFFFF;\n",
              "      --disabled-bg-color: #3B4455;\n",
              "      --disabled-fill-color: #666;\n",
              "  }\n",
              "\n",
              "  .colab-df-quickchart {\n",
              "    background-color: var(--bg-color);\n",
              "    border: none;\n",
              "    border-radius: 50%;\n",
              "    cursor: pointer;\n",
              "    display: none;\n",
              "    fill: var(--fill-color);\n",
              "    height: 32px;\n",
              "    padding: 0;\n",
              "    width: 32px;\n",
              "  }\n",
              "\n",
              "  .colab-df-quickchart:hover {\n",
              "    background-color: var(--hover-bg-color);\n",
              "    box-shadow: 0 1px 2px rgba(60, 64, 67, 0.3), 0 1px 3px 1px rgba(60, 64, 67, 0.15);\n",
              "    fill: var(--button-hover-fill-color);\n",
              "  }\n",
              "\n",
              "  .colab-df-quickchart-complete:disabled,\n",
              "  .colab-df-quickchart-complete:disabled:hover {\n",
              "    background-color: var(--disabled-bg-color);\n",
              "    fill: var(--disabled-fill-color);\n",
              "    box-shadow: none;\n",
              "  }\n",
              "\n",
              "  .colab-df-spinner {\n",
              "    border: 2px solid var(--fill-color);\n",
              "    border-color: transparent;\n",
              "    border-bottom-color: var(--fill-color);\n",
              "    animation:\n",
              "      spin 1s steps(1) infinite;\n",
              "  }\n",
              "\n",
              "  @keyframes spin {\n",
              "    0% {\n",
              "      border-color: transparent;\n",
              "      border-bottom-color: var(--fill-color);\n",
              "      border-left-color: var(--fill-color);\n",
              "    }\n",
              "    20% {\n",
              "      border-color: transparent;\n",
              "      border-left-color: var(--fill-color);\n",
              "      border-top-color: var(--fill-color);\n",
              "    }\n",
              "    30% {\n",
              "      border-color: transparent;\n",
              "      border-left-color: var(--fill-color);\n",
              "      border-top-color: var(--fill-color);\n",
              "      border-right-color: var(--fill-color);\n",
              "    }\n",
              "    40% {\n",
              "      border-color: transparent;\n",
              "      border-right-color: var(--fill-color);\n",
              "      border-top-color: var(--fill-color);\n",
              "    }\n",
              "    60% {\n",
              "      border-color: transparent;\n",
              "      border-right-color: var(--fill-color);\n",
              "    }\n",
              "    80% {\n",
              "      border-color: transparent;\n",
              "      border-right-color: var(--fill-color);\n",
              "      border-bottom-color: var(--fill-color);\n",
              "    }\n",
              "    90% {\n",
              "      border-color: transparent;\n",
              "      border-bottom-color: var(--fill-color);\n",
              "    }\n",
              "  }\n",
              "</style>\n",
              "\n",
              "  <script>\n",
              "    async function quickchart(key) {\n",
              "      const quickchartButtonEl =\n",
              "        document.querySelector('#' + key + ' button');\n",
              "      quickchartButtonEl.disabled = true;  // To prevent multiple clicks.\n",
              "      quickchartButtonEl.classList.add('colab-df-spinner');\n",
              "      try {\n",
              "        const charts = await google.colab.kernel.invokeFunction(\n",
              "            'suggestCharts', [key], {});\n",
              "      } catch (error) {\n",
              "        console.error('Error during call to suggestCharts:', error);\n",
              "      }\n",
              "      quickchartButtonEl.classList.remove('colab-df-spinner');\n",
              "      quickchartButtonEl.classList.add('colab-df-quickchart-complete');\n",
              "    }\n",
              "    (() => {\n",
              "      let quickchartButtonEl =\n",
              "        document.querySelector('#df-160fb122-1967-484d-a854-699a6157b0f6 button');\n",
              "      quickchartButtonEl.style.display =\n",
              "        google.colab.kernel.accessAllowed ? 'block' : 'none';\n",
              "    })();\n",
              "  </script>\n",
              "</div>\n",
              "\n",
              "  <div id=\"id_9e657b8f-d81a-42b8-bf4c-b316f540a48c\">\n",
              "    <style>\n",
              "      .colab-df-generate {\n",
              "        background-color: #E8F0FE;\n",
              "        border: none;\n",
              "        border-radius: 50%;\n",
              "        cursor: pointer;\n",
              "        display: none;\n",
              "        fill: #1967D2;\n",
              "        height: 32px;\n",
              "        padding: 0 0 0 0;\n",
              "        width: 32px;\n",
              "      }\n",
              "\n",
              "      .colab-df-generate:hover {\n",
              "        background-color: #E2EBFA;\n",
              "        box-shadow: 0px 1px 2px rgba(60, 64, 67, 0.3), 0px 1px 3px 1px rgba(60, 64, 67, 0.15);\n",
              "        fill: #174EA6;\n",
              "      }\n",
              "\n",
              "      [theme=dark] .colab-df-generate {\n",
              "        background-color: #3B4455;\n",
              "        fill: #D2E3FC;\n",
              "      }\n",
              "\n",
              "      [theme=dark] .colab-df-generate:hover {\n",
              "        background-color: #434B5C;\n",
              "        box-shadow: 0px 1px 3px 1px rgba(0, 0, 0, 0.15);\n",
              "        filter: drop-shadow(0px 1px 2px rgba(0, 0, 0, 0.3));\n",
              "        fill: #FFFFFF;\n",
              "      }\n",
              "    </style>\n",
              "    <button class=\"colab-df-generate\" onclick=\"generateWithVariable('compare_results')\"\n",
              "            title=\"Generate code using this dataframe.\"\n",
              "            style=\"display:none;\">\n",
              "\n",
              "  <svg xmlns=\"http://www.w3.org/2000/svg\" height=\"24px\"viewBox=\"0 0 24 24\"\n",
              "       width=\"24px\">\n",
              "    <path d=\"M7,19H8.4L18.45,9,17,7.55,7,17.6ZM5,21V16.75L18.45,3.32a2,2,0,0,1,2.83,0l1.4,1.43a1.91,1.91,0,0,1,.58,1.4,1.91,1.91,0,0,1-.58,1.4L9.25,21ZM18.45,9,17,7.55Zm-12,3A5.31,5.31,0,0,0,4.9,8.1,5.31,5.31,0,0,0,1,6.5,5.31,5.31,0,0,0,4.9,4.9,5.31,5.31,0,0,0,6.5,1,5.31,5.31,0,0,0,8.1,4.9,5.31,5.31,0,0,0,12,6.5,5.46,5.46,0,0,0,6.5,12Z\"/>\n",
              "  </svg>\n",
              "    </button>\n",
              "    <script>\n",
              "      (() => {\n",
              "      const buttonEl =\n",
              "        document.querySelector('#id_9e657b8f-d81a-42b8-bf4c-b316f540a48c button.colab-df-generate');\n",
              "      buttonEl.style.display =\n",
              "        google.colab.kernel.accessAllowed ? 'block' : 'none';\n",
              "\n",
              "      buttonEl.onclick = () => {\n",
              "        google.colab.notebook.generateWithVariable('compare_results');\n",
              "      }\n",
              "      })();\n",
              "    </script>\n",
              "  </div>\n",
              "\n",
              "    </div>\n",
              "  </div>\n"
            ],
            "application/vnd.google.colaboratory.intrinsic+json": {
              "type": "dataframe",
              "variable_name": "compare_results",
              "summary": "{\n  \"name\": \"compare_results\",\n  \"rows\": 3,\n  \"fields\": [\n    {\n      \"column\": \"model_name\",\n      \"properties\": {\n        \"dtype\": \"string\",\n        \"num_unique_values\": 3,\n        \"samples\": [\n          \"FashionMNISTModelV0\",\n          \"FashionMNISTModelV1\",\n          \"FashionMNISTModelV2\"\n        ],\n        \"semantic_type\": \"\",\n        \"description\": \"\"\n      }\n    },\n    {\n      \"column\": \"model_loss\",\n      \"properties\": {\n        \"dtype\": \"number\",\n        \"std\": 0.1721907436450364,\n        \"min\": 0.3437938392162323,\n        \"max\": 0.6881523728370667,\n        \"num_unique_values\": 3,\n        \"samples\": [\n          0.512529730796814,\n          0.6881523728370667,\n          0.3437938392162323\n        ],\n        \"semantic_type\": \"\",\n        \"description\": \"\"\n      }\n    },\n    {\n      \"column\": \"model_acc\",\n      \"properties\": {\n        \"dtype\": \"number\",\n        \"std\": 6.094839425321619,\n        \"min\": 75.61900958466454,\n        \"max\": 87.70966453674122,\n        \"num_unique_values\": 3,\n        \"samples\": [\n          83.00718849840256,\n          75.61900958466454,\n          87.70966453674122\n        ],\n        \"semantic_type\": \"\",\n        \"description\": \"\"\n      }\n    },\n    {\n      \"column\": \"training_time\",\n      \"properties\": {\n        \"dtype\": \"number\",\n        \"std\": 4.03419511824958,\n        \"min\": 29.957508112000014,\n        \"max\": 37.478975813000005,\n        \"num_unique_values\": 3,\n        \"samples\": [\n          29.957508112000014,\n          31.189441165000005,\n          37.478975813000005\n        ],\n        \"semantic_type\": \"\",\n        \"description\": \"\"\n      }\n    }\n  ]\n}"
            }
          },
          "metadata": {},
          "execution_count": 55
        }
      ]
    },
    {
      "cell_type": "code",
      "source": [
        "# Visualize our model results\n",
        "compare_results.set_index(\"model_name\")[\"model_acc\"].plot(kind=\"barh\")\n",
        "plt.xlabel('accuracy (%)')\n",
        "plt.ylabel(\"model\")"
      ],
      "metadata": {
        "colab": {
          "base_uri": "https://localhost:8080/",
          "height": 466
        },
        "id": "U7NhtP04pHlH",
        "outputId": "0e6e1e87-6515-4d4b-8c6a-9263a1b27782"
      },
      "execution_count": 56,
      "outputs": [
        {
          "output_type": "execute_result",
          "data": {
            "text/plain": [
              "Text(0, 0.5, 'model')"
            ]
          },
          "metadata": {},
          "execution_count": 56
        },
        {
          "output_type": "display_data",
          "data": {
            "text/plain": [
              "<Figure size 640x480 with 1 Axes>"
            ],
            "image/png": "[encoded data removed]"
          },
          "metadata": {}
        }
      ]
    },
    {
      "cell_type": "code",
      "source": [
        "!nvidia-smi"
      ],
      "metadata": {
        "colab": {
          "base_uri": "https://localhost:8080/"
        },
        "id": "YXkf5giHpvtG",
        "outputId": "9f3d812d-8221-496b-e17e-d18a9e312c32"
      },
      "execution_count": 57,
      "outputs": [
        {
          "output_type": "stream",
          "name": "stdout",
          "text": [
            "Fri Nov 22 05:25:56 2024       \n",
            "+---------------------------------------------------------------------------------------+\n",
            "| NVIDIA-SMI 535.104.05             Driver Version: 535.104.05   CUDA Version: 12.2     |\n",
            "|-----------------------------------------+----------------------+----------------------+\n",
            "| GPU  Name                 Persistence-M | Bus-Id        Disp.A | Volatile Uncorr. ECC |\n",
            "| Fan  Temp   Perf          Pwr:Usage/Cap |         Memory-Usage | GPU-Util  Compute M. |\n",
            "|                                         |                      |               MIG M. |\n",
            "|=========================================+======================+======================|\n",
            "|   0  Tesla T4                       Off | 00000000:00:04.0 Off |                    0 |\n",
            "| N/A   64C    P0              30W /  70W |    167MiB / 15360MiB |      0%      Default |\n",
            "|                                         |                      |                  N/A |\n",
            "+-----------------------------------------+----------------------+----------------------+\n",
            "                                                                                         \n",
            "+---------------------------------------------------------------------------------------+\n",
            "| Processes:                                                                            |\n",
            "|  GPU   GI   CI        PID   Type   Process name                            GPU Memory |\n",
            "|        ID   ID                                                             Usage      |\n",
            "|=======================================================================================|\n",
            "+---------------------------------------------------------------------------------------+\n"
          ]
        }
      ]
    },
    {
      "cell_type": "code",
      "source": [
        "## 9. Make and evaluate random predictions with best model"
      ],
      "metadata": {
        "id": "0i_6DvF4pwUc"
      },
      "execution_count": 58,
      "outputs": []
    },
    {
      "cell_type": "code",
      "source": [
        "def make_predictions(model: torch.nn.Module,\n",
        "                     data: list,\n",
        "                     device: torch.device = device):\n",
        "  pred_probs = []\n",
        "  model.to(device)\n",
        "  model.eval()\n",
        "  with torch.inference_mode():\n",
        "    for sample in data:\n",
        "      # Prepare the sample (add a batch dimension and pass to target device)\n",
        "      sample = torch.unsqueeze(sample, dim=0).to(device)\n",
        "\n",
        "      # Forward pass (model outputs raw logits)\n",
        "      pred_logit = model(sample)\n",
        "\n",
        "      # Get prediction probability (logit -> prediction probability)\n",
        "      pred_prob = torch.softmax(pred_logit.squeeze(), dim=0)\n",
        "\n",
        "      # Get pred_prob off the GPU for further calculations\n",
        "      pred_probs.append(pred_prob.cpu())\n",
        "\n",
        "  # stack the pred_probs to turn list into a tensor\n",
        "  return torch.stack(pred_probs)"
      ],
      "metadata": {
        "id": "2dyePj2mpwRg"
      },
      "execution_count": 59,
      "outputs": []
    },
    {
      "cell_type": "code",
      "source": [
        "import random\n",
        "# random.seed(42)\n",
        "test_samples = []\n",
        "test_labels = []\n",
        "for sample, label in random.sample(list(test_data), k=9):\n",
        "  test_samples.append(sample)\n",
        "  test_labels.append(label)\n",
        "\n",
        "# View the first sample shape\n",
        "test_samples[0].shape"
      ],
      "metadata": {
        "colab": {
          "base_uri": "https://localhost:8080/"
        },
        "id": "EU1ZonalqBpo",
        "outputId": "084d4de2-cc91-4b28-88de-d4d5c59fc957"
      },
      "execution_count": 60,
      "outputs": [
        {
          "output_type": "execute_result",
          "data": {
            "text/plain": [
              "torch.Size([1, 28, 28])"
            ]
          },
          "metadata": {},
          "execution_count": 60
        }
      ]
    },
    {
      "cell_type": "code",
      "source": [
        "plt.imshow(test_samples[0].squeeze(), cmap=\"gray\")\n",
        "plt.title(class_names[test_labels[0]])"
      ],
      "metadata": {
        "colab": {
          "base_uri": "https://localhost:8080/",
          "height": 469
        },
        "id": "Ms3ihgDiqB8y",
        "outputId": "66609015-a5d6-4793-a46e-9d36ac16fa5c"
      },
      "execution_count": 61,
      "outputs": [
        {
          "output_type": "execute_result",
          "data": {
            "text/plain": [
              "Text(0.5, 1.0, 'Dress')"
            ]
          },
          "metadata": {},
          "execution_count": 61
        },
        {
          "output_type": "display_data",
          "data": {
            "text/plain": [
              "<Figure size 640x480 with 1 Axes>"
            ],
            "image/png": "[encoded data removed]"
          },
          "metadata": {}
        }
      ]
    },
    {
      "cell_type": "code",
      "source": [
        "# Make predictions\n",
        "pred_probs = make_predictions(model=model_2,\n",
        "                              data=test_samples)\n",
        "\n",
        "# View first two prediction probabilities\n",
        "len(pred_probs)"
      ],
      "metadata": {
        "colab": {
          "base_uri": "https://localhost:8080/"
        },
        "id": "qbWsWy8NqCBl",
        "outputId": "d6ce9703-c90b-4025-96f3-626ac1f61dbb"
      },
      "execution_count": 62,
      "outputs": [
        {
          "output_type": "execute_result",
          "data": {
            "text/plain": [
              "9"
            ]
          },
          "metadata": {},
          "execution_count": 62
        }
      ]
    },
    {
      "cell_type": "code",
      "source": [
        "# Convert prediction probabilities to labels\n",
        "pred_classes = pred_probs.argmax(dim=1)\n",
        "pred_classes"
      ],
      "metadata": {
        "colab": {
          "base_uri": "https://localhost:8080/"
        },
        "id": "g3MBesjhTb0z",
        "outputId": "1f21dd28-d1cb-4090-bda9-c83823cb42c3"
      },
      "execution_count": 63,
      "outputs": [
        {
          "output_type": "execute_result",
          "data": {
            "text/plain": [
              "tensor([3, 1, 4, 9, 9, 1, 5, 0, 9])"
            ]
          },
          "metadata": {},
          "execution_count": 63
        }
      ]
    },
    {
      "cell_type": "code",
      "source": [
        "plt.figure(figsize=(9,9))\n",
        "nrows = 3\n",
        "ncols = 3\n",
        "for i, sample in enumerate(test_samples):\n",
        "  # Create a subplot\n",
        "  plt.subplot(nrows, ncols, i+1)\n",
        "\n",
        "  # Plot the target image\n",
        "  plt.imshow(sample.squeeze(), cmap=\"gray\")\n",
        "\n",
        "  # Find the prediction (in text form, e.g. \"Sandal\")\n",
        "  pred_label = class_names[pred_classes[i]]\n",
        "\n",
        "  # Get the truth label (in text form)\n",
        "  truth_label = class_names[test_labels[i]]\n",
        "\n",
        "  # Create a title for the plot\n",
        "  title_text = f\"Pred: {pred_label} | Truth: {truth_label}\"\n",
        "\n",
        "  # Check for equality between pred and truth and change colour of title text\n",
        "  if pred_label == truth_label:\n",
        "    plt.title(title_text, fontsize=10, c=\"g\") # green text if prediction is same as truth\n",
        "  else:\n",
        "    plt.title(title_text, fontsize=10, c=\"r\") # red text if prediction is not same as truth\n",
        "plt.axis(False)"
      ],
      "metadata": {
        "colab": {
          "base_uri": "https://localhost:8080/",
          "height": 779
        },
        "id": "MxEK43rdqCEo",
        "outputId": "9b0856bb-12e0-49f8-800d-2d74a8f50476"
      },
      "execution_count": 64,
      "outputs": [
        {
          "output_type": "execute_result",
          "data": {
            "text/plain": [
              "(-0.5, 27.5, 27.5, -0.5)"
            ]
          },
          "metadata": {},
          "execution_count": 64
        },
        {
          "output_type": "display_data",
          "data": {
            "text/plain": [
              "<Figure size 900x900 with 9 Axes>"
            ],
            "image/png": "[encoded data removed]"
          },
          "metadata": {}
        }
      ]
    },
    {
      "cell_type": "markdown",
      "source": [
        "## 10. Making a confusion matrix for further prediction evaluation\n",
        "\n",
        "A confusion matrix is a fantastic way of evaluating your classification models visually.\n",
        "1. Make predictions with our trained model on the test dataset\n",
        "2. Make a [confusion matrix](https://lightning.ai/docs/torchmetrics/stable/classification/confusion_matrix.html#id4) `torchmetrics.ConfusionMatrix`\n",
        "3. [Plot](https://rasbt.github.io/mlxtend/user_guide/plotting/plot_confusion_matrix/) the confusion matrix using `mlxtend.plotting.plot_confusion_matrix()`\n"
      ],
      "metadata": {
        "id": "EqSSXgIKqCHA"
      }
    },
    {
      "cell_type": "code",
      "source": [
        "# Import tqdm.auto\n",
        "from tqdm.auto import tqdm\n",
        "\n",
        "# 1. Make predictions with trained model\n",
        "y_preds = []\n",
        "# NOTE: Adding the `targets` list here to ensure that the labels in both\n",
        "# y_preds and targets that I'll later use to create the conf matrix have the same label order\n",
        "# see this Q&A for details https://www.udemy.com/course/pytorch-for-deep-learning/learn/lecture/32881836#questions/18756198\n",
        "targets = []\n",
        "model_2.eval()\n",
        "with torch.inference_mode():\n",
        "  for X, y in tqdm(test_dataloader, desc=\"Making predictions...\"):\n",
        "    # Send the data and targets to target device\n",
        "    X,y = X.to(device), y.to(device)\n",
        "    # Do the forward pass\n",
        "    y_logit = model_2(X)\n",
        "    # Turn predictions from logits -> prediction probabilities -> pred labels\n",
        "    y_pred = torch.softmax(y_logit.squeeze(), dim=0).argmax(dim=1)\n",
        "    # Put predictions on CPU for evaluation\n",
        "    y_preds.append(y_pred.cpu())\n",
        "    targets.append(y.cpu())\n",
        "\n",
        "# Concatenate list of predictions into a tensor\n",
        "# print(y_preds)\n",
        "y_pred_tensor = torch.cat(y_preds)\n",
        "targets_tensor = torch.cat(targets)\n",
        "y_pred_tensor"
      ],
      "metadata": {
        "colab": {
          "base_uri": "https://localhost:8080/",
          "height": 66,
          "referenced_widgets": [
            "0ee9b2199dc842e38217587d6b2b196e",
            "6ed6e73c50744079835880fa69dcb256",
            "ae3bb558e21f4310affe351b4830133d",
            "ed8693405a3c4b37bc7cdb8c1519e464",
            "91f3fa14745f4e3997849239f35045e9",
            "8e24abe02ee54bf4b6a9c51c0562627c",
            "ec928b0a6dcb4fb38bcf88bac9bcdae8",
            "6d1964b0d512496ba8fc327a5e4ad362",
            "2c521e5fa24d4821999415ede60b7644",
            "fa89445a2ab14b41856a2410887f04ac",
            "35c118d642bf4b408d7f1a52f06a8876"
          ]
        },
        "id": "sRny6r_FgF4Z",
        "outputId": "85e0293b-d226-4125-eeb1-141ebcfa42ef"
      },
      "execution_count": 85,
      "outputs": [
        {
          "output_type": "display_data",
          "data": {
            "text/plain": [
              "Making predictions...:   0%|          | 0/313 [00:00<?, ?it/s]"
            ],
            "application/vnd.jupyter.widget-view+json": {
              "version_major": 2,
              "version_minor": 0,
              "model_id": "0ee9b2199dc842e38217587d6b2b196e"
            }
          },
          "metadata": {}
        },
        {
          "output_type": "execute_result",
          "data": {
            "text/plain": [
              "tensor([3, 4, 1,  ..., 2, 8, 8])"
            ]
          },
          "metadata": {},
          "execution_count": 85
        }
      ]
    },
    {
      "cell_type": "code",
      "source": [
        "predicted_class_names = [class_names[i] for i in y_pred_tensor.numpy()]\n",
        "print(\"Predicted class names:\", predicted_class_names)\n",
        "\n",
        "target_class_names = [class_names[i] for i in test_data.targets.numpy()]\n",
        "print(\"Target class names:\", target_class_names)"
      ],
      "metadata": {
        "colab": {
          "base_uri": "https://localhost:8080/"
        },
        "id": "ZxSYfyuFjQ5C",
        "outputId": "47385123-7c5b-45c2-b363-a86162552573"
      },
      "execution_count": 89,
      "outputs": [
        {
          "output_type": "stream",
          "name": "stdout",
          "text": [
            "Predicted class names: ['Dress', 'Coat', 'Trouser', 'Shirt', 'Sneaker', 'Dress', 'T-shirt/top', 'Trouser', 'Pullover', 'Ankle boot', 'Ankle boot', 'Sneaker', 'Pullover', 'Pullover', 'Shirt', 'T-shirt/top', 'Ankle boot', 'Sneaker', 'Sneaker', 'Dress', 'Coat', 'Sandal', 'Pullover', 'Shirt', 'Sandal', 'Pullover', 'Pullover', 'Bag', 'Shirt', 'T-shirt/top', 'Ankle boot', 'Sneaker', 'T-shirt/top', 'Trouser', 'Dress', 'Sandal', 'Shirt', 'Sandal', 'Bag', 'Ankle boot', 'Shirt', 'Pullover', 'Sneaker', 'Sneaker', 'T-shirt/top', 'Pullover', 'Pullover', 'Pullover', 'Pullover', 'Shirt', 'Coat', 'Dress', 'T-shirt/top', 'Sneaker', 'Trouser', 'Dress', 'Dress', 'Dress', 'Coat', 'Coat', 'Shirt', 'Bag', 'Coat', 'Trouser', 'Trouser', 'Ankle boot', 'Coat', 'Ankle boot', 'Trouser', 'Shirt', 'Trouser', 'Bag', 'Bag', 'Sandal', 'Bag', 'Bag', 'Sneaker', 'T-shirt/top', 'Trouser', 'Bag', 'Pullover', 'Sandal', 'Trouser', 'Sandal', 'Shirt', 'Sneaker', 'Pullover', 'Ankle boot', 'Ankle boot', 'Shirt', 'Sneaker', 'Sneaker', 'T-shirt/top', 'Sandal', 'Pullover', 'Dress', 'Trouser', 'Trouser', 'Pullover', 'Shirt', 'Ankle boot', 'Coat', 'Trouser', 'Trouser', 'Shirt', 'Pullover', 'Trouser', 'Pullover', 'Shirt', 'Sneaker', 'Ankle boot', 'T-shirt/top', 'Sandal', 'Pullover', 'Pullover', 'Sneaker', 'Sandal', 'Coat', 'Dress', 'Trouser', 'Dress', 'Ankle boot', 'Trouser', 'Sneaker', 'Shirt', 'Bag', 'T-shirt/top', 'Sandal', 'Bag', 'Bag', 'Trouser', 'Shirt', 'Coat', 'Pullover', 'Pullover', 'Dress', 'Pullover', 'Pullover', 'Coat', 'Bag', 'Ankle boot', 'Shirt', 'Shirt', 'Coat', 'Ankle boot', 'Sneaker', 'T-shirt/top', 'Coat', 'Trouser', 'Shirt', 'Coat', 'Dress', 'Trouser', 'Bag', 'T-shirt/top', 'Coat', 'Sandal', 'Bag', 'Sneaker', 'Sandal', 'Sandal', 'Dress', 'Ankle boot', 'Sneaker', 'Dress', 'Pullover', 'Sneaker', 'Bag', 'Bag', 'Dress', 'Pullover', 'Trouser', 'Coat', 'Pullover', 'Trouser', 'Sandal', 'Ankle boot', 'Coat', 'Pullover', 'Pullover', 'Trouser', 'Dress', 'T-shirt/top', 'Ankle boot', 'Coat', 'Trouser', 'Dress', 'T-shirt/top', 'Shirt', 'Shirt', 'Coat', 'Sandal', 'Ankle boot', 'Pullover', 'Bag', 'Coat', 'Sneaker', 'Pullover', 'Coat', 'Sneaker', 'T-shirt/top', 'Ankle boot', 'Trouser', 'Trouser', 'Coat', 'Shirt', 'Trouser', 'Ankle boot', 'Dress', 'Dress', 'Pullover', 'Sneaker', 'Pullover', 'Trouser', 'Dress', 'Bag', 'Bag', 'T-shirt/top', 'Shirt', 'Sneaker', 'Ankle boot', 'Shirt', 'Sandal', 'Dress', 'T-shirt/top', 'T-shirt/top', 'Dress', 'Sandal', 'Dress', 'Bag', 'T-shirt/top', 'T-shirt/top', 'Shirt', 'Sneaker', 'Shirt', 'Sandal', 'Shirt', 'Shirt', 'Dress', 'Trouser', 'Trouser', 'Trouser', 'Bag', 'Trouser', 'Sneaker', 'Sneaker', 'Coat', 'Pullover', 'Coat', 'Trouser', 'Ankle boot', 'Bag', 'Ankle boot', 'Sandal', 'Bag', 'Dress', 'Sandal', 'Coat', 'Sandal', 'Dress', 'Ankle boot', 'Trouser', 'Sandal', 'Sneaker', 'Coat', 'Sandal', 'Pullover', 'Coat', 'Dress', 'Coat', 'Sandal', 'Dress', 'T-shirt/top', 'Sneaker', 'Sandal', 'Shirt', 'Ankle boot', 'T-shirt/top', 'Pullover', 'Ankle boot', 'Sneaker', 'Shirt', 'Bag', 'Ankle boot', 'Trouser', 'Pullover', 'Bag', 'Ankle boot', 'Dress', 'Pullover', 'Pullover', 'Sneaker', 'T-shirt/top', 'Bag', 'Pullover', 'Sandal', 'Coat', 'Dress', 'Dress', 'Sandal', 'Trouser', 'Sneaker', 'Shirt', 'Shirt', 'Sneaker', 'Shirt', 'Dress', 'Bag', 'Coat', 'Dress', 'Trouser', 'Ankle boot', 'Sneaker', 'Bag', 'Coat', 'Sandal', 'Shirt', 'Pullover', 'Sneaker', 'T-shirt/top', 'Sandal', 'Sandal', 'Pullover', 'Trouser', 'Dress', 'Coat', 'Dress', 'Coat', 'Trouser', 'Shirt', 'Sneaker', 'Shirt', 'Dress', 'Bag', 'Pullover', 'Sneaker', 'T-shirt/top', 'Shirt', 'Bag', 'T-shirt/top', 'Trouser', 'T-shirt/top', 'Coat', 'Dress', 'Bag', 'Ankle boot', 'Sandal', 'Dress', 'T-shirt/top', 'Trouser', 'Pullover', 'Pullover', 'Pullover', 'Shirt', 'Dress', 'Sandal', 'Coat', 'Coat', 'T-shirt/top', 'Trouser', 'Dress', 'Bag', 'Ankle boot', 'Trouser', 'Pullover', 'Dress', 'Sneaker', 'Dress', 'Sandal', 'Shirt', 'Bag', 'Pullover', 'Trouser', 'Trouser', 'Coat', 'Coat', 'Coat', 'Bag', 'Sneaker', 'Sandal', 'Sneaker', 'Dress', 'Dress', 'Trouser', 'Ankle boot', 'Ankle boot', 'Trouser', 'Sandal', 'Sneaker', 'Bag', 'Sandal', 'Coat', 'Sneaker', 'Pullover', 'Dress', 'Ankle boot', 'Sneaker', 'Coat', 'Sneaker', 'Shirt', 'Coat', 'Coat', 'Coat', 'Trouser', 'Coat', 'Sandal', 'T-shirt/top', 'Sandal', 'Shirt', 'Sandal', 'Bag', 'Dress', 'T-shirt/top', 'Bag', 'Ankle boot', 'Shirt', 'Sandal', 'Sneaker', 'Sneaker', 'Bag', 'Sandal', 'Pullover', 'Ankle boot', 'Bag', 'Coat', 'Pullover', 'T-shirt/top', 'Pullover', 'Shirt', 'Sandal', 'Sneaker', 'Bag', 'Coat', 'Pullover', 'Dress', 'Trouser', 'T-shirt/top', 'Coat', 'Trouser', 'Dress', 'Trouser', 'Coat', 'Sandal', 'Pullover', 'Pullover', 'Pullover', 'Ankle boot', 'T-shirt/top', 'Coat', 'Sneaker', 'Shirt', 'T-shirt/top', 'Coat', 'Dress', 'Ankle boot', 'Sandal', 'Coat', 'Pullover', 'Sandal', 'Coat', 'Trouser', 'Bag', 'Sandal', 'Bag', 'T-shirt/top', 'Sneaker', 'T-shirt/top', 'Sandal', 'Sneaker', 'Ankle boot', 'T-shirt/top', 'Sneaker', 'Pullover', 'Sneaker', 'Bag', 'Pullover', 'Shirt', 'Pullover', 'Sneaker', 'Trouser', 'T-shirt/top', 'Bag', 'Dress', 'Pullover', 'Sneaker', 'Dress', 'Pullover', 'T-shirt/top', 'Pullover', 'Coat', 'Dress', 'Dress', 'Ankle boot', 'Bag', 'Shirt', 'Ankle boot', 'Sneaker', 'T-shirt/top', 'Bag', 'Pullover', 'Pullover', 'Sandal', 'Sandal', 'Ankle boot', 'Trouser', 'Sandal', 'Pullover', 'Shirt', 'Sneaker', 'Sneaker', 'Shirt', 'Sneaker', 'Ankle boot', 'Coat', 'Pullover', 'Bag', 'Sandal', 'Sneaker', 'Pullover', 'Ankle boot', 'Shirt', 'Dress', 'Ankle boot', 'Pullover', 'Trouser', 'Pullover', 'Dress', 'Sandal', 'Coat', 'T-shirt/top', 'Dress', 'Ankle boot', 'Pullover', 'Sneaker', 'Bag', 'Ankle boot', 'Shirt', 'Sandal', 'Dress', 'Pullover', 'Sneaker', 'Sneaker', 'Sandal', 'Pullover', 'Trouser', 'Coat', 'Pullover', 'Bag', 'Coat', 'Bag', 'Coat', 'Sandal', 'Dress', 'Pullover', 'Dress', 'Sneaker', 'Dress', 'Coat', 'Sandal', 'T-shirt/top', 'Dress', 'Trouser', 'T-shirt/top', 'Trouser', 'Bag', 'Trouser', 'Dress', 'Ankle boot', 'Sneaker', 'Sandal', 'Pullover', 'Coat', 'Shirt', 'Dress', 'Coat', 'T-shirt/top', 'Sneaker', 'Ankle boot', 'Dress', 'Dress', 'Sneaker', 'Ankle boot', 'Ankle boot', 'Bag', 'Pullover', 'Shirt', 'Ankle boot', 'Shirt', 'Coat', 'Pullover', 'Ankle boot', 'T-shirt/top', 'Coat', 'Bag', 'Pullover', 'T-shirt/top', 'Sneaker', 'Trouser', 'Dress', 'Sandal', 'Sneaker', 'Sneaker', 'Coat', 'Dress', 'Ankle boot', 'Shirt', 'Coat', 'Pullover', 'Sneaker', 'Sandal', 'Trouser', 'Dress', 'Bag', 'Pullover', 'Sandal', 'Shirt', 'Sandal', 'Coat', 'Bag', 'Coat', 'Pullover', 'Sneaker', 'Pullover', 'Coat', 'Coat', 'Pullover', 'Sandal', 'Ankle boot', 'Pullover', 'Coat', 'Trouser', 'T-shirt/top', 'Dress', 'Dress', 'Dress', 'Sneaker', 'T-shirt/top', 'Bag', 'Bag', 'Ankle boot', 'Shirt', 'Trouser', 'Sandal', 'Sneaker', 'Sandal', 'Sandal', 'Shirt', 'Sneaker', 'Pullover', 'T-shirt/top', 'Coat', 'Sneaker', 'Pullover', 'Pullover', 'Trouser', 'Dress', 'Shirt', 'T-shirt/top', 'Sneaker', 'Pullover', 'Trouser', 'T-shirt/top', 'Ankle boot', 'Dress', 'Sneaker', 'Bag', 'Sneaker', 'Coat', 'Pullover', 'T-shirt/top', 'Sandal', 'Dress', 'Sneaker', 'T-shirt/top', 'Bag', 'Bag', 'Dress', 'T-shirt/top', 'Ankle boot', 'Trouser', 'Pullover', 'Shirt', 'Sneaker', 'Coat', 'Pullover', 'Sneaker', 'Coat', 'Sandal', 'Coat', 'Pullover', 'Sneaker', 'Shirt', 'Trouser', 'Pullover', 'T-shirt/top', 'Coat', 'Trouser', 'Shirt', 'Shirt', 'Bag', 'Pullover', 'Sandal', 'Coat', 'Bag', 'Sneaker', 'Dress', 'Shirt', 'Sandal', 'Sandal', 'Sneaker', 'Ankle boot', 'Coat', 'Pullover', 'Bag', 'T-shirt/top', 'Bag', 'T-shirt/top', 'Dress', 'Dress', 'Coat', 'Pullover', 'Trouser', 'Dress', 'Trouser', 'Ankle boot', 'Sneaker', 'Coat', 'Shirt', 'Dress', 'Sneaker', 'Shirt', 'Pullover', 'Coat', 'T-shirt/top', 'Bag', 'Ankle boot', 'Ankle boot', 'Coat', 'Pullover', 'Dress', 'Sandal', 'Trouser', 'Coat', 'Pullover', 'Dress', 'Sandal', 'Sandal', 'Shirt', 'Shirt', 'Sneaker', 'Sneaker', 'Ankle boot', 'Bag', 'Shirt', 'Pullover', 'Bag', 'Trouser', 'Shirt', 'Pullover', 'Pullover', 'Dress', 'Bag', 'Trouser', 'T-shirt/top', 'Shirt', 'Sandal', 'Bag', 'Dress', 'Coat', 'Sneaker', 'Trouser', 'Sneaker', 'Ankle boot', 'Trouser', 'Trouser', 'Coat', 'Sneaker', 'Bag', 'Shirt', 'Ankle boot', 'Bag', 'Dress', 'Shirt', 'Dress', 'Shirt', 'Dress', 'Pullover', 'Bag', 'Shirt', 'Pullover', 'Bag', 'Dress', 'Dress', 'Bag', 'Shirt', 'Sandal', 'T-shirt/top', 'Pullover', 'Trouser', 'Bag', 'Bag', 'Pullover', 'Pullover', 'Trouser', 'Trouser', 'Sneaker', 'Shirt', 'Trouser', 'Sandal', 'T-shirt/top', 'Bag', 'Sneaker', 'Trouser', 'Trouser', 'Shirt', 'Ankle boot', 'Pullover', 'Trouser', 'Sneaker', 'Bag', 'Dress', 'Shirt', 'Ankle boot', 'Pullover', 'Pullover', 'Sandal', 'Trouser', 'Coat', 'Dress', 'Sneaker', 'Coat', 'Sandal', 'Ankle boot', 'Trouser', 'Coat', 'Shirt', 'Sandal', 'Coat', 'Ankle boot', 'Shirt', 'Shirt', 'Sneaker', 'Ankle boot', 'Dress', 'Sneaker', 'Coat', 'Bag', 'Pullover', 'Sandal', 'Sandal', 'Sandal', 'Sneaker', 'Bag', 'Bag', 'T-shirt/top', 'Pullover', 'Bag', 'Pullover', 'Dress', 'Trouser', 'Coat', 'Ankle boot', 'Ankle boot', 'Shirt', 'T-shirt/top', 'Sneaker', 'Coat', 'Trouser', 'Ankle boot', 'Trouser', 'Trouser', 'Shirt', 'Pullover', 'Bag', 'Trouser', 'Trouser', 'Sandal', 'Dress', 'Bag', 'T-shirt/top', 'Pullover', 'Dress', 'Shirt', 'Coat', 'Pullover', 'Pullover', 'Dress', 'Bag', 'T-shirt/top', 'Dress', 'Coat', 'Bag', 'Bag', 'Bag', 'Bag', 'Bag', 'Sneaker', 'Shirt', 'Trouser', 'Sandal', 'Ankle boot', 'Sneaker', 'Sneaker', 'Ankle boot', 'Coat', 'Shirt', 'Ankle boot', 'Coat', 'Trouser', 'Sneaker', 'Sandal', 'Bag', 'Bag', 'Pullover', 'Coat', 'Shirt', 'Trouser', 'Dress', 'Dress', 'Sandal', 'Sandal', 'Dress', 'Ankle boot', 'T-shirt/top', 'Coat', 'Sneaker', 'Trouser', 'Pullover', 'Sandal', 'Coat', 'Dress', 'T-shirt/top', 'Shirt', 'Bag', 'T-shirt/top', 'Pullover', 'Dress', 'Trouser', 'Ankle boot', 'Trouser', 'Sneaker', 'Ankle boot', 'Pullover', 'Pullover', 'Trouser', 'Sneaker', 'Coat', 'Coat', 'Pullover', 'Sandal', 'Pullover', 'Dress', 'Shirt', 'Coat', 'Pullover', 'Dress', 'Coat', 'Coat', 'Sandal', 'T-shirt/top', 'Ankle boot', 'Trouser', 'Sneaker', 'Dress', 'Ankle boot', 'Trouser', 'Trouser', 'T-shirt/top', 'Sneaker', 'Dress', 'T-shirt/top', 'Sneaker', 'Bag', 'Bag', 'Coat', 'Ankle boot', 'Coat', 'Dress', 'Ankle boot', 'Coat', 'Pullover', 'Sandal', 'Sandal', 'Coat', 'Pullover', 'Trouser', 'Sandal', 'T-shirt/top', 'Pullover', 'Dress', 'Bag', 'T-shirt/top', 'T-shirt/top', 'Pullover', 'Trouser', 'Sneaker', 'Coat', 'Coat', 'Shirt', 'Ankle boot', 'Shirt', 'Coat', 'Bag', 'Bag', 'Sneaker', 'Trouser', 'Shirt', 'Pullover', 'Bag', 'Dress', 'Sandal', 'Sneaker', 'Sandal', 'Ankle boot', 'Bag', 'Pullover', 'Sneaker', 'T-shirt/top', 'Pullover', 'Sandal', 'Sandal', 'Shirt', 'Dress', 'Pullover', 'Sandal', 'Pullover', 'Shirt', 'Sneaker', 'Shirt', 'Ankle boot', 'Shirt', 'T-shirt/top', 'Sandal', 'Trouser', 'Dress', 'Bag', 'Sneaker', 'Trouser', 'Pullover', 'Sandal', 'Sandal', 'Sandal', 'Bag', 'Dress', 'T-shirt/top', 'Sandal', 'Dress', 'Shirt', 'T-shirt/top', 'Pullover', 'Coat', 'Bag', 'Bag', 'Coat', 'Bag', 'Sneaker', 'Sandal', 'Sneaker', 'Sandal', 'Coat', 'Coat', 'Coat', 'Coat', 'Dress', 'T-shirt/top', 'Shirt', 'Ankle boot', 'Sneaker', 'Ankle boot', 'T-shirt/top', 'Sandal', 'Coat', 'Dress', 'Trouser', 'Ankle boot', 'Sneaker', 'Ankle boot', 'Ankle boot', 'Bag', 'Bag', 'Pullover', 'Bag', 'Dress', 'Sneaker', 'Shirt', 'Coat', 'Sneaker', 'Dress', 'Pullover', 'Coat', 'Dress', 'Bag', 'Dress', 'Trouser', 'Bag', 'Pullover', 'Ankle boot', 'Shirt', 'Ankle boot', 'Pullover', 'Trouser', 'Sneaker', 'Dress', 'Sandal', 'Ankle boot', 'Bag', 'Ankle boot', 'Bag', 'Bag', 'Sandal', 'Pullover', 'Ankle boot', 'Shirt', 'Pullover', 'Coat', 'Bag', 'Shirt', 'T-shirt/top', 'Bag', 'Sneaker', 'T-shirt/top', 'Trouser', 'Sandal', 'Shirt', 'Pullover', 'Sneaker', 'Shirt', 'Sneaker', 'Dress', 'Pullover', 'Coat', 'T-shirt/top', 'Coat', 'Bag', 'Ankle boot', 'Coat', 'Bag', 'Trouser', 'Trouser', 'Sneaker', 'Sandal', 'Ankle boot', 'Coat', 'Sneaker', 'Sneaker', 'Sneaker', 'Sandal', 'Dress', 'Bag', 'T-shirt/top', 'Ankle boot', 'Pullover', 'Dress', 'Sneaker', 'Trouser', 'Sneaker', 'Pullover', 'Ankle boot', 'Trouser', 'Bag', 'Sandal', 'Dress', 'Coat', 'T-shirt/top', 'Pullover', 'Coat', 'Pullover', 'Pullover', 'Trouser', 'T-shirt/top', 'Sneaker', 'Coat', 'Sneaker', 'Shirt', 'Bag', 'Coat', 'Bag', 'Trouser', 'Ankle boot', 'Coat', 'Sandal', 'Pullover', 'Sneaker', 'Ankle boot', 'Dress', 'Sandal', 'Shirt', 'Bag', 'T-shirt/top', 'Shirt', 'Sneaker', 'Pullover', 'Bag', 'Shirt', 'Pullover', 'Bag', 'Sneaker', 'Bag', 'Bag', 'Coat', 'Sneaker', 'Pullover', 'Sandal', 'Sandal', 'Bag', 'Bag', 'Coat', 'Ankle boot', 'T-shirt/top', 'Sneaker', 'Trouser', 'Bag', 'Sneaker', 'Bag', 'Shirt', 'Trouser', 'Pullover', 'Trouser', 'Shirt', 'Sneaker', 'Dress', 'Pullover', 'Coat', 'Coat', 'Trouser', 'Sneaker', 'Pullover', 'Shirt', 'Coat', 'Pullover', 'Dress', 'Sandal', 'Trouser', 'Coat', 'Sneaker', 'Shirt', 'Bag', 'Sandal', 'Dress', 'Coat', 'Pullover', 'Shirt', 'T-shirt/top', 'Pullover', 'Shirt', 'Coat', 'Pullover', 'Ankle boot', 'Sneaker', 'Shirt', 'Coat', 'T-shirt/top', 'Trouser', 'Coat', 'Bag', 'Bag', 'Pullover', 'T-shirt/top', 'Shirt', 'Ankle boot', 'Coat', 'Trouser', 'Sneaker', 'Sandal', 'Coat', 'Sandal', 'T-shirt/top', 'Pullover', 'Bag', 'Ankle boot', 'Pullover', 'Coat', 'Sandal', 'T-shirt/top', 'Dress', 'Coat', 'Shirt', 'Pullover', 'Trouser', 'Dress', 'Ankle boot', 'Bag', 'Trouser', 'Pullover', 'Bag', 'Dress', 'Pullover', 'Shirt', 'Sneaker', 'Shirt', 'Sandal', 'Coat', 'Trouser', 'Coat', 'T-shirt/top', 'Bag', 'T-shirt/top', 'Shirt', 'Ankle boot', 'Dress', 'Sneaker', 'Coat', 'Pullover', 'Trouser', 'Sneaker', 'Coat', 'Trouser', 'Dress', 'Trouser', 'Pullover', 'Ankle boot', 'Pullover', 'Bag', 'Dress', 'Bag', 'T-shirt/top', 'Dress', 'Shirt', 'Sneaker', 'Coat', 'Pullover', 'Pullover', 'Sneaker', 'Sandal', 'Ankle boot', 'Sneaker', 'Shirt', 'Ankle boot', 'Dress', 'Shirt', 'Sandal', 'Pullover', 'Pullover', 'Sneaker', 'Pullover', 'Dress', 'Dress', 'Ankle boot', 'Shirt', 'Trouser', 'Dress', 'Trouser', 'Pullover', 'T-shirt/top', 'Dress', 'Dress', 'Ankle boot', 'Sneaker', 'Trouser', 'Dress', 'Dress', 'Pullover', 'Sandal', 'Pullover', 'Ankle boot', 'Sneaker', 'Dress', 'T-shirt/top', 'Trouser', 'Pullover', 'Bag', 'Shirt', 'Pullover', 'Pullover', 'Bag', 'Shirt', 'Ankle boot', 'Sneaker', 'Bag', 'Dress', 'Coat', 'Ankle boot', 'Coat', 'Sneaker', 'Sandal', 'Bag', 'Pullover', 'Shirt', 'Bag', 'T-shirt/top', 'Shirt', 'Dress', 'Sandal', 'Dress', 'Bag', 'Trouser', 'Trouser', 'Sneaker', 'Dress', 'Trouser', 'Ankle boot', 'Coat', 'Bag', 'Ankle boot', 'Sandal', 'Ankle boot', 'Sneaker', 'Ankle boot', 'Sneaker', 'Coat', 'Ankle boot', 'Coat', 'Bag', 'Pullover', 'Pullover', 'Coat', 'Dress', 'Sneaker', 'Sneaker', 'Trouser', 'Dress', 'Trouser', 'Pullover', 'Sandal', 'Dress', 'Dress', 'Bag', 'Sandal', 'T-shirt/top', 'Pullover', 'Bag', 'T-shirt/top', 'Shirt', 'Shirt', 'Bag', 'Pullover', 'Ankle boot', 'Bag', 'Dress', 'Trouser', 'Ankle boot', 'Ankle boot', 'T-shirt/top', 'Coat', 'Trouser', 'Coat', 'Coat', 'Coat', 'Shirt', 'Pullover', 'Sandal', 'Dress', 'Dress', 'Dress', 'Sneaker', 'Trouser', 'T-shirt/top', 'Bag', 'Trouser', 'Ankle boot', 'Shirt', 'Ankle boot', 'Ankle boot', 'Pullover', 'Sandal', 'Bag', 'Bag', 'T-shirt/top', 'Sneaker', 'Sneaker', 'Trouser', 'Dress', 'Bag', 'Pullover', 'Dress', 'Pullover', 'Dress', 'Pullover', 'Coat', 'Sneaker', 'Trouser', 'Coat', 'Dress', 'Bag', 'Ankle boot', 'Sandal', 'Dress', 'Trouser', 'T-shirt/top', 'Dress', 'Ankle boot', 'Sneaker', 'Trouser', 'Trouser', 'Sandal', 'Sandal', 'Shirt', 'Dress', 'Coat', 'Coat', 'Coat', 'Ankle boot', 'Sandal', 'Bag', 'Coat', 'Trouser', 'Coat', 'Shirt', 'Shirt', 'Pullover', 'Pullover', 'Pullover', 'Dress', 'Dress', 'T-shirt/top', 'Pullover', 'Coat', 'Dress', 'Dress', 'Shirt', 'T-shirt/top', 'Coat', 'Ankle boot', 'Ankle boot', 'Pullover', 'Bag', 'T-shirt/top', 'Sandal', 'Coat', 'Pullover', 'Ankle boot', 'Trouser', 'Sandal', 'Coat', 'Bag', 'Pullover', 'Sneaker', 'Trouser', 'Sandal', 'Shirt', 'Sneaker', 'Sandal', 'Ankle boot', 'Dress', 'Dress', 'Pullover', 'Dress', 'Sneaker', 'T-shirt/top', 'Sneaker', 'Coat', 'Dress', 'Dress', 'Shirt', 'Coat', 'Sandal', 'Shirt', 'Sandal', 'Ankle boot', 'Pullover', 'Pullover', 'Sneaker', 'Trouser', 'Shirt', 'Pullover', 'Coat', 'T-shirt/top', 'Shirt', 'Sandal', 'Ankle boot', 'Sneaker', 'Coat', 'Sneaker', 'Bag', 'Coat', 'Pullover', 'Trouser', 'Ankle boot', 'Pullover', 'Shirt', 'Pullover', 'Bag', 'Pullover', 'Dress', 'Coat', 'Bag', 'Trouser', 'Coat', 'Trouser', 'Shirt', 'Bag', 'Sneaker', 'Sandal', 'Dress', 'Ankle boot', 'Ankle boot', 'T-shirt/top', 'Sandal', 'Bag', 'Sneaker', 'Ankle boot', 'Bag', 'Dress', 'Coat', 'Sneaker', 'Sneaker', 'Coat', 'T-shirt/top', 'Pullover', 'Sandal', 'Sandal', 'T-shirt/top', 'Ankle boot', 'Bag', 'Ankle boot', 'Sneaker', 'Shirt', 'Bag', 'Pullover', 'Dress', 'Dress', 'Trouser', 'Bag', 'Sandal', 'T-shirt/top', 'Sandal', 'Bag', 'Shirt', 'Pullover', 'Sneaker', 'Bag', 'Shirt', 'Sandal', 'Shirt', 'Ankle boot', 'T-shirt/top', 'Dress', 'Coat', 'Shirt', 'Dress', 'Bag', 'Dress', 'Sneaker', 'Pullover', 'Dress', 'Dress', 'Dress', 'Sandal', 'Sandal', 'Trouser', 'Ankle boot', 'Trouser', 'Bag', 'Sneaker', 'Shirt', 'Bag', 'Sneaker', 'Dress', 'Bag', 'Shirt', 'T-shirt/top', 'Pullover', 'Shirt', 'Ankle boot', 'Shirt', 'Sneaker', 'Sandal', 'Trouser', 'Bag', 'Coat', 'Dress', 'T-shirt/top', 'Sandal', 'Pullover', 'Sneaker', 'Trouser', 'Sneaker', 'Trouser', 'Dress', 'T-shirt/top', 'T-shirt/top', 'Coat', 'Sneaker', 'Dress', 'Dress', 'Shirt', 'Coat', 'Pullover', 'Coat', 'Pullover', 'Trouser', 'Pullover', 'Ankle boot', 'Sandal', 'Coat', 'Pullover', 'Ankle boot', 'Sneaker', 'T-shirt/top', 'Shirt', 'Ankle boot', 'Coat', 'Shirt', 'Bag', 'Sneaker', 'Trouser', 'Ankle boot', 'Dress', 'Pullover', 'Ankle boot', 'Bag', 'Trouser', 'Sneaker', 'Bag', 'Shirt', 'Ankle boot', 'Sneaker', 'Coat', 'Coat', 'Dress', 'Shirt', 'Trouser', 'Pullover', 'T-shirt/top', 'T-shirt/top', 'Sneaker', 'Bag', 'Dress', 'Sandal', 'Dress', 'Sandal', 'Coat', 'Sneaker', 'Bag', 'Pullover', 'Trouser', 'Coat', 'Coat', 'Coat', 'Bag', 'T-shirt/top', 'Sandal', 'Coat', 'Pullover', 'T-shirt/top', 'Shirt', 'Pullover', 'Dress', 'Pullover', 'Pullover', 'Dress', 'Sneaker', 'Shirt', 'Trouser', 'Sneaker', 'Pullover', 'Dress', 'Pullover', 'Pullover', 'T-shirt/top', 'T-shirt/top', 'T-shirt/top', 'Trouser', 'Sandal', 'Pullover', 'Ankle boot', 'Coat', 'Trouser', 'Sandal', 'Shirt', 'Bag', 'Pullover', 'Bag', 'Coat', 'Pullover', 'Ankle boot', 'Bag', 'Trouser', 'Trouser', 'Shirt', 'T-shirt/top', 'T-shirt/top', 'Sneaker', 'Coat', 'Ankle boot', 'Pullover', 'Dress', 'Trouser', 'Sandal', 'Pullover', 'Shirt', 'Ankle boot', 'Pullover', 'Ankle boot', 'Pullover', 'Sneaker', 'Dress', 'Sneaker', 'Pullover', 'Dress', 'Dress', 'Ankle boot', 'T-shirt/top', 'Pullover', 'Pullover', 'Dress', 'Shirt', 'Bag', 'Ankle boot', 'Ankle boot', 'Dress', 'Trouser', 'Trouser', 'Sandal', 'Sneaker', 'Sneaker', 'Ankle boot', 'Pullover', 'Sneaker', 'Coat', 'Shirt', 'Pullover', 'Bag', 'T-shirt/top', 'Sandal', 'Trouser', 'Sneaker', 'Coat', 'Pullover', 'Coat', 'Trouser', 'Dress', 'Shirt', 'Pullover', 'Coat', 'Shirt', 'Dress', 'Sandal', 'Sandal', 'Sneaker', 'Dress', 'Sneaker', 'Pullover', 'Coat', 'Dress', 'Trouser', 'Sandal', 'Trouser', 'Coat', 'Sneaker', 'Bag', 'Ankle boot', 'Ankle boot', 'Shirt', 'Dress', 'Ankle boot', 'Sandal', 'T-shirt/top', 'Pullover', 'Ankle boot', 'Pullover', 'Bag', 'Sandal', 'Pullover', 'Sandal', 'Bag', 'Shirt', 'Sneaker', 'Coat', 'Coat', 'Trouser', 'Dress', 'Sandal', 'Pullover', 'T-shirt/top', 'Trouser', 'Dress', 'Sandal', 'Coat', 'Sandal', 'Shirt', 'Trouser', 'Shirt', 'Trouser', 'Pullover', 'Sneaker', 'Sandal', 'Ankle boot', 'Sneaker', 'Bag', 'Bag', 'T-shirt/top', 'Ankle boot', 'Sneaker', 'Trouser', 'Coat', 'Ankle boot', 'Bag', 'Sneaker', 'Dress', 'Ankle boot', 'Ankle boot', 'Bag', 'Dress', 'Sandal', 'Shirt', 'Dress', 'Pullover', 'Coat', 'Pullover', 'Bag', 'Pullover', 'Dress', 'Pullover', 'Pullover', 'Dress', 'Bag', 'Coat', 'Sandal', 'Coat', 'Sneaker', 'Shirt', 'Sneaker', 'Dress', 'Trouser', 'T-shirt/top', 'Bag', 'Sandal', 'Ankle boot', 'Sandal', 'Shirt', 'Dress', 'Dress', 'Coat', 'Sneaker', 'T-shirt/top', 'Sandal', 'Trouser', 'Trouser', 'Ankle boot', 'Ankle boot', 'Sandal', 'Coat', 'Pullover', 'T-shirt/top', 'Pullover', 'Sandal', 'Sneaker', 'Shirt', 'Sneaker', 'Pullover', 'Dress', 'Sneaker', 'Bag', 'Trouser', 'T-shirt/top', 'Ankle boot', 'Shirt', 'Shirt', 'Sandal', 'Bag', 'Pullover', 'Trouser', 'Coat', 'Bag', 'Coat', 'Pullover', 'Shirt', 'Ankle boot', 'Ankle boot', 'Bag', 'Sandal', 'Coat', 'Bag', 'Bag', 'Trouser', 'Coat', 'Shirt', 'Sneaker', 'Shirt', 'Sandal', 'Pullover', 'Bag', 'Trouser', 'Trouser', 'Dress', 'Coat', 'Ankle boot', 'Coat', 'Sandal', 'Dress', 'Sandal', 'T-shirt/top', 'T-shirt/top', 'Dress', 'Sneaker', 'T-shirt/top', 'Sandal', 'Pullover', 'Sneaker', 'Sandal', 'Pullover', 'Sandal', 'Pullover', 'Shirt', 'T-shirt/top', 'Coat', 'Trouser', 'Coat', 'T-shirt/top', 'Shirt', 'Pullover', 'Pullover', 'Shirt', 'Shirt', 'Dress', 'Ankle boot', 'T-shirt/top', 'Dress', 'Coat', 'Ankle boot', 'Pullover', 'Bag', 'Ankle boot', 'Pullover', 'Ankle boot', 'Pullover', 'Pullover', 'Coat', 'Sneaker', 'Pullover', 'Sandal', 'Sandal', 'Sneaker', 'Pullover', 'T-shirt/top', 'Sneaker', 'Dress', 'Dress', 'Trouser', 'Ankle boot', 'Sandal', 'Pullover', 'Shirt', 'Trouser', 'Sneaker', 'Shirt', 'Bag', 'Ankle boot', 'Pullover', 'T-shirt/top', 'T-shirt/top', 'Coat', 'Coat', 'T-shirt/top', 'Trouser', 'Dress', 'Pullover', 'Trouser', 'T-shirt/top', 'Dress', 'Dress', 'Coat', 'Sandal', 'Ankle boot', 'Trouser', 'Sneaker', 'Trouser', 'Dress', 'Pullover', 'T-shirt/top', 'Pullover', 'Coat', 'Shirt', 'Bag', 'Dress', 'Dress', 'T-shirt/top', 'Coat', 'Dress', 'Pullover', 'Sneaker', 'Pullover', 'Ankle boot', 'Ankle boot', 'Dress', 'Coat', 'Sneaker', 'Sandal', 'Dress', 'Bag', 'Pullover', 'Ankle boot', 'Bag', 'Sandal', 'Sandal', 'Dress', 'Trouser', 'Bag', 'Pullover', 'Sneaker', 'Trouser', 'Pullover', 'Ankle boot', 'Ankle boot', 'Dress', 'Shirt', 'Shirt', 'Sandal', 'T-shirt/top', 'Ankle boot', 'Pullover', 'Dress', 'Sandal', 'Sandal', 'Coat', 'Trouser', 'Coat', 'Dress', 'Sneaker', 'Coat', 'Shirt', 'Shirt', 'Trouser', 'Coat', 'Bag', 'Shirt', 'Pullover', 'Sandal', 'Coat', 'Coat', 'Coat', 'Trouser', 'Sneaker', 'Sneaker', 'Sandal', 'Ankle boot', 'Bag', 'Bag', 'Pullover', 'Shirt', 'Sneaker', 'Shirt', 'Dress', 'T-shirt/top', 'Trouser', 'Coat', 'Trouser', 'Pullover', 'Pullover', 'Ankle boot', 'Dress', 'Ankle boot', 'Sneaker', 'Dress', 'Sandal', 'Trouser', 'Sandal', 'Coat', 'Sandal', 'Shirt', 'Pullover', 'Trouser', 'T-shirt/top', 'Sandal', 'Dress', 'Shirt', 'Dress', 'Sneaker', 'Sandal', 'Dress', 'T-shirt/top', 'Dress', 'Shirt', 'Trouser', 'Bag', 'Sneaker', 'Ankle boot', 'Coat', 'Pullover', 'T-shirt/top', 'Pullover', 'Ankle boot', 'Trouser', 'Shirt', 'Bag', 'Shirt', 'Dress', 'Ankle boot', 'Dress', 'Coat', 'Shirt', 'Dress', 'T-shirt/top', 'Trouser', 'Sandal', 'Coat', 'Shirt', 'Trouser', 'Trouser', 'T-shirt/top', 'Sandal', 'Trouser', 'Coat', 'Sneaker', 'Dress', 'Bag', 'Dress', 'T-shirt/top', 'Dress', 'Coat', 'Pullover', 'Pullover', 'Sneaker', 'T-shirt/top', 'Ankle boot', 'Shirt', 'Ankle boot', 'Ankle boot', 'Coat', 'Ankle boot', 'Dress', 'Coat', 'Ankle boot', 'Coat', 'Sandal', 'Bag', 'Ankle boot', 'Shirt', 'Trouser', 'Pullover', 'Dress', 'Pullover', 'Trouser', 'Dress', 'Pullover', 'Shirt', 'Bag', 'Pullover', 'Dress', 'Coat', 'T-shirt/top', 'Bag', 'Ankle boot', 'Dress', 'Ankle boot', 'Pullover', 'Sneaker', 'Dress', 'T-shirt/top', 'Pullover', 'Pullover', 'Sneaker', 'Bag', 'Coat', 'Bag', 'Trouser', 'Bag', 'Ankle boot', 'Sandal', 'Pullover', 'Trouser', 'Sneaker', 'Shirt', 'Sneaker', 'Sneaker', 'Pullover', 'Coat', 'Sandal', 'Ankle boot', 'Coat', 'Pullover', 'Coat', 'Pullover', 'T-shirt/top', 'Sneaker', 'Ankle boot', 'Dress', 'Shirt', 'Sneaker', 'Coat', 'Sandal', 'Sandal', 'Shirt', 'Coat', 'Dress', 'Coat', 'Bag', 'Sandal', 'Trouser', 'Trouser', 'Bag', 'Dress', 'Trouser', 'Bag', 'Trouser', 'T-shirt/top', 'Coat', 'Ankle boot', 'Shirt', 'Dress', 'Pullover', 'Sneaker', 'Pullover', 'Trouser', 'T-shirt/top', 'Pullover', 'Pullover', 'Ankle boot', 'Trouser', 'T-shirt/top', 'Trouser', 'Shirt', 'T-shirt/top', 'Dress', 'Bag', 'Bag', 'T-shirt/top', 'Pullover', 'Bag', 'Sneaker', 'Shirt', 'Ankle boot', 'Dress', 'Pullover', 'Coat', 'Ankle boot', 'Ankle boot', 'Ankle boot', 'Trouser', 'Dress', 'T-shirt/top', 'Shirt', 'Trouser', 'Pullover', 'Dress', 'Pullover', 'Shirt', 'Shirt', 'Shirt', 'Ankle boot', 'Dress', 'Ankle boot', 'T-shirt/top', 'Coat', 'Sandal', 'Ankle boot', 'Trouser', 'Sneaker', 'Shirt', 'Sandal', 'Pullover', 'Dress', 'Sandal', 'Ankle boot', 'Sneaker', 'Coat', 'Pullover', 'Sneaker', 'Sneaker', 'Ankle boot', 'Shirt', 'Bag', 'Dress', 'T-shirt/top', 'Coat', 'Coat', 'T-shirt/top', 'Trouser', 'Dress', 'Pullover', 'Pullover', 'Pullover', 'T-shirt/top', 'Coat', 'Sandal', 'T-shirt/top', 'Bag', 'Coat', 'Trouser', 'Sneaker', 'Shirt', 'Trouser', 'Bag', 'Dress', 'Sandal', 'Pullover', 'Sandal', 'Sandal', 'Coat', 'Trouser', 'Pullover', 'T-shirt/top', 'Sneaker', 'Sneaker', 'T-shirt/top', 'Sneaker', 'Shirt', 'Bag', 'Trouser', 'Bag', 'Dress', 'Sneaker', 'Ankle boot', 'Shirt', 'Pullover', 'Ankle boot', 'Dress', 'Sneaker', 'Bag', 'T-shirt/top', 'Bag', 'Pullover', 'Bag', 'Dress', 'Pullover', 'T-shirt/top', 'Pullover', 'Dress', 'Coat', 'Sandal', 'Trouser', 'Shirt', 'Trouser', 'Ankle boot', 'T-shirt/top', 'Sandal', 'Coat', 'Dress', 'Sneaker', 'Pullover', 'Coat', 'Sandal', 'Ankle boot', 'Sneaker', 'Coat', 'Shirt', 'Trouser', 'Pullover', 'Trouser', 'Trouser', 'Ankle boot', 'Bag', 'Dress', 'Coat', 'Sneaker', 'Shirt', 'Trouser', 'Ankle boot', 'Ankle boot', 'T-shirt/top', 'Dress', 'Trouser', 'Sneaker', 'Pullover', 'Pullover', 'Trouser', 'Sandal', 'Pullover', 'Sneaker', 'Trouser', 'Shirt', 'Coat', 'Coat', 'Coat', 'Bag', 'Shirt', 'Sneaker', 'Trouser', 'Pullover', 'T-shirt/top', 'Sneaker', 'Sandal', 'Bag', 'T-shirt/top', 'Pullover', 'Trouser', 'Pullover', 'Sneaker', 'Ankle boot', 'Dress', 'Sneaker', 'T-shirt/top', 'Dress', 'Ankle boot', 'Sandal', 'Sneaker', 'Dress', 'Trouser', 'Trouser', 'Bag', 'Sandal', 'Shirt', 'Bag', 'Sneaker', 'Pullover', 'Bag', 'Bag', 'Dress', 'Coat', 'Shirt', 'Ankle boot', 'Coat', 'Ankle boot', 'Bag', 'Ankle boot', 'T-shirt/top', 'Pullover', 'Ankle boot', 'Dress', 'Sandal', 'Trouser', 'Sneaker', 'Pullover', 'Bag', 'Sandal', 'Bag', 'Ankle boot', 'Shirt', 'Ankle boot', 'Sneaker', 'Sneaker', 'Coat', 'T-shirt/top', 'Pullover', 'Coat', 'Shirt', 'Coat', 'Dress', 'Bag', 'Dress', 'Bag', 'Trouser', 'Sneaker', 'Trouser', 'Sandal', 'T-shirt/top', 'Shirt', 'Bag', 'Dress', 'Coat', 'Coat', 'Pullover', 'Sandal', 'Coat', 'T-shirt/top', 'Ankle boot', 'Ankle boot', 'T-shirt/top', 'Bag', 'Sandal', 'Sneaker', 'Trouser', 'Pullover', 'T-shirt/top', 'Coat', 'Sneaker', 'Sandal', 'Sneaker', 'Bag', 'Sneaker', 'Dress', 'Bag', 'Trouser', 'Sneaker', 'T-shirt/top', 'Trouser', 'Dress', 'Coat', 'Shirt', 'Shirt', 'Sneaker', 'Shirt', 'T-shirt/top', 'Pullover', 'Dress', 'T-shirt/top', 'Dress', 'Dress', 'Coat', 'Shirt', 'Pullover', 'Shirt', 'Shirt', 'Coat', 'Sandal', 'Dress', 'Sneaker', 'Pullover', 'Coat', 'Sneaker', 'Sneaker', 'Bag', 'Coat', 'Bag', 'Trouser', 'Dress', 'Coat', 'Ankle boot', 'Dress', 'Bag', 'Pullover', 'Ankle boot', 'Shirt', 'Bag', 'T-shirt/top', 'Coat', 'Trouser', 'Coat', 'Sandal', 'Bag', 'T-shirt/top', 'Ankle boot', 'Trouser', 'Pullover', 'Sneaker', 'Coat', 'Shirt', 'Pullover', 'Sandal', 'Shirt', 'Shirt', 'Sandal', 'Coat', 'Shirt', 'Shirt', 'Ankle boot', 'Dress', 'Pullover', 'Sandal', 'T-shirt/top', 'Trouser', 'Ankle boot', 'Ankle boot', 'Shirt', 'Coat', 'Ankle boot', 'Ankle boot', 'Coat', 'Pullover', 'T-shirt/top', 'Coat', 'Pullover', 'Dress', 'Coat', 'Trouser', 'Trouser', 'Bag', 'Sandal', 'Coat', 'Trouser', 'Sneaker', 'Sandal', 'Coat', 'Dress', 'Ankle boot', 'Pullover', 'Ankle boot', 'Sneaker', 'Pullover', 'Coat', 'Sneaker', 'Trouser', 'Shirt', 'Shirt', 'Pullover', 'Dress', 'Sandal', 'Sneaker', 'Dress', 'Bag', 'Pullover', 'Pullover', 'Sneaker', 'T-shirt/top', 'Coat', 'Shirt', 'Shirt', 'Sneaker', 'Ankle boot', 'Shirt', 'Shirt', 'Sneaker', 'Sneaker', 'Shirt', 'Ankle boot', 'Trouser', 'Coat', 'Coat', 'Dress', 'Sandal', 'Ankle boot', 'Pullover', 'Dress', 'Shirt', 'Pullover', 'Trouser', 'Shirt', 'T-shirt/top', 'Dress', 'Coat', 'Coat', 'Dress', 'T-shirt/top', 'T-shirt/top', 'Pullover', 'Bag', 'Pullover', 'Bag', 'Shirt', 'Sneaker', 'Ankle boot', 'Shirt', 'Sneaker', 'Ankle boot', 'Shirt', 'Coat', 'Dress', 'Sneaker', 'Shirt', 'Dress', 'Sandal', 'Dress', 'Dress', 'Trouser', 'Ankle boot', 'Shirt', 'Coat', 'Pullover', 'Sandal', 'Pullover', 'Sneaker', 'Trouser', 'Sandal', 'Coat', 'Shirt', 'Coat', 'Sandal', 'Dress', 'Trouser', 'Bag', 'Pullover', 'Shirt', 'Ankle boot', 'Ankle boot', 'T-shirt/top', 'Bag', 'Dress', 'Shirt', 'T-shirt/top', 'Bag', 'Sneaker', 'Coat', 'Dress', 'Dress', 'Shirt', 'Trouser', 'Bag', 'Dress', 'Bag', 'Ankle boot', 'Dress', 'Shirt', 'Shirt', 'Bag', 'Pullover', 'Pullover', 'Sneaker', 'Ankle boot', 'Pullover', 'T-shirt/top', 'T-shirt/top', 'Ankle boot', 'Sandal', 'Sandal', 'Sneaker', 'Bag', 'Bag', 'Pullover', 'Dress', 'Sandal', 'Coat', 'T-shirt/top', 'Sandal', 'Trouser', 'Dress', 'Bag', 'Shirt', 'Dress', 'Shirt', 'Trouser', 'Coat', 'Pullover', 'Sneaker', 'Coat', 'Dress', 'T-shirt/top', 'Bag', 'Ankle boot', 'Coat', 'Trouser', 'Ankle boot', 'Bag', 'Pullover', 'Sneaker', 'Sneaker', 'Coat', 'T-shirt/top', 'Sneaker', 'Sneaker', 'Pullover', 'Ankle boot', 'Sandal', 'Bag', 'Sandal', 'Dress', 'Sandal', 'T-shirt/top', 'Shirt', 'T-shirt/top', 'Sandal', 'Shirt', 'Sneaker', 'Sandal', 'Shirt', 'Shirt', 'Coat', 'Pullover', 'Coat', 'Bag', 'Dress', 'Pullover', 'Bag', 'Ankle boot', 'Dress', 'Shirt', 'Bag', 'Trouser', 'Sneaker', 'Ankle boot', 'T-shirt/top', 'Sneaker', 'Bag', 'Sandal', 'Sneaker', 'Pullover', 'Ankle boot', 'Sneaker', 'Sandal', 'Pullover', 'Dress', 'Pullover', 'Shirt', 'Sneaker', 'Dress', 'Pullover', 'Dress', 'Dress', 'Bag', 'Dress', 'Bag', 'Coat', 'Ankle boot', 'Sneaker', 'Sneaker', 'Pullover', 'Trouser', 'Ankle boot', 'Trouser', 'T-shirt/top', 'Sneaker', 'Sandal', 'Dress', 'Coat', 'Dress', 'Pullover', 'T-shirt/top', 'Coat', 'Dress', 'Sandal', 'Trouser', 'Bag', 'Pullover', 'Pullover', 'Coat', 'Coat', 'Dress', 'T-shirt/top', 'Dress', 'Shirt', 'Ankle boot', 'Ankle boot', 'Sandal', 'Sneaker', 'Sneaker', 'Dress', 'Bag', 'Shirt', 'Pullover', 'Ankle boot', 'T-shirt/top', 'Sandal', 'Pullover', 'Coat', 'Coat', 'Dress', 'Dress', 'Shirt', 'Bag', 'Ankle boot', 'Pullover', 'Sneaker', 'T-shirt/top', 'Sneaker', 'Sandal', 'Trouser', 'Trouser', 'Pullover', 'Shirt', 'Dress', 'Pullover', 'Shirt', 'Trouser', 'Dress', 'Shirt', 'Sneaker', 'Sandal', 'Dress', 'Trouser', 'T-shirt/top', 'Ankle boot', 'Bag', 'Dress', 'Coat', 'Bag', 'Sandal', 'Shirt', 'Coat', 'Sneaker', 'Dress', 'Pullover', 'Sneaker', 'Pullover', 'Pullover', 'Pullover', 'Coat', 'Ankle boot', 'Pullover', 'Shirt', 'Sneaker', 'Sandal', 'Sandal', 'Bag', 'Shirt', 'Shirt', 'Sneaker', 'T-shirt/top', 'Shirt', 'Coat', 'Sandal', 'Ankle boot', 'Sandal', 'Pullover', 'Sandal', 'Bag', 'Bag', 'Trouser', 'Pullover', 'Dress', 'T-shirt/top', 'Dress', 'Shirt', 'Pullover', 'Trouser', 'Coat', 'Shirt', 'T-shirt/top', 'Coat', 'T-shirt/top', 'Sandal', 'Sneaker', 'Trouser', 'Trouser', 'Coat', 'Ankle boot', 'T-shirt/top', 'Dress', 'Bag', 'Shirt', 'Sandal', 'Bag', 'Dress', 'Coat', 'Ankle boot', 'Sneaker', 'Bag', 'Shirt', 'Dress', 'Bag', 'Coat', 'Pullover', 'Shirt', 'Pullover', 'Coat', 'T-shirt/top', 'Pullover', 'Dress', 'Sandal', 'Bag', 'T-shirt/top', 'Trouser', 'T-shirt/top', 'Dress', 'Trouser', 'Sandal', 'Shirt', 'Sandal', 'Pullover', 'Bag', 'Dress', 'Shirt', 'Pullover', 'Shirt', 'Coat', 'Shirt', 'Ankle boot', 'Sneaker', 'T-shirt/top', 'T-shirt/top', 'Sneaker', 'Coat', 'Pullover', 'Pullover', 'Dress', 'Sneaker', 'T-shirt/top', 'Ankle boot', 'Sandal', 'Shirt', 'Coat', 'Dress', 'Trouser', 'Sandal', 'Pullover', 'Sandal', 'Bag', 'Bag', 'Coat', 'Sandal', 'Dress', 'Dress', 'Dress', 'Pullover', 'Trouser', 'Shirt', 'Dress', 'Sneaker', 'Shirt', 'Coat', 'Sneaker', 'Pullover', 'Sneaker', 'Pullover', 'Shirt', 'T-shirt/top', 'Ankle boot', 'Sandal', 'T-shirt/top', 'Bag', 'Shirt', 'Pullover', 'Ankle boot', 'Shirt', 'Dress', 'Ankle boot', 'Sneaker', 'Coat', 'Sandal', 'Shirt', 'Pullover', 'Dress', 'Dress', 'Shirt', 'Sandal', 'Trouser', 'Ankle boot', 'Bag', 'Sneaker', 'Dress', 'T-shirt/top', 'Coat', 'Sandal', 'Dress', 'Dress', 'Sandal', 'Trouser', 'Coat', 'Pullover', 'Sandal', 'Sandal', 'Ankle boot', 'Sneaker', 'T-shirt/top', 'Pullover', 'T-shirt/top', 'Trouser', 'Bag', 'Sandal', 'Pullover', 'Pullover', 'Bag', 'Pullover', 'Ankle boot', 'Shirt', 'Pullover', 'Dress', 'Sandal', 'Sandal', 'Bag', 'Dress', 'Coat', 'Sneaker', 'Sandal', 'T-shirt/top', 'Coat', 'Sneaker', 'Sneaker', 'Bag', 'Sneaker', 'Bag', 'Dress', 'Shirt', 'Bag', 'Dress', 'Bag', 'Bag', 'Trouser', 'Sneaker', 'Bag', 'Trouser', 'Ankle boot', 'Pullover', 'Dress', 'Sneaker', 'T-shirt/top', 'Bag', 'T-shirt/top', 'T-shirt/top', 'Sandal', 'Dress', 'Bag', 'Shirt', 'Sneaker', 'Dress', 'Bag', 'Shirt', 'Coat', 'Coat', 'Bag', 'Sandal', 'Pullover', 'Dress', 'Trouser', 'Sneaker', 'Shirt', 'Ankle boot', 'Bag', 'Pullover', 'Bag', 'Sandal', 'Coat', 'Pullover', 'Bag', 'Trouser', 'Ankle boot', 'T-shirt/top', 'Shirt', 'Ankle boot', 'Coat', 'Trouser', 'Dress', 'T-shirt/top', 'Sneaker', 'Sandal', 'Coat', 'Dress', 'Dress', 'Ankle boot', 'Sandal', 'T-shirt/top', 'Dress', 'Pullover', 'Shirt', 'Bag', 'Coat', 'Shirt', 'Dress', 'Pullover', 'Dress', 'Sneaker', 'Shirt', 'Bag', 'Trouser', 'T-shirt/top', 'Sneaker', 'Pullover', 'Bag', 'Sandal', 'Coat', 'Ankle boot', 'Bag', 'Dress', 'Coat', 'Trouser', 'Pullover', 'Ankle boot', 'Pullover', 'Bag', 'Shirt', 'T-shirt/top', 'Trouser', 'Pullover', 'Bag', 'T-shirt/top', 'Sandal', 'Pullover', 'Bag', 'T-shirt/top', 'Trouser', 'Sneaker', 'Shirt', 'Trouser', 'Sneaker', 'Coat', 'Sandal', 'Bag', 'Ankle boot', 'Sneaker', 'Coat', 'Ankle boot', 'Pullover', 'Ankle boot', 'Sneaker', 'Coat', 'Ankle boot', 'T-shirt/top', 'Ankle boot', 'Sneaker', 'T-shirt/top', 'Bag', 'Trouser', 'Coat', 'Trouser', 'Shirt', 'Sneaker', 'Dress', 'Ankle boot', 'Ankle boot', 'Dress', 'Sandal', 'Sandal', 'Pullover', 'Pullover', 'Sandal', 'Dress', 'Shirt', 'Bag', 'Bag', 'Sandal', 'Sneaker', 'Shirt', 'Pullover', 'Ankle boot', 'Sandal', 'Pullover', 'T-shirt/top', 'Ankle boot', 'T-shirt/top', 'T-shirt/top', 'Pullover', 'Dress', 'Trouser', 'Coat', 'Dress', 'Shirt', 'Ankle boot', 'Pullover', 'Bag', 'Ankle boot', 'Dress', 'Coat', 'Dress', 'Sneaker', 'Sneaker', 'Ankle boot', 'Sneaker', 'Sandal', 'Bag', 'Sandal', 'Ankle boot', 'T-shirt/top', 'Trouser', 'Sandal', 'Bag', 'Dress', 'Sandal', 'Sneaker', 'Sneaker', 'Ankle boot', 'Pullover', 'Ankle boot', 'Bag', 'Bag', 'Dress', 'Ankle boot', 'Coat', 'T-shirt/top', 'Bag', 'Sneaker', 'Dress', 'Sneaker', 'Coat', 'Pullover', 'Trouser', 'Shirt', 'Dress', 'Pullover', 'Trouser', 'Sandal', 'Shirt', 'Trouser', 'Pullover', 'Coat', 'Dress', 'Shirt', 'Sandal', 'Ankle boot', 'Coat', 'Ankle boot', 'Shirt', 'Sandal', 'Pullover', 'Sneaker', 'Shirt', 'Pullover', 'Pullover', 'Pullover', 'Shirt', 'Sneaker', 'Ankle boot', 'Bag', 'Pullover', 'Ankle boot', 'Dress', 'Bag', 'T-shirt/top', 'Shirt', 'Pullover', 'Dress', 'Coat', 'Sneaker', 'Coat', 'Sandal', 'Trouser', 'Dress', 'Sneaker', 'T-shirt/top', 'Coat', 'Pullover', 'Coat', 'Trouser', 'Bag', 'Ankle boot', 'Trouser', 'Sandal', 'Shirt', 'Sneaker', 'Ankle boot', 'Pullover', 'Dress', 'Coat', 'T-shirt/top', 'Sneaker', 'Pullover', 'Coat', 'Sneaker', 'Trouser', 'Sneaker', 'Sneaker', 'Bag', 'Bag', 'Shirt', 'Coat', 'T-shirt/top', 'Bag', 'Pullover', 'Shirt', 'Shirt', 'T-shirt/top', 'Trouser', 'Bag', 'Trouser', 'T-shirt/top', 'Dress', 'Sneaker', 'Sandal', 'Sneaker', 'Pullover', 'Sneaker', 'Pullover', 'Pullover', 'Coat', 'Pullover', 'Sneaker', 'Ankle boot', 'Coat', 'Pullover', 'Dress', 'Ankle boot', 'Sneaker', 'Dress', 'Bag', 'Sandal', 'Bag', 'Pullover', 'T-shirt/top', 'Pullover', 'Sandal', 'Ankle boot', 'Dress', 'Sneaker', 'T-shirt/top', 'Trouser', 'Pullover', 'Trouser', 'Dress', 'Pullover', 'Dress', 'Sandal', 'Shirt', 'Pullover', 'T-shirt/top', 'Trouser', 'Bag', 'Sneaker', 'Trouser', 'Bag', 'Bag', 'Coat', 'Shirt', 'Coat', 'Shirt', 'Sandal', 'Trouser', 'Sneaker', 'Sneaker', 'T-shirt/top', 'Trouser', 'Ankle boot', 'Coat', 'Ankle boot', 'Dress', 'Sandal', 'Bag', 'Ankle boot', 'Dress', 'Trouser', 'Dress', 'Sandal', 'Pullover', 'T-shirt/top', 'Trouser', 'Pullover', 'Bag', 'T-shirt/top', 'Pullover', 'Trouser', 'Coat', 'Trouser', 'Shirt', 'Pullover', 'Sandal', 'T-shirt/top', 'Dress', 'Ankle boot', 'Coat', 'Trouser', 'Shirt', 'Pullover', 'Sneaker', 'Bag', 'Bag', 'Pullover', 'Sneaker', 'Trouser', 'Dress', 'T-shirt/top', 'Pullover', 'Trouser', 'Sandal', 'Ankle boot', 'Dress', 'Bag', 'Shirt', 'Dress', 'Coat', 'Pullover', 'Ankle boot', 'Pullover', 'Dress', 'Pullover', 'Sandal', 'T-shirt/top', 'T-shirt/top', 'Shirt', 'Sneaker', 'Dress', 'Shirt', 'Sandal', 'Coat', 'Trouser', 'Bag', 'T-shirt/top', 'Sandal', 'Trouser', 'Shirt', 'Bag', 'Pullover', 'Coat', 'T-shirt/top', 'Ankle boot', 'Dress', 'Pullover', 'Shirt', 'T-shirt/top', 'Ankle boot', 'Ankle boot', 'Sandal', 'Pullover', 'Pullover', 'Coat', 'Ankle boot', 'Ankle boot', 'T-shirt/top', 'T-shirt/top', 'Sneaker', 'Dress', 'Shirt', 'Coat', 'Sneaker', 'Trouser', 'T-shirt/top', 'Bag', 'Ankle boot', 'Ankle boot', 'Bag', 'Pullover', 'Bag', 'Pullover', 'Shirt', 'Sneaker', 'Sandal', 'Trouser', 'Bag', 'Shirt', 'Sneaker', 'Sandal', 'Ankle boot', 'Bag', 'Dress', 'Sneaker', 'Ankle boot', 'Sneaker', 'Trouser', 'Dress', 'Coat', 'T-shirt/top', 'Sandal', 'Dress', 'Dress', 'Sneaker', 'Ankle boot', 'T-shirt/top', 'Trouser', 'Pullover', 'Shirt', 'Sandal', 'Sandal', 'Trouser', 'Sandal', 'Dress', 'Coat', 'Shirt', 'Sneaker', 'Dress', 'Shirt', 'Trouser', 'Coat', 'Coat', 'Sneaker', 'Bag', 'Dress', 'Sneaker', 'Sneaker', 'Shirt', 'Sandal', 'Pullover', 'Coat', 'Sandal', 'Ankle boot', 'T-shirt/top', 'Shirt', 'Coat', 'Bag', 'Trouser', 'Dress', 'T-shirt/top', 'Trouser', 'Sneaker', 'Ankle boot', 'Sandal', 'Sandal', 'Dress', 'Dress', 'Coat', 'Dress', 'Sneaker', 'Bag', 'Pullover', 'T-shirt/top', 'Ankle boot', 'Dress', 'Sneaker', 'Trouser', 'Coat', 'Sandal', 'Bag', 'Coat', 'Shirt', 'Coat', 'Pullover', 'Ankle boot', 'Sandal', 'Pullover', 'Shirt', 'Bag', 'Bag', 'Sneaker', 'Shirt', 'Shirt', 'Trouser', 'Pullover', 'Dress', 'T-shirt/top', 'Shirt', 'Pullover', 'Ankle boot', 'Trouser', 'Pullover', 'Trouser', 'Sneaker', 'Trouser', 'Sneaker', 'Ankle boot', 'Shirt', 'Trouser', 'Sandal', 'T-shirt/top', 'Bag', 'Sneaker', 'Sandal', 'Pullover', 'Pullover', 'Coat', 'Trouser', 'T-shirt/top', 'Coat', 'Ankle boot', 'Ankle boot', 'Coat', 'Sandal', 'Trouser', 'Ankle boot', 'T-shirt/top', 'Sandal', 'Sneaker', 'Dress', 'Shirt', 'Dress', 'Bag', 'Pullover', 'Bag', 'Trouser', 'Sandal', 'Coat', 'Bag', 'Trouser', 'Pullover', 'Dress', 'Shirt', 'Ankle boot', 'T-shirt/top', 'Dress', 'Pullover', 'Sneaker', 'Pullover', 'T-shirt/top', 'T-shirt/top', 'T-shirt/top', 'Shirt', 'Coat', 'Sneaker', 'Trouser', 'Trouser', 'Ankle boot', 'Sneaker', 'Pullover', 'Pullover', 'Pullover', 'Trouser', 'Sandal', 'Sneaker', 'Bag', 'Shirt', 'Pullover', 'Trouser', 'Sneaker', 'Dress', 'T-shirt/top', 'T-shirt/top', 'Shirt', 'Trouser', 'Ankle boot', 'Shirt', 'Sandal', 'Pullover', 'Pullover', 'T-shirt/top', 'Dress', 'Trouser', 'Sneaker', 'Coat', 'Dress', 'Ankle boot', 'Sandal', 'Sneaker', 'Bag', 'Ankle boot', 'Coat', 'Ankle boot', 'Shirt', 'Ankle boot', 'Sneaker', 'Trouser', 'Coat', 'Coat', 'Ankle boot', 'Sandal', 'Bag', 'Ankle boot', 'Ankle boot', 'Trouser', 'Ankle boot', 'Sandal', 'Ankle boot', 'Sneaker', 'T-shirt/top', 'Trouser', 'Bag', 'Trouser', 'Shirt', 'Sneaker', 'Trouser', 'Sneaker', 'Coat', 'Sneaker', 'T-shirt/top', 'Bag', 'Sandal', 'Ankle boot', 'Bag', 'Sneaker', 'Dress', 'Pullover', 'Pullover', 'Dress', 'Sneaker', 'Shirt', 'Pullover', 'Coat', 'Bag', 'Pullover', 'Pullover', 'Bag', 'Sneaker', 'Shirt', 'Sneaker', 'Sneaker', 'Shirt', 'Ankle boot', 'Sneaker', 'Sandal', 'Coat', 'Ankle boot', 'Dress', 'Sandal', 'Bag', 'Dress', 'Pullover', 'Coat', 'T-shirt/top', 'Trouser', 'Sneaker', 'Pullover', 'Bag', 'Ankle boot', 'Sneaker', 'Ankle boot', 'T-shirt/top', 'Sandal', 'Trouser', 'Dress', 'Shirt', 'Pullover', 'Pullover', 'Ankle boot', 'Pullover', 'Coat', 'Shirt', 'Shirt', 'Trouser', 'Coat', 'Trouser', 'Shirt', 'Ankle boot', 'Sneaker', 'Sneaker', 'Coat', 'Shirt', 'Trouser', 'Sneaker', 'Coat', 'Trouser', 'Ankle boot', 'Bag', 'Sneaker', 'Dress', 'Trouser', 'T-shirt/top', 'Bag', 'Shirt', 'Pullover', 'Trouser', 'Bag', 'Pullover', 'Dress', 'Ankle boot', 'Coat', 'Bag', 'Ankle boot', 'Dress', 'Sneaker', 'Pullover', 'Sandal', 'Dress', 'Sneaker', 'Sneaker', 'Pullover', 'Dress', 'Bag', 'T-shirt/top', 'Coat', 'Dress', 'Dress', 'T-shirt/top', 'Sandal', 'Shirt', 'T-shirt/top', 'Ankle boot', 'Sandal', 'Trouser', 'Dress', 'Bag', 'Sneaker', 'Ankle boot', 'Sneaker', 'Bag', 'Ankle boot', 'Trouser', 'Coat', 'Pullover', 'Shirt', 'Trouser', 'T-shirt/top', 'T-shirt/top', 'Sandal', 'Shirt', 'Shirt', 'Bag', 'Dress', 'Sandal', 'Sneaker', 'Ankle boot', 'Sneaker', 'Sandal', 'Bag', 'Ankle boot', 'Dress', 'Shirt', 'Trouser', 'Coat', 'Pullover', 'Ankle boot', 'Trouser', 'Coat', 'Ankle boot', 'Sandal', 'Bag', 'Shirt', 'Sandal', 'Pullover', 'T-shirt/top', 'T-shirt/top', 'Bag', 'Shirt', 'Coat', 'Ankle boot', 'Coat', 'Dress', 'Dress', 'Ankle boot', 'Ankle boot', 'Coat', 'Dress', 'Pullover', 'Dress', 'Pullover', 'Trouser', 'Sandal', 'Coat', 'Shirt', 'Ankle boot', 'Pullover', 'Sandal', 'Sneaker', 'Trouser', 'Sandal', 'Pullover', 'Shirt', 'Bag', 'Sandal', 'Pullover', 'T-shirt/top', 'Ankle boot', 'Dress', 'Coat', 'Bag', 'Sandal', 'Sandal', 'Trouser', 'Trouser', 'Sneaker', 'Sneaker', 'Shirt', 'Bag', 'Shirt', 'Ankle boot', 'Bag', 'Pullover', 'Ankle boot', 'Dress', 'Sneaker', 'Pullover', 'T-shirt/top', 'Trouser', 'Ankle boot', 'Sneaker', 'Shirt', 'Shirt', 'Shirt', 'Shirt', 'Shirt', 'Dress', 'Bag', 'Sneaker', 'Sneaker', 'T-shirt/top', 'Sneaker', 'Sandal', 'Dress', 'Dress', 'Shirt', 'Sandal', 'Pullover', 'Ankle boot', 'Bag', 'Bag', 'Pullover', 'Coat', 'Bag', 'Sneaker', 'Sandal', 'Sneaker', 'Trouser', 'Pullover', 'Shirt', 'Trouser', 'Sneaker', 'Sandal', 'Sandal', 'Sandal', 'Dress', 'Ankle boot', 'Trouser', 'Sandal', 'Trouser', 'Ankle boot', 'Dress', 'Bag', 'Dress', 'Shirt', 'Sandal', 'Dress', 'Bag', 'Pullover', 'Trouser', 'Sandal', 'Shirt', 'Trouser', 'Coat', 'Pullover', 'Bag', 'Sneaker', 'Sandal', 'Pullover', 'Sandal', 'Sandal', 'Coat', 'Ankle boot', 'T-shirt/top', 'Coat', 'Coat', 'Trouser', 'Coat', 'Sandal', 'T-shirt/top', 'Ankle boot', 'Sneaker', 'Coat', 'Sandal', 'Bag', 'Dress', 'Ankle boot', 'Sandal', 'Coat', 'Dress', 'Ankle boot', 'Sandal', 'Coat', 'Bag', 'Shirt', 'T-shirt/top', 'Ankle boot', 'Ankle boot', 'Ankle boot', 'Sandal', 'Coat', 'Shirt', 'Ankle boot', 'Bag', 'Sneaker', 'Dress', 'Pullover', 'Shirt', 'Sandal', 'Sneaker', 'Sneaker', 'Pullover', 'Pullover', 'Coat', 'T-shirt/top', 'Pullover', 'Bag', 'Trouser', 'Sneaker', 'Sneaker', 'Pullover', 'Ankle boot', 'Bag', 'Ankle boot', 'Dress', 'Coat', 'Pullover', 'Pullover', 'Coat', 'Shirt', 'Sandal', 'Dress', 'Dress', 'Bag', 'Ankle boot', 'Trouser', 'T-shirt/top', 'Sandal', 'Trouser', 'Sandal', 'Sandal', 'T-shirt/top', 'Pullover', 'Bag', 'Trouser', 'Coat', 'Pullover', 'Coat', 'Ankle boot', 'Trouser', 'Bag', 'Dress', 'Pullover', 'Trouser', 'Coat', 'Dress', 'Sneaker', 'Bag', 'Bag', 'Sneaker', 'Bag', 'Sandal', 'Coat', 'Coat', 'Sandal', 'Trouser', 'Shirt', 'T-shirt/top', 'Sandal', 'Sandal', 'Sneaker', 'Bag', 'Dress', 'Trouser', 'Coat', 'Sneaker', 'T-shirt/top', 'Bag', 'Shirt', 'Pullover', 'Coat', 'Bag', 'Pullover', 'Shirt', 'Sneaker', 'Shirt', 'Shirt', 'Dress', 'Sneaker', 'Dress', 'T-shirt/top', 'Sneaker', 'Sneaker', 'Ankle boot', 'Shirt', 'Shirt', 'Bag', 'Coat', 'Sandal', 'Pullover', 'Sandal', 'Sandal', 'Trouser', 'Bag', 'Sandal', 'Coat', 'Bag', 'Pullover', 'Pullover', 'Bag', 'Coat', 'Sneaker', 'Sneaker', 'Dress', 'T-shirt/top', 'Trouser', 'Pullover', 'Sneaker', 'Sandal', 'Coat', 'Dress', 'Trouser', 'Shirt', 'Ankle boot', 'Dress', 'T-shirt/top', 'Shirt', 'Pullover', 'T-shirt/top', 'Pullover', 'Sneaker', 'Pullover', 'Ankle boot', 'Dress', 'Ankle boot', 'Pullover', 'T-shirt/top', 'Coat', 'Dress', 'Shirt', 'Dress', 'Coat', 'Ankle boot', 'Coat', 'Bag', 'Dress', 'Ankle boot', 'Sneaker', 'T-shirt/top', 'Dress', 'Dress', 'Coat', 'Sandal', 'Trouser', 'Ankle boot', 'Ankle boot', 'Sneaker', 'Shirt', 'Shirt', 'T-shirt/top', 'Pullover', 'Pullover', 'Sandal', 'Sneaker', 'Sandal', 'Dress', 'Pullover', 'Bag', 'Dress', 'T-shirt/top', 'Shirt', 'Pullover', 'Bag', 'Trouser', 'Coat', 'Sneaker', 'Bag', 'Shirt', 'Dress', 'Bag', 'Sneaker', 'Dress', 'Ankle boot', 'Ankle boot', 'Sneaker', 'Trouser', 'Sandal', 'Coat', 'Dress', 'Bag', 'Trouser', 'Coat', 'Pullover', 'Pullover', 'Ankle boot', 'Sandal', 'Sneaker', 'Coat', 'Coat', 'Bag', 'Sandal', 'T-shirt/top', 'Shirt', 'Ankle boot', 'Sandal', 'Pullover', 'Trouser', 'Bag', 'Dress', 'Bag', 'Sneaker', 'Ankle boot', 'Sneaker', 'Pullover', 'Trouser', 'Dress', 'Dress', 'Bag', 'T-shirt/top', 'Shirt', 'Coat', 'Sandal', 'Shirt', 'Ankle boot', 'Shirt', 'Trouser', 'Pullover', 'Dress', 'Sneaker', 'Bag', 'T-shirt/top', 'Sneaker', 'Coat', 'T-shirt/top', 'Sandal', 'Trouser', 'Sneaker', 'Pullover', 'Dress', 'Sneaker', 'Trouser', 'Bag', 'Pullover', 'Pullover', 'T-shirt/top', 'Shirt', 'Trouser', 'Ankle boot', 'Dress', 'Sneaker', 'Ankle boot', 'Bag', 'Ankle boot', 'Sneaker', 'Ankle boot', 'Pullover', 'Ankle boot', 'Pullover', 'Trouser', 'Ankle boot', 'Coat', 'Coat', 'Dress', 'Sneaker', 'Dress', 'Shirt', 'Pullover', 'Coat', 'Pullover', 'Coat', 'Coat', 'Sandal', 'Ankle boot', 'Dress', 'Shirt', 'Sneaker', 'Coat', 'Ankle boot', 'Sandal', 'T-shirt/top', 'Pullover', 'Dress', 'Bag', 'Pullover', 'Trouser', 'Bag', 'Ankle boot', 'Coat', 'Dress', 'Sneaker', 'Bag', 'Sneaker', 'Sandal', 'Sneaker', 'Ankle boot', 'Sandal', 'Bag', 'T-shirt/top', 'Shirt', 'Dress', 'Ankle boot', 'T-shirt/top', 'Bag', 'Ankle boot', 'Ankle boot', 'Sneaker', 'Coat', 'Pullover', 'T-shirt/top', 'Bag', 'Pullover', 'Trouser', 'Bag', 'Dress', 'Coat', 'Coat', 'Sneaker', 'Sandal', 'Sandal', 'Bag', 'Dress', 'Dress', 'Sandal', 'Trouser', 'Shirt', 'T-shirt/top', 'Pullover', 'Dress', 'Dress', 'Coat', 'Ankle boot', 'Coat', 'Bag', 'Coat', 'Trouser', 'Bag', 'Sandal', 'Ankle boot', 'Pullover', 'Pullover', 'Shirt', 'Sneaker', 'Coat', 'Sneaker', 'Ankle boot', 'Bag', 'Dress', 'Dress', 'T-shirt/top', 'Shirt', 'Shirt', 'Pullover', 'T-shirt/top', 'Bag', 'Pullover', 'Coat', 'Ankle boot', 'Ankle boot', 'Sandal', 'Bag', 'Sandal', 'Trouser', 'Trouser', 'Dress', 'Shirt', 'Ankle boot', 'Coat', 'Pullover', 'Pullover', 'Ankle boot', 'Coat', 'Sandal', 'Coat', 'Pullover', 'Sneaker', 'Pullover', 'Coat', 'Sneaker', 'Shirt', 'T-shirt/top', 'Dress', 'Dress', 'Shirt', 'Pullover', 'Ankle boot', 'Shirt', 'Sneaker', 'Bag', 'Pullover', 'Bag', 'Sandal', 'Ankle boot', 'Shirt', 'Coat', 'Trouser', 'Dress', 'Sneaker', 'Bag', 'Dress', 'Ankle boot', 'Trouser', 'Coat', 'Ankle boot', 'Bag', 'Trouser', 'Ankle boot', 'Sneaker', 'T-shirt/top', 'Pullover', 'T-shirt/top', 'Pullover', 'Ankle boot', 'Ankle boot', 'Dress', 'Sneaker', 'Trouser', 'Sandal', 'Coat', 'Coat', 'Ankle boot', 'Bag', 'Ankle boot', 'Dress', 'Coat', 'Sandal', 'Ankle boot', 'Sneaker', 'Trouser', 'T-shirt/top', 'Trouser', 'Pullover', 'Dress', 'Bag', 'Pullover', 'T-shirt/top', 'Bag', 'Coat', 'Coat', 'Bag', 'Shirt', 'Shirt', 'Sneaker', 'Dress', 'Dress', 'Pullover', 'Ankle boot', 'Pullover', 'Coat', 'Pullover', 'Sandal', 'Dress', 'Ankle boot', 'Ankle boot', 'Bag', 'Ankle boot', 'Shirt', 'Sneaker', 'Bag', 'Dress', 'Bag', 'Bag', 'Shirt', 'T-shirt/top', 'Sneaker', 'Trouser', 'Bag', 'Sneaker', 'Pullover', 'Ankle boot', 'T-shirt/top', 'Coat', 'Pullover', 'Dress', 'Trouser', 'Sandal', 'Trouser', 'Dress', 'Sandal', 'Trouser', 'Coat', 'Trouser', 'Coat', 'Pullover', 'Shirt', 'Sandal', 'Sneaker', 'Shirt', 'Sneaker', 'Ankle boot', 'Shirt', 'Shirt', 'Dress', 'Sneaker', 'Ankle boot', 'Bag', 'T-shirt/top', 'Sneaker', 'Trouser', 'Bag', 'Shirt', 'Shirt', 'Trouser', 'Coat', 'Coat', 'Pullover', 'Shirt', 'T-shirt/top', 'Coat', 'Shirt', 'Shirt', 'Pullover', 'Coat', 'Dress', 'Ankle boot', 'Ankle boot', 'Bag', 'Sneaker', 'Ankle boot', 'Dress', 'Sandal', 'Coat', 'Coat', 'Dress', 'Sneaker', 'Sneaker', 'Coat', 'Trouser', 'Pullover', 'Shirt', 'Coat', 'Pullover', 'Trouser', 'Dress', 'Coat', 'Shirt', 'T-shirt/top', 'Sandal', 'Dress', 'Shirt', 'Shirt', 'Pullover', 'Sandal', 'Bag', 'Bag', 'Pullover', 'Dress', 'Ankle boot', 'Bag', 'Coat', 'Trouser', 'Dress', 'Bag', 'Bag', 'Shirt', 'Sneaker', 'Coat', 'Pullover', 'Sandal', 'Dress', 'Sandal', 'T-shirt/top', 'Dress', 'Pullover', 'Coat', 'Trouser', 'Ankle boot', 'Dress', 'Ankle boot', 'Bag', 'Shirt', 'Sneaker', 'Pullover', 'Pullover', 'Coat', 'Trouser', 'Ankle boot', 'Pullover', 'Shirt', 'T-shirt/top', 'Dress', 'Sneaker', 'Sandal', 'Ankle boot', 'Sneaker', 'Pullover', 'Bag', 'T-shirt/top', 'Sneaker', 'Sneaker', 'T-shirt/top', 'Shirt', 'Sandal', 'Sneaker', 'Trouser', 'Bag', 'T-shirt/top', 'Ankle boot', 'Pullover', 'Dress', 'Sneaker', 'Coat', 'Dress', 'Pullover', 'Dress', 'Pullover', 'Trouser', 'Coat', 'Sandal', 'Dress', 'Sneaker', 'Trouser', 'Bag', 'Sandal', 'Ankle boot', 'Ankle boot', 'Sneaker', 'Shirt', 'Shirt', 'Sandal', 'Sandal', 'Shirt', 'Bag', 'Sandal', 'Pullover', 'Ankle boot', 'Coat', 'Sneaker', 'Dress', 'T-shirt/top', 'Trouser', 'Ankle boot', 'Sneaker', 'Bag', 'Sneaker', 'T-shirt/top', 'Coat', 'Pullover', 'T-shirt/top', 'Dress', 'Pullover', 'Bag', 'Shirt', 'Pullover', 'Sandal', 'Sneaker', 'Dress', 'Ankle boot', 'Dress', 'Trouser', 'Dress', 'Pullover', 'Ankle boot', 'Dress', 'Pullover', 'Dress', 'Sandal', 'Bag', 'T-shirt/top', 'T-shirt/top', 'Pullover', 'Coat', 'Shirt', 'Trouser', 'Bag', 'Dress', 'Bag', 'Ankle boot', 'Pullover', 'Bag', 'Sneaker', 'Pullover', 'Coat', 'Pullover', 'Trouser', 'Dress', 'Coat', 'Trouser', 'Ankle boot', 'Sneaker', 'Sneaker', 'Bag', 'Sneaker', 'Sneaker', 'Pullover', 'Dress', 'Shirt', 'Sandal', 'Bag', 'Shirt', 'Ankle boot', 'Sandal', 'Dress', 'Dress', 'Trouser', 'Pullover', 'Sneaker', 'Shirt', 'Shirt', 'Trouser', 'Dress', 'Ankle boot', 'Dress', 'Ankle boot', 'T-shirt/top', 'Sneaker', 'Bag', 'Pullover', 'Coat', 'T-shirt/top', 'Bag', 'Pullover', 'Coat', 'Coat', 'Trouser', 'Sandal', 'Shirt', 'Ankle boot', 'Ankle boot', 'Sneaker', 'Coat', 'Bag', 'Pullover', 'Bag', 'Sandal', 'Coat', 'Sneaker', 'Pullover', 'Pullover', 'Coat', 'Bag', 'Shirt', 'Coat', 'Ankle boot', 'T-shirt/top', 'Pullover', 'Ankle boot', 'Dress', 'Trouser', 'Pullover', 'Dress', 'Shirt', 'Shirt', 'Pullover', 'Dress', 'Trouser', 'Trouser', 'Pullover', 'Shirt', 'Shirt', 'Bag', 'Pullover', 'Coat', 'Dress', 'Shirt', 'Sandal', 'Shirt', 'Ankle boot', 'Sandal', 'Shirt', 'Ankle boot', 'Trouser', 'Sneaker', 'Sneaker', 'Dress', 'Sneaker', 'Dress', 'Dress', 'Trouser', 'Pullover', 'Coat', 'Sandal', 'Bag', 'Shirt', 'T-shirt/top', 'Sandal', 'Pullover', 'Bag', 'Coat', 'Coat', 'Pullover', 'Dress', 'Coat', 'Trouser', 'T-shirt/top', 'Sneaker', 'T-shirt/top', 'Sneaker', 'Pullover', 'Dress', 'T-shirt/top', 'Coat', 'Sneaker', 'T-shirt/top', 'Ankle boot', 'Sneaker', 'Dress', 'Shirt', 'Shirt', 'Sandal', 'Pullover', 'Dress', 'Trouser', 'Shirt', 'Sneaker', 'Dress', 'T-shirt/top', 'Coat', 'Pullover', 'Shirt', 'Sneaker', 'Dress', 'Shirt', 'Ankle boot', 'Pullover', 'Trouser', 'Pullover', 'Shirt', 'Trouser', 'Bag', 'Sneaker', 'Dress', 'Pullover', 'Coat', 'Pullover', 'T-shirt/top', 'Dress', 'Coat', 'Trouser', 'Ankle boot', 'Bag', 'Coat', 'Sandal', 'Pullover', 'Pullover', 'Trouser', 'Ankle boot', 'Ankle boot', 'Bag', 'Trouser', 'Ankle boot', 'Pullover', 'Bag', 'Coat', 'Sneaker', 'Trouser', 'Shirt', 'Ankle boot', 'Dress', 'Ankle boot', 'Trouser', 'T-shirt/top', 'Coat', 'Sandal', 'Trouser', 'Pullover', 'Shirt', 'Sandal', 'Dress', 'Shirt', 'Sandal', 'Shirt', 'Ankle boot', 'Shirt', 'Shirt', 'Pullover', 'T-shirt/top', 'T-shirt/top', 'Sandal', 'T-shirt/top', 'Sneaker', 'Shirt', 'Dress', 'Shirt', 'Shirt', 'Dress', 'Shirt', 'Coat', 'T-shirt/top', 'Shirt', 'Shirt', 'T-shirt/top', 'Trouser', 'Bag', 'Pullover', 'Bag', 'T-shirt/top', 'Pullover', 'Shirt', 'Pullover', 'T-shirt/top', 'Sneaker', 'Sandal', 'Ankle boot', 'Dress', 'Sneaker', 'Dress', 'Pullover', 'Pullover', 'Dress', 'Shirt', 'Shirt', 'Sandal', 'Dress', 'Sneaker', 'Sandal', 'Coat', 'Trouser', 'T-shirt/top', 'Trouser', 'Coat', 'Sandal', 'Pullover', 'Coat', 'Dress', 'Dress', 'Ankle boot', 'T-shirt/top', 'Trouser', 'Ankle boot', 'Sandal', 'Ankle boot', 'Pullover', 'Ankle boot', 'Ankle boot', 'Sneaker', 'Coat', 'Shirt', 'Bag', 'Ankle boot', 'T-shirt/top', 'Pullover', 'Sandal', 'Pullover', 'Pullover', 'Shirt', 'Sneaker', 'Bag', 'Ankle boot', 'Bag', 'Coat', 'T-shirt/top', 'Ankle boot', 'Bag', 'Sandal', 'Sandal', 'Dress', 'Pullover', 'Coat', 'Bag', 'Pullover', 'T-shirt/top', 'T-shirt/top', 'Shirt', 'Sneaker', 'Pullover', 'Trouser', 'Ankle boot', 'Trouser', 'Trouser', 'Pullover', 'Ankle boot', 'Sandal', 'Coat', 'Pullover', 'Pullover', 'Dress', 'Sandal', 'Pullover', 'Ankle boot', 'Sneaker', 'Ankle boot', 'T-shirt/top', 'Shirt', 'Dress', 'Coat', 'Trouser', 'Bag', 'Dress', 'Shirt', 'Sandal', 'Pullover', 'Sneaker', 'Dress', 'Dress', 'Coat', 'Ankle boot', 'Sandal', 'Trouser', 'Trouser', 'Bag', 'Ankle boot', 'Pullover', 'Pullover', 'Dress', 'T-shirt/top', 'Ankle boot', 'Bag', 'Shirt', 'Sneaker', 'Bag', 'Pullover', 'Dress', 'Ankle boot', 'Dress', 'T-shirt/top', 'T-shirt/top', 'Sneaker', 'Bag', 'Dress', 'Shirt', 'Trouser', 'Dress', 'Trouser', 'Trouser', 'Sandal', 'T-shirt/top', 'Bag', 'Coat', 'Sneaker', 'Bag', 'Sandal', 'Pullover', 'Coat', 'Shirt', 'Coat', 'Trouser', 'Trouser', 'Trouser', 'Trouser', 'Shirt', 'Coat', 'Trouser', 'Bag', 'Dress', 'Ankle boot', 'Sneaker', 'T-shirt/top', 'Trouser', 'Sandal', 'Sneaker', 'Bag', 'Dress', 'Sandal', 'Pullover', 'Coat', 'T-shirt/top', 'Coat', 'Pullover', 'Coat', 'Pullover', 'Pullover', 'T-shirt/top', 'Dress', 'Dress', 'Dress', 'Sneaker', 'Trouser', 'T-shirt/top', 'Dress', 'Coat', 'Pullover', 'Dress', 'Shirt', 'Sandal', 'Shirt', 'Pullover', 'Shirt', 'Dress', 'Shirt', 'Bag', 'Bag', 'Dress', 'Bag', 'Pullover', 'Dress', 'Trouser', 'T-shirt/top', 'Pullover', 'Ankle boot', 'Sneaker', 'Coat', 'Shirt', 'Dress', 'Trouser', 'Trouser', 'Dress', 'Sneaker', 'Coat', 'Pullover', 'Shirt', 'Ankle boot', 'Dress', 'Ankle boot', 'Sandal', 'Coat', 'Sandal', 'Dress', 'Coat', 'Bag', 'Pullover', 'Sneaker', 'Pullover', 'Ankle boot', 'Pullover', 'Trouser', 'Bag', 'Shirt', 'Coat', 'Bag', 'Sneaker', 'Shirt', 'T-shirt/top', 'T-shirt/top', 'Sandal', 'Coat', 'Coat', 'Pullover', 'Ankle boot', 'Shirt', 'Dress', 'Dress', 'T-shirt/top', 'Trouser', 'Bag', 'Dress', 'Sandal', 'Trouser', 'Pullover', 'Shirt', 'T-shirt/top', 'Shirt', 'Bag', 'Trouser', 'Dress', 'Dress', 'Coat', 'Sneaker', 'Sneaker', 'Coat', 'Dress', 'Coat', 'Bag', 'Sneaker', 'Pullover', 'Bag', 'Coat', 'Coat', 'Bag', 'Ankle boot', 'Sandal', 'Shirt', 'Pullover', 'Pullover', 'Shirt', 'Sandal', 'Bag', 'Shirt', 'Pullover', 'T-shirt/top', 'Dress', 'Coat', 'Coat', 'Sandal', 'Bag', 'Coat', 'Sandal', 'Shirt', 'Bag', 'Dress', 'T-shirt/top', 'Bag', 'Sneaker', 'Shirt', 'Trouser', 'T-shirt/top', 'Shirt', 'Trouser', 'Ankle boot', 'Ankle boot', 'Pullover', 'Dress', 'Coat', 'Bag', 'T-shirt/top', 'Ankle boot', 'Coat', 'Pullover', 'Bag', 'Dress', 'Shirt', 'Trouser', 'Pullover', 'Dress', 'T-shirt/top', 'Shirt', 'Trouser', 'Sneaker', 'Dress', 'Sandal', 'Shirt', 'Shirt', 'Ankle boot', 'Sandal', 'Sandal', 'T-shirt/top', 'Shirt', 'Coat', 'Sandal', 'Sneaker', 'Shirt', 'Dress', 'Trouser', 'Dress', 'Trouser', 'Bag', 'Coat', 'Dress', 'Pullover', 'Dress', 'Shirt', 'Pullover', 'Shirt', 'Shirt', 'Shirt', 'Sandal', 'Trouser', 'Sandal', 'Dress', 'Shirt', 'Trouser', 'Sneaker', 'Shirt', 'Sandal', 'Ankle boot', 'Trouser', 'Shirt', 'Sneaker', 'Dress', 'Sneaker', 'Bag', 'Ankle boot', 'Sandal', 'Dress', 'Pullover', 'Shirt', 'Coat', 'Dress', 'Sneaker', 'T-shirt/top', 'Sandal', 'Pullover', 'Shirt', 'Bag', 'Pullover', 'Shirt', 'Pullover', 'T-shirt/top', 'Shirt', 'Coat', 'T-shirt/top', 'Sneaker', 'Pullover', 'Dress', 'Trouser', 'Ankle boot', 'Dress', 'Sneaker', 'Shirt', 'Trouser', 'Shirt', 'Sneaker', 'Dress', 'Dress', 'Bag', 'Pullover', 'Bag', 'Sandal', 'Bag', 'T-shirt/top', 'Shirt', 'Ankle boot', 'Ankle boot', 'Pullover', 'Sandal', 'Dress', 'Trouser', 'Shirt', 'Pullover', 'Dress', 'Coat', 'Pullover', 'Ankle boot', 'Trouser', 'Sneaker', 'Sandal', 'Sneaker', 'Coat', 'Bag', 'T-shirt/top', 'Dress', 'Pullover', 'Pullover', 'Trouser', 'Ankle boot', 'Sneaker', 'Bag', 'Trouser', 'Sneaker', 'Sneaker', 'Ankle boot', 'Sandal', 'Trouser', 'Sandal', 'Pullover', 'Trouser', 'Coat', 'Sneaker', 'Coat', 'Sneaker', 'Shirt', 'Dress', 'Shirt', 'Coat', 'Sneaker', 'Sneaker', 'T-shirt/top', 'Trouser', 'T-shirt/top', 'Bag', 'Pullover', 'Coat', 'Pullover', 'Pullover', 'Ankle boot', 'Dress', 'Coat', 'Dress', 'Shirt', 'Trouser', 'Ankle boot', 'Coat', 'Dress', 'Dress', 'Bag', 'Pullover', 'Shirt', 'Bag', 'Shirt', 'Coat', 'Trouser', 'Sandal', 'Pullover', 'Shirt', 'Coat', 'Sneaker', 'Sneaker', 'Ankle boot', 'Pullover', 'Bag', 'Dress', 'Shirt', 'Dress', 'Shirt', 'Bag', 'Trouser', 'T-shirt/top', 'Pullover', 'Sandal', 'Dress', 'Sandal', 'Shirt', 'Coat', 'Trouser', 'Sneaker', 'Bag', 'Trouser', 'Bag', 'Dress', 'Coat', 'Sandal', 'Pullover', 'Trouser', 'Shirt', 'Shirt', 'Ankle boot', 'Pullover', 'Sandal', 'Ankle boot', 'Coat', 'T-shirt/top', 'Pullover', 'Shirt', 'Trouser', 'Pullover', 'Sneaker', 'Pullover', 'Trouser', 'Sneaker', 'Sandal', 'Sandal', 'Sneaker', 'Shirt', 'T-shirt/top', 'Ankle boot', 'Sneaker', 'Bag', 'Sneaker', 'Dress', 'Coat', 'Ankle boot', 'Ankle boot', 'Sandal', 'Coat', 'Trouser', 'Pullover', 'Pullover', 'Coat', 'Ankle boot', 'Bag', 'Sandal', 'Ankle boot', 'Ankle boot', 'Sandal', 'Ankle boot', 'Sandal', 'Bag', 'Shirt', 'Pullover', 'T-shirt/top', 'Sneaker', 'Sneaker', 'Bag', 'Bag', 'Sandal', 'Pullover', 'Trouser', 'Sneaker', 'Dress', 'Coat', 'Dress', 'Sneaker', 'Dress', 'Bag', 'Sneaker', 'Dress', 'Dress', 'Pullover', 'Pullover', 'Sandal', 'Pullover', 'Sneaker', 'Trouser', 'Sandal', 'Pullover', 'Bag', 'Shirt', 'Shirt', 'Sneaker', 'Sneaker', 'Ankle boot', 'Pullover', 'Pullover', 'Coat', 'Ankle boot', 'Dress', 'Bag', 'Ankle boot', 'T-shirt/top', 'T-shirt/top', 'Ankle boot', 'T-shirt/top', 'Shirt', 'Coat', 'Dress', 'Pullover', 'Shirt', 'Coat', 'Shirt', 'Dress', 'Shirt', 'Dress', 'Shirt', 'Ankle boot', 'Bag', 'Shirt', 'Trouser', 'T-shirt/top', 'T-shirt/top', 'Sandal', 'Bag', 'Bag', 'Ankle boot', 'Dress', 'Trouser', 'Shirt', 'Sneaker', 'Pullover', 'T-shirt/top', 'Coat', 'Sneaker', 'Sneaker', 'Dress', 'Coat', 'Shirt', 'Sandal', 'Dress', 'Sandal', 'Coat', 'Pullover', 'Dress', 'Trouser', 'Trouser', 'Bag', 'Coat', 'Coat', 'Coat', 'Shirt', 'Bag', 'Trouser', 'T-shirt/top', 'Trouser', 'Shirt', 'Ankle boot', 'Shirt', 'Sneaker', 'Sneaker', 'Bag', 'T-shirt/top', 'Coat', 'Coat', 'Dress', 'Bag', 'T-shirt/top', 'Ankle boot', 'Sneaker', 'Coat', 'Bag', 'Pullover', 'Shirt', 'Dress', 'Sandal', 'Ankle boot', 'Pullover', 'Pullover', 'Sandal', 'Bag', 'Ankle boot', 'Pullover', 'Sneaker', 'Shirt', 'T-shirt/top', 'Sandal', 'Pullover', 'Dress', 'Dress', 'Coat', 'Shirt', 'Pullover', 'Dress', 'Sneaker', 'Shirt', 'Bag', 'T-shirt/top', 'Pullover', 'Ankle boot', 'Shirt', 'Trouser', 'Ankle boot', 'Sandal', 'Ankle boot', 'Bag', 'Dress', 'Coat', 'T-shirt/top', 'Pullover', 'Shirt', 'Sandal', 'Dress', 'Dress', 'Sandal', 'Shirt', 'Shirt', 'Ankle boot', 'Dress', 'Shirt', 'Bag', 'Ankle boot', 'Sneaker', 'Coat', 'Ankle boot', 'Bag', 'Pullover', 'Coat', 'T-shirt/top', 'Coat', 'Sandal', 'Sandal', 'Sandal', 'Trouser', 'Trouser', 'Sneaker', 'Trouser', 'Pullover', 'Trouser', 'Sandal', 'Dress', 'Sandal', 'Sneaker', 'Trouser', 'T-shirt/top', 'Shirt', 'Shirt', 'Shirt', 'Sandal', 'Trouser', 'Pullover', 'T-shirt/top', 'Dress', 'Sneaker', 'Trouser', 'Pullover', 'Pullover', 'Shirt', 'Pullover', 'Ankle boot', 'Pullover', 'Coat', 'Bag', 'Pullover', 'Bag', 'Dress', 'Trouser', 'Sandal', 'Ankle boot', 'Bag', 'Coat', 'Dress', 'Sandal', 'Trouser', 'Bag', 'Sneaker', 'T-shirt/top', 'Dress', 'Dress', 'Bag', 'Dress', 'T-shirt/top', 'Bag', 'Sneaker', 'Shirt', 'Coat', 'Shirt', 'Shirt', 'Pullover', 'Coat', 'Coat', 'T-shirt/top', 'Dress', 'Trouser', 'Trouser', 'Ankle boot', 'T-shirt/top', 'Sneaker', 'Bag', 'T-shirt/top', 'Coat', 'Sandal', 'Sneaker', 'Dress', 'Pullover', 'Trouser', 'Bag', 'Coat', 'Ankle boot', 'Trouser', 'T-shirt/top', 'Sneaker', 'Trouser', 'Pullover', 'Pullover', 'Trouser', 'Coat', 'Trouser', 'Bag', 'Pullover', 'Pullover', 'Trouser', 'Coat', 'Sandal', 'T-shirt/top', 'T-shirt/top', 'Shirt', 'Pullover', 'Pullover', 'Shirt', 'Coat', 'Dress', 'Sandal', 'Shirt', 'Dress', 'Sneaker', 'Bag', 'Trouser', 'Sandal', 'Sneaker', 'Dress', 'Pullover', 'Coat', 'Shirt', 'Bag', 'T-shirt/top', 'Sneaker', 'Bag', 'Dress', 'Dress', 'Sandal', 'Bag', 'T-shirt/top', 'Trouser', 'Pullover', 'Pullover', 'Trouser', 'T-shirt/top', 'Trouser', 'Coat', 'Trouser', 'Coat', 'Sandal', 'Pullover', 'Ankle boot', 'Shirt', 'Bag', 'Coat', 'Pullover', 'Ankle boot', 'Bag', 'Trouser', 'T-shirt/top', 'Dress', 'Ankle boot', 'Pullover', 'Sandal', 'Coat', 'Ankle boot', 'Sneaker', 'Bag', 'Bag', 'Sneaker', 'Trouser', 'Coat', 'Shirt', 'Sneaker', 'Pullover', 'Dress', 'T-shirt/top', 'Trouser', 'Sandal', 'Ankle boot', 'Bag', 'T-shirt/top', 'Pullover', 'Shirt', 'Trouser', 'Sandal', 'Coat', 'Pullover', 'Ankle boot', 'Dress', 'Coat', 'T-shirt/top', 'Shirt', 'Ankle boot', 'Coat', 'Sandal', 'Trouser', 'Dress', 'Bag', 'Coat', 'Sneaker', 'Bag', 'Pullover', 'Ankle boot', 'Trouser', 'Bag', 'Bag', 'Pullover', 'Shirt', 'Bag', 'T-shirt/top', 'Dress', 'Pullover', 'Trouser', 'Pullover', 'Sandal', 'Shirt', 'Coat', 'Ankle boot', 'Sneaker', 'Trouser', 'Pullover', 'Trouser', 'Sneaker', 'Ankle boot', 'Pullover', 'Bag', 'Sneaker', 'Sandal', 'Shirt', 'Shirt', 'Dress', 'Dress', 'Ankle boot', 'T-shirt/top', 'Sandal', 'Sneaker', 'Pullover', 'Sandal', 'Coat', 'T-shirt/top', 'Dress', 'Trouser', 'Shirt', 'Sneaker', 'Shirt', 'Pullover', 'T-shirt/top', 'Coat', 'Coat', 'Ankle boot', 'Dress', 'Shirt', 'Pullover', 'Ankle boot', 'Bag', 'Sneaker', 'Sneaker', 'Sandal', 'T-shirt/top', 'Trouser', 'Pullover', 'Coat', 'Dress', 'Bag', 'Trouser', 'Ankle boot', 'Bag', 'Ankle boot', 'Sandal', 'Trouser', 'Trouser', 'Pullover', 'T-shirt/top', 'Sneaker', 'Sneaker', 'Ankle boot', 'Pullover', 'Coat', 'Sandal', 'Ankle boot', 'Sneaker', 'Dress', 'Pullover', 'Shirt', 'Bag', 'Sandal', 'Coat', 'Sneaker', 'Coat', 'Trouser', 'Ankle boot', 'Ankle boot', 'Pullover', 'Sandal', 'Sandal', 'Shirt', 'T-shirt/top', 'Dress', 'Sneaker', 'Bag', 'T-shirt/top', 'Dress', 'Shirt', 'Ankle boot', 'Sandal', 'Sneaker', 'Shirt', 'Pullover', 'Shirt', 'Coat', 'Trouser', 'Ankle boot', 'Trouser', 'Bag', 'T-shirt/top', 'Sandal', 'Bag', 'Dress', 'Dress', 'T-shirt/top', 'Ankle boot', 'Shirt', 'Shirt', 'Pullover', 'Sneaker', 'Trouser', 'Ankle boot', 'Ankle boot', 'Ankle boot', 'Sneaker', 'Coat', 'Shirt', 'Bag', 'Coat', 'Pullover', 'Sneaker', 'Pullover', 'Dress', 'Pullover', 'Shirt', 'Shirt', 'Shirt', 'Ankle boot', 'Bag', 'Sandal', 'Shirt', 'Dress', 'Sandal', 'Ankle boot', 'Bag', 'Sandal', 'Sneaker', 'Bag', 'Pullover', 'Sandal', 'Shirt', 'Coat', 'Shirt', 'Dress', 'Coat', 'Dress', 'T-shirt/top', 'Bag', 'Pullover', 'Shirt', 'Dress', 'Pullover', 'Shirt', 'Ankle boot', 'Shirt', 'Pullover', 'Dress', 'Trouser', 'Pullover', 'Coat', 'Pullover', 'Pullover', 'Shirt', 'Pullover', 'Coat', 'Pullover', 'Pullover', 'Bag', 'Bag', 'Pullover', 'Shirt', 'Trouser', 'Shirt', 'Dress', 'Shirt', 'T-shirt/top', 'Dress', 'Bag', 'Dress', 'Sneaker', 'Pullover', 'Ankle boot', 'Bag', 'Sandal', 'Ankle boot', 'Shirt', 'Shirt', 'Sneaker', 'Pullover', 'Bag', 'Ankle boot', 'Shirt', 'Bag', 'Coat', 'Shirt', 'Ankle boot', 'Pullover', 'Trouser', 'Trouser', 'Pullover', 'Dress', 'Ankle boot', 'Sneaker', 'Sneaker', 'Ankle boot', 'Sneaker', 'Trouser', 'Pullover', 'Coat', 'Pullover', 'Trouser', 'Sandal', 'Sandal', 'T-shirt/top', 'Shirt', 'Pullover', 'Bag', 'Pullover', 'Sneaker', 'Coat', 'Trouser', 'Bag', 'Sneaker', 'Sneaker', 'Dress', 'Shirt', 'T-shirt/top', 'Sandal', 'Bag', 'Bag', 'Shirt', 'Shirt', 'Bag', 'Pullover', 'T-shirt/top', 'Trouser', 'Bag', 'Ankle boot', 'Trouser', 'Sneaker', 'Coat', 'Pullover', 'Pullover', 'Sandal', 'Bag', 'Pullover', 'Bag', 'Coat', 'Dress', 'T-shirt/top', 'Coat', 'Dress', 'Sneaker', 'Coat', 'Ankle boot', 'Bag', 'Shirt', 'Dress', 'Shirt', 'Coat', 'T-shirt/top', 'Pullover', 'Ankle boot', 'Bag', 'Sandal', 'Shirt', 'Ankle boot', 'Bag', 'Pullover', 'Sneaker', 'Trouser', 'Trouser', 'Coat', 'Dress', 'T-shirt/top', 'Sandal', 'Shirt', 'Dress', 'Sneaker', 'T-shirt/top', 'Trouser', 'Shirt', 'Sneaker', 'Sneaker', 'Pullover', 'Pullover', 'T-shirt/top', 'Coat', 'Shirt', 'Dress', 'Dress', 'Sandal', 'Sandal', 'Coat', 'Ankle boot', 'T-shirt/top', 'Ankle boot', 'Shirt', 'Coat', 'Trouser', 'Sandal', 'Bag', 'Sandal', 'Ankle boot', 'Trouser', 'Dress', 'Trouser', 'Sandal', 'Shirt', 'Sneaker', 'Trouser', 'Dress', 'T-shirt/top', 'Coat', 'Shirt', 'Pullover', 'Coat', 'Sneaker', 'Sandal', 'Sneaker', 'Pullover', 'Sneaker', 'Trouser', 'Sneaker', 'Dress', 'Sneaker', 'Sandal', 'Coat', 'Coat', 'T-shirt/top', 'Sneaker', 'Sneaker', 'Dress', 'Pullover', 'Sneaker', 'Trouser', 'Shirt', 'Trouser', 'Trouser', 'Pullover', 'Pullover', 'Sneaker', 'T-shirt/top', 'Shirt', 'Ankle boot', 'Shirt', 'Sandal', 'Pullover', 'Sneaker', 'Dress', 'Ankle boot', 'Coat', 'Coat', 'Sandal', 'Ankle boot', 'Bag', 'Dress', 'Pullover', 'Sneaker', 'Trouser', 'Bag', 'Shirt', 'Trouser', 'Trouser', 'Coat', 'Sandal', 'Ankle boot', 'Shirt', 'Sandal', 'T-shirt/top', 'Sneaker', 'Ankle boot', 'Trouser', 'T-shirt/top', 'Bag', 'Dress', 'Trouser', 'Pullover', 'Coat', 'Pullover', 'Pullover', 'Bag', 'Coat', 'Shirt', 'Coat', 'Ankle boot', 'Pullover', 'Pullover', 'T-shirt/top', 'Trouser', 'Coat', 'Shirt', 'Sneaker', 'Sandal', 'Ankle boot', 'Pullover', 'Trouser', 'Sneaker', 'Sneaker', 'Ankle boot', 'Bag', 'Shirt', 'Sneaker', 'Coat', 'Coat', 'Pullover', 'Shirt', 'Sandal', 'Dress', 'Trouser', 'Sandal', 'Pullover', 'Sandal', 'Sandal', 'Sandal', 'Coat', 'T-shirt/top', 'Ankle boot', 'Shirt', 'Trouser', 'Bag', 'Shirt', 'Coat', 'Trouser', 'Pullover', 'Dress', 'Coat', 'Sandal', 'Dress', 'Ankle boot', 'Dress', 'Ankle boot', 'Sneaker', 'Shirt', 'Bag', 'Sneaker', 'Coat', 'Pullover', 'Ankle boot', 'Coat', 'Trouser', 'Sandal', 'Ankle boot', 'Bag', 'Ankle boot', 'Sneaker', 'Sandal', 'Ankle boot', 'Trouser', 'T-shirt/top', 'Pullover', 'Pullover', 'Pullover', 'Shirt', 'Sneaker', 'Sneaker', 'Sneaker', 'Sandal', 'Sandal', 'Dress', 'Sneaker', 'Sandal', 'Trouser', 'Bag', 'Pullover', 'Dress', 'Pullover', 'Coat', 'Coat', 'Coat', 'Dress', 'Sneaker', 'Sandal', 'Bag', 'T-shirt/top', 'Pullover', 'T-shirt/top', 'Pullover', 'Dress', 'Sneaker', 'Pullover', 'Ankle boot', 'Shirt', 'Coat', 'Pullover', 'Bag', 'Sandal', 'Dress', 'Ankle boot', 'Coat', 'Dress', 'Bag', 'Pullover', 'Shirt', 'Dress', 'Trouser', 'Bag', 'Shirt', 'Coat', 'Shirt', 'T-shirt/top', 'Pullover', 'Bag', 'Dress', 'Coat', 'Coat', 'Shirt', 'Bag', 'Sneaker', 'Sandal', 'Sandal', 'T-shirt/top', 'Coat', 'T-shirt/top', 'Sneaker', 'Pullover', 'Coat', 'Pullover', 'Sneaker', 'Ankle boot', 'Pullover', 'Bag', 'Bag', 'Dress', 'Bag', 'Dress', 'Dress', 'Ankle boot', 'Shirt', 'Bag', 'Sneaker', 'Coat', 'Sneaker', 'Sneaker', 'Sandal', 'T-shirt/top', 'Coat', 'Pullover', 'Pullover', 'Shirt', 'Bag', 'Ankle boot', 'Sneaker', 'Dress', 'Shirt', 'Coat', 'Pullover', 'T-shirt/top', 'Ankle boot', 'Trouser', 'Pullover', 'Dress', 'Sneaker', 'Shirt', 'Sneaker', 'Dress', 'Bag', 'Bag', 'Sneaker', 'Ankle boot', 'Sneaker', 'Bag', 'Sneaker', 'Bag', 'Sneaker', 'Coat', 'Coat', 'Bag', 'Dress', 'Shirt', 'Coat', 'Shirt', 'Sandal', 'Sandal', 'Pullover', 'Shirt', 'Pullover', 'Sneaker', 'T-shirt/top', 'Trouser', 'T-shirt/top', 'Sneaker', 'Shirt', 'Coat', 'Trouser', 'Trouser', 'Trouser', 'Trouser', 'Coat', 'Shirt', 'Dress', 'Shirt', 'Sandal', 'Sneaker', 'T-shirt/top', 'Pullover', 'Trouser', 'Dress', 'Sneaker', 'Bag', 'T-shirt/top', 'Bag', 'Shirt', 'Sneaker', 'Trouser', 'Sneaker', 'Pullover', 'T-shirt/top', 'Pullover', 'Coat', 'Shirt', 'Sandal', 'Coat', 'Ankle boot', 'Sneaker', 'Trouser', 'Shirt', 'Trouser', 'Dress', 'Ankle boot', 'Shirt', 'Sandal', 'Trouser', 'Dress', 'Pullover', 'T-shirt/top', 'Sneaker', 'Dress', 'T-shirt/top', 'Ankle boot', 'Dress', 'Bag', 'T-shirt/top', 'Sandal', 'Coat', 'Dress', 'Dress', 'Coat', 'Sneaker', 'Ankle boot', 'Pullover', 'Coat', 'Pullover', 'Bag', 'Bag', 'Pullover', 'Trouser', 'Bag', 'T-shirt/top', 'Ankle boot', 'Coat', 'Sneaker', 'Shirt', 'Bag', 'Bag', 'Bag', 'Pullover', 'Bag', 'Coat', 'Dress', 'Ankle boot', 'Coat', 'Sneaker', 'T-shirt/top', 'Shirt', 'Dress', 'Sneaker', 'Pullover', 'Sandal', 'Ankle boot', 'Dress', 'Trouser', 'Pullover', 'Dress', 'Shirt', 'Shirt', 'Dress', 'T-shirt/top', 'Pullover', 'Bag', 'Coat', 'Trouser', 'Shirt', 'Coat', 'Bag', 'Shirt', 'Ankle boot', 'Sneaker', 'Dress', 'Coat', 'Ankle boot', 'Pullover', 'Bag', 'Sandal', 'Dress', 'Trouser', 'T-shirt/top', 'Shirt', 'Ankle boot', 'Sneaker', 'Trouser', 'Shirt', 'Trouser', 'Bag', 'Dress', 'Shirt', 'Trouser', 'Sneaker', 'Sneaker', 'T-shirt/top', 'Shirt', 'Pullover', 'Coat', 'Coat', 'T-shirt/top', 'Dress', 'T-shirt/top', 'Sandal', 'Pullover', 'Ankle boot', 'Shirt', 'Pullover', 'Sandal', 'Ankle boot', 'Bag', 'Sneaker', 'Bag', 'Shirt', 'T-shirt/top', 'Pullover', 'Trouser', 'Dress', 'Dress', 'Sandal', 'Dress', 'Sneaker', 'Coat', 'Dress', 'Bag', 'Ankle boot', 'Sneaker', 'Dress', 'Coat', 'Sneaker', 'Sandal', 'Pullover', 'Sandal', 'Bag', 'Coat', 'Dress', 'Bag', 'Trouser', 'Pullover', 'Pullover', 'Pullover', 'Coat', 'Coat', 'Shirt', 'Pullover', 'Bag', 'Shirt', 'Pullover', 'Dress', 'Sneaker', 'Pullover', 'Pullover', 'Shirt', 'Sandal', 'Ankle boot', 'Sandal', 'Bag', 'Ankle boot', 'T-shirt/top', 'Pullover', 'Bag', 'Dress', 'Ankle boot', 'Sneaker', 'Bag', 'Pullover', 'Trouser', 'Sandal', 'Pullover', 'Dress', 'Sneaker', 'Ankle boot', 'Coat', 'Trouser', 'T-shirt/top', 'Pullover', 'Bag', 'Coat', 'Bag', 'Bag', 'Shirt', 'Ankle boot', 'Sneaker', 'Trouser', 'Sneaker', 'Sneaker', 'Ankle boot', 'T-shirt/top', 'Bag', 'Shirt', 'Pullover', 'Sneaker', 'Pullover', 'Sneaker', 'Coat', 'Pullover', 'Trouser', 'Dress', 'Sneaker', 'Shirt', 'Sneaker', 'Shirt', 'Sneaker', 'Shirt', 'Ankle boot', 'Bag', 'Coat', 'Shirt', 'Pullover', 'Trouser', 'Dress', 'Dress', 'Bag', 'Bag', 'Sandal', 'Shirt', 'Trouser', 'Ankle boot', 'T-shirt/top', 'Sneaker', 'Shirt', 'Sandal', 'Sneaker', 'Ankle boot', 'Sneaker', 'Dress', 'Pullover', 'Ankle boot', 'Shirt', 'Ankle boot', 'Sneaker', 'Sneaker', 'Ankle boot', 'Sneaker', 'Pullover', 'Coat', 'Dress', 'Sandal', 'Dress', 'Dress', 'Bag', 'Shirt', 'Bag', 'Sneaker', 'Coat', 'T-shirt/top', 'Shirt', 'Sneaker', 'Ankle boot', 'Sneaker', 'T-shirt/top', 'Sneaker', 'Dress', 'Trouser', 'Ankle boot', 'Coat', 'Ankle boot', 'T-shirt/top', 'Sneaker', 'Pullover', 'Shirt', 'Sneaker', 'Dress', 'Trouser', 'Dress', 'Sneaker', 'Trouser', 'Bag', 'Ankle boot', 'Sneaker', 'Sandal', 'Ankle boot', 'Sneaker', 'Trouser', 'Dress', 'Dress', 'Pullover', 'Sneaker', 'Sandal', 'Sneaker', 'Bag', 'Pullover', 'Sneaker', 'Pullover', 'Coat', 'Trouser', 'Bag', 'Sneaker', 'Trouser', 'Sneaker', 'Coat', 'T-shirt/top', 'Dress', 'Bag', 'Bag', 'Pullover', 'Sandal', 'Ankle boot', 'T-shirt/top', 'Bag', 'Dress', 'Coat', 'Pullover', 'T-shirt/top', 'Coat', 'Coat', 'Pullover', 'Pullover', 'Sandal', 'Trouser', 'T-shirt/top', 'T-shirt/top', 'Shirt', 'Trouser', 'Coat', 'Shirt', 'Dress', 'T-shirt/top', 'Coat', 'Dress', 'Dress', 'Coat', 'Sneaker', 'Trouser', 'Bag', 'Sneaker', 'Bag', 'T-shirt/top', 'Coat', 'Ankle boot', 'Shirt', 'Dress', 'Sneaker', 'Pullover', 'Pullover', 'Pullover', 'Shirt', 'Dress', 'Pullover', 'Pullover', 'Pullover', 'Pullover', 'Sandal', 'Sandal', 'Bag', 'Ankle boot', 'Coat', 'Pullover', 'Coat', 'Pullover', 'Bag', 'Pullover', 'Sneaker', 'T-shirt/top', 'Trouser', 'Bag', 'Pullover', 'Sandal', 'Sneaker', 'Sandal', 'Sneaker', 'Shirt', 'Ankle boot', 'Coat', 'Ankle boot', 'Bag', 'Shirt', 'Shirt', 'Dress', 'Trouser', 'Dress', 'Bag', 'Ankle boot', 'Pullover', 'Sandal', 'Shirt', 'Coat', 'Bag', 'Sandal', 'Pullover', 'Ankle boot', 'Dress', 'Shirt', 'Sneaker', 'Dress', 'Dress', 'Sneaker', 'Sandal', 'Coat', 'Ankle boot', 'Coat', 'T-shirt/top', 'Sneaker', 'Bag', 'Coat', 'Coat', 'T-shirt/top', 'Shirt', 'Shirt', 'Coat', 'Bag', 'Pullover', 'Shirt', 'Shirt', 'T-shirt/top', 'Sandal', 'Trouser', 'Ankle boot', 'Sneaker', 'T-shirt/top', 'Sandal', 'Bag', 'Pullover', 'Sneaker', 'Dress', 'Shirt', 'T-shirt/top', 'Coat', 'Coat', 'Dress', 'Pullover', 'Sandal', 'Coat', 'Pullover', 'Ankle boot', 'T-shirt/top', 'Sneaker', 'Trouser', 'Pullover', 'Dress', 'Shirt', 'Shirt', 'Bag', 'Ankle boot', 'Dress', 'Pullover', 'Sneaker', 'Bag', 'Coat', 'Dress', 'Dress', 'Pullover', 'Sandal', 'Pullover', 'Pullover', 'Sandal', 'Sneaker', 'Coat', 'Coat', 'Bag', 'Pullover', 'Trouser', 'Sandal', 'Shirt', 'Coat', 'Dress', 'Ankle boot', 'Sneaker', 'Ankle boot', 'Ankle boot', 'Shirt', 'Dress', 'Shirt', 'Dress', 'Pullover', 'Ankle boot', 'Trouser', 'Shirt', 'Shirt', 'Dress', 'Sneaker', 'Pullover', 'Coat', 'T-shirt/top', 'Sneaker', 'Sneaker', 'Ankle boot', 'Sneaker', 'Coat', 'Dress', 'Ankle boot', 'T-shirt/top', 'Sneaker', 'Pullover', 'Coat', 'Sandal', 'Pullover', 'Dress', 'Bag', 'Trouser', 'Dress', 'Pullover', 'Shirt', 'Shirt', 'Pullover', 'Sneaker', 'Shirt', 'Sneaker', 'Pullover', 'Sneaker', 'Shirt', 'Bag', 'Dress', 'Trouser', 'Ankle boot', 'Dress', 'Ankle boot', 'Trouser', 'Sneaker', 'Trouser', 'Dress', 'Shirt', 'Bag', 'T-shirt/top', 'T-shirt/top', 'Shirt', 'Dress', 'Coat', 'Bag', 'Trouser', 'Sneaker', 'Sandal', 'Pullover', 'Shirt', 'Shirt', 'Dress', 'Coat', 'Sneaker', 'T-shirt/top', 'Ankle boot', 'Bag', 'Bag', 'Trouser', 'Pullover', 'Ankle boot', 'Coat', 'Dress', 'Coat', 'Dress', 'Trouser', 'Sneaker', 'Dress', 'Sandal', 'T-shirt/top', 'Trouser', 'Ankle boot', 'Sneaker', 'Trouser', 'Shirt', 'T-shirt/top', 'T-shirt/top', 'Dress', 'Pullover', 'Ankle boot', 'Dress', 'Pullover', 'Bag', 'Sandal', 'Trouser', 'Trouser', 'Shirt', 'Dress', 'Sneaker', 'Sandal', 'Coat', 'Trouser', 'Coat', 'Bag', 'Shirt', 'Coat', 'Trouser', 'T-shirt/top', 'Pullover', 'Bag', 'Sneaker', 'Shirt', 'Trouser', 'Pullover', 'T-shirt/top', 'T-shirt/top', 'Pullover', 'Pullover', 'Dress', 'Bag', 'Sandal', 'Bag', 'Trouser', 'Coat', 'Coat', 'Bag', 'Bag', 'Coat', 'Dress', 'Pullover', 'Coat', 'Coat', 'Pullover', 'Coat', 'T-shirt/top', 'Sandal', 'Shirt', 'Ankle boot', 'Pullover', 'T-shirt/top', 'Pullover', 'Dress', 'Sneaker', 'Shirt', 'Dress', 'Pullover', 'Shirt', 'Ankle boot', 'Dress', 'Shirt', 'Trouser', 'Ankle boot', 'Sneaker', 'Coat', 'Trouser', 'Trouser', 'Sandal', 'Bag', 'Bag', 'Pullover', 'Ankle boot', 'Shirt', 'Ankle boot', 'Sneaker', 'Coat', 'Pullover', 'Shirt', 'Shirt', 'Sandal', 'Sneaker', 'Dress', 'T-shirt/top', 'Pullover', 'Pullover', 'Sandal', 'Dress', 'Sneaker', 'Pullover', 'Trouser', 'Ankle boot', 'Ankle boot', 'Ankle boot', 'Trouser', 'Sandal', 'Coat', 'Pullover', 'Bag', 'Sandal', 'Dress', 'Ankle boot', 'Bag', 'Bag', 'T-shirt/top', 'Sneaker', 'Shirt', 'Coat', 'Shirt', 'Trouser', 'Sandal', 'Bag', 'Sandal', 'Trouser', 'Pullover', 'Sandal', 'Pullover', 'T-shirt/top', 'Pullover', 'Sneaker', 'Ankle boot', 'Coat', 'Dress', 'Pullover', 'Ankle boot', 'Trouser', 'Sandal', 'Ankle boot', 'Sandal', 'Sandal', 'Bag', 'Bag', 'Sneaker', 'Dress', 'Coat', 'Dress', 'Ankle boot', 'T-shirt/top', 'Pullover', 'Sandal', 'Bag', 'Ankle boot', 'Sneaker', 'T-shirt/top', 'Bag', 'Shirt', 'Shirt', 'Sandal', 'Sneaker', 'Sandal', 'Shirt', 'Sandal', 'Sandal', 'Dress', 'Coat', 'Shirt', 'Shirt', 'Coat', 'Dress', 'Bag', 'Pullover', 'Sneaker', 'Ankle boot', 'Dress', 'Shirt', 'Ankle boot', 'Sneaker', 'Coat', 'Sandal', 'Pullover', 'Trouser', 'Sneaker', 'T-shirt/top', 'Pullover', 'Trouser', 'Bag', 'Bag', 'Bag', 'T-shirt/top', 'Shirt', 'Sandal', 'T-shirt/top', 'Sneaker', 'Sandal', 'Dress', 'Pullover', 'Trouser', 'T-shirt/top', 'Coat', 'Coat', 'Sneaker', 'Pullover', 'Ankle boot', 'T-shirt/top', 'Ankle boot', 'Shirt', 'Dress', 'T-shirt/top', 'T-shirt/top', 'Sneaker', 'Sneaker', 'Coat', 'Sneaker', 'Trouser', 'Coat', 'Sneaker', 'Bag', 'Shirt', 'Ankle boot', 'Coat', 'Sandal', 'Bag', 'Dress', 'Shirt', 'Pullover', 'Sandal', 'Bag', 'Bag', 'Dress', 'Coat', 'Sandal', 'Ankle boot', 'Bag', 'Pullover', 'Bag', 'T-shirt/top', 'Coat', 'T-shirt/top', 'T-shirt/top', 'Shirt', 'Dress', 'Bag', 'Coat', 'Ankle boot', 'Dress', 'Coat', 'Coat', 'T-shirt/top', 'Sandal', 'Pullover', 'Bag', 'Pullover', 'Trouser', 'Sneaker', 'Trouser', 'Trouser', 'Coat', 'Shirt', 'Dress', 'Ankle boot', 'Trouser', 'Trouser', 'Ankle boot', 'Sneaker', 'T-shirt/top', 'Sneaker', 'Bag', 'Bag', 'Coat', 'Ankle boot', 'Trouser', 'Sneaker', 'Trouser', 'Pullover', 'Pullover', 'Coat', 'Coat', 'Shirt', 'T-shirt/top', 'Shirt', 'Ankle boot', 'Dress', 'Trouser', 'Coat', 'Shirt', 'Sandal', 'Pullover', 'Coat', 'Trouser', 'Bag', 'Sandal', 'Coat', 'Sandal', 'Sandal', 'Bag', 'T-shirt/top', 'Shirt', 'Bag', 'Sneaker', 'Ankle boot', 'Bag', 'T-shirt/top', 'Sneaker', 'Sneaker', 'Bag', 'Sneaker', 'Sandal', 'Sneaker', 'Dress', 'Dress', 'T-shirt/top', 'Trouser', 'Dress', 'Ankle boot', 'Shirt', 'Pullover', 'Coat', 'T-shirt/top', 'Shirt', 'T-shirt/top', 'Trouser', 'Bag', 'Pullover', 'Sneaker', 'Shirt', 'Ankle boot', 'T-shirt/top', 'Shirt', 'Dress', 'Sandal', 'Dress', 'Shirt', 'Sandal', 'Trouser', 'Bag', 'Trouser', 'Sandal', 'Sneaker', 'Coat', 'Coat', 'Sneaker', 'Coat', 'T-shirt/top', 'Ankle boot', 'Pullover', 'Trouser', 'Dress', 'Ankle boot', 'Sneaker', 'Coat', 'Dress', 'Trouser', 'Pullover', 'Coat', 'Sandal', 'Dress', 'Coat', 'Shirt', 'T-shirt/top', 'Dress', 'Pullover', 'Coat', 'Shirt', 'Pullover', 'Coat', 'Trouser', 'Bag', 'T-shirt/top', 'Bag', 'Shirt', 'Coat', 'Sandal', 'Sandal', 'Sandal', 'Coat', 'Ankle boot', 'Pullover', 'Dress', 'Sneaker', 'Ankle boot', 'Sneaker', 'Sneaker', 'Dress', 'Bag', 'Trouser', 'Coat', 'Trouser', 'Trouser', 'Coat', 'Dress', 'Shirt', 'Bag', 'Pullover', 'T-shirt/top', 'Dress', 'Sneaker', 'Coat', 'Shirt', 'Bag', 'Sandal', 'Dress', 'Dress', 'Coat', 'Sandal', 'Sandal', 'Ankle boot', 'T-shirt/top', 'Sneaker', 'Sandal', 'Sandal', 'T-shirt/top', 'Pullover', 'Shirt', 'Sandal', 'Shirt', 'Pullover', 'Coat', 'Pullover', 'Bag', 'Ankle boot', 'Bag', 'Coat', 'Trouser', 'Pullover', 'Sandal', 'Dress', 'Bag', 'Bag', 'Sneaker', 'Shirt', 'Trouser', 'Sneaker', 'Sneaker', 'Dress', 'Coat', 'Sneaker', 'Trouser', 'Shirt', 'Sandal', 'Pullover', 'Pullover', 'Coat', 'T-shirt/top', 'Sneaker', 'Dress', 'Coat', 'Ankle boot', 'Bag', 'Ankle boot', 'T-shirt/top', 'T-shirt/top', 'Ankle boot', 'Trouser', 'Dress', 'T-shirt/top', 'Coat', 'Coat', 'Trouser', 'Coat', 'Pullover', 'Sneaker', 'Bag', 'Ankle boot', 'Sandal', 'Trouser', 'Bag', 'Sneaker', 'Pullover', 'Sandal', 'Trouser', 'Dress', 'Ankle boot', 'Sneaker', 'Sneaker', 'Shirt', 'Dress', 'Sneaker', 'Sneaker', 'Sandal', 'Pullover', 'T-shirt/top', 'T-shirt/top', 'Sneaker', 'Sneaker', 'Pullover', 'Shirt', 'Pullover', 'Pullover', 'Ankle boot', 'Sneaker', 'Ankle boot', 'Bag', 'Dress', 'Pullover', 'Sneaker', 'Trouser', 'Sneaker', 'Coat', 'Sandal', 'Ankle boot', 'Shirt', 'Dress', 'Coat', 'Bag', 'Sandal', 'Dress', 'T-shirt/top', 'Bag', 'Sneaker', 'Dress', 'Sandal', 'Sneaker', 'T-shirt/top', 'Bag', 'Shirt', 'Bag', 'Shirt', 'Ankle boot', 'Dress', 'Pullover', 'Sandal', 'T-shirt/top', 'Sandal', 'T-shirt/top', 'Ankle boot', 'Coat', 'Trouser', 'Dress', 'Dress', 'Trouser', 'Coat', 'Pullover', 'Pullover', 'Sandal', 'Pullover', 'Sandal', 'Ankle boot', 'Trouser', 'Sneaker', 'Pullover', 'Sandal', 'Sneaker', 'Coat', 'Pullover', 'Shirt', 'Dress', 'Coat', 'Bag', 'Ankle boot', 'Pullover', 'T-shirt/top', 'Ankle boot', 'Ankle boot', 'Ankle boot', 'Sandal', 'Ankle boot', 'Bag', 'Sandal', 'Bag', 'Sandal', 'Sandal', 'Bag', 'Sneaker', 'Coat', 'T-shirt/top', 'Dress', 'Shirt', 'Trouser', 'Bag', 'Ankle boot', 'Sneaker', 'Ankle boot', 'Dress', 'Bag', 'Coat', 'Pullover', 'Ankle boot', 'Ankle boot', 'Sneaker', 'Shirt', 'Pullover', 'Bag', 'Dress', 'T-shirt/top', 'Sandal', 'Pullover', 'Bag', 'Pullover', 'T-shirt/top', 'Coat', 'Sneaker', 'Dress', 'Sandal', 'T-shirt/top', 'Trouser', 'Sandal', 'Coat', 'Shirt', 'Pullover', 'Trouser', 'Bag', 'Ankle boot', 'Trouser', 'Bag', 'Shirt', 'Dress', 'T-shirt/top', 'Sneaker', 'Ankle boot', 'Bag', 'Sandal', 'Bag', 'Sneaker', 'Coat', 'Pullover', 'Sneaker', 'Pullover', 'Dress', 'Dress', 'Shirt', 'Trouser', 'Pullover', 'Sneaker', 'Ankle boot', 'Dress', 'Dress', 'Shirt', 'Ankle boot', 'Shirt', 'Sandal', 'Coat', 'Bag', 'Ankle boot', 'Pullover', 'T-shirt/top', 'Pullover', 'Pullover', 'Bag', 'Shirt', 'Ankle boot', 'Sandal', 'Coat', 'Dress', 'Ankle boot', 'Pullover', 'Dress', 'Pullover', 'Shirt', 'Shirt', 'Dress', 'T-shirt/top', 'Pullover', 'Sandal', 'Trouser', 'Shirt', 'Pullover', 'Pullover', 'Sneaker', 'Shirt', 'T-shirt/top', 'Coat', 'Dress', 'T-shirt/top', 'Dress', 'Ankle boot', 'Bag', 'Sneaker', 'Bag', 'Ankle boot', 'Sandal', 'Dress', 'Ankle boot', 'Trouser', 'Ankle boot', 'Bag', 'Bag', 'Coat', 'Sandal', 'Sneaker', 'T-shirt/top', 'Dress', 'Sneaker', 'Trouser', 'Ankle boot', 'Pullover', 'Trouser', 'Coat', 'Sandal', 'Dress', 'Trouser', 'Pullover', 'Shirt', 'Trouser', 'Sandal', 'Sneaker', 'Shirt', 'Ankle boot', 'Sandal', 'Coat', 'Trouser', 'Sneaker', 'T-shirt/top', 'Trouser', 'Ankle boot', 'Ankle boot', 'T-shirt/top', 'Pullover', 'Sneaker', 'Shirt', 'T-shirt/top', 'T-shirt/top', 'Shirt', 'Coat', 'Ankle boot', 'Pullover', 'Dress', 'Sneaker', 'Sneaker', 'Sneaker', 'Dress', 'Sandal', 'Sandal', 'Trouser', 'Ankle boot', 'Ankle boot', 'T-shirt/top', 'Coat', 'Sneaker', 'Shirt', 'Coat', 'T-shirt/top', 'Dress', 'Bag', 'Trouser', 'Sneaker', 'Coat', 'Ankle boot', 'Sneaker', 'Ankle boot', 'Bag', 'Coat', 'Pullover', 'Sneaker', 'Trouser', 'Bag', 'T-shirt/top', 'Trouser', 'Sandal', 'Bag', 'Ankle boot', 'Dress', 'Shirt', 'Ankle boot', 'Shirt', 'Dress', 'Shirt', 'Dress', 'Dress', 'Ankle boot', 'Sandal', 'Sandal', 'Coat', 'Sneaker', 'Sneaker', 'Dress', 'Ankle boot', 'Trouser', 'Pullover', 'Sneaker', 'Coat', 'T-shirt/top', 'Pullover', 'T-shirt/top', 'Dress', 'Sneaker', 'Pullover', 'Dress', 'Coat', 'Coat', 'Dress', 'Sneaker', 'Sandal', 'T-shirt/top', 'Ankle boot', 'Coat', 'Shirt', 'Shirt', 'Trouser', 'Sneaker', 'Pullover', 'Bag', 'Bag', 'Sneaker', 'Dress', 'Pullover', 'T-shirt/top', 'Coat', 'Sneaker', 'Coat', 'Trouser', 'Dress', 'Dress', 'Sandal', 'Dress', 'Coat', 'Bag', 'Pullover', 'Sandal', 'Coat', 'T-shirt/top', 'Shirt', 'Sandal', 'Sandal', 'Ankle boot', 'Bag', 'Bag', 'Bag', 'T-shirt/top', 'Trouser', 'Ankle boot', 'Coat', 'Dress', 'Trouser', 'Ankle boot', 'Sneaker', 'Pullover', 'Shirt', 'Coat', 'Sneaker', 'T-shirt/top', 'Pullover', 'Pullover', 'Bag', 'Sandal', 'Pullover', 'Coat', 'T-shirt/top', 'Bag', 'Ankle boot', 'Dress', 'Trouser', 'Pullover', 'Sneaker', 'T-shirt/top', 'Bag', 'Bag', 'Pullover', 'Dress', 'Bag', 'Shirt', 'Sandal', 'Trouser', 'Bag', 'Dress', 'Sneaker', 'Coat', 'Shirt', 'Coat', 'Shirt', 'Sandal', 'Shirt', 'Trouser', 'Coat', 'Dress', 'Shirt', 'Bag', 'Sneaker', 'Dress', 'Dress', 'T-shirt/top', 'Pullover', 'Ankle boot', 'Pullover', 'Pullover', 'Sandal', 'Pullover', 'Sneaker', 'Shirt', 'Bag', 'Sandal', 'Coat', 'Sandal', 'Bag', 'Sandal', 'Shirt', 'Trouser', 'Shirt', 'T-shirt/top', 'Sneaker', 'Bag', 'Shirt', 'Ankle boot', 'Dress', 'Shirt', 'Sandal', 'Bag', 'Pullover', 'Bag', 'Ankle boot', 'Pullover', 'Pullover', 'Dress', 'Dress', 'Ankle boot', 'Trouser', 'T-shirt/top', 'Trouser', 'Bag', 'Shirt', 'Shirt', 'Dress', 'Trouser', 'T-shirt/top', 'Bag', 'Pullover', 'Pullover', 'Shirt', 'T-shirt/top', 'Bag', 'Pullover', 'Shirt', 'Sandal', 'Ankle boot', 'Shirt', 'Sneaker', 'Shirt', 'Coat', 'Coat', 'Ankle boot', 'Pullover', 'Dress', 'Sneaker', 'Trouser', 'Ankle boot', 'Dress', 'Shirt', 'Bag', 'Pullover', 'Dress', 'Sneaker', 'Ankle boot', 'Trouser', 'Dress', 'Sneaker', 'Dress', 'Trouser', 'Sandal', 'T-shirt/top', 'Coat', 'Coat', 'T-shirt/top', 'Sneaker', 'Shirt', 'Ankle boot', 'T-shirt/top', 'Trouser', 'Pullover', 'Ankle boot', 'Coat', 'Coat', 'Shirt', 'Trouser', 'Dress', 'Dress', 'Ankle boot', 'Pullover', 'Dress', 'Sneaker', 'Trouser', 'Pullover', 'Shirt', 'Ankle boot', 'Sneaker', 'Bag', 'Coat', 'Coat', 'Sneaker', 'Coat', 'Bag', 'Pullover', 'Sneaker', 'Sneaker', 'T-shirt/top', 'Ankle boot', 'Trouser', 'Shirt', 'Coat', 'Sandal', 'Ankle boot', 'Trouser', 'Coat', 'Sandal', 'Sandal', 'Sandal', 'Dress', 'Dress', 'Ankle boot', 'Ankle boot', 'Coat', 'Ankle boot', 'Ankle boot', 'Trouser', 'Pullover', 'Dress', 'Shirt', 'Shirt', 'Dress', 'Bag', 'Coat', 'Pullover', 'Sandal', 'T-shirt/top', 'Pullover', 'Ankle boot', 'Trouser', 'Coat', 'Bag', 'Coat', 'Sandal', 'Pullover', 'Sandal', 'Sneaker', 'Dress', 'Sneaker', 'Shirt', 'Bag', 'Shirt', 'Dress', 'Coat', 'Sneaker', 'Bag', 'Sandal', 'Coat', 'Bag', 'Sneaker', 'Sandal', 'T-shirt/top', 'Trouser', 'Ankle boot', 'T-shirt/top', 'Pullover', 'Coat', 'Coat', 'Pullover', 'Bag', 'Trouser', 'Trouser', 'Coat', 'Pullover', 'T-shirt/top', 'Dress', 'Ankle boot', 'Pullover', 'Ankle boot', 'Dress', 'Pullover', 'Sneaker', 'Sneaker', 'Sandal', 'Sandal', 'Trouser', 'Sandal', 'Bag', 'Pullover', 'Pullover', 'T-shirt/top', 'Dress', 'Trouser', 'T-shirt/top', 'Dress', 'Sneaker', 'Ankle boot', 'Pullover', 'Pullover', 'Coat', 'Pullover', 'Sneaker', 'Dress', 'Shirt', 'Sandal', 'Ankle boot', 'Sneaker', 'Sneaker', 'Coat', 'Pullover', 'Trouser', 'Trouser', 'Sneaker', 'Pullover', 'Sneaker', 'Ankle boot', 'Dress', 'Bag', 'Dress', 'Sandal', 'Ankle boot', 'Dress', 'Pullover', 'Coat', 'Coat', 'Bag', 'Sandal', 'T-shirt/top', 'Coat', 'Sneaker', 'Trouser', 'Shirt', 'Dress', 'Ankle boot', 'Sneaker', 'Dress', 'Pullover', 'Sneaker', 'Sandal', 'Ankle boot', 'Trouser', 'Ankle boot', 'T-shirt/top', 'Shirt', 'Ankle boot', 'Pullover', 'Pullover', 'Ankle boot', 'Sandal', 'Pullover', 'Ankle boot', 'Shirt', 'Bag', 'Sandal', 'Coat', 'Sneaker', 'Trouser', 'Bag', 'Bag', 'Ankle boot', 'Sandal', 'T-shirt/top', 'Pullover', 'Ankle boot', 'Shirt', 'Dress', 'Shirt', 'Pullover', 'Sneaker', 'Bag', 'Sneaker', 'Sneaker', 'Shirt', 'T-shirt/top', 'Dress', 'Trouser', 'Trouser', 'Coat', 'Pullover', 'Bag', 'Trouser', 'Sneaker', 'Sandal', 'Sneaker', 'Shirt', 'Ankle boot', 'Shirt', 'Trouser', 'Shirt', 'Dress', 'Sandal', 'Bag', 'T-shirt/top', 'Ankle boot', 'Dress', 'T-shirt/top', 'T-shirt/top', 'Sneaker', 'Coat', 'Dress', 'Dress', 'Dress', 'Ankle boot', 'Pullover', 'Sandal', 'Pullover', 'Shirt', 'Coat', 'Bag', 'Coat', 'Bag', 'Sandal', 'Bag', 'Pullover', 'Trouser', 'Sneaker', 'Coat', 'Sandal', 'Pullover', 'Pullover', 'Bag', 'Shirt', 'Coat', 'Sneaker', 'Sandal', 'Bag', 'Sneaker', 'Bag', 'Sandal', 'Coat', 'Bag', 'Trouser', 'T-shirt/top', 'Ankle boot', 'Ankle boot', 'Bag', 'Pullover', 'Shirt', 'Pullover', 'Shirt', 'Dress', 'Sneaker', 'Shirt', 'Ankle boot', 'T-shirt/top', 'T-shirt/top', 'Bag', 'Trouser', 'Pullover', 'Dress', 'Shirt', 'Dress', 'Sandal', 'Pullover', 'Pullover', 'Shirt', 'T-shirt/top', 'Pullover', 'Shirt', 'Sneaker', 'Coat', 'Dress', 'Bag', 'Pullover', 'Sandal', 'Dress', 'Dress', 'T-shirt/top', 'Sneaker', 'Dress', 'Trouser', 'Shirt', 'Pullover', 'Shirt', 'Coat', 'T-shirt/top', 'Coat', 'Ankle boot', 'Sandal', 'Bag', 'Pullover', 'Sandal', 'Dress', 'Bag', 'Sandal', 'T-shirt/top', 'Trouser', 'Dress', 'Sneaker', 'Shirt', 'Coat', 'Bag', 'Sneaker', 'Trouser', 'Dress', 'Ankle boot', 'Bag', 'Pullover', 'Shirt', 'Pullover', 'Sandal', 'Sandal', 'T-shirt/top', 'Sneaker', 'Pullover', 'Bag', 'Shirt', 'Ankle boot', 'Ankle boot', 'Sneaker', 'Shirt', 'T-shirt/top', 'Coat', 'Sandal', 'Sandal', 'Ankle boot', 'Ankle boot', 'Sandal', 'Sneaker', 'Dress', 'Shirt', 'Pullover', 'Shirt', 'Sneaker', 'Pullover', 'Pullover', 'T-shirt/top', 'Bag', 'Dress', 'Bag', 'Shirt', 'Trouser', 'Dress', 'Dress', 'Shirt', 'Dress', 'Coat', 'Pullover', 'Ankle boot', 'Ankle boot', 'Bag', 'Sneaker', 'Coat', 'Pullover', 'Shirt', 'Shirt', 'Dress', 'Coat', 'Sandal', 'T-shirt/top', 'Sneaker', 'Sneaker', 'Trouser', 'Pullover', 'Shirt', 'T-shirt/top', 'Coat', 'Dress', 'Ankle boot', 'Pullover', 'Dress', 'Coat', 'Dress', 'Trouser', 'Pullover', 'Sandal', 'Dress', 'Coat', 'Bag', 'Sneaker', 'Sneaker', 'Shirt', 'Bag', 'Dress', 'Coat', 'Trouser', 'Bag', 'Pullover', 'Dress', 'Sandal', 'Bag', 'T-shirt/top', 'Dress', 'Bag', 'Pullover', 'Coat', 'Trouser', 'Sandal', 'Sneaker', 'Dress', 'T-shirt/top', 'Trouser', 'Trouser', 'Sneaker', 'Trouser', 'Trouser', 'Pullover', 'Shirt', 'Bag', 'Shirt', 'Bag', 'Shirt', 'Ankle boot', 'Coat', 'T-shirt/top', 'Trouser', 'Sandal', 'Pullover', 'Ankle boot', 'Trouser', 'Sneaker', 'Bag', 'Sandal', 'Trouser', 'Sandal', 'Ankle boot', 'Pullover', 'Dress', 'Sneaker', 'Pullover', 'T-shirt/top', 'Ankle boot', 'Sandal', 'Sandal', 'Dress', 'Ankle boot', 'Sneaker', 'Sandal', 'Shirt', 'Pullover', 'Sneaker', 'Dress', 'Sneaker', 'Sandal', 'Pullover', 'Dress', 'Sneaker', 'Ankle boot', 'Pullover', 'Bag', 'Ankle boot', 'Pullover', 'Sandal', 'Pullover', 'Shirt', 'Pullover', 'Ankle boot', 'Sandal', 'T-shirt/top', 'Coat', 'Dress', 'Coat', 'Coat', 'Pullover', 'Trouser', 'Bag', 'Sneaker', 'Pullover', 'Dress', 'Dress', 'Dress', 'Pullover', 'Dress', 'Ankle boot', 'Dress', 'T-shirt/top', 'Coat', 'Sneaker', 'Coat', 'Sandal', 'Bag', 'Pullover', 'Sandal', 'Coat', 'T-shirt/top', 'Ankle boot', 'Trouser', 'Sandal', 'Trouser', 'Dress', 'Sandal', 'Dress', 'T-shirt/top', 'Shirt', 'T-shirt/top', 'Coat', 'Pullover', 'Trouser', 'Bag', 'Pullover', 'Bag', 'Shirt', 'Trouser', 'Sneaker', 'Ankle boot', 'Ankle boot', 'Pullover', 'Sneaker', 'Ankle boot', 'Sneaker', 'Bag', 'Pullover', 'Pullover', 'T-shirt/top', 'T-shirt/top', 'Bag', 'Dress', 'Trouser', 'Shirt', 'Sneaker', 'Trouser', 'Coat', 'Sneaker', 'Ankle boot', 'Trouser', 'Sandal', 'Dress', 'Coat', 'Pullover', 'Dress', 'Sneaker', 'Pullover', 'Dress', 'T-shirt/top', 'Shirt', 'Coat', 'Sandal', 'Trouser', 'Sneaker', 'Sneaker', 'Bag', 'T-shirt/top', 'Sneaker', 'Trouser', 'Sneaker', 'Ankle boot', 'Shirt', 'Sneaker', 'Ankle boot', 'Dress', 'Ankle boot', 'Bag', 'Bag', 'Trouser', 'Ankle boot', 'Sneaker', 'Sneaker', 'Coat', 'Dress', 'Trouser', 'Coat', 'Pullover', 'Sneaker', 'Coat', 'Sandal', 'Bag', 'T-shirt/top', 'Sandal', 'Shirt', 'Ankle boot', 'Shirt', 'Sneaker', 'Shirt', 'Dress', 'T-shirt/top', 'Dress', 'Dress', 'Sneaker', 'Dress', 'Coat', 'Trouser', 'Coat', 'Coat', 'Bag', 'Ankle boot', 'Bag', 'Sandal', 'Sneaker', 'Pullover', 'Trouser', 'Sneaker', 'Dress', 'Sneaker', 'Sneaker', 'Ankle boot', 'Shirt', 'Dress', 'Bag', 'Ankle boot', 'Coat', 'Shirt', 'Pullover', 'T-shirt/top', 'T-shirt/top', 'Coat', 'Bag', 'Sneaker', 'Coat', 'Sneaker', 'Dress', 'Coat', 'Sandal', 'Sandal', 'Sneaker', 'Sandal', 'Trouser', 'Sneaker', 'Ankle boot', 'Dress', 'Pullover', 'Pullover', 'Sneaker', 'Pullover', 'Bag', 'Trouser', 'Ankle boot', 'Trouser', 'Pullover', 'Dress', 'Coat', 'Bag', 'Shirt', 'Bag', 'Sandal', 'Sandal', 'T-shirt/top', 'Pullover', 'Dress', 'Bag', 'Bag', 'Shirt', 'Coat', 'Pullover', 'Sneaker', 'Sneaker', 'Trouser', 'Ankle boot', 'Bag', 'Shirt', 'Dress', 'Coat', 'Shirt', 'Bag', 'Coat', 'Ankle boot', 'Shirt', 'Dress', 'Ankle boot', 'Sneaker', 'Coat', 'Pullover', 'Bag', 'Coat', 'Dress', 'Sandal', 'T-shirt/top', 'Trouser', 'Trouser', 'Sneaker', 'Trouser', 'Sandal', 'Bag', 'Coat', 'Sneaker', 'Ankle boot', 'Sneaker', 'Pullover', 'Sandal', 'Sneaker', 'T-shirt/top', 'Sneaker', 'Trouser', 'Sneaker', 'Sandal', 'Shirt', 'Coat', 'T-shirt/top', 'Sneaker', 'Sandal', 'Coat', 'Coat', 'Sandal', 'T-shirt/top', 'Pullover', 'Bag', 'Ankle boot', 'Ankle boot', 'Dress', 'Shirt', 'Sneaker', 'T-shirt/top', 'Sneaker', 'Sneaker', 'Ankle boot', 'T-shirt/top', 'Shirt', 'Sneaker', 'Dress', 'Sneaker', 'Dress', 'Pullover', 'T-shirt/top', 'Bag', 'Sneaker', 'Dress', 'Trouser', 'Dress', 'Shirt', 'Coat', 'Coat', 'Ankle boot', 'Coat', 'Pullover', 'Pullover', 'Pullover', 'Sneaker', 'Coat', 'Sandal', 'Sneaker', 'Shirt', 'Bag', 'Pullover', 'Bag', 'Sneaker', 'Shirt', 'Sandal', 'Sneaker', 'Bag', 'Pullover', 'Sandal', 'Coat', 'Pullover', 'Bag', 'Dress', 'Sneaker', 'T-shirt/top', 'Pullover', 'Dress', 'Trouser', 'Bag', 'Bag', 'Ankle boot', 'Shirt', 'T-shirt/top', 'Bag', 'Dress', 'Bag', 'Pullover', 'Trouser', 'Sneaker', 'Dress', 'Ankle boot', 'Bag', 'T-shirt/top', 'Sandal', 'Sandal', 'Dress', 'Pullover', 'Dress', 'Sandal', 'Trouser', 'Sneaker', 'Coat', 'Ankle boot', 'Coat', 'Bag', 'Sneaker', 'Shirt', 'Ankle boot', 'Ankle boot', 'Coat', 'Ankle boot', 'Sandal', 'Ankle boot', 'Dress', 'Ankle boot', 'T-shirt/top', 'Ankle boot', 'Pullover', 'Bag', 'Pullover', 'Bag', 'Sneaker', 'Sneaker', 'Pullover', 'Bag', 'Sandal', 'Pullover', 'Shirt', 'T-shirt/top', 'Sandal', 'Trouser', 'Shirt', 'Coat', 'Bag', 'Sandal', 'Bag', 'Trouser', 'Coat', 'Sandal', 'Bag', 'Shirt', 'Trouser', 'Ankle boot', 'Sneaker', 'Pullover', 'Pullover', 'Shirt', 'Pullover', 'Bag', 'Pullover', 'Trouser', 'T-shirt/top', 'Ankle boot', 'Coat', 'Dress', 'Shirt', 'Pullover', 'Coat', 'Coat', 'Trouser', 'Dress', 'Coat', 'Trouser', 'Pullover', 'Coat', 'Coat', 'Trouser', 'Ankle boot', 'T-shirt/top', 'Shirt', 'Trouser', 'Bag', 'Ankle boot', 'Sneaker', 'T-shirt/top', 'Dress', 'Pullover', 'T-shirt/top', 'Coat', 'Ankle boot', 'Bag', 'Sneaker', 'Sneaker', 'Sandal', 'Sandal', 'Ankle boot', 'Ankle boot', 'T-shirt/top', 'Sneaker', 'Trouser', 'Dress', 'Ankle boot', 'Pullover', 'Shirt', 'T-shirt/top', 'Sandal', 'Bag', 'Shirt', 'Dress', 'T-shirt/top', 'Sandal', 'Dress', 'Trouser', 'Bag', 'Sneaker', 'Pullover', 'Shirt', 'Trouser', 'Coat', 'Sandal', 'Sneaker', 'Bag', 'Pullover', 'Trouser', 'Pullover', 'Dress', 'Dress', 'Coat', 'Trouser', 'Coat', 'Coat', 'Dress', 'Sandal', 'T-shirt/top', 'Bag', 'Bag', 'Pullover', 'Ankle boot', 'Pullover', 'Trouser', 'T-shirt/top', 'T-shirt/top', 'Dress', 'Trouser', 'Sneaker', 'Coat', 'T-shirt/top', 'Bag', 'Shirt', 'Ankle boot', 'T-shirt/top', 'Shirt', 'Sandal', 'Sneaker', 'Sandal', 'Sandal', 'Sandal', 'T-shirt/top', 'Sandal', 'Coat', 'Shirt', 'Dress', 'Coat', 'Shirt', 'Bag', 'Bag', 'Dress', 'Bag', 'T-shirt/top', 'Ankle boot', 'Coat', 'Sneaker', 'Shirt', 'Sandal', 'Sandal', 'Trouser', 'Ankle boot', 'Ankle boot', 'Sandal', 'Pullover', 'Pullover', 'Coat', 'Sandal', 'Coat', 'Shirt', 'Pullover', 'Bag', 'Shirt', 'Trouser', 'Shirt', 'Trouser', 'Pullover', 'Trouser', 'Dress', 'Sneaker', 'Sneaker', 'Bag', 'Coat', 'Dress', 'Shirt', 'Sneaker', 'Sneaker', 'Sandal', 'Trouser', 'Bag', 'Coat', 'Coat', 'Sneaker', 'Sneaker', 'Shirt', 'Shirt', 'T-shirt/top', 'Coat', 'Bag', 'Sneaker', 'Trouser', 'Ankle boot', 'Coat', 'Shirt', 'Ankle boot', 'Pullover', 'Sandal', 'Pullover', 'Dress', 'Dress', 'Bag', 'T-shirt/top', 'Pullover', 'Dress', 'Sneaker', 'Ankle boot', 'Sandal', 'Coat', 'Sneaker', 'Ankle boot', 'Dress', 'Sandal', 'Dress', 'Ankle boot', 'Bag', 'Trouser', 'Coat', 'Trouser', 'Shirt', 'T-shirt/top', 'Dress', 'Coat', 'Sandal', 'Ankle boot', 'Shirt', 'Shirt', 'Pullover', 'Sneaker', 'Sneaker', 'Pullover', 'Shirt', 'Coat', 'Pullover', 'Shirt', 'Sneaker', 'Pullover', 'Dress', 'Coat', 'Ankle boot', 'Bag', 'Ankle boot', 'T-shirt/top', 'Sneaker', 'Coat', 'Pullover', 'Dress', 'Coat', 'Trouser', 'Pullover', 'Sandal', 'Sneaker', 'Bag', 'Bag', 'Trouser', 'Sandal', 'Trouser', 'Dress', 'Pullover', 'Shirt', 'Sandal', 'Dress', 'Sneaker', 'Trouser', 'Bag', 'Coat', 'T-shirt/top', 'Trouser', 'Dress', 'Bag', 'Dress', 'Ankle boot', 'Sneaker', 'Shirt', 'Sneaker', 'Pullover', 'Dress', 'T-shirt/top', 'Shirt', 'Bag', 'Shirt', 'Shirt', 'Pullover', 'T-shirt/top', 'Trouser', 'Ankle boot', 'Pullover', 'Coat', 'Coat', 'Ankle boot', 'Pullover', 'Sandal', 'Ankle boot', 'Coat', 'Sneaker', 'Dress', 'Dress', 'Sneaker', 'Coat', 'Shirt', 'Ankle boot', 'Dress', 'Trouser', 'Pullover', 'Pullover', 'Coat', 'Trouser', 'Pullover', 'Dress', 'T-shirt/top', 'Trouser', 'Shirt', 'Bag', 'Sandal', 'Coat', 'Coat', 'Dress', 'Trouser', 'Sandal', 'Ankle boot', 'Dress', 'Ankle boot', 'Sneaker', 'T-shirt/top', 'Dress', 'Bag', 'Sneaker', 'Bag', 'Dress', 'Trouser', 'Pullover', 'Sandal', 'Coat', 'Dress', 'Sneaker', 'T-shirt/top', 'Bag', 'Ankle boot', 'Bag', 'Coat', 'Dress', 'Sneaker', 'Dress', 'Sandal', 'Trouser', 'Trouser', 'Sneaker', 'Dress', 'Pullover', 'Trouser', 'Pullover', 'Trouser', 'Ankle boot', 'Sneaker', 'Sandal', 'Ankle boot', 'Trouser', 'Shirt', 'Coat', 'Coat', 'Shirt', 'Ankle boot', 'Pullover', 'Ankle boot', 'Bag', 'Sandal', 'Sneaker', 'Sneaker', 'Pullover', 'Bag', 'Dress', 'Trouser', 'Pullover', 'Bag', 'Pullover', 'Trouser', 'Sandal', 'Dress', 'Bag', 'Coat', 'T-shirt/top', 'Trouser', 'Pullover', 'Pullover', 'Dress', 'Ankle boot', 'Coat', 'Coat', 'Sandal', 'Bag', 'Ankle boot', 'T-shirt/top', 'Sneaker', 'Pullover', 'Sneaker', 'Shirt', 'Pullover', 'Ankle boot', 'Ankle boot', 'Shirt', 'Sandal', 'Trouser', 'Sneaker', 'Shirt', 'T-shirt/top', 'Pullover', 'Dress', 'Sandal', 'Bag', 'T-shirt/top', 'Sandal', 'T-shirt/top', 'Sneaker', 'Dress', 'Trouser', 'T-shirt/top', 'Sneaker', 'Coat', 'Dress', 'T-shirt/top', 'Coat', 'T-shirt/top', 'Coat', 'Sneaker', 'Sneaker', 'Coat', 'Dress', 'Dress', 'Sneaker', 'Bag', 'Sandal', 'T-shirt/top', 'Sneaker', 'Pullover', 'Ankle boot', 'Shirt', 'Sneaker', 'Sandal', 'Sandal', 'Pullover', 'Dress', 'T-shirt/top', 'Trouser', 'Sneaker', 'Trouser', 'Bag', 'Pullover', 'Pullover', 'Ankle boot', 'Shirt', 'Pullover', 'Trouser', 'Dress', 'Sandal', 'Coat', 'Trouser', 'Bag', 'Sandal', 'Ankle boot', 'Sneaker', 'Ankle boot', 'T-shirt/top', 'Sneaker', 'Coat', 'Ankle boot', 'Shirt', 'Sandal', 'Pullover', 'Bag', 'Coat', 'Trouser', 'Sandal', 'Sandal', 'Sneaker', 'Sandal', 'Sneaker', 'Shirt', 'Bag', 'Bag', 'Sneaker', 'T-shirt/top', 'Pullover', 'Coat', 'Trouser', 'Bag', 'Trouser', 'Trouser', 'Coat', 'Dress', 'Pullover', 'Bag', 'Trouser', 'Ankle boot', 'Pullover', 'Coat', 'Bag', 'Shirt', 'Dress', 'Sneaker', 'Pullover', 'Ankle boot', 'Coat', 'Trouser', 'Shirt', 'Sandal', 'Dress', 'Trouser', 'Bag', 'Dress', 'T-shirt/top', 'Ankle boot', 'Dress', 'Coat', 'Sandal', 'Shirt', 'Pullover', 'Coat', 'Pullover', 'Coat', 'Shirt', 'Sneaker', 'Shirt', 'T-shirt/top', 'Sneaker', 'Shirt', 'Bag', 'Trouser', 'Sneaker', 'Coat', 'Sandal', 'Coat', 'Shirt', 'Trouser', 'Shirt', 'Sandal', 'Bag', 'Coat', 'Sneaker', 'Dress', 'Dress', 'Pullover', 'Coat', 'Trouser', 'T-shirt/top', 'Bag', 'Pullover', 'Shirt', 'Shirt', 'Bag', 'Ankle boot', 'Ankle boot', 'Coat', 'Pullover', 'Dress', 'Sandal', 'Trouser', 'Ankle boot', 'Coat', 'Sneaker', 'Pullover', 'Ankle boot', 'Sandal', 'Ankle boot', 'Sneaker', 'Ankle boot', 'Bag', 'Sneaker', 'Trouser', 'Sneaker', 'Pullover', 'Dress', 'Shirt', 'Pullover', 'Sandal', 'Shirt', 'Coat', 'Pullover', 'Trouser', 'Sneaker', 'Ankle boot', 'Pullover', 'Dress', 'Shirt', 'Trouser', 'Shirt', 'Shirt', 'Coat', 'T-shirt/top', 'Coat', 'Dress', 'Dress', 'Trouser', 'Sandal', 'Ankle boot', 'Pullover', 'Ankle boot', 'Bag', 'Bag', 'Shirt', 'Pullover', 'Sandal', 'Shirt', 'Sneaker', 'Bag', 'Bag', 'Coat', 'T-shirt/top', 'Dress', 'Sneaker', 'Dress', 'Coat', 'Shirt', 'Shirt', 'Pullover', 'Bag', 'Pullover', 'Sneaker', 'T-shirt/top', 'Trouser', 'Sneaker', 'Shirt', 'Pullover', 'Sandal', 'Ankle boot', 'Pullover', 'Pullover', 'Pullover', 'Bag', 'Trouser', 'Dress', 'Sandal', 'Pullover', 'Coat', 'Coat', 'Bag', 'Dress', 'Coat', 'Sneaker', 'Dress', 'Coat', 'Pullover', 'Shirt', 'T-shirt/top', 'Shirt', 'T-shirt/top', 'Coat', 'Coat', 'Shirt', 'T-shirt/top', 'Trouser', 'T-shirt/top', 'Pullover', 'Dress', 'Ankle boot', 'Sneaker', 'Sneaker', 'Sandal', 'Coat', 'Bag', 'Bag', 'Pullover', 'Dress', 'Shirt', 'Trouser', 'Shirt', 'Bag', 'Sneaker', 'Shirt', 'Coat', 'Dress', 'Pullover', 'Trouser', 'T-shirt/top', 'Pullover', 'Sneaker', 'Sneaker', 'Coat', 'Trouser', 'Coat', 'Dress', 'T-shirt/top', 'T-shirt/top', 'Sandal', 'Pullover', 'Sneaker', 'Pullover', 'Shirt', 'Sneaker', 'Dress', 'Dress', 'Shirt', 'Coat', 'T-shirt/top', 'Trouser', 'Pullover', 'Ankle boot', 'Coat', 'Sneaker', 'Sneaker', 'Sandal', 'Ankle boot', 'Trouser', 'Sneaker', 'Trouser', 'Sandal', 'Dress', 'Sandal', 'Sneaker', 'Trouser', 'T-shirt/top', 'Pullover', 'Bag', 'Ankle boot', 'Ankle boot', 'Sandal', 'Pullover', 'Bag', 'T-shirt/top', 'Shirt', 'Bag', 'Ankle boot', 'Trouser', 'Dress', 'Sneaker', 'Trouser', 'Coat', 'T-shirt/top', 'Pullover', 'Trouser', 'Bag', 'Ankle boot', 'Coat', 'Sandal', 'Bag', 'Pullover', 'Pullover', 'Sandal', 'Sneaker', 'Dress', 'Dress', 'Sandal', 'Bag', 'Ankle boot', 'Bag', 'Trouser', 'Sandal', 'Shirt', 'Pullover', 'Sneaker', 'Bag', 'Bag', 'Dress', 'T-shirt/top', 'Ankle boot', 'T-shirt/top', 'Trouser', 'Coat', 'Dress', 'Trouser', 'Coat', 'Dress', 'Ankle boot', 'Dress', 'Bag', 'Shirt', 'Pullover', 'Shirt', 'Dress', 'Sneaker', 'Pullover', 'Pullover', 'Bag', 'Coat', 'Bag', 'Shirt', 'Trouser', 'Trouser', 'Trouser', 'Sandal', 'Shirt', 'Dress', 'Trouser', 'Shirt', 'Shirt', 'Trouser', 'Sandal', 'Bag', 'Pullover', 'Coat', 'Coat', 'Pullover', 'Dress', 'Sneaker', 'Trouser', 'Sneaker', 'Dress', 'Bag', 'Dress', 'Bag', 'T-shirt/top', 'T-shirt/top', 'Pullover', 'Pullover', 'Ankle boot', 'Coat', 'T-shirt/top', 'Dress', 'Trouser', 'Bag', 'Trouser', 'Coat', 'Pullover', 'Ankle boot', 'Coat', 'Sandal', 'Trouser', 'Shirt', 'Pullover', 'Ankle boot', 'Sneaker', 'Shirt', 'Pullover', 'Dress', 'T-shirt/top', 'Ankle boot', 'Sandal', 'Shirt', 'Trouser', 'Coat', 'Pullover', 'Shirt', 'Sneaker', 'Dress', 'Dress', 'Sneaker', 'Sneaker', 'Sneaker', 'Shirt', 'Coat', 'Bag', 'Dress', 'Trouser', 'Shirt', 'Bag', 'Sneaker', 'Trouser', 'Pullover', 'Shirt', 'Dress', 'Trouser', 'Sneaker', 'Trouser', 'Trouser', 'Coat', 'Shirt', 'Sneaker', 'Sandal', 'Ankle boot', 'Sandal', 'Shirt', 'Bag', 'Sneaker', 'T-shirt/top', 'Trouser', 'Coat', 'Pullover', 'Trouser', 'Shirt', 'Ankle boot', 'Sandal', 'Sneaker', 'Sandal', 'Pullover', 'Shirt', 'Pullover', 'Bag', 'Sneaker', 'Sandal', 'Dress', 'Trouser', 'Sneaker', 'Coat', 'Sandal', 'T-shirt/top', 'Pullover', 'Coat', 'Sandal', 'Dress', 'Pullover', 'Coat', 'Sandal', 'Shirt', 'T-shirt/top', 'Dress', 'Trouser', 'Ankle boot', 'Bag', 'Trouser', 'Ankle boot', 'Shirt', 'Sneaker', 'T-shirt/top', 'Sneaker', 'Pullover', 'Bag', 'Sneaker', 'Trouser', 'Sandal', 'Ankle boot', 'Sandal', 'Ankle boot', 'Pullover', 'Sneaker', 'Ankle boot', 'Coat', 'T-shirt/top', 'Trouser', 'Ankle boot', 'Sandal', 'Sneaker', 'Shirt', 'Shirt', 'Sneaker', 'Coat', 'Sandal', 'Coat', 'Sneaker', 'Coat', 'Bag', 'Bag', 'Coat', 'Pullover', 'Dress', 'Coat', 'Dress', 'Sandal', 'Sandal', 'Coat', 'Sneaker', 'T-shirt/top', 'Sandal', 'Sneaker', 'T-shirt/top', 'Shirt', 'Bag', 'Dress', 'Dress', 'Ankle boot', 'Dress', 'Dress', 'Sandal', 'Sandal', 'Sneaker', 'Dress', 'Shirt', 'Trouser', 'Sneaker', 'Bag', 'Coat', 'Trouser', 'Coat', 'Coat', 'Trouser', 'Pullover', 'Coat', 'Pullover', 'Pullover', 'Sandal', 'Coat', 'Pullover', 'Sneaker', 'Bag', 'Ankle boot', 'Pullover', 'Sandal', 'T-shirt/top', 'Pullover', 'T-shirt/top', 'Sandal', 'Trouser', 'Pullover', 'Pullover', 'Ankle boot', 'Bag', 'Coat', 'Dress', 'Shirt', 'Pullover', 'Bag', 'Sandal', 'Coat', 'Sneaker', 'Sandal', 'T-shirt/top', 'Trouser', 'Coat', 'T-shirt/top', 'Trouser', 'Coat', 'Ankle boot', 'Trouser', 'Ankle boot', 'Trouser', 'Dress', 'Bag', 'Shirt', 'Ankle boot', 'Sneaker', 'Trouser', 'Trouser', 'Pullover', 'Shirt', 'Bag', 'Ankle boot', 'Trouser', 'T-shirt/top', 'Dress', 'Shirt', 'Sandal', 'Dress', 'Bag', 'Sandal', 'Sneaker', 'Coat', 'Dress', 'Pullover', 'Coat', 'Coat', 'Trouser', 'Trouser', 'Coat', 'Sandal', 'T-shirt/top', 'Pullover', 'Ankle boot', 'Pullover', 'Coat', 'Pullover', 'Ankle boot', 'Sandal', 'Sneaker', 'Pullover', 'T-shirt/top', 'Bag', 'Dress', 'Sandal', 'T-shirt/top', 'Sneaker', 'Bag', 'Trouser', 'T-shirt/top', 'Shirt', 'Coat', 'Trouser', 'Shirt', 'Dress', 'T-shirt/top', 'Dress', 'Dress', 'Shirt', 'Dress', 'Dress', 'Ankle boot', 'Pullover', 'Dress', 'Pullover', 'T-shirt/top', 'Sandal', 'Dress', 'Bag', 'Sandal', 'Sneaker', 'Ankle boot', 'T-shirt/top', 'Coat', 'Sandal', 'Pullover', 'Bag', 'Pullover', 'Pullover', 'Pullover', 'Coat', 'Sneaker', 'Pullover', 'Coat', 'Shirt', 'Shirt', 'Coat', 'Pullover', 'Dress', 'Trouser', 'Shirt', 'Pullover', 'Bag', 'Pullover', 'Shirt', 'T-shirt/top', 'Sneaker', 'Dress', 'Coat', 'Shirt', 'Pullover', 'Sandal', 'Coat', 'Sandal', 'T-shirt/top', 'Coat', 'Sneaker', 'Ankle boot', 'Ankle boot', 'Trouser', 'Dress', 'Sandal', 'T-shirt/top', 'Shirt', 'Coat', 'Coat', 'Sneaker', 'Coat', 'Shirt', 'Trouser', 'Dress', 'Sneaker', 'Trouser', 'T-shirt/top', 'T-shirt/top', 'Pullover', 'T-shirt/top', 'Bag', 'T-shirt/top', 'Trouser', 'Trouser', 'Pullover', 'Pullover', 'Shirt', 'Dress', 'Bag', 'Sneaker', 'Bag', 'Bag', 'Trouser', 'Pullover', 'Dress', 'Pullover', 'Sneaker', 'Pullover', 'Dress', 'T-shirt/top', 'Sneaker', 'Sneaker', 'Shirt', 'Dress', 'Shirt', 'Coat', 'Sandal', 'Sneaker', 'Sandal', 'Sandal', 'Ankle boot', 'Dress', 'Dress', 'Ankle boot', 'Ankle boot', 'T-shirt/top', 'Coat', 'Dress', 'Shirt', 'T-shirt/top', 'Sandal', 'Trouser', 'Sneaker', 'Sneaker', 'Trouser', 'Dress', 'Shirt', 'Pullover', 'Ankle boot', 'Shirt', 'Bag', 'Bag', 'Sandal', 'Dress', 'Trouser', 'Bag', 'Sneaker', 'Coat', 'Bag', 'Coat', 'Pullover', 'Trouser', 'T-shirt/top', 'Trouser', 'Pullover', 'Ankle boot', 'T-shirt/top', 'Pullover', 'Trouser', 'Pullover', 'Ankle boot', 'Coat', 'Dress', 'Dress', 'Sneaker', 'Sneaker', 'T-shirt/top', 'Sandal', 'Coat', 'Bag', 'Dress', 'T-shirt/top', 'Shirt', 'Pullover', 'Sandal', 'Ankle boot', 'Dress', 'Bag', 'Bag', 'Coat', 'Pullover', 'Sneaker', 'Pullover', 'Bag', 'Shirt', 'Coat', 'Coat', 'Sneaker', 'Pullover', 'Ankle boot', 'Coat', 'Ankle boot', 'Sandal', 'Sneaker', 'Bag', 'T-shirt/top', 'Dress', 'Dress', 'Shirt', 'Trouser', 'Coat', 'Coat', 'Sandal', 'Pullover', 'Bag', 'Bag']\n",
            "Target class names: ['Ankle boot', 'Pullover', 'Trouser', 'Trouser', 'Shirt', 'Trouser', 'Coat', 'Shirt', 'Sandal', 'Sneaker', 'Coat', 'Sandal', 'Sneaker', 'Dress', 'Coat', 'Trouser', 'Pullover', 'Coat', 'Bag', 'T-shirt/top', 'Pullover', 'Sandal', 'Sneaker', 'Ankle boot', 'Trouser', 'Coat', 'Shirt', 'T-shirt/top', 'Ankle boot', 'Dress', 'Bag', 'Bag', 'Dress', 'Dress', 'Bag', 'T-shirt/top', 'Sneaker', 'Sandal', 'Sneaker', 'Ankle boot', 'Shirt', 'Trouser', 'Dress', 'Sneaker', 'Shirt', 'Sneaker', 'Pullover', 'Trouser', 'Pullover', 'Pullover', 'Coat', 'Coat', 'Sandal', 'Bag', 'Pullover', 'Pullover', 'Bag', 'Coat', 'Bag', 'T-shirt/top', 'Sneaker', 'Sneaker', 'Bag', 'Sandal', 'Trouser', 'Trouser', 'Pullover', 'Dress', 'Ankle boot', 'Bag', 'Sneaker', 'T-shirt/top', 'Pullover', 'Shirt', 'Pullover', 'Dress', 'Trouser', 'Pullover', 'Bag', 'Coat', 'Trouser', 'Bag', 'Sandal', 'Ankle boot', 'Sandal', 'T-shirt/top', 'Dress', 'Pullover', 'T-shirt/top', 'Shirt', 'Sandal', 'Dress', 'Shirt', 'Sneaker', 'Trouser', 'Bag', 'T-shirt/top', 'Trouser', 'Coat', 'Pullover', 'Dress', 'Shirt', 'Sneaker', 'Pullover', 'Sneaker', 'Bag', 'Sandal', 'Ankle boot', 'Ankle boot', 'Coat', 'Pullover', 'Sandal', 'Sneaker', 'T-shirt/top', 'Sandal', 'Pullover', 'Bag', 'Shirt', 'Sneaker', 'Bag', 'T-shirt/top', 'T-shirt/top', 'Ankle boot', 'Ankle boot', 'Dress', 'T-shirt/top', 'Bag', 'Coat', 'Trouser', 'Sandal', 'Coat', 'Trouser', 'Ankle boot', 'Trouser', 'Bag', 'Shirt', 'Pullover', 'Trouser', 'Pullover', 'Sandal', 'Trouser', 'T-shirt/top', 'T-shirt/top', 'T-shirt/top', 'Trouser', 'Shirt', 'Trouser', 'Shirt', 'Pullover', 'Pullover', 'Coat', 'Coat', 'Trouser', 'Coat', 'Sandal', 'T-shirt/top', 'Coat', 'Sneaker', 'Ankle boot', 'Dress', 'Sneaker', 'Pullover', 'Dress', 'Ankle boot', 'T-shirt/top', 'Ankle boot', 'Coat', 'Sneaker', 'Coat', 'Pullover', 'T-shirt/top', 'Sandal', 'Pullover', 'Trouser', 'Pullover', 'Trouser', 'Dress', 'T-shirt/top', 'Ankle boot', 'Trouser', 'T-shirt/top', 'Ankle boot', 'Dress', 'Shirt', 'Sneaker', 'Ankle boot', 'Ankle boot', 'Coat', 'Coat', 'Sneaker', 'Trouser', 'Pullover', 'Trouser', 'Shirt', 'Dress', 'Pullover', 'Bag', 'Dress', 'Shirt', 'Trouser', 'Trouser', 'T-shirt/top', 'Pullover', 'Ankle boot', 'Pullover', 'Coat', 'T-shirt/top', 'Sneaker', 'Ankle boot', 'Bag', 'Coat', 'Trouser', 'Bag', 'Coat', 'Trouser', 'Dress', 'Trouser', 'Shirt', 'Sneaker', 'Pullover', 'Bag', 'Sandal', 'Pullover', 'T-shirt/top', 'Sneaker', 'Sneaker', 'Shirt', 'Pullover', 'Sneaker', 'T-shirt/top', 'Sneaker', 'Bag', 'Ankle boot', 'Pullover', 'Ankle boot', 'T-shirt/top', 'Sandal', 'Trouser', 'Coat', 'Coat', 'Sandal', 'Shirt', 'Ankle boot', 'Pullover', 'Shirt', 'Bag', 'Shirt', 'Coat', 'Pullover', 'Pullover', 'Ankle boot', 'Sneaker', 'Shirt', 'Sandal', 'Sandal', 'Pullover', 'Bag', 'Sandal', 'Pullover', 'Dress', 'T-shirt/top', 'Coat', 'Bag', 'T-shirt/top', 'T-shirt/top', 'Shirt', 'Dress', 'Bag', 'Ankle boot', 'Shirt', 'Trouser', 'Dress', 'T-shirt/top', 'Pullover', 'Dress', 'T-shirt/top', 'Bag', 'Dress', 'Sneaker', 'Coat', 'T-shirt/top', 'Trouser', 'Shirt', 'Dress', 'T-shirt/top', 'Shirt', 'Shirt', 'Sneaker', 'Sandal', 'Coat', 'Sandal', 'Ankle boot', 'Sandal', 'Shirt', 'Sandal', 'Sandal', 'Trouser', 'Ankle boot', 'Bag', 'Bag', 'Dress', 'Dress', 'Shirt', 'Bag', 'T-shirt/top', 'T-shirt/top', 'Pullover', 'Ankle boot', 'Sneaker', 'Sneaker', 'Trouser', 'Dress', 'Shirt', 'Coat', 'Pullover', 'Coat', 'Ankle boot', 'Trouser', 'Shirt', 'Coat', 'Bag', 'Pullover', 'Shirt', 'Sandal', 'Coat', 'Shirt', 'Sneaker', 'Sneaker', 'Sneaker', 'Dress', 'Dress', 'Sneaker', 'T-shirt/top', 'Sneaker', 'Trouser', 'Dress', 'Sneaker', 'Pullover', 'Pullover', 'Dress', 'Coat', 'T-shirt/top', 'Dress', 'Trouser', 'Shirt', 'Trouser', 'Ankle boot', 'Coat', 'Ankle boot', 'Ankle boot', 'Trouser', 'Sneaker', 'Bag', 'Dress', 'Shirt', 'T-shirt/top', 'Pullover', 'Coat', 'Bag', 'T-shirt/top', 'Trouser', 'Pullover', 'Pullover', 'Coat', 'Coat', 'Sneaker', 'Dress', 'Pullover', 'Pullover', 'Sandal', 'T-shirt/top', 'Sneaker', 'Ankle boot', 'Coat', 'T-shirt/top', 'Ankle boot', 'Dress', 'Ankle boot', 'Coat', 'Pullover', 'Sandal', 'T-shirt/top', 'Pullover', 'Dress', 'Sandal', 'Bag', 'Trouser', 'Shirt', 'Pullover', 'Shirt', 'Shirt', 'Coat', 'Ankle boot', 'Sandal', 'Pullover', 'T-shirt/top', 'Coat', 'Shirt', 'Trouser', 'Pullover', 'T-shirt/top', 'Ankle boot', 'Sneaker', 'T-shirt/top', 'Coat', 'Coat', 'Shirt', 'Shirt', 'Pullover', 'Trouser', 'T-shirt/top', 'Shirt', 'Sneaker', 'Pullover', 'Ankle boot', 'Coat', 'Pullover', 'Trouser', 'Sandal', 'Coat', 'Sandal', 'Dress', 'Bag', 'Sandal', 'Bag', 'Coat', 'Coat', 'Bag', 'Ankle boot', 'Bag', 'Shirt', 'Pullover', 'Coat', 'Coat', 'Pullover', 'Coat', 'Trouser', 'Shirt', 'Trouser', 'Dress', 'T-shirt/top', 'Ankle boot', 'Bag', 'Bag', 'Shirt', 'Sandal', 'Dress', 'Trouser', 'Ankle boot', 'Sandal', 'Dress', 'Dress', 'T-shirt/top', 'Trouser', 'T-shirt/top', 'Pullover', 'Ankle boot', 'Pullover', 'T-shirt/top', 'Shirt', 'Dress', 'Coat', 'Pullover', 'T-shirt/top', 'T-shirt/top', 'Dress', 'Dress', 'Bag', 'Pullover', 'Bag', 'Ankle boot', 'Coat', 'T-shirt/top', 'Sneaker', 'Shirt', 'Coat', 'Coat', 'Ankle boot', 'Pullover', 'Ankle boot', 'Sandal', 'Ankle boot', 'Dress', 'Sneaker', 'Sandal', 'Sneaker', 'Bag', 'Trouser', 'T-shirt/top', 'T-shirt/top', 'Dress', 'Coat', 'Bag', 'Ankle boot', 'Sneaker', 'Ankle boot', 'Trouser', 'Pullover', 'Sneaker', 'T-shirt/top', 'Pullover', 'T-shirt/top', 'Sandal', 'Sneaker', 'Trouser', 'Bag', 'Pullover', 'Pullover', 'Pullover', 'Pullover', 'Coat', 'Pullover', 'Shirt', 'Trouser', 'Ankle boot', 'Bag', 'Sandal', 'Trouser', 'Ankle boot', 'Trouser', 'Pullover', 'Bag', 'Dress', 'Bag', 'Ankle boot', 'Pullover', 'Coat', 'Pullover', 'Bag', 'Bag', 'Pullover', 'T-shirt/top', 'Sandal', 'Bag', 'Bag', 'Sandal', 'Dress', 'Ankle boot', 'Coat', 'Dress', 'Coat', 'Coat', 'Sandal', 'Trouser', 'T-shirt/top', 'Trouser', 'Pullover', 'T-shirt/top', 'Shirt', 'Ankle boot', 'Shirt', 'Trouser', 'Sandal', 'Trouser', 'Trouser', 'Trouser', 'Ankle boot', 'Dress', 'Coat', 'Sandal', 'Dress', 'Shirt', 'Shirt', 'Shirt', 'Coat', 'Shirt', 'T-shirt/top', 'Sandal', 'Bag', 'Dress', 'Dress', 'Coat', 'Shirt', 'Sneaker', 'Sneaker', 'Bag', 'Ankle boot', 'T-shirt/top', 'Dress', 'Bag', 'Sneaker', 'Shirt', 'Sneaker', 'Ankle boot', 'Dress', 'Coat', 'Shirt', 'Shirt', 'Sandal', 'T-shirt/top', 'Trouser', 'Trouser', 'Sandal', 'Ankle boot', 'Coat', 'Shirt', 'Sandal', 'Sneaker', 'Bag', 'Trouser', 'Pullover', 'Ankle boot', 'Sneaker', 'Sneaker', 'Trouser', 'T-shirt/top', 'Ankle boot', 'Dress', 'Pullover', 'Ankle boot', 'T-shirt/top', 'Sneaker', 'Shirt', 'Bag', 'Pullover', 'Sneaker', 'T-shirt/top', 'Pullover', 'Dress', 'Bag', 'Pullover', 'Pullover', 'Shirt', 'Ankle boot', 'Dress', 'T-shirt/top', 'Sneaker', 'Bag', 'Shirt', 'Pullover', 'Ankle boot', 'Coat', 'Pullover', 'Shirt', 'Shirt', 'Bag', 'T-shirt/top', 'Coat', 'Coat', 'Coat', 'Sneaker', 'Sandal', 'Bag', 'Coat', 'Ankle boot', 'Trouser', 'T-shirt/top', 'Sandal', 'Coat', 'Coat', 'Coat', 'T-shirt/top', 'T-shirt/top', 'Coat', 'Sandal', 'Shirt', 'T-shirt/top', 'Coat', 'Sandal', 'Coat', 'Trouser', 'Dress', 'Trouser', 'Trouser', 'Shirt', 'Coat', 'Dress', 'Bag', 'Pullover', 'Bag', 'Pullover', 'Sneaker', 'T-shirt/top', 'Coat', 'T-shirt/top', 'Bag', 'Sandal', 'T-shirt/top', 'Bag', 'Pullover', 'Ankle boot', 'T-shirt/top', 'Bag', 'Ankle boot', 'Shirt', 'Coat', 'Pullover', 'Ankle boot', 'Dress', 'Coat', 'Sandal', 'T-shirt/top', 'Ankle boot', 'Sandal', 'Dress', 'Shirt', 'Shirt', 'Bag', 'Dress', 'Dress', 'Bag', 'Trouser', 'Coat', 'T-shirt/top', 'Ankle boot', 'Sneaker', 'Ankle boot', 'Coat', 'Bag', 'Ankle boot', 'Trouser', 'Shirt', 'Sneaker', 'Dress', 'T-shirt/top', 'Pullover', 'Shirt', 'Sneaker', 'Trouser', 'T-shirt/top', 'T-shirt/top', 'Bag', 'Sandal', 'Pullover', 'Shirt', 'Shirt', 'Shirt', 'Coat', 'Trouser', 'Sandal', 'Ankle boot', 'T-shirt/top', 'Pullover', 'Trouser', 'Shirt', 'Sandal', 'T-shirt/top', 'T-shirt/top', 'Dress', 'Dress', 'Dress', 'Bag', 'Trouser', 'Trouser', 'Bag', 'Sandal', 'Sneaker', 'Sneaker', 'Bag', 'Sneaker', 'Pullover', 'T-shirt/top', 'Sneaker', 'Dress', 'Bag', 'T-shirt/top', 'Ankle boot', 'Sneaker', 'Shirt', 'Trouser', 'Pullover', 'Shirt', 'Coat', 'Bag', 'T-shirt/top', 'Shirt', 'Dress', 'Shirt', 'Bag', 'Coat', 'T-shirt/top', 'Bag', 'Ankle boot', 'Pullover', 'Coat', 'Sandal', 'Ankle boot', 'Trouser', 'Coat', 'Coat', 'Ankle boot', 'Pullover', 'Trouser', 'Sneaker', 'Ankle boot', 'Sandal', 'Bag', 'Trouser', 'Sneaker', 'Sneaker', 'Trouser', 'Trouser', 'Trouser', 'Shirt', 'Ankle boot', 'Sandal', 'Dress', 'Bag', 'Coat', 'Pullover', 'Sneaker', 'Coat', 'Bag', 'Dress', 'Pullover', 'Coat', 'Coat', 'Sneaker', 'Trouser', 'Coat', 'Ankle boot', 'Dress', 'Sandal', 'Bag', 'Sandal', 'Coat', 'Sneaker', 'Pullover', 'Bag', 'Sandal', 'Ankle boot', 'Dress', 'Dress', 'Shirt', 'Sneaker', 'Trouser', 'Sneaker', 'Dress', 'Sandal', 'Coat', 'Coat', 'Sandal', 'Bag', 'Dress', 'Sneaker', 'Trouser', 'Pullover', 'Shirt', 'Trouser', 'Ankle boot', 'Bag', 'Pullover', 'Sneaker', 'Trouser', 'Dress', 'Sneaker', 'Sandal', 'Ankle boot', 'Ankle boot', 'Trouser', 'Bag', 'Pullover', 'Sandal', 'Sneaker', 'Trouser', 'Ankle boot', 'Bag', 'Trouser', 'T-shirt/top', 'T-shirt/top', 'Shirt', 'Trouser', 'Sneaker', 'Trouser', 'Trouser', 'Sandal', 'Sneaker', 'Trouser', 'Sandal', 'Pullover', 'Pullover', 'Dress', 'Dress', 'Trouser', 'Trouser', 'Coat', 'Ankle boot', 'Coat', 'Dress', 'Sneaker', 'Sneaker', 'T-shirt/top', 'Bag', 'Ankle boot', 'Ankle boot', 'Shirt', 'Trouser', 'Dress', 'Coat', 'T-shirt/top', 'T-shirt/top', 'Sandal', 'Ankle boot', 'Pullover', 'T-shirt/top', 'Sandal', 'Sandal', 'Trouser', 'Sandal', 'Sneaker', 'Bag', 'Sneaker', 'Sandal', 'Dress', 'Shirt', 'Coat', 'T-shirt/top', 'Coat', 'T-shirt/top', 'Shirt', 'T-shirt/top', 'Pullover', 'Sandal', 'Sandal', 'Trouser', 'Pullover', 'T-shirt/top', 'Ankle boot', 'Dress', 'Sneaker', 'Bag', 'Shirt', 'Bag', 'Dress', 'Coat', 'Sneaker', 'T-shirt/top', 'Sneaker', 'Coat', 'Bag', 'T-shirt/top', 'Dress', 'Coat', 'Coat', 'Dress', 'Coat', 'Ankle boot', 'T-shirt/top', 'Shirt', 'Coat', 'Ankle boot', 'Trouser', 'Bag', 'Trouser', 'Sneaker', 'Sandal', 'Sandal', 'Shirt', 'T-shirt/top', 'Pullover', 'Trouser', 'T-shirt/top', 'Sandal', 'Coat', 'T-shirt/top', 'T-shirt/top', 'Shirt', 'Sneaker', 'Sandal', 'T-shirt/top', 'Dress', 'Sandal', 'Ankle boot', 'Shirt', 'Bag', 'T-shirt/top', 'Shirt', 'Coat', 'Shirt', 'Pullover', 'Ankle boot', 'Shirt', 'Sneaker', 'Sneaker', 'Trouser', 'Coat', 'Pullover', 'Shirt', 'Sandal', 'Dress', 'Ankle boot', 'Ankle boot', 'Bag', 'Bag', 'Dress', 'T-shirt/top', 'Pullover', 'Coat', 'Shirt', 'Shirt', 'Dress', 'Pullover', 'Dress', 'Sandal', 'Coat', 'Ankle boot', 'Dress', 'Coat', 'Sneaker', 'Sneaker', 'T-shirt/top', 'Dress', 'Sandal', 'Sandal', 'Shirt', 'T-shirt/top', 'Sandal', 'Ankle boot', 'Shirt', 'Dress', 'Sneaker', 'Sandal', 'Trouser', 'Ankle boot', 'Bag', 'Bag', 'Ankle boot', 'Ankle boot', 'Pullover', 'Sneaker', 'Pullover', 'Pullover', 'Dress', 'Bag', 'Sneaker', 'Shirt', 'Coat', 'Sandal', 'Coat', 'Dress', 'Shirt', 'Trouser', 'Coat', 'Ankle boot', 'Dress', 'Trouser', 'Shirt', 'Sandal', 'T-shirt/top', 'Sandal', 'Sneaker', 'Sandal', 'Pullover', 'Dress', 'Dress', 'Ankle boot', 'Shirt', 'Dress', 'Shirt', 'T-shirt/top', 'Coat', 'Sandal', 'T-shirt/top', 'Coat', 'Ankle boot', 'Coat', 'Shirt', 'Dress', 'Shirt', 'Sneaker', 'T-shirt/top', 'Pullover', 'Trouser', 'Trouser', 'Coat', 'Coat', 'Bag', 'Sandal', 'Ankle boot', 'T-shirt/top', 'Trouser', 'Shirt', 'Sandal', 'Trouser', 'Coat', 'Coat', 'Bag', 'Coat', 'Sneaker', 'Sneaker', 'Dress', 'Bag', 'Trouser', 'Trouser', 'Ankle boot', 'Bag', 'Trouser', 'Dress', 'Dress', 'Sneaker', 'Sandal', 'Trouser', 'Sandal', 'Sneaker', 'Bag', 'Ankle boot', 'Shirt', 'Dress', 'Sandal', 'Bag', 'Coat', 'Coat', 'Dress', 'Bag', 'Coat', 'Sandal', 'Sandal', 'Shirt', 'Sneaker', 'Trouser', 'Sandal', 'T-shirt/top', 'Sandal', 'Coat', 'Bag', 'Shirt', 'Pullover', 'Trouser', 'Trouser', 'Sneaker', 'Ankle boot', 'Shirt', 'Pullover', 'Sneaker', 'T-shirt/top', 'Coat', 'Bag', 'Pullover', 'Pullover', 'Shirt', 'Shirt', 'Shirt', 'Coat', 'Ankle boot', 'Shirt', 'Bag', 'Coat', 'Sandal', 'Ankle boot', 'T-shirt/top', 'Dress', 'Ankle boot', 'Coat', 'Ankle boot', 'Bag', 'Sneaker', 'Coat', 'Pullover', 'Pullover', 'Sandal', 'Dress', 'Sneaker', 'Shirt', 'Sneaker', 'Pullover', 'Ankle boot', 'Dress', 'Sneaker', 'T-shirt/top', 'Ankle boot', 'Coat', 'Bag', 'Shirt', 'Coat', 'Sneaker', 'Shirt', 'Coat', 'Shirt', 'Pullover', 'T-shirt/top', 'Sneaker', 'Bag', 'Coat', 'Pullover', 'Shirt', 'Sandal', 'Sandal', 'Shirt', 'Coat', 'Sandal', 'Sandal', 'Bag', 'Trouser', 'Trouser', 'Sneaker', 'Coat', 'Shirt', 'Ankle boot', 'Shirt', 'Bag', 'Sneaker', 'Pullover', 'Pullover', 'Trouser', 'Pullover', 'Sneaker', 'Sneaker', 'Shirt', 'Ankle boot', 'Bag', 'Sandal', 'Trouser', 'Trouser', 'T-shirt/top', 'Pullover', 'T-shirt/top', 'Ankle boot', 'T-shirt/top', 'Trouser', 'Ankle boot', 'Shirt', 'Sandal', 'Sandal', 'Pullover', 'T-shirt/top', 'Sneaker', 'T-shirt/top', 'Pullover', 'T-shirt/top', 'Trouser', 'Dress', 'Trouser', 'Dress', 'Coat', 'Sneaker', 'Pullover', 'Coat', 'Ankle boot', 'Sandal', 'Pullover', 'Ankle boot', 'T-shirt/top', 'Dress', 'Coat', 'Coat', 'Shirt', 'Shirt', 'Sandal', 'Pullover', 'Pullover', 'Sandal', 'Shirt', 'Trouser', 'Coat', 'Pullover', 'Sandal', 'Coat', 'Coat', 'Bag', 'T-shirt/top', 'Pullover', 'Coat', 'T-shirt/top', 'Shirt', 'Pullover', 'Shirt', 'Bag', 'Dress', 'Bag', 'Pullover', 'T-shirt/top', 'Coat', 'Coat', 'Bag', 'Bag', 'Coat', 'Sandal', 'Pullover', 'Pullover', 'Dress', 'T-shirt/top', 'Trouser', 'Ankle boot', 'T-shirt/top', 'Ankle boot', 'Trouser', 'Ankle boot', 'Shirt', 'Sandal', 'Pullover', 'Pullover', 'Sneaker', 'Dress', 'Bag', 'Sandal', 'T-shirt/top', 'Bag', 'T-shirt/top', 'Sneaker', 'Sandal', 'Sandal', 'Ankle boot', 'Sandal', 'T-shirt/top', 'Shirt', 'T-shirt/top', 'Dress', 'Coat', 'Coat', 'Coat', 'Bag', 'Sneaker', 'Trouser', 'Dress', 'Coat', 'T-shirt/top', 'Shirt', 'Sandal', 'Trouser', 'Shirt', 'Sneaker', 'Dress', 'Coat', 'Bag', 'Bag', 'Pullover', 'Bag', 'Ankle boot', 'Coat', 'Trouser', 'Shirt', 'Sandal', 'Pullover', 'Sneaker', 'Bag', 'Sandal', 'Dress', 'Bag', 'Sandal', 'Coat', 'Pullover', 'Bag', 'Ankle boot', 'Bag', 'Coat', 'Dress', 'Dress', 'Bag', 'Bag', 'Pullover', 'T-shirt/top', 'Ankle boot', 'Coat', 'Coat', 'Bag', 'Trouser', 'Dress', 'Shirt', 'Trouser', 'Ankle boot', 'Pullover', 'Trouser', 'Shirt', 'Pullover', 'Sneaker', 'Ankle boot', 'Coat', 'Shirt', 'T-shirt/top', 'Coat', 'Coat', 'Pullover', 'Coat', 'Sandal', 'T-shirt/top', 'Pullover', 'Bag', 'Dress', 'Sneaker', 'Shirt', 'Coat', 'T-shirt/top', 'T-shirt/top', 'Sandal', 'Pullover', 'Bag', 'Pullover', 'Coat', 'Dress', 'T-shirt/top', 'Pullover', 'Trouser', 'Sneaker', 'Sneaker', 'Sandal', 'Coat', 'Sneaker', 'Pullover', 'Coat', 'Sneaker', 'Dress', 'Dress', 'Trouser', 'Dress', 'Dress', 'Shirt', 'Shirt', 'Trouser', 'Sneaker', 'T-shirt/top', 'Coat', 'Sneaker', 'Trouser', 'T-shirt/top', 'Shirt', 'Sandal', 'Bag', 'Coat', 'Coat', 'Sneaker', 'Ankle boot', 'Sandal', 'T-shirt/top', 'Sneaker', 'Ankle boot', 'Sandal', 'Trouser', 'Pullover', 'Ankle boot', 'Sandal', 'Sandal', 'Dress', 'Ankle boot', 'Ankle boot', 'Trouser', 'Pullover', 'Sneaker', 'Bag', 'T-shirt/top', 'Trouser', 'Sneaker', 'Pullover', 'Sneaker', 'Trouser', 'Trouser', 'Sandal', 'Sandal', 'Shirt', 'Coat', 'Sandal', 'Ankle boot', 'Sandal', 'Sandal', 'Pullover', 'Dress', 'Ankle boot', 'Dress', 'Bag', 'Sandal', 'Pullover', 'T-shirt/top', 'T-shirt/top', 'T-shirt/top', 'Sandal', 'Sneaker', 'Bag', 'Sandal', 'Pullover', 'Shirt', 'Coat', 'Coat', 'Sneaker', 'Coat', 'T-shirt/top', 'Sandal', 'Trouser', 'Sneaker', 'Pullover', 'Dress', 'Shirt', 'Bag', 'Ankle boot', 'Bag', 'Sneaker', 'Trouser', 'Pullover', 'Dress', 'Pullover', 'Ankle boot', 'Sneaker', 'Sandal', 'Shirt', 'Trouser', 'T-shirt/top', 'Sneaker', 'Trouser', 'Pullover', 'Shirt', 'Ankle boot', 'Dress', 'Shirt', 'Coat', 'Coat', 'Dress', 'T-shirt/top', 'T-shirt/top', 'Shirt', 'Dress', 'Shirt', 'Trouser', 'Dress', 'Sandal', 'Shirt', 'Sandal', 'T-shirt/top', 'Ankle boot', 'Trouser', 'Trouser', 'Bag', 'Pullover', 'Ankle boot', 'Sandal', 'T-shirt/top', 'Sandal', 'Coat', 'Shirt', 'Sneaker', 'Trouser', 'Trouser', 'Sandal', 'Dress', 'Bag', 'Ankle boot', 'Bag', 'Dress', 'Bag', 'Ankle boot', 'Pullover', 'Shirt', 'Trouser', 'Trouser', 'Dress', 'Sandal', 'Pullover', 'Sneaker', 'Trouser', 'Ankle boot', 'Ankle boot', 'Pullover', 'Pullover', 'Sneaker', 'T-shirt/top', 'Trouser', 'Dress', 'Ankle boot', 'Shirt', 'Dress', 'Sneaker', 'Pullover', 'Bag', 'Trouser', 'Bag', 'T-shirt/top', 'Sneaker', 'Ankle boot', 'Bag', 'Sandal', 'Bag', 'Pullover', 'Shirt', 'Coat', 'T-shirt/top', 'Shirt', 'Sandal', 'Bag', 'Dress', 'Bag', 'Sneaker', 'Sandal', 'Sneaker', 'Dress', 'Sneaker', 'T-shirt/top', 'Sneaker', 'T-shirt/top', 'Pullover', 'Pullover', 'Sandal', 'Dress', 'Sandal', 'Trouser', 'Trouser', 'Sneaker', 'Sneaker', 'Shirt', 'Dress', 'T-shirt/top', 'Coat', 'Pullover', 'Bag', 'Shirt', 'Dress', 'Trouser', 'Coat', 'Ankle boot', 'Ankle boot', 'Coat', 'Sandal', 'Pullover', 'Pullover', 'Sneaker', 'Bag', 'T-shirt/top', 'Sneaker', 'Ankle boot', 'Trouser', 'Pullover', 'Ankle boot', 'Coat', 'Sneaker', 'Dress', 'Coat', 'Dress', 'Dress', 'Trouser', 'Bag', 'Bag', 'Sandal', 'Dress', 'Bag', 'Shirt', 'Dress', 'Coat', 'Dress', 'Pullover', 'T-shirt/top', 'Pullover', 'Sneaker', 'Dress', 'Shirt', 'Bag', 'Dress', 'Ankle boot', 'Sneaker', 'Dress', 'Trouser', 'Sneaker', 'Sandal', 'Bag', 'Bag', 'Pullover', 'T-shirt/top', 'Shirt', 'Shirt', 'Coat', 'Shirt', 'Sandal', 'Sneaker', 'T-shirt/top', 'Shirt', 'Shirt', 'Sneaker', 'Sneaker', 'Dress', 'Ankle boot', 'Pullover', 'Sandal', 'Ankle boot', 'Sneaker', 'Trouser', 'Sneaker', 'Pullover', 'Coat', 'Sandal', 'Trouser', 'Dress', 'Sandal', 'Coat', 'Sandal', 'T-shirt/top', 'Coat', 'Coat', 'Trouser', 'Coat', 'Coat', 'Bag', 'Coat', 'Sandal', 'Ankle boot', 'Coat', 'Trouser', 'Trouser', 'Sneaker', 'Pullover', 'Dress', 'Sandal', 'T-shirt/top', 'Dress', 'Ankle boot', 'Sneaker', 'Sandal', 'Dress', 'Bag', 'Bag', 'Bag', 'Ankle boot', 'Trouser', 'Trouser', 'Shirt', 'Dress', 'Trouser', 'Shirt', 'Dress', 'Coat', 'Ankle boot', 'Ankle boot', 'Shirt', 'T-shirt/top', 'Shirt', 'Ankle boot', 'Coat', 'Ankle boot', 'Shirt', 'Shirt', 'Trouser', 'Bag', 'Ankle boot', 'Pullover', 'Ankle boot', 'Coat', 'Bag', 'T-shirt/top', 'Sneaker', 'Pullover', 'Dress', 'Shirt', 'Pullover', 'Sandal', 'Shirt', 'Trouser', 'Ankle boot', 'T-shirt/top', 'Pullover', 'Pullover', 'Ankle boot', 'Ankle boot', 'T-shirt/top', 'Bag', 'Dress', 'Shirt', 'Shirt', 'Shirt', 'T-shirt/top', 'Pullover', 'Shirt', 'Shirt', 'Shirt', 'Sandal', 'T-shirt/top', 'Pullover', 'Sneaker', 'Bag', 'Sneaker', 'Coat', 'Shirt', 'Shirt', 'Shirt', 'Sandal', 'Pullover', 'Coat', 'Pullover', 'Ankle boot', 'Sandal', 'Pullover', 'Shirt', 'Sneaker', 'T-shirt/top', 'Trouser', 'Ankle boot', 'Sandal', 'Sandal', 'Shirt', 'Sneaker', 'Sneaker', 'Sandal', 'T-shirt/top', 'Sandal', 'T-shirt/top', 'Bag', 'Coat', 'Sneaker', 'Ankle boot', 'Bag', 'Pullover', 'Coat', 'Sneaker', 'Dress', 'Dress', 'Sneaker', 'Sneaker', 'Sneaker', 'Bag', 'Coat', 'Ankle boot', 'Sandal', 'Sneaker', 'Shirt', 'Sandal', 'Sneaker', 'Sandal', 'Trouser', 'Dress', 'T-shirt/top', 'Coat', 'Ankle boot', 'Ankle boot', 'Bag', 'Dress', 'Sneaker', 'T-shirt/top', 'Dress', 'Coat', 'Ankle boot', 'Dress', 'Coat', 'Trouser', 'Sneaker', 'Ankle boot', 'Trouser', 'Sandal', 'Sneaker', 'Pullover', 'Sneaker', 'Shirt', 'Sandal', 'Sandal', 'Dress', 'Sneaker', 'Sandal', 'Sandal', 'Coat', 'T-shirt/top', 'Sneaker', 'Dress', 'Dress', 'Pullover', 'T-shirt/top', 'Pullover', 'Ankle boot', 'Ankle boot', 'T-shirt/top', 'Dress', 'T-shirt/top', 'Bag', 'Dress', 'Bag', 'Bag', 'Coat', 'Coat', 'Trouser', 'Bag', 'Pullover', 'Dress', 'Sandal', 'T-shirt/top', 'Coat', 'Coat', 'Dress', 'T-shirt/top', 'T-shirt/top', 'Trouser', 'T-shirt/top', 'Bag', 'Coat', 'Ankle boot', 'T-shirt/top', 'Sneaker', 'T-shirt/top', 'Sneaker', 'Sneaker', 'Trouser', 'Sandal', 'Bag', 'Sneaker', 'Pullover', 'Ankle boot', 'Ankle boot', 'Trouser', 'Pullover', 'Coat', 'Trouser', 'Trouser', 'Trouser', 'Bag', 'Bag', 'Trouser', 'Dress', 'Sneaker', 'Sandal', 'Pullover', 'T-shirt/top', 'Bag', 'Coat', 'Bag', 'Ankle boot', 'Coat', 'Trouser', 'Dress', 'Trouser', 'Ankle boot', 'Bag', 'Trouser', 'Trouser', 'Trouser', 'Bag', 'T-shirt/top', 'Ankle boot', 'Ankle boot', 'Sneaker', 'Shirt', 'T-shirt/top', 'Coat', 'Pullover', 'Trouser', 'Trouser', 'Sneaker', 'Ankle boot', 'Coat', 'Pullover', 'T-shirt/top', 'Dress', 'Shirt', 'Shirt', 'Bag', 'Trouser', 'Sneaker', 'Pullover', 'Coat', 'Pullover', 'Pullover', 'Dress', 'Bag', 'Sneaker', 'Trouser', 'Bag', 'Sandal', 'Sandal', 'Sneaker', 'Sneaker', 'Shirt', 'Shirt', 'Pullover', 'Ankle boot', 'Shirt', 'Shirt', 'T-shirt/top', 'Sandal', 'Sandal', 'T-shirt/top', 'Pullover', 'Trouser', 'T-shirt/top', 'Dress', 'Sandal', 'Ankle boot', 'Trouser', 'Sneaker', 'Pullover', 'Sandal', 'Sneaker', 'Ankle boot', 'Bag', 'Ankle boot', 'Trouser', 'Pullover', 'Bag', 'Dress', 'Pullover', 'Dress', 'Shirt', 'T-shirt/top', 'Bag', 'Dress', 'Bag', 'Shirt', 'Bag', 'Shirt', 'T-shirt/top', 'Bag', 'Bag', 'Bag', 'Pullover', 'Ankle boot', 'Dress', 'Pullover', 'T-shirt/top', 'Bag', 'Sandal', 'Sneaker', 'T-shirt/top', 'Trouser', 'Trouser', 'Trouser', 'Ankle boot', 'Sandal', 'Trouser', 'Dress', 'Dress', 'Shirt', 'T-shirt/top', 'Bag', 'Pullover', 'Trouser', 'Dress', 'Bag', 'Bag', 'Shirt', 'Sneaker', 'Sandal', 'Shirt', 'Shirt', 'Sneaker', 'Dress', 'Dress', 'Pullover', 'Coat', 'Shirt', 'Sandal', 'Sandal', 'Coat', 'Pullover', 'Dress', 'Sneaker', 'Trouser', 'Trouser', 'Sneaker', 'Dress', 'Bag', 'Sneaker', 'Pullover', 'Pullover', 'Ankle boot', 'Dress', 'Ankle boot', 'Ankle boot', 'T-shirt/top', 'Trouser', 'Sandal', 'Trouser', 'Pullover', 'Bag', 'Trouser', 'Coat', 'Ankle boot', 'Dress', 'Coat', 'T-shirt/top', 'T-shirt/top', 'Sneaker', 'Shirt', 'Ankle boot', 'Ankle boot', 'Sandal', 'Sandal', 'Sneaker', 'T-shirt/top', 'Ankle boot', 'Dress', 'Dress', 'Shirt', 'Ankle boot', 'Bag', 'Coat', 'Pullover', 'Pullover', 'Dress', 'Ankle boot', 'Coat', 'Dress', 'Shirt', 'Sneaker', 'Dress', 'T-shirt/top', 'Coat', 'Bag', 'Trouser', 'Bag', 'Sneaker', 'Dress', 'Coat', 'Sandal', 'Pullover', 'Pullover', 'Ankle boot', 'Trouser', 'Ankle boot', 'Coat', 'Ankle boot', 'Trouser', 'Shirt', 'Pullover', 'Bag', 'Bag', 'Sneaker', 'Sneaker', 'Sneaker', 'Sneaker', 'Pullover', 'Shirt', 'T-shirt/top', 'Sneaker', 'Sandal', 'Bag', 'Sandal', 'Shirt', 'T-shirt/top', 'Pullover', 'Coat', 'Ankle boot', 'Pullover', 'Shirt', 'Trouser', 'Trouser', 'Ankle boot', 'Dress', 'Trouser', 'Pullover', 'Pullover', 'Pullover', 'Dress', 'Sneaker', 'Sandal', 'Sneaker', 'Coat', 'Coat', 'Coat', 'Trouser', 'Pullover', 'Dress', 'Sandal', 'Coat', 'Pullover', 'Ankle boot', 'Trouser', 'Sandal', 'Ankle boot', 'Dress', 'Shirt', 'Shirt', 'Coat', 'T-shirt/top', 'Trouser', 'Sneaker', 'Sneaker', 'Coat', 'Shirt', 'Sneaker', 'Sneaker', 'Dress', 'T-shirt/top', 'Coat', 'Dress', 'Pullover', 'Sneaker', 'Bag', 'Sneaker', 'Pullover', 'Bag', 'T-shirt/top', 'Bag', 'Sneaker', 'Coat', 'Shirt', 'Pullover', 'Sneaker', 'T-shirt/top', 'Ankle boot', 'Ankle boot', 'Dress', 'Trouser', 'Sandal', 'Ankle boot', 'Dress', 'Trouser', 'T-shirt/top', 'Dress', 'Dress', 'Sandal', 'Ankle boot', 'Sneaker', 'Ankle boot', 'Bag', 'Dress', 'Sandal', 'Ankle boot', 'Dress', 'Sneaker', 'Ankle boot', 'Dress', 'Coat', 'Shirt', 'Shirt', 'Sandal', 'Sneaker', 'Sneaker', 'Shirt', 'Dress', 'Sandal', 'Dress', 'Trouser', 'Trouser', 'Ankle boot', 'Coat', 'Dress', 'Ankle boot', 'Sandal', 'Sandal', 'Sneaker', 'Pullover', 'Coat', 'Ankle boot', 'T-shirt/top', 'Pullover', 'Trouser', 'Ankle boot', 'Sneaker', 'Trouser', 'Sandal', 'T-shirt/top', 'Sandal', 'Sandal', 'T-shirt/top', 'Dress', 'Sandal', 'T-shirt/top', 'Dress', 'Dress', 'Sneaker', 'Coat', 'Pullover', 'Shirt', 'Bag', 'Sandal', 'Ankle boot', 'Pullover', 'Trouser', 'T-shirt/top', 'Sandal', 'Sandal', 'Bag', 'Sandal', 'Dress', 'Sneaker', 'Coat', 'Coat', 'Dress', 'Ankle boot', 'Shirt', 'T-shirt/top', 'T-shirt/top', 'Ankle boot', 'Trouser', 'Coat', 'Dress', 'Trouser', 'Sandal', 'Dress', 'Bag', 'Sandal', 'Trouser', 'Trouser', 'Pullover', 'Ankle boot', 'Coat', 'T-shirt/top', 'Sandal', 'Pullover', 'Bag', 'T-shirt/top', 'Pullover', 'Ankle boot', 'Bag', 'Pullover', 'Coat', 'Bag', 'Dress', 'Bag', 'T-shirt/top', 'Pullover', 'T-shirt/top', 'T-shirt/top', 'Coat', 'Bag', 'Sandal', 'Coat', 'Ankle boot', 'T-shirt/top', 'Ankle boot', 'Sandal', 'Bag', 'Shirt', 'Ankle boot', 'Trouser', 'Pullover', 'Sneaker', 'Pullover', 'Trouser', 'Shirt', 'Shirt', 'T-shirt/top', 'Shirt', 'Sandal', 'T-shirt/top', 'Coat', 'Bag', 'Sandal', 'Sandal', 'Pullover', 'T-shirt/top', 'Dress', 'Bag', 'Shirt', 'Dress', 'Trouser', 'Ankle boot', 'Pullover', 'Ankle boot', 'Sneaker', 'Dress', 'Shirt', 'Coat', 'Bag', 'Dress', 'Coat', 'Bag', 'Sandal', 'Shirt', 'Bag', 'Dress', 'Dress', 'Trouser', 'Coat', 'Pullover', 'T-shirt/top', 'Coat', 'Ankle boot', 'T-shirt/top', 'Pullover', 'Trouser', 'Ankle boot', 'Ankle boot', 'Bag', 'Trouser', 'Bag', 'Bag', 'Dress', 'Dress', 'Dress', 'Bag', 'Sandal', 'Ankle boot', 'Shirt', 'Shirt', 'Bag', 'Sneaker', 'T-shirt/top', 'Dress', 'T-shirt/top', 'T-shirt/top', 'T-shirt/top', 'Sandal', 'Sneaker', 'Sandal', 'T-shirt/top', 'Sneaker', 'Ankle boot', 'Trouser', 'Shirt', 'Coat', 'Bag', 'Ankle boot', 'Dress', 'Sandal', 'Shirt', 'T-shirt/top', 'Coat', 'Coat', 'Sneaker', 'Bag', 'Ankle boot', 'Trouser', 'Bag', 'Pullover', 'Sandal', 'Sandal', 'Dress', 'Trouser', 'Trouser', 'Bag', 'Bag', 'Dress', 'T-shirt/top', 'Sneaker', 'T-shirt/top', 'Trouser', 'Bag', 'Trouser', 'Shirt', 'Coat', 'Ankle boot', 'Bag', 'Ankle boot', 'Bag', 'Bag', 'Shirt', 'Ankle boot', 'Trouser', 'Bag', 'Coat', 'Pullover', 'Sneaker', 'Sneaker', 'T-shirt/top', 'Sandal', 'Trouser', 'Trouser', 'T-shirt/top', 'Shirt', 'Coat', 'Dress', 'T-shirt/top', 'Coat', 'Dress', 'Sandal', 'Trouser', 'Shirt', 'Dress', 'Dress', 'Coat', 'Coat', 'Sandal', 'Shirt', 'Ankle boot', 'Bag', 'Dress', 'Dress', 'Trouser', 'T-shirt/top', 'Pullover', 'Trouser', 'Coat', 'Coat', 'Coat', 'Bag', 'Coat', 'Ankle boot', 'T-shirt/top', 'Ankle boot', 'Ankle boot', 'Sandal', 'T-shirt/top', 'Shirt', 'T-shirt/top', 'Sandal', 'T-shirt/top', 'Dress', 'Ankle boot', 'Bag', 'Dress', 'Shirt', 'Trouser', 'Ankle boot', 'Coat', 'Trouser', 'Shirt', 'Coat', 'Sandal', 'Coat', 'Trouser', 'Shirt', 'Bag', 'Sandal', 'Ankle boot', 'Coat', 'Sandal', 'Dress', 'Bag', 'Bag', 'Trouser', 'T-shirt/top', 'Shirt', 'Bag', 'Ankle boot', 'T-shirt/top', 'Sandal', 'Shirt', 'Pullover', 'Coat', 'Ankle boot', 'Dress', 'Pullover', 'Shirt', 'Bag', 'Sandal', 'Ankle boot', 'Pullover', 'Dress', 'Trouser', 'Shirt', 'Dress', 'Shirt', 'Pullover', 'Sneaker', 'Pullover', 'Trouser', 'Pullover', 'T-shirt/top', 'Dress', 'T-shirt/top', 'Coat', 'Bag', 'Sandal', 'T-shirt/top', 'Bag', 'Sandal', 'Pullover', 'Sneaker', 'Bag', 'Trouser', 'Sandal', 'Ankle boot', 'Bag', 'T-shirt/top', 'Ankle boot', 'T-shirt/top', 'Ankle boot', 'Dress', 'Ankle boot', 'Sandal', 'Sneaker', 'Ankle boot', 'Shirt', 'T-shirt/top', 'Sneaker', 'Trouser', 'Sandal', 'Sandal', 'Ankle boot', 'Sandal', 'Coat', 'Shirt', 'Pullover', 'Coat', 'Sandal', 'Ankle boot', 'Sneaker', 'Coat', 'Pullover', 'Pullover', 'Ankle boot', 'Ankle boot', 'Shirt', 'Pullover', 'Trouser', 'Dress', 'Sneaker', 'Trouser', 'Bag', 'Sneaker', 'Ankle boot', 'Trouser', 'Bag', 'Ankle boot', 'Dress', 'Sneaker', 'Sneaker', 'Sneaker', 'Trouser', 'Sneaker', 'Coat', 'Coat', 'T-shirt/top', 'Pullover', 'Coat', 'Sandal', 'Pullover', 'Bag', 'Ankle boot', 'Shirt', 'Bag', 'Shirt', 'T-shirt/top', 'Sneaker', 'Sneaker', 'Sandal', 'T-shirt/top', 'Trouser', 'Ankle boot', 'Shirt', 'T-shirt/top', 'Coat', 'Ankle boot', 'Pullover', 'Pullover', 'Shirt', 'Sneaker', 'Trouser', 'T-shirt/top', 'Sandal', 'T-shirt/top', 'Sneaker', 'Pullover', 'Bag', 'Shirt', 'Dress', 'Shirt', 'Trouser', 'Sneaker', 'Coat', 'Bag', 'Sneaker', 'Coat', 'Trouser', 'Sneaker', 'Bag', 'Pullover', 'Coat', 'Coat', 'Coat', 'Coat', 'Trouser', 'Bag', 'Shirt', 'Sneaker', 'Pullover', 'Ankle boot', 'Coat', 'Sandal', 'T-shirt/top', 'Shirt', 'Dress', 'Bag', 'Bag', 'Pullover', 'T-shirt/top', 'Sneaker', 'Pullover', 'Coat', 'T-shirt/top', 'Dress', 'Trouser', 'T-shirt/top', 'Bag', 'Trouser', 'Sneaker', 'Sneaker', 'Pullover', 'Shirt', 'Dress', 'Trouser', 'Pullover', 'Sneaker', 'T-shirt/top', 'T-shirt/top', 'T-shirt/top', 'Shirt', 'Pullover', 'Sneaker', 'Pullover', 'Bag', 'Dress', 'Shirt', 'Dress', 'T-shirt/top', 'Ankle boot', 'Sneaker', 'Dress', 'Sandal', 'Coat', 'Ankle boot', 'Shirt', 'Coat', 'Sandal', 'T-shirt/top', 'Shirt', 'Bag', 'Coat', 'T-shirt/top', 'Coat', 'Coat', 'T-shirt/top', 'Coat', 'Trouser', 'Shirt', 'Coat', 'Dress', 'Sneaker', 'Trouser', 'Dress', 'Shirt', 'Coat', 'Trouser', 'Trouser', 'Sandal', 'Shirt', 'Dress', 'Bag', 'Dress', 'Coat', 'Trouser', 'Sneaker', 'Coat', 'Ankle boot', 'Bag', 'Bag', 'Coat', 'Sandal', 'Sandal', 'Shirt', 'Sneaker', 'Dress', 'Ankle boot', 'Trouser', 'T-shirt/top', 'Sandal', 'Dress', 'Sneaker', 'T-shirt/top', 'Trouser', 'Trouser', 'Bag', 'Dress', 'Pullover', 'T-shirt/top', 'Sandal', 'Ankle boot', 'Shirt', 'Dress', 'Bag', 'Trouser', 'T-shirt/top', 'Coat', 'Shirt', 'Pullover', 'Coat', 'Bag', 'Dress', 'Coat', 'Pullover', 'Trouser', 'Ankle boot', 'Trouser', 'Sneaker', 'Ankle boot', 'Sandal', 'Sneaker', 'Shirt', 'Trouser', 'Sandal', 'Bag', 'Bag', 'Pullover', 'Shirt', 'Coat', 'Shirt', 'Dress', 'Trouser', 'Shirt', 'Coat', 'T-shirt/top', 'Dress', 'Ankle boot', 'Bag', 'Coat', 'T-shirt/top', 'Bag', 'Coat', 'Dress', 'Ankle boot', 'Sneaker', 'Trouser', 'Trouser', 'Sneaker', 'Sandal', 'Trouser', 'Ankle boot', 'Coat', 'Coat', 'Pullover', 'Coat', 'Bag', 'Shirt', 'Sneaker', 'Trouser', 'Dress', 'T-shirt/top', 'Sneaker', 'Dress', 'Sandal', 'Bag', 'Trouser', 'Coat', 'Pullover', 'Dress', 'Coat', 'Bag', 'Bag', 'Bag', 'Coat', 'Bag', 'Trouser', 'Bag', 'Ankle boot', 'Dress', 'T-shirt/top', 'Shirt', 'T-shirt/top', 'Pullover', 'Ankle boot', 'Sneaker', 'Dress', 'Sneaker', 'T-shirt/top', 'Trouser', 'Dress', 'Sandal', 'Ankle boot', 'Dress', 'T-shirt/top', 'Sandal', 'T-shirt/top', 'Sandal', 'Bag', 'Sneaker', 'Dress', 'Shirt', 'Pullover', 'Bag', 'T-shirt/top', 'T-shirt/top', 'Ankle boot', 'Dress', 'T-shirt/top', 'Sandal', 'Bag', 'Trouser', 'Trouser', 'Pullover', 'Shirt', 'Shirt', 'Shirt', 'Bag', 'Shirt', 'Shirt', 'Dress', 'Dress', 'Ankle boot', 'Sandal', 'Coat', 'Dress', 'Dress', 'Trouser', 'Bag', 'Trouser', 'Sandal', 'Pullover', 'Shirt', 'T-shirt/top', 'Sneaker', 'Ankle boot', 'Dress', 'Pullover', 'Sneaker', 'Trouser', 'Sneaker', 'Shirt', 'Trouser', 'Shirt', 'Pullover', 'Shirt', 'Shirt', 'Sneaker', 'T-shirt/top', 'Coat', 'Ankle boot', 'Dress', 'Pullover', 'Sandal', 'T-shirt/top', 'Bag', 'Shirt', 'Pullover', 'Shirt', 'Sneaker', 'Coat', 'Pullover', 'Trouser', 'Trouser', 'T-shirt/top', 'Dress', 'Sandal', 'Sandal', 'Pullover', 'Shirt', 'Pullover', 'Trouser', 'Bag', 'T-shirt/top', 'Dress', 'Coat', 'Dress', 'Coat', 'Pullover', 'Ankle boot', 'Pullover', 'Bag', 'Ankle boot', 'Shirt', 'Pullover', 'T-shirt/top', 'Shirt', 'Coat', 'Sandal', 'Coat', 'Sneaker', 'Bag', 'Trouser', 'Shirt', 'Dress', 'Coat', 'Pullover', 'Ankle boot', 'Coat', 'Dress', 'Sandal', 'Trouser', 'Pullover', 'Shirt', 'T-shirt/top', 'Trouser', 'Trouser', 'T-shirt/top', 'Pullover', 'Shirt', 'Ankle boot', 'Ankle boot', 'T-shirt/top', 'Trouser', 'Pullover', 'Coat', 'Shirt', 'Sneaker', 'Shirt', 'Trouser', 'Trouser', 'Sneaker', 'Sneaker', 'Bag', 'Sneaker', 'Shirt', 'Sandal', 'Trouser', 'Sneaker', 'T-shirt/top', 'T-shirt/top', 'Ankle boot', 'Pullover', 'Trouser', 'Shirt', 'Pullover', 'Pullover', 'Sandal', 'Bag', 'Sandal', 'Pullover', 'Sneaker', 'Bag', 'Coat', 'T-shirt/top', 'Ankle boot', 'T-shirt/top', 'Bag', 'Trouser', 'Dress', 'Bag', 'Pullover', 'Bag', 'Pullover', 'T-shirt/top', 'Shirt', 'Dress', 'Bag', 'Sneaker', 'Bag', 'Pullover', 'Shirt', 'Shirt', 'Shirt', 'T-shirt/top', 'Coat', 'Sandal', 'Dress', 'Coat', 'Trouser', 'Trouser', 'Ankle boot', 'Sneaker', 'T-shirt/top', 'Shirt', 'Pullover', 'Trouser', 'Coat', 'Pullover', 'Sneaker', 'Sneaker', 'Trouser', 'Bag', 'Dress', 'Bag', 'Sneaker', 'Ankle boot', 'Bag', 'Sneaker', 'Pullover', 'Sneaker', 'Ankle boot', 'Sneaker', 'Pullover', 'Pullover', 'Dress', 'Shirt', 'Dress', 'Dress', 'Ankle boot', 'Trouser', 'Trouser', 'Coat', 'Bag', 'T-shirt/top', 'Ankle boot', 'Sneaker', 'Sandal', 'Pullover', 'Bag', 'Bag', 'Dress', 'Shirt', 'Dress', 'T-shirt/top', 'Bag', 'Pullover', 'Pullover', 'Sandal', 'Ankle boot', 'Pullover', 'Shirt', 'Bag', 'Dress', 'Pullover', 'Bag', 'Dress', 'Dress', 'Trouser', 'Trouser', 'Dress', 'T-shirt/top', 'Trouser', 'Bag', 'Coat', 'Trouser', 'Sandal', 'Bag', 'Trouser', 'Sandal', 'Bag', 'T-shirt/top', 'Sneaker', 'Bag', 'Sneaker', 'Sandal', 'Ankle boot', 'Sandal', 'Sandal', 'Dress', 'T-shirt/top', 'Sneaker', 'Bag', 'Coat', 'Sandal', 'Trouser', 'Shirt', 'Coat', 'Pullover', 'Coat', 'Coat', 'Sneaker', 'Sneaker', 'Ankle boot', 'Sneaker', 'Pullover', 'Sandal', 'Bag', 'Sandal', 'Bag', 'Sandal', 'Dress', 'T-shirt/top', 'Ankle boot', 'Sneaker', 'Pullover', 'T-shirt/top', 'Shirt', 'Bag', 'Coat', 'T-shirt/top', 'Sneaker', 'Dress', 'Sneaker', 'Shirt', 'Bag', 'Coat', 'Sneaker', 'T-shirt/top', 'T-shirt/top', 'Coat', 'T-shirt/top', 'Shirt', 'Sneaker', 'Bag', 'Trouser', 'Dress', 'Bag', 'Trouser', 'Sneaker', 'Dress', 'Shirt', 'Trouser', 'Trouser', 'Shirt', 'Shirt', 'Ankle boot', 'Bag', 'T-shirt/top', 'Bag', 'Pullover', 'Sneaker', 'Sneaker', 'Trouser', 'Dress', 'T-shirt/top', 'Dress', 'T-shirt/top', 'Sneaker', 'Bag', 'Sneaker', 'Shirt', 'Sandal', 'Pullover', 'Shirt', 'Sneaker', 'Sandal', 'Sandal', 'Bag', 'Ankle boot', 'Sneaker', 'Dress', 'Pullover', 'Coat', 'Bag', 'Dress', 'Ankle boot', 'Sandal', 'Sneaker', 'Shirt', 'Pullover', 'Shirt', 'Sneaker', 'Dress', 'Bag', 'Sandal', 'Trouser', 'Bag', 'Ankle boot', 'Pullover', 'Shirt', 'Trouser', 'Coat', 'Pullover', 'Sneaker', 'Coat', 'T-shirt/top', 'Coat', 'Coat', 'Bag', 'Ankle boot', 'Sneaker', 'Ankle boot', 'Pullover', 'Shirt', 'Bag', 'Pullover', 'Shirt', 'T-shirt/top', 'Shirt', 'Dress', 'Coat', 'Trouser', 'Sandal', 'Shirt', 'Sneaker', 'Sandal', 'T-shirt/top', 'Sneaker', 'Shirt', 'Pullover', 'T-shirt/top', 'Sandal', 'Trouser', 'Trouser', 'Dress', 'Sneaker', 'Dress', 'Bag', 'Bag', 'Sneaker', 'Sandal', 'Ankle boot', 'Ankle boot', 'Sandal', 'Sandal', 'Coat', 'T-shirt/top', 'Sneaker', 'Trouser', 'Coat', 'Shirt', 'T-shirt/top', 'Ankle boot', 'Ankle boot', 'Coat', 'Shirt', 'Bag', 'Shirt', 'Sandal', 'Sneaker', 'Bag', 'T-shirt/top', 'Pullover', 'Sneaker', 'Shirt', 'Pullover', 'Coat', 'Bag', 'Trouser', 'T-shirt/top', 'Coat', 'Bag', 'T-shirt/top', 'Sneaker', 'Sandal', 'Bag', 'Sneaker', 'Sneaker', 'Sandal', 'Sandal', 'Pullover', 'Sneaker', 'Shirt', 'Pullover', 'Pullover', 'T-shirt/top', 'Dress', 'Shirt', 'Pullover', 'T-shirt/top', 'Dress', 'Ankle boot', 'Coat', 'Sandal', 'Coat', 'Coat', 'Trouser', 'Pullover', 'Sandal', 'Sneaker', 'T-shirt/top', 'Sandal', 'T-shirt/top', 'Pullover', 'Sandal', 'T-shirt/top', 'Coat', 'Bag', 'T-shirt/top', 'Pullover', 'Sneaker', 'Pullover', 'Sneaker', 'Pullover', 'Dress', 'Coat', 'Sneaker', 'Trouser', 'Pullover', 'Dress', 'Coat', 'Pullover', 'Pullover', 'Dress', 'Ankle boot', 'Ankle boot', 'Pullover', 'Bag', 'T-shirt/top', 'Coat', 'T-shirt/top', 'T-shirt/top', 'Trouser', 'Ankle boot', 'Dress', 'Ankle boot', 'T-shirt/top', 'Bag', 'Dress', 'Ankle boot', 'Coat', 'Sneaker', 'Ankle boot', 'Trouser', 'Sandal', 'Bag', 'Trouser', 'Dress', 'Shirt', 'Pullover', 'Coat', 'Bag', 'Shirt', 'Dress', 'Dress', 'T-shirt/top', 'T-shirt/top', 'T-shirt/top', 'Dress', 'Shirt', 'Trouser', 'Shirt', 'Bag', 'Shirt', 'Sneaker', 'Dress', 'T-shirt/top', 'T-shirt/top', 'Sandal', 'Bag', 'Bag', 'Bag', 'Shirt', 'Trouser', 'T-shirt/top', 'Bag', 'Sneaker', 'Bag', 'Sandal', 'Bag', 'Sneaker', 'T-shirt/top', 'Sneaker', 'Pullover', 'Sneaker', 'Trouser', 'Sandal', 'Sandal', 'Bag', 'Dress', 'Pullover', 'Bag', 'Sandal', 'Ankle boot', 'Ankle boot', 'Pullover', 'T-shirt/top', 'Shirt', 'Sneaker', 'Trouser', 'Bag', 'Bag', 'Bag', 'Sneaker', 'Pullover', 'T-shirt/top', 'Ankle boot', 'Sneaker', 'Ankle boot', 'Shirt', 'Ankle boot', 'Coat', 'Trouser', 'Coat', 'Sneaker', 'Pullover', 'Sandal', 'Pullover', 'Shirt', 'Pullover', 'Ankle boot', 'T-shirt/top', 'Sneaker', 'Trouser', 'Ankle boot', 'Sneaker', 'Shirt', 'Sandal', 'Dress', 'Bag', 'Coat', 'Ankle boot', 'Dress', 'Ankle boot', 'Sandal', 'Sneaker', 'Sandal', 'Trouser', 'Dress', 'Dress', 'Shirt', 'Shirt', 'Sneaker', 'Sandal', 'Dress', 'Sandal', 'Sandal', 'Bag', 'Sneaker', 'Sneaker', 'Coat', 'Shirt', 'Sandal', 'Sandal', 'Shirt', 'Coat', 'Bag', 'Dress', 'T-shirt/top', 'Ankle boot', 'Pullover', 'Dress', 'Pullover', 'Pullover', 'Sneaker', 'Coat', 'T-shirt/top', 'Sneaker', 'Trouser', 'Coat', 'Bag', 'Trouser', 'Coat', 'Sneaker', 'Bag', 'Pullover', 'T-shirt/top', 'Sneaker', 'Pullover', 'T-shirt/top', 'Pullover', 'Pullover', 'Pullover', 'Pullover', 'Dress', 'T-shirt/top', 'Sandal', 'Pullover', 'Dress', 'Pullover', 'Bag', 'T-shirt/top', 'T-shirt/top', 'Bag', 'Coat', 'Shirt', 'Coat', 'Bag', 'Dress', 'Sandal', 'Trouser', 'Dress', 'Ankle boot', 'Trouser', 'Coat', 'Ankle boot', 'Shirt', 'Sneaker', 'Coat', 'T-shirt/top', 'T-shirt/top', 'Pullover', 'Sandal', 'Shirt', 'Pullover', 'Sandal', 'Shirt', 'Sandal', 'Trouser', 'Sneaker', 'Ankle boot', 'Pullover', 'Shirt', 'Sneaker', 'Dress', 'T-shirt/top', 'Pullover', 'Bag', 'Trouser', 'T-shirt/top', 'Ankle boot', 'Ankle boot', 'Sneaker', 'Bag', 'Coat', 'Shirt', 'Ankle boot', 'Sneaker', 'Sneaker', 'Sandal', 'Bag', 'Bag', 'Sneaker', 'Sandal', 'Dress', 'Sandal', 'Sandal', 'T-shirt/top', 'Bag', 'Ankle boot', 'Sneaker', 'Pullover', 'Trouser', 'Coat', 'Sneaker', 'Trouser', 'T-shirt/top', 'Pullover', 'Dress', 'Pullover', 'Pullover', 'Ankle boot', 'Coat', 'Sneaker', 'Sneaker', 'T-shirt/top', 'Sandal', 'T-shirt/top', 'Bag', 'Bag', 'Shirt', 'Bag', 'Sandal', 'Shirt', 'T-shirt/top', 'Sneaker', 'Dress', 'T-shirt/top', 'Pullover', 'Pullover', 'Sandal', 'Pullover', 'T-shirt/top', 'Sneaker', 'Sneaker', 'Sneaker', 'Trouser', 'Sandal', 'Pullover', 'Trouser', 'Bag', 'Sandal', 'Pullover', 'Coat', 'Bag', 'Sneaker', 'Sneaker', 'Shirt', 'Sneaker', 'Trouser', 'T-shirt/top', 'Ankle boot', 'Sandal', 'Dress', 'Ankle boot', 'Dress', 'Sandal', 'T-shirt/top', 'Sneaker', 'Coat', 'Pullover', 'T-shirt/top', 'Trouser', 'Shirt', 'Sandal', 'Ankle boot', 'Dress', 'Pullover', 'Bag', 'Sandal', 'Sneaker', 'Dress', 'Trouser', 'Pullover', 'T-shirt/top', 'Bag', 'Trouser', 'Bag', 'Sandal', 'Shirt', 'Ankle boot', 'Dress', 'Dress', 'Bag', 'T-shirt/top', 'Coat', 'Pullover', 'T-shirt/top', 'Shirt', 'Coat', 'Pullover', 'Dress', 'Coat', 'Sandal', 'Ankle boot', 'Trouser', 'Trouser', 'Ankle boot', 'Coat', 'Sneaker', 'Shirt', 'Coat', 'Trouser', 'T-shirt/top', 'T-shirt/top', 'Sneaker', 'Sneaker', 'T-shirt/top', 'Sneaker', 'Bag', 'T-shirt/top', 'Sandal', 'Shirt', 'Coat', 'Coat', 'Bag', 'Ankle boot', 'Sneaker', 'Coat', 'Ankle boot', 'Sandal', 'Dress', 'Sneaker', 'Pullover', 'Coat', 'Trouser', 'Ankle boot', 'Sneaker', 'Bag', 'Trouser', 'Dress', 'Ankle boot', 'Dress', 'Shirt', 'Sneaker', 'Bag', 'Shirt', 'Sandal', 'Shirt', 'Sneaker', 'Ankle boot', 'Ankle boot', 'Sneaker', 'T-shirt/top', 'Shirt', 'Pullover', 'Dress', 'Coat', 'Pullover', 'Ankle boot', 'Sandal', 'Dress', 'Ankle boot', 'Pullover', 'Bag', 'Bag', 'Shirt', 'T-shirt/top', 'Coat', 'Trouser', 'Ankle boot', 'Dress', 'Dress', 'Sandal', 'Trouser', 'Sandal', 'Sandal', 'Ankle boot', 'Pullover', 'Bag', 'Sandal', 'Sandal', 'Ankle boot', 'Sandal', 'Coat', 'Shirt', 'Sneaker', 'Dress', 'Sandal', 'Coat', 'Pullover', 'Dress', 'Ankle boot', 'Coat', 'Bag', 'Trouser', 'Ankle boot', 'Pullover', 'Shirt', 'Pullover', 'Coat', 'Bag', 'Bag', 'Sneaker', 'Sneaker', 'Dress', 'Ankle boot', 'Dress', 'Ankle boot', 'Shirt', 'Bag', 'Pullover', 'Shirt', 'Ankle boot', 'T-shirt/top', 'Coat', 'Coat', 'Sandal', 'Sneaker', 'T-shirt/top', 'Coat', 'Shirt', 'Coat', 'Trouser', 'Dress', 'Trouser', 'Shirt', 'Sneaker', 'Bag', 'Bag', 'Ankle boot', 'Sneaker', 'T-shirt/top', 'Sandal', 'Sneaker', 'Dress', 'Shirt', 'T-shirt/top', 'Coat', 'T-shirt/top', 'Dress', 'Shirt', 'Bag', 'Bag', 'Bag', 'T-shirt/top', 'Pullover', 'Dress', 'Pullover', 'Bag', 'Bag', 'Trouser', 'Coat', 'Trouser', 'Trouser', 'Shirt', 'Dress', 'Pullover', 'Pullover', 'Bag', 'T-shirt/top', 'T-shirt/top', 'Coat', 'Trouser', 'Dress', 'Pullover', 'Sneaker', 'T-shirt/top', 'Shirt', 'Sneaker', 'Ankle boot', 'Ankle boot', 'Shirt', 'Sneaker', 'T-shirt/top', 'Ankle boot', 'Ankle boot', 'Bag', 'Coat', 'Bag', 'Dress', 'Coat', 'T-shirt/top', 'Ankle boot', 'Shirt', 'Shirt', 'Coat', 'Dress', 'Bag', 'Coat', 'Dress', 'Shirt', 'Ankle boot', 'Shirt', 'Coat', 'Sneaker', 'Coat', 'Sneaker', 'Bag', 'Bag', 'Pullover', 'Pullover', 'Bag', 'Bag', 'T-shirt/top', 'Trouser', 'Sandal', 'Bag', 'Ankle boot', 'Bag', 'Sneaker', 'Trouser', 'T-shirt/top', 'Dress', 'Shirt', 'Shirt', 'T-shirt/top', 'Ankle boot', 'Dress', 'Ankle boot', 'Ankle boot', 'Trouser', 'Sandal', 'Ankle boot', 'Coat', 'Trouser', 'Sneaker', 'T-shirt/top', 'Trouser', 'T-shirt/top', 'Sandal', 'Dress', 'Bag', 'Bag', 'Coat', 'Trouser', 'Sneaker', 'T-shirt/top', 'Sandal', 'T-shirt/top', 'Coat', 'Trouser', 'Sneaker', 'Trouser', 'Sneaker', 'Ankle boot', 'Shirt', 'Dress', 'Ankle boot', 'Shirt', 'Pullover', 'Sandal', 'Dress', 'Sandal', 'Bag', 'Bag', 'Pullover', 'Coat', 'Sneaker', 'Sneaker', 'Coat', 'Shirt', 'T-shirt/top', 'Sandal', 'Sandal', 'Pullover', 'Shirt', 'Pullover', 'Sandal', 'Shirt', 'Bag', 'Sandal', 'Shirt', 'Ankle boot', 'Trouser', 'Dress', 'Trouser', 'Coat', 'Sandal', 'Ankle boot', 'T-shirt/top', 'Ankle boot', 'T-shirt/top', 'Dress', 'Sandal', 'Shirt', 'Trouser', 'Sandal', 'Bag', 'Sandal', 'Shirt', 'Shirt', 'Ankle boot', 'Trouser', 'Ankle boot', 'Trouser', 'Sneaker', 'Trouser', 'Bag', 'T-shirt/top', 'Dress', 'Coat', 'T-shirt/top', 'Pullover', 'T-shirt/top', 'Dress', 'Dress', 'Bag', 'Bag', 'T-shirt/top', 'Dress', 'Shirt', 'Bag', 'Trouser', 'Trouser', 'Dress', 'Dress', 'Pullover', 'Pullover', 'Trouser', 'Bag', 'Dress', 'Pullover', 'T-shirt/top', 'Pullover', 'Dress', 'Pullover', 'Dress', 'Ankle boot', 'Pullover', 'Dress', 'T-shirt/top', 'Coat', 'Sandal', 'Sneaker', 'Trouser', 'Shirt', 'Trouser', 'T-shirt/top', 'T-shirt/top', 'Dress', 'Bag', 'Sandal', 'Trouser', 'Shirt', 'Sandal', 'Coat', 'Bag', 'Trouser', 'Sneaker', 'Trouser', 'Shirt', 'Coat', 'Ankle boot', 'Coat', 'Pullover', 'Trouser', 'Sandal', 'Dress', 'Trouser', 'Sandal', 'Bag', 'Sneaker', 'Sneaker', 'Sneaker', 'Pullover', 'Sneaker', 'Sandal', 'Coat', 'Coat', 'Pullover', 'T-shirt/top', 'Shirt', 'Bag', 'Ankle boot', 'Ankle boot', 'Sandal', 'Bag', 'T-shirt/top', 'Coat', 'Coat', 'Trouser', 'Dress', 'Sneaker', 'Ankle boot', 'T-shirt/top', 'T-shirt/top', 'Ankle boot', 'Bag', 'Sandal', 'Dress', 'T-shirt/top', 'Sneaker', 'Trouser', 'Ankle boot', 'Sneaker', 'Bag', 'Coat', 'T-shirt/top', 'Ankle boot', 'Ankle boot', 'Trouser', 'Pullover', 'T-shirt/top', 'Shirt', 'Pullover', 'Pullover', 'Sandal', 'Trouser', 'T-shirt/top', 'Coat', 'Bag', 'Dress', 'Coat', 'Bag', 'Dress', 'Coat', 'T-shirt/top', 'T-shirt/top', 'Dress', 'Shirt', 'Sneaker', 'Pullover', 'Coat', 'Trouser', 'Sandal', 'Pullover', 'T-shirt/top', 'Sneaker', 'Ankle boot', 'Ankle boot', 'Trouser', 'Sandal', 'Sandal', 'Ankle boot', 'Trouser', 'Coat', 'Shirt', 'Trouser', 'Pullover', 'Bag', 'Dress', 'Sandal', 'Sneaker', 'Bag', 'T-shirt/top', 'Coat', 'Pullover', 'Sneaker', 'Pullover', 'Sneaker', 'Sandal', 'T-shirt/top', 'Bag', 'Sneaker', 'Bag', 'Bag', 'Coat', 'Ankle boot', 'Pullover', 'Sandal', 'Sandal', 'Ankle boot', 'Ankle boot', 'Shirt', 'Coat', 'Pullover', 'Shirt', 'Shirt', 'Dress', 'Bag', 'Sneaker', 'Shirt', 'Shirt', 'Sneaker', 'Sandal', 'Pullover', 'Ankle boot', 'T-shirt/top', 'Dress', 'Coat', 'Coat', 'Bag', 'Coat', 'T-shirt/top', 'Pullover', 'Sneaker', 'T-shirt/top', 'Sandal', 'Pullover', 'Shirt', 'Shirt', 'Bag', 'T-shirt/top', 'Shirt', 'Pullover', 'T-shirt/top', 'Pullover', 'Sandal', 'Sandal', 'Bag', 'T-shirt/top', 'Sneaker', 'T-shirt/top', 'Bag', 'Ankle boot', 'T-shirt/top', 'Pullover', 'Trouser', 'Pullover', 'Sandal', 'Trouser', 'Shirt', 'Pullover', 'Ankle boot', 'Shirt', 'Coat', 'Ankle boot', 'Ankle boot', 'Trouser', 'Coat', 'Dress', 'Trouser', 'Pullover', 'Bag', 'Shirt', 'Dress', 'Shirt', 'T-shirt/top', 'Pullover', 'T-shirt/top', 'Pullover', 'Dress', 'Dress', 'Sandal', 'Pullover', 'Dress', 'Shirt', 'Shirt', 'Bag', 'Sandal', 'Coat', 'T-shirt/top', 'Trouser', 'Pullover', 'Pullover', 'Pullover', 'Shirt', 'Sneaker', 'Ankle boot', 'Shirt', 'Coat', 'Dress', 'Dress', 'Shirt', 'Bag', 'Sandal', 'Coat', 'Coat', 'T-shirt/top', 'Dress', 'Dress', 'Sandal', 'Pullover', 'Sandal', 'Trouser', 'Sandal', 'Sandal', 'Trouser', 'Sneaker', 'Sandal', 'Pullover', 'Trouser', 'Bag', 'Bag', 'T-shirt/top', 'Ankle boot', 'Shirt', 'T-shirt/top', 'Shirt', 'Dress', 'Pullover', 'Trouser', 'Bag', 'Dress', 'Coat', 'Pullover', 'Trouser', 'Pullover', 'T-shirt/top', 'Dress', 'T-shirt/top', 'Bag', 'Sandal', 'Trouser', 'Sandal', 'T-shirt/top', 'Pullover', 'T-shirt/top', 'Dress', 'Ankle boot', 'Bag', 'Pullover', 'Bag', 'Trouser', 'T-shirt/top', 'Pullover', 'Shirt', 'Pullover', 'T-shirt/top', 'Dress', 'Sneaker', 'Sandal', 'T-shirt/top', 'Shirt', 'Pullover', 'Shirt', 'Bag', 'Coat', 'Pullover', 'Trouser', 'Bag', 'Shirt', 'Bag', 'Pullover', 'Ankle boot', 'Pullover', 'Shirt', 'Bag', 'Sandal', 'Pullover', 'Sneaker', 'Dress', 'Pullover', 'Pullover', 'Shirt', 'Coat', 'Shirt', 'Bag', 'Sandal', 'Pullover', 'Trouser', 'Sandal', 'Pullover', 'Bag', 'Pullover', 'Ankle boot', 'T-shirt/top', 'Shirt', 'Dress', 'Shirt', 'Coat', 'Shirt', 'Sneaker', 'Sneaker', 'Ankle boot', 'Shirt', 'Coat', 'Ankle boot', 'Bag', 'T-shirt/top', 'Sandal', 'Bag', 'Sneaker', 'Sneaker', 'Shirt', 'Sneaker', 'Sneaker', 'T-shirt/top', 'Sneaker', 'Sneaker', 'Pullover', 'Ankle boot', 'Sneaker', 'Coat', 'Pullover', 'Pullover', 'Dress', 'Bag', 'T-shirt/top', 'Trouser', 'Ankle boot', 'Bag', 'T-shirt/top', 'Shirt', 'Pullover', 'Bag', 'Dress', 'Bag', 'T-shirt/top', 'Sneaker', 'Shirt', 'Coat', 'Dress', 'Bag', 'Trouser', 'Dress', 'Bag', 'Sneaker', 'Dress', 'T-shirt/top', 'Dress', 'Coat', 'Bag', 'Bag', 'Ankle boot', 'Trouser', 'Dress', 'Pullover', 'Trouser', 'Coat', 'Bag', 'T-shirt/top', 'Coat', 'Shirt', 'Sneaker', 'Dress', 'Ankle boot', 'Coat', 'Ankle boot', 'T-shirt/top', 'Coat', 'Shirt', 'Sandal', 'Sneaker', 'T-shirt/top', 'Bag', 'Trouser', 'Sneaker', 'Sandal', 'Coat', 'Ankle boot', 'Sandal', 'Sneaker', 'Dress', 'Pullover', 'T-shirt/top', 'Ankle boot', 'Bag', 'Sneaker', 'Dress', 'Sneaker', 'Sneaker', 'Coat', 'Sneaker', 'Sandal', 'Bag', 'Sandal', 'Pullover', 'Coat', 'Shirt', 'Pullover', 'Dress', 'Bag', 'Ankle boot', 'Sneaker', 'Trouser', 'Dress', 'Coat', 'Pullover', 'Ankle boot', 'Sneaker', 'Trouser', 'Pullover', 'Pullover', 'Shirt', 'T-shirt/top', 'Sandal', 'Sandal', 'Coat', 'Sandal', 'Pullover', 'Bag', 'Ankle boot', 'Coat', 'Ankle boot', 'Ankle boot', 'Trouser', 'Coat', 'Dress', 'Trouser', 'Sandal', 'Sandal', 'Sandal', 'Shirt', 'Bag', 'Trouser', 'Sandal', 'Sandal', 'Ankle boot', 'Sandal', 'Ankle boot', 'Bag', 'Dress', 'Trouser', 'Trouser', 'Coat', 'Shirt', 'Shirt', 'Ankle boot', 'Dress', 'Shirt', 'Coat', 'Coat', 'Bag', 'Shirt', 'Sandal', 'Coat', 'Ankle boot', 'T-shirt/top', 'Pullover', 'Bag', 'Coat', 'Bag', 'Shirt', 'Dress', 'Shirt', 'Trouser', 'Coat', 'Dress', 'Dress', 'Bag', 'Coat', 'Ankle boot', 'Ankle boot', 'T-shirt/top', 'Sneaker', 'Ankle boot', 'Sandal', 'Dress', 'Trouser', 'Sneaker', 'Pullover', 'Bag', 'Coat', 'Ankle boot', 'Shirt', 'Trouser', 'Shirt', 'T-shirt/top', 'Sandal', 'Bag', 'Trouser', 'Ankle boot', 'Dress', 'T-shirt/top', 'Bag', 'Dress', 'Bag', 'Coat', 'Pullover', 'Sandal', 'Shirt', 'Ankle boot', 'T-shirt/top', 'Trouser', 'Coat', 'T-shirt/top', 'Sneaker', 'Ankle boot', 'T-shirt/top', 'Trouser', 'Dress', 'Ankle boot', 'Sandal', 'Trouser', 'Coat', 'Trouser', 'Trouser', 'Coat', 'Bag', 'Dress', 'Ankle boot', 'Sandal', 'Coat', 'Coat', 'Dress', 'Sneaker', 'Sneaker', 'Sneaker', 'Pullover', 'Dress', 'Ankle boot', 'Trouser', 'Ankle boot', 'Coat', 'Coat', 'T-shirt/top', 'Sneaker', 'Shirt', 'Shirt', 'Sneaker', 'Ankle boot', 'T-shirt/top', 'Shirt', 'Coat', 'Ankle boot', 'T-shirt/top', 'Coat', 'T-shirt/top', 'Pullover', 'Sneaker', 'Ankle boot', 'Shirt', 'Trouser', 'Trouser', 'Pullover', 'T-shirt/top', 'Bag', 'Bag', 'Sneaker', 'Coat', 'Pullover', 'Sneaker', 'Sandal', 'Sneaker', 'Shirt', 'Trouser', 'Bag', 'Trouser', 'Coat', 'Ankle boot', 'Bag', 'Ankle boot', 'T-shirt/top', 'Trouser', 'T-shirt/top', 'Shirt', 'T-shirt/top', 'Dress', 'T-shirt/top', 'Shirt', 'Coat', 'Trouser', 'Ankle boot', 'Sneaker', 'Trouser', 'Pullover', 'Pullover', 'Sandal', 'Dress', 'Coat', 'Trouser', 'Sneaker', 'Coat', 'Sneaker', 'T-shirt/top', 'Pullover', 'Bag', 'Bag', 'Trouser', 'Coat', 'Ankle boot', 'Ankle boot', 'Shirt', 'Dress', 'Coat', 'Ankle boot', 'Dress', 'Ankle boot', 'Bag', 'Sandal', 'Dress', 'Bag', 'Coat', 'Sneaker', 'Trouser', 'Coat', 'Trouser', 'Ankle boot', 'Shirt', 'Bag', 'Dress', 'Pullover', 'Coat', 'Bag', 'Trouser', 'Trouser', 'Sandal', 'Bag', 'Shirt', 'Trouser', 'Shirt', 'Pullover', 'Sandal', 'T-shirt/top', 'Ankle boot', 'Sandal', 'Dress', 'Sandal', 'T-shirt/top', 'Shirt', 'Sandal', 'Coat', 'Bag', 'Dress', 'Bag', 'T-shirt/top', 'Pullover', 'Ankle boot', 'Ankle boot', 'Trouser', 'Sandal', 'Dress', 'Pullover', 'Shirt', 'Sandal', 'Dress', 'T-shirt/top', 'Dress', 'T-shirt/top', 'Sneaker', 'Coat', 'T-shirt/top', 'Pullover', 'Trouser', 'Ankle boot', 'Sandal', 'Trouser', 'Sneaker', 'Sandal', 'Sandal', 'Sandal', 'Ankle boot', 'Coat', 'Bag', 'Coat', 'Shirt', 'Shirt', 'Coat', 'Shirt', 'Coat', 'Trouser', 'Trouser', 'Pullover', 'Pullover', 'Bag', 'Coat', 'Ankle boot', 'T-shirt/top', 'Sandal', 'Bag', 'Trouser', 'T-shirt/top', 'Bag', 'Dress', 'Pullover', 'Coat', 'Bag', 'Dress', 'T-shirt/top', 'Ankle boot', 'Dress', 'Coat', 'Ankle boot', 'Sneaker', 'Pullover', 'Shirt', 'Pullover', 'Pullover', 'Bag', 'Ankle boot', 'Shirt', 'Trouser', 'Coat', 'Sneaker', 'Sneaker', 'Ankle boot', 'Sneaker', 'Dress', 'Pullover', 'Ankle boot', 'Pullover', 'Sneaker', 'Dress', 'T-shirt/top', 'Pullover', 'Shirt', 'Sneaker', 'Pullover', 'Dress', 'Dress', 'Trouser', 'Ankle boot', 'Sandal', 'Bag', 'Pullover', 'Dress', 'Sandal', 'T-shirt/top', 'T-shirt/top', 'Coat', 'Sandal', 'Bag', 'Dress', 'Sandal', 'T-shirt/top', 'Sneaker', 'Sneaker', 'Shirt', 'T-shirt/top', 'Ankle boot', 'Sandal', 'Trouser', 'Coat', 'Coat', 'Sandal', 'Dress', 'T-shirt/top', 'Shirt', 'Trouser', 'Coat', 'Shirt', 'Sandal', 'Coat', 'Bag', 'Sandal', 'Sneaker', 'Dress', 'T-shirt/top', 'Bag', 'Dress', 'Sandal', 'Pullover', 'Coat', 'Ankle boot', 'Bag', 'Sandal', 'Ankle boot', 'Bag', 'Trouser', 'Ankle boot', 'Sandal', 'T-shirt/top', 'Trouser', 'Sandal', 'Dress', 'Dress', 'Dress', 'Dress', 'Coat', 'Coat', 'Dress', 'Shirt', 'Sneaker', 'Bag', 'T-shirt/top', 'Ankle boot', 'Shirt', 'Dress', 'T-shirt/top', 'Coat', 'Pullover', 'Sneaker', 'Dress', 'Sandal', 'Sneaker', 'Dress', 'Sneaker', 'Bag', 'Coat', 'Shirt', 'Pullover', 'Pullover', 'Dress', 'Trouser', 'T-shirt/top', 'Sneaker', 'Sandal', 'Shirt', 'Shirt', 'Coat', 'Trouser', 'Trouser', 'Coat', 'Sneaker', 'Pullover', 'Dress', 'Sandal', 'Sandal', 'T-shirt/top', 'Coat', 'Coat', 'Coat', 'Bag', 'Ankle boot', 'Ankle boot', 'Pullover', 'Shirt', 'Ankle boot', 'Bag', 'Dress', 'Sandal', 'Dress', 'Trouser', 'Coat', 'Sandal', 'T-shirt/top', 'Trouser', 'Bag', 'Sandal', 'Bag', 'Shirt', 'T-shirt/top', 'Sneaker', 'Bag', 'Ankle boot', 'Pullover', 'Pullover', 'Shirt', 'Dress', 'Pullover', 'Pullover', 'Pullover', 'Bag', 'Ankle boot', 'Trouser', 'Ankle boot', 'Sneaker', 'Coat', 'Sandal', 'Shirt', 'Dress', 'Pullover', 'Coat', 'Sandal', 'Shirt', 'Shirt', 'Sandal', 'Bag', 'Shirt', 'Pullover', 'Pullover', 'Ankle boot', 'Coat', 'Ankle boot', 'Bag', 'Dress', 'T-shirt/top', 'Pullover', 'Sneaker', 'Sneaker', 'Sandal', 'Ankle boot', 'Sneaker', 'Sneaker', 'Dress', 'Bag', 'Sneaker', 'Sandal', 'Ankle boot', 'Ankle boot', 'Bag', 'Pullover', 'Trouser', 'T-shirt/top', 'Bag', 'T-shirt/top', 'Pullover', 'Shirt', 'Sneaker', 'Ankle boot', 'Pullover', 'Pullover', 'Sandal', 'Coat', 'Dress', 'Pullover', 'Trouser', 'Trouser', 'Ankle boot', 'Shirt', 'Sandal', 'Sandal', 'Coat', 'Ankle boot', 'Bag', 'Ankle boot', 'Shirt', 'Sandal', 'Coat', 'Shirt', 'T-shirt/top', 'Sandal', 'Sneaker', 'Bag', 'Coat', 'Bag', 'Bag', 'Sneaker', 'Coat', 'Ankle boot', 'Coat', 'Ankle boot', 'Shirt', 'Ankle boot', 'Sneaker', 'Dress', 'Ankle boot', 'Ankle boot', 'Dress', 'Shirt', 'T-shirt/top', 'Pullover', 'Bag', 'Sneaker', 'Ankle boot', 'Coat', 'T-shirt/top', 'T-shirt/top', 'Coat', 'Trouser', 'T-shirt/top', 'Dress', 'Bag', 'Coat', 'Bag', 'Coat', 'Coat', 'Dress', 'Dress', 'Sandal', 'Sneaker', 'Sneaker', 'Bag', 'Sandal', 'Shirt', 'Dress', 'Pullover', 'Trouser', 'Bag', 'Dress', 'Bag', 'Sandal', 'Coat', 'Pullover', 'Dress', 'T-shirt/top', 'Bag', 'Dress', 'Dress', 'Pullover', 'Ankle boot', 'T-shirt/top', 'Ankle boot', 'Ankle boot', 'T-shirt/top', 'Trouser', 'Bag', 'Dress', 'T-shirt/top', 'Dress', 'Bag', 'Shirt', 'Bag', 'Sandal', 'Trouser', 'Dress', 'T-shirt/top', 'Trouser', 'Ankle boot', 'Dress', 'Sandal', 'T-shirt/top', 'Shirt', 'Pullover', 'Dress', 'Trouser', 'Sandal', 'Dress', 'Pullover', 'Bag', 'Sandal', 'Sneaker', 'Bag', 'T-shirt/top', 'Trouser', 'Trouser', 'T-shirt/top', 'Shirt', 'Coat', 'Sandal', 'Ankle boot', 'T-shirt/top', 'Sneaker', 'Pullover', 'Dress', 'Shirt', 'Coat', 'Shirt', 'Dress', 'Shirt', 'Ankle boot', 'Coat', 'Ankle boot', 'T-shirt/top', 'Bag', 'Dress', 'Sandal', 'Shirt', 'Pullover', 'T-shirt/top', 'Trouser', 'Dress', 'Ankle boot', 'Coat', 'Pullover', 'Sandal', 'T-shirt/top', 'Sandal', 'Dress', 'Pullover', 'Sandal', 'T-shirt/top', 'T-shirt/top', 'T-shirt/top', 'T-shirt/top', 'T-shirt/top', 'Ankle boot', 'Trouser', 'Dress', 'Coat', 'Dress', 'Sandal', 'Sandal', 'Shirt', 'Shirt', 'Trouser', 'Coat', 'Ankle boot', 'Sneaker', 'Coat', 'Coat', 'Sneaker', 'Sandal', 'Sneaker', 'Trouser', 'Shirt', 'Bag', 'Sneaker', 'Ankle boot', 'Sandal', 'Sneaker', 'T-shirt/top', 'Pullover', 'Ankle boot', 'Pullover', 'Sandal', 'T-shirt/top', 'Sneaker', 'Shirt', 'Coat', 'Sandal', 'Pullover', 'Ankle boot', 'Coat', 'Dress', 'Pullover', 'Sandal', 'Ankle boot', 'Pullover', 'Sandal', 'Ankle boot', 'Sneaker', 'Dress', 'Bag', 'Dress', 'Sandal', 'Shirt', 'Sandal', 'Dress', 'T-shirt/top', 'Sneaker', 'Shirt', 'Ankle boot', 'Sandal', 'Trouser', 'Dress', 'Shirt', 'Ankle boot', 'Dress', 'Shirt', 'Pullover', 'Sandal', 'Dress', 'Coat', 'Ankle boot', 'Ankle boot', 'Trouser', 'Pullover', 'Pullover', 'Pullover', 'Coat', 'Shirt', 'Bag', 'Sneaker', 'Ankle boot', 'Ankle boot', 'Coat', 'Bag', 'Bag', 'Ankle boot', 'T-shirt/top', 'Sneaker', 'T-shirt/top', 'Coat', 'Dress', 'Bag', 'Shirt', 'Coat', 'Pullover', 'T-shirt/top', 'Trouser', 'Coat', 'T-shirt/top', 'Pullover', 'Trouser', 'Sandal', 'Coat', 'Shirt', 'Shirt', 'T-shirt/top', 'Dress', 'Coat', 'Sandal', 'Shirt', 'Bag', 'Sneaker', 'Shirt', 'T-shirt/top', 'Dress', 'Trouser', 'Bag', 'Bag', 'Bag', 'Ankle boot', 'Ankle boot', 'Sandal', 'Sandal', 'Bag', 'Shirt', 'Sandal', 'Coat', 'Coat', 'Pullover', 'Sandal', 'Shirt', 'Ankle boot', 'Pullover', 'Ankle boot', 'Trouser', 'T-shirt/top', 'Coat', 'Shirt', 'Shirt', 'Ankle boot', 'Bag', 'T-shirt/top', 'Coat', 'Ankle boot', 'Trouser', 'Ankle boot', 'Coat', 'Sneaker', 'Dress', 'Sandal', 'Coat', 'Dress', 'Coat', 'Shirt', 'Trouser', 'Shirt', 'Pullover', 'Coat', 'Dress', 'Sneaker', 'Bag', 'Coat', 'Sandal', 'Sandal', 'Ankle boot', 'T-shirt/top', 'Shirt', 'Dress', 'Coat', 'Sandal', 'Sandal', 'Sandal', 'Sneaker', 'Dress', 'Trouser', 'Dress', 'Dress', 'Sneaker', 'T-shirt/top', 'Sneaker', 'Sneaker', 'Shirt', 'Bag', 'Dress', 'Sandal', 'Sandal', 'Bag', 'Trouser', 'Ankle boot', 'Coat', 'T-shirt/top', 'Coat', 'Pullover', 'Trouser', 'Shirt', 'T-shirt/top', 'Trouser', 'Shirt', 'Sandal', 'T-shirt/top', 'Bag', 'Trouser', 'Trouser', 'Sneaker', 'Sandal', 'Pullover', 'Sandal', 'Ankle boot', 'T-shirt/top', 'Bag', 'Dress', 'Coat', 'Coat', 'Pullover', 'Sneaker', 'T-shirt/top', 'Sneaker', 'Shirt', 'Shirt', 'Pullover', 'Dress', 'Sneaker', 'Trouser', 'Shirt', 'Coat', 'Dress', 'Dress', 'T-shirt/top', 'T-shirt/top', 'Shirt', 'Coat', 'Bag', 'Sneaker', 'T-shirt/top', 'Dress', 'Shirt', 'Coat', 'Sneaker', 'Dress', 'Dress', 'Shirt', 'T-shirt/top', 'Pullover', 'Coat', 'Coat', 'Trouser', 'Bag', 'Trouser', 'Ankle boot', 'Trouser', 'Pullover', 'Shirt', 'Coat', 'Pullover', 'Sandal', 'Dress', 'Dress', 'Sandal', 'Dress', 'Sandal', 'Bag', 'Dress', 'Ankle boot', 'Sneaker', 'Dress', 'T-shirt/top', 'T-shirt/top', 'Trouser', 'T-shirt/top', 'Trouser', 'T-shirt/top', 'Sneaker', 'Sneaker', 'Coat', 'Bag', 'Ankle boot', 'T-shirt/top', 'Trouser', 'Sandal', 'Coat', 'Ankle boot', 'Coat', 'Sneaker', 'Ankle boot', 'Ankle boot', 'Sneaker', 'T-shirt/top', 'Trouser', 'T-shirt/top', 'Ankle boot', 'Ankle boot', 'Sandal', 'Trouser', 'Sneaker', 'Pullover', 'Ankle boot', 'Trouser', 'Sandal', 'Shirt', 'Bag', 'Trouser', 'Sneaker', 'Dress', 'T-shirt/top', 'Bag', 'Coat', 'Sneaker', 'T-shirt/top', 'Bag', 'Ankle boot', 'Bag', 'Bag', 'Coat', 'Sandal', 'Shirt', 'Coat', 'Sandal', 'Ankle boot', 'T-shirt/top', 'T-shirt/top', 'Sandal', 'Dress', 'Sneaker', 'Sneaker', 'Coat', 'Coat', 'Sneaker', 'Coat', 'Sandal', 'Bag', 'Dress', 'Sneaker', 'Pullover', 'Sneaker', 'Dress', 'Bag', 'Bag', 'Bag', 'Sneaker', 'Bag', 'Shirt', 'T-shirt/top', 'Sandal', 'Sneaker', 'Ankle boot', 'Bag', 'Sandal', 'Shirt', 'T-shirt/top', 'Shirt', 'Coat', 'Coat', 'Pullover', 'Bag', 'Ankle boot', 'Ankle boot', 'Trouser', 'Ankle boot', 'Sandal', 'Bag', 'Coat', 'Coat', 'Bag', 'Coat', 'Bag', 'Sneaker', 'Coat', 'Bag', 'Dress', 'T-shirt/top', 'Sneaker', 'Bag', 'Bag', 'Dress', 'Ankle boot', 'Ankle boot', 'Sandal', 'Ankle boot', 'Pullover', 'Shirt', 'Ankle boot', 'Sneaker', 'Sandal', 'Sneaker', 'Coat', 'Ankle boot', 'Ankle boot', 'Pullover', 'Dress', 'Ankle boot', 'Sandal', 'Dress', 'Sandal', 'Shirt', 'Trouser', 'Pullover', 'Ankle boot', 'Trouser', 'Coat', 'Bag', 'Sandal', 'Trouser', 'Sneaker', 'Ankle boot', 'T-shirt/top', 'Dress', 'Dress', 'Shirt', 'Ankle boot', 'T-shirt/top', 'Coat', 'Shirt', 'T-shirt/top', 'T-shirt/top', 'Pullover', 'Ankle boot', 'Sneaker', 'Trouser', 'Ankle boot', 'Bag', 'Sandal', 'Shirt', 'Bag', 'Sandal', 'Ankle boot', 'Sandal', 'Pullover', 'Coat', 'Pullover', 'Sandal', 'Pullover', 'Pullover', 'Sandal', 'Coat', 'Pullover', 'Sneaker', 'Trouser', 'Pullover', 'Shirt', 'Bag', 'Pullover', 'Sandal', 'Shirt', 'Pullover', 'Shirt', 'Ankle boot', 'Sandal', 'Sandal', 'Trouser', 'Sandal', 'Pullover', 'Coat', 'Coat', 'Pullover', 'Coat', 'Trouser', 'Ankle boot', 'Dress', 'Sneaker', 'Pullover', 'Sneaker', 'Coat', 'Pullover', 'Ankle boot', 'Sneaker', 'Coat', 'Shirt', 'Shirt', 'Trouser', 'Sneaker', 'Trouser', 'Coat', 'Sneaker', 'Shirt', 'Trouser', 'Sneaker', 'Dress', 'T-shirt/top', 'Dress', 'Shirt', 'Coat', 'Ankle boot', 'T-shirt/top', 'Coat', 'Trouser', 'Sneaker', 'Ankle boot', 'T-shirt/top', 'Pullover', 'Sneaker', 'Shirt', 'Shirt', 'Sneaker', 'Trouser', 'Ankle boot', 'Sandal', 'Pullover', 'Ankle boot', 'Bag', 'Shirt', 'Coat', 'T-shirt/top', 'Trouser', 'Dress', 'Pullover', 'Pullover', 'Bag', 'Trouser', 'T-shirt/top', 'Bag', 'Trouser', 'Bag', 'Trouser', 'T-shirt/top', 'Trouser', 'Coat', 'Sneaker', 'Dress', 'Sneaker', 'Sneaker', 'Dress', 'Dress', 'Ankle boot', 'Ankle boot', 'T-shirt/top', 'Bag', 'Pullover', 'Sandal', 'Bag', 'Ankle boot', 'Sandal', 'Dress', 'Sandal', 'Coat', 'Trouser', 'Shirt', 'Ankle boot', 'Pullover', 'Shirt', 'Pullover', 'Shirt', 'Trouser', 'Bag', 'Trouser', 'Dress', 'Dress', 'T-shirt/top', 'Pullover', 'Trouser', 'Sneaker', 'T-shirt/top', 'Sandal', 'Coat', 'Sandal', 'Dress', 'Shirt', 'Pullover', 'Trouser', 'Shirt', 'T-shirt/top', 'Sneaker', 'Dress', 'Shirt', 'Shirt', 'Dress', 'Shirt', 'Trouser', 'Sandal', 'Pullover', 'Ankle boot', 'T-shirt/top', 'Bag', 'T-shirt/top', 'Coat', 'Coat', 'T-shirt/top', 'Trouser', 'Sneaker', 'Sandal', 'Dress', 'Dress', 'Dress', 'Pullover', 'T-shirt/top', 'Dress', 'Sandal', 'Pullover', 'Shirt', 'Pullover', 'Sandal', 'Trouser', 'Coat', 'Shirt', 'Pullover', 'Trouser', 'Ankle boot', 'Dress', 'Coat', 'Shirt', 'Ankle boot', 'Sandal', 'Bag', 'T-shirt/top', 'Shirt', 'Dress', 'Shirt', 'T-shirt/top', 'Bag', 'Trouser', 'Pullover', 'Dress', 'Dress', 'Trouser', 'Sandal', 'Sandal', 'Dress', 'Pullover', 'Shirt', 'Sneaker', 'Trouser', 'Dress', 'Pullover', 'Dress', 'Shirt', 'Trouser', 'Pullover', 'Pullover', 'Bag', 'T-shirt/top', 'Bag', 'Coat', 'Sneaker', 'T-shirt/top', 'Dress', 'Trouser', 'Dress', 'Bag', 'Dress', 'Coat', 'Trouser', 'Pullover', 'T-shirt/top', 'Dress', 'Shirt', 'Sneaker', 'Sneaker', 'Bag', 'Dress', 'Shirt', 'Ankle boot', 'Sandal', 'Shirt', 'Shirt', 'Ankle boot', 'Sandal', 'Coat', 'Dress', 'Bag', 'Sandal', 'Dress', 'Bag', 'Dress', 'Sneaker', 'Ankle boot', 'Shirt', 'Pullover', 'Sandal', 'Trouser', 'T-shirt/top', 'Sandal', 'Pullover', 'Dress', 'Sandal', 'Sneaker', 'Ankle boot', 'Shirt', 'T-shirt/top', 'Sneaker', 'Trouser', 'Pullover', 'T-shirt/top', 'Bag', 'Pullover', 'Pullover', 'Pullover', 'Sneaker', 'Bag', 'T-shirt/top', 'Pullover', 'Coat', 'Coat', 'Ankle boot', 'Sneaker', 'Dress', 'Pullover', 'Sandal', 'Coat', 'Sandal', 'Trouser', 'Ankle boot', 'Sandal', 'T-shirt/top', 'Sandal', 'Pullover', 'Coat', 'Trouser', 'Sneaker', 'Ankle boot', 'T-shirt/top', 'Dress', 'Dress', 'Coat', 'Ankle boot', 'Trouser', 'T-shirt/top', 'Trouser', 'Ankle boot', 'Sandal', 'Shirt', 'Bag', 'Pullover', 'Pullover', 'Trouser', 'Coat', 'T-shirt/top', 'Shirt', 'Sneaker', 'Ankle boot', 'T-shirt/top', 'Trouser', 'Trouser', 'Coat', 'Dress', 'Shirt', 'Ankle boot', 'Bag', 'Trouser', 'Dress', 'Sneaker', 'Dress', 'Ankle boot', 'Ankle boot', 'Sandal', 'Coat', 'Pullover', 'Dress', 'Shirt', 'Bag', 'Bag', 'Sandal', 'Sandal', 'Trouser', 'Bag', 'Bag', 'Sandal', 'Sneaker', 'Ankle boot', 'Ankle boot', 'Dress', 'Coat', 'Coat', 'Pullover', 'Sneaker', 'Ankle boot', 'Shirt', 'Shirt', 'Sneaker', 'Sandal', 'Coat', 'Sneaker', 'Shirt', 'Trouser', 'Coat', 'Pullover', 'Pullover', 'Shirt', 'Ankle boot', 'T-shirt/top', 'T-shirt/top', 'Sandal', 'Trouser', 'Trouser', 'Sneaker', 'Bag', 'Dress', 'Shirt', 'Shirt', 'Pullover', 'T-shirt/top', 'Pullover', 'Coat', 'Ankle boot', 'Sandal', 'Pullover', 'Coat', 'Shirt', 'Coat', 'Shirt', 'Trouser', 'Sandal', 'Pullover', 'Sneaker', 'Bag', 'Shirt', 'Sneaker', 'Sneaker', 'T-shirt/top', 'Bag', 'Coat', 'Dress', 'Shirt', 'Ankle boot', 'Trouser', 'Pullover', 'Trouser', 'Sneaker', 'Coat', 'Dress', 'Coat', 'Ankle boot', 'Ankle boot', 'Pullover', 'Pullover', 'Coat', 'Dress', 'T-shirt/top', 'Sandal', 'Sneaker', 'Sandal', 'Pullover', 'Sneaker', 'Bag', 'Ankle boot', 'Ankle boot', 'Pullover', 'Sneaker', 'Bag', 'Sneaker', 'Sneaker', 'Sandal', 'Bag', 'Sneaker', 'Shirt', 'Shirt', 'Ankle boot', 'T-shirt/top', 'Trouser', 'Bag', 'Sneaker', 'Sandal', 'Coat', 'Sandal', 'Dress', 'Sneaker', 'Shirt', 'Shirt', 'Sandal', 'Sandal', 'Shirt', 'Ankle boot', 'Ankle boot', 'Trouser', 'Ankle boot', 'Sandal', 'Ankle boot', 'Coat', 'Coat', 'Trouser', 'Sandal', 'Bag', 'Dress', 'Sandal', 'Trouser', 'Bag', 'Shirt', 'Sandal', 'T-shirt/top', 'Pullover', 'Dress', 'Sneaker', 'Trouser', 'Trouser', 'Trouser', 'Bag', 'Sneaker', 'Sandal', 'Shirt', 'Dress', 'Coat', 'Sneaker', 'T-shirt/top', 'T-shirt/top', 'Sandal', 'Dress', 'Coat', 'Bag', 'Shirt', 'Sandal', 'Pullover', 'Sneaker', 'Dress', 'Pullover', 'Dress', 'Pullover', 'Sneaker', 'Bag', 'T-shirt/top', 'Ankle boot', 'T-shirt/top', 'Ankle boot', 'Sandal', 'Bag', 'T-shirt/top', 'Sneaker', 'Dress', 'Ankle boot', 'T-shirt/top', 'Ankle boot', 'Sneaker', 'Dress', 'T-shirt/top', 'Shirt', 'Sandal', 'Sneaker', 'Bag', 'Pullover', 'Dress', 'Trouser', 'Ankle boot', 'T-shirt/top', 'Pullover', 'Ankle boot', 'Trouser', 'Dress', 'Coat', 'T-shirt/top', 'Dress', 'T-shirt/top', 'Shirt', 'Pullover', 'Dress', 'Bag', 'Shirt', 'Pullover', 'Ankle boot', 'Sandal', 'Shirt', 'Trouser', 'Bag', 'Pullover', 'Coat', 'Trouser', 'Shirt', 'Pullover', 'Ankle boot', 'Coat', 'Shirt', 'Sneaker', 'Ankle boot', 'Shirt', 'Dress', 'Sandal', 'Coat', 'Sandal', 'Ankle boot', 'Bag', 'Sandal', 'Dress', 'T-shirt/top', 'Trouser', 'Pullover', 'Shirt', 'Coat', 'Trouser', 'Ankle boot', 'Coat', 'Coat', 'Shirt', 'Sandal', 'Sandal', 'Coat', 'Dress', 'Pullover', 'T-shirt/top', 'Trouser', 'Coat', 'Ankle boot', 'Ankle boot', 'Sneaker', 'Shirt', 'Trouser', 'Pullover', 'Shirt', 'Shirt', 'Pullover', 'Shirt', 'Pullover', 'Sandal', 'Ankle boot', 'Coat', 'Bag', 'Pullover', 'Shirt', 'Trouser', 'Sandal', 'Ankle boot', 'Shirt', 'Trouser', 'Bag', 'Ankle boot', 'Dress', 'Trouser', 'Sneaker', 'Trouser', 'Trouser', 'Trouser', 'Ankle boot', 'Trouser', 'Dress', 'Bag', 'Ankle boot', 'Ankle boot', 'Trouser', 'Ankle boot', 'Shirt', 'T-shirt/top', 'Sandal', 'Bag', 'Sandal', 'Sandal', 'Sandal', 'Dress', 'Bag', 'Ankle boot', 'T-shirt/top', 'Sneaker', 'Bag', 'Pullover', 'Ankle boot', 'Pullover', 'T-shirt/top', 'Trouser', 'Sandal', 'T-shirt/top', 'Sneaker', 'Bag', 'T-shirt/top', 'T-shirt/top', 'Ankle boot', 'Trouser', 'Trouser', 'Bag', 'Pullover', 'Bag', 'Sneaker', 'Pullover', 'T-shirt/top', 'Sneaker', 'Pullover', 'T-shirt/top', 'T-shirt/top', 'Sandal', 'Trouser', 'T-shirt/top', 'Bag', 'Shirt', 'Dress', 'Sneaker', 'Pullover', 'Trouser', 'Ankle boot', 'Sneaker', 'Coat', 'Trouser', 'Dress', 'Ankle boot', 'Pullover', 'Coat', 'T-shirt/top', 'Dress', 'Sneaker', 'Sandal', 'Trouser', 'Trouser', 'Ankle boot', 'Sandal', 'Trouser', 'Sandal', 'Coat', 'Shirt', 'Shirt', 'Trouser', 'Sandal', 'Pullover', 'Trouser', 'Shirt', 'Shirt', 'Sandal', 'Sneaker', 'Ankle boot', 'Coat', 'Dress', 'Coat', 'Trouser', 'Sneaker', 'Ankle boot', 'T-shirt/top', 'Sandal', 'Sneaker', 'Dress', 'Dress', 'Bag', 'Coat', 'Trouser', 'Bag', 'Pullover', 'Sandal', 'Coat', 'Coat', 'Bag', 'Ankle boot', 'Pullover', 'Ankle boot', 'Dress', 'Pullover', 'Shirt', 'Trouser', 'Trouser', 'Shirt', 'Shirt', 'Trouser', 'Coat', 'Ankle boot', 'Bag', 'Sandal', 'Ankle boot', 'Trouser', 'Sandal', 'Shirt', 'Ankle boot', 'Dress', 'Pullover', 'Trouser', 'Sneaker', 'Coat', 'Ankle boot', 'Bag', 'Bag', 'Ankle boot', 'Sandal', 'Sandal', 'Dress', 'Bag', 'Pullover', 'T-shirt/top', 'Dress', 'Shirt', 'Trouser', 'Trouser', 'Ankle boot', 'T-shirt/top', 'Ankle boot', 'Sneaker', 'Sandal', 'Dress', 'Pullover', 'Ankle boot', 'Sandal', 'Sandal', 'Coat', 'Pullover', 'Ankle boot', 'Ankle boot', 'Dress', 'T-shirt/top', 'Shirt', 'Dress', 'Trouser', 'Sneaker', 'Coat', 'Ankle boot', 'Pullover', 'Bag', 'Sandal', 'Bag', 'Shirt', 'T-shirt/top', 'Trouser', 'Dress', 'Pullover', 'Pullover', 'Dress', 'Shirt', 'Shirt', 'T-shirt/top', 'Pullover', 'Bag', 'Dress', 'Pullover', 'Bag', 'Shirt', 'Trouser', 'Bag', 'Coat', 'Sandal', 'Coat', 'Pullover', 'Dress', 'Ankle boot', 'T-shirt/top', 'Coat', 'Coat', 'Pullover', 'Sandal', 'Coat', 'Pullover', 'Sneaker', 'Shirt', 'Sneaker', 'Dress', 'Dress', 'Shirt', 'Ankle boot', 'Shirt', 'Bag', 'Sandal', 'Shirt', 'Shirt', 'Dress', 'Shirt', 'Sneaker', 'Pullover', 'Sandal', 'Dress', 'Trouser', 'Trouser', 'Ankle boot', 'Sneaker', 'Sandal', 'Coat', 'Pullover', 'Trouser', 'Shirt', 'Coat', 'Sandal', 'Ankle boot', 'Pullover', 'Sandal', 'Sandal', 'Dress', 'Dress', 'T-shirt/top', 'Ankle boot', 'Pullover', 'Pullover', 'Pullover', 'Dress', 'Pullover', 'Coat', 'Ankle boot', 'Pullover', 'Dress', 'T-shirt/top', 'Coat', 'Pullover', 'T-shirt/top', 'Coat', 'Trouser', 'Dress', 'Sneaker', 'Pullover', 'Coat', 'Pullover', 'Pullover', 'Dress', 'Pullover', 'Dress', 'T-shirt/top', 'Bag', 'Dress', 'Sandal', 'Trouser', 'Pullover', 'Bag', 'Bag', 'Pullover', 'Trouser', 'Pullover', 'Trouser', 'Trouser', 'Ankle boot', 'Shirt', 'Sandal', 'Ankle boot', 'Shirt', 'Bag', 'T-shirt/top', 'Dress', 'Shirt', 'Dress', 'Trouser', 'Dress', 'Sneaker', 'Sandal', 'Shirt', 'Trouser', 'Trouser', 'Pullover', 'T-shirt/top', 'Sandal', 'Sandal', 'T-shirt/top', 'Trouser', 'Shirt', 'Sandal', 'Pullover', 'Bag', 'Ankle boot', 'Sneaker', 'Ankle boot', 'Trouser', 'Trouser', 'Dress', 'Dress', 'Sandal', 'Shirt', 'Sneaker', 'Sandal', 'Ankle boot', 'Coat', 'Ankle boot', 'Dress', 'Shirt', 'Shirt', 'T-shirt/top', 'Bag', 'Sandal', 'Shirt', 'Sandal', 'Ankle boot', 'Bag', 'Dress', 'Bag', 'Trouser', 'Dress', 'Trouser', 'Dress', 'Sandal', 'Shirt', 'Sandal', 'Coat', 'Coat', 'Ankle boot', 'Shirt', 'Sneaker', 'Trouser', 'Coat', 'Bag', 'Dress', 'Sneaker', 'Sneaker', 'Shirt', 'Sneaker', 'Ankle boot', 'Coat', 'Sneaker', 'Sneaker', 'T-shirt/top', 'Trouser', 'Coat', 'Trouser', 'Coat', 'Bag', 'Pullover', 'Coat', 'Sneaker', 'Shirt', 'Sneaker', 'Trouser', 'Bag', 'Sneaker', 'Sandal', 'Trouser', 'Dress', 'Trouser', 'T-shirt/top', 'Dress', 'Coat', 'Sandal', 'Coat', 'Bag', 'Shirt', 'Dress', 'Coat', 'Ankle boot', 'Dress', 'Trouser', 'Sandal', 'Dress', 'T-shirt/top', 'Sneaker', 'T-shirt/top', 'Dress', 'Coat', 'Sandal', 'Trouser', 'Shirt', 'Shirt', 'Pullover', 'Bag', 'Bag', 'Ankle boot', 'Bag', 'Shirt', 'Sneaker', 'Pullover', 'Coat', 'Pullover', 'Sandal', 'Trouser', 'Ankle boot', 'Shirt', 'Dress', 'Bag', 'Sneaker', 'Trouser', 'Bag', 'Trouser', 'Pullover', 'T-shirt/top', 'Ankle boot', 'Pullover', 'Coat', 'Coat', 'Coat', 'Shirt', 'Trouser', 'Dress', 'Sandal', 'Pullover', 'Ankle boot', 'Sneaker', 'Sandal', 'Pullover', 'Sneaker', 'Sandal', 'Sandal', 'Coat', 'Coat', 'Bag', 'T-shirt/top', 'Sneaker', 'T-shirt/top', 'Bag', 'T-shirt/top', 'Pullover', 'Trouser', 'Ankle boot', 'Sneaker', 'Sneaker', 'Dress', 'Bag', 'T-shirt/top', 'Dress', 'T-shirt/top', 'Ankle boot', 'Bag', 'Sandal', 'Shirt', 'Coat', 'Bag', 'Trouser', 'Sandal', 'Sandal', 'Sneaker', 'T-shirt/top', 'Trouser', 'Shirt', 'Trouser', 'Dress', 'Pullover', 'Shirt', 'Coat', 'Shirt', 'Trouser', 'Sneaker', 'Shirt', 'Pullover', 'Pullover', 'Shirt', 'Trouser', 'Bag', 'Pullover', 'Pullover', 'Shirt', 'Dress', 'T-shirt/top', 'Bag', 'Bag', 'Coat', 'Shirt', 'Pullover', 'T-shirt/top', 'Sneaker', 'T-shirt/top', 'Bag', 'Ankle boot', 'Trouser', 'Shirt', 'Shirt', 'Sneaker', 'T-shirt/top', 'Bag', 'Trouser', 'Bag', 'Pullover', 'Coat', 'Shirt', 'Sneaker', 'Sandal', 'Sneaker', 'Ankle boot', 'Ankle boot', 'Dress', 'Ankle boot', 'Coat', 'Coat', 'Shirt', 'Coat', 'Trouser', 'Coat', 'Bag', 'Coat', 'Pullover', 'Bag', 'Shirt', 'Pullover', 'Pullover', 'Ankle boot', 'Trouser', 'Bag', 'T-shirt/top', 'Shirt', 'Pullover', 'Shirt', 'T-shirt/top', 'Dress', 'Shirt', 'Shirt', 'Trouser', 'Dress', 'Shirt', 'Dress', 'Dress', 'Trouser', 'Sneaker', 'Bag', 'Trouser', 'T-shirt/top', 'Sneaker', 'Shirt', 'Sandal', 'T-shirt/top', 'Bag', 'Pullover', 'Shirt', 'Sandal', 'Bag', 'Sneaker', 'Bag', 'Coat', 'Sandal', 'Ankle boot', 'Sandal', 'Sandal', 'Trouser', 'Pullover', 'Coat', 'Sneaker', 'Pullover', 'Ankle boot', 'Sneaker', 'Bag', 'Dress', 'Sneaker', 'Coat', 'Shirt', 'Dress', 'Bag', 'Bag', 'Coat', 'Sandal', 'Trouser', 'Bag', 'Pullover', 'Shirt', 'Pullover', 'Pullover', 'Ankle boot', 'Bag', 'Ankle boot', 'T-shirt/top', 'Pullover', 'Sandal', 'Ankle boot', 'Dress', 'Sandal', 'Ankle boot', 'Bag', 'Shirt', 'Dress', 'Ankle boot', 'Sandal', 'Ankle boot', 'Dress', 'T-shirt/top', 'Bag', 'Shirt', 'T-shirt/top', 'Shirt', 'Dress', 'Sandal', 'Bag', 'T-shirt/top', 'Shirt', 'Trouser', 'Bag', 'Shirt', 'Ankle boot', 'T-shirt/top', 'T-shirt/top', 'Sneaker', 'Shirt', 'Shirt', 'Bag', 'Sneaker', 'Shirt', 'Bag', 'Bag', 'Pullover', 'T-shirt/top', 'Dress', 'Shirt', 'Sneaker', 'Trouser', 'Dress', 'Sneaker', 'Coat', 'T-shirt/top', 'Sneaker', 'Trouser', 'Shirt', 'Sandal', 'Pullover', 'T-shirt/top', 'Sneaker', 'Ankle boot', 'T-shirt/top', 'Dress', 'Bag', 'Pullover', 'Trouser', 'Trouser', 'Bag', 'Bag', 'Dress', 'Sandal', 'Sneaker', 'Sandal', 'Shirt', 'Sneaker', 'Coat', 'Dress', 'Ankle boot', 'Dress', 'Bag', 'Ankle boot', 'T-shirt/top', 'Coat', 'T-shirt/top', 'Coat', 'Sandal', 'Sneaker', 'T-shirt/top', 'Coat', 'Dress', 'Ankle boot', 'Sandal', 'Sneaker', 'Pullover', 'Pullover', 'Sandal', 'Bag', 'Dress', 'Trouser', 'Dress', 'Sandal', 'Coat', 'Ankle boot', 'Coat', 'Dress', 'Ankle boot', 'Ankle boot', 'Pullover', 'T-shirt/top', 'Bag', 'T-shirt/top', 'Ankle boot', 'Trouser', 'Ankle boot', 'Ankle boot', 'T-shirt/top', 'Sneaker', 'Trouser', 'Coat', 'Sandal', 'T-shirt/top', 'Dress', 'Bag', 'Sneaker', 'Coat', 'Sandal', 'Sandal', 'Ankle boot', 'Dress', 'Pullover', 'T-shirt/top', 'T-shirt/top', 'Ankle boot', 'T-shirt/top', 'Sandal', 'T-shirt/top', 'Trouser', 'Dress', 'Sneaker', 'Ankle boot', 'Trouser', 'Sandal', 'Ankle boot', 'Shirt', 'T-shirt/top', 'Ankle boot', 'Sneaker', 'Pullover', 'Ankle boot', 'Pullover', 'Trouser', 'Pullover', 'Sneaker', 'Sandal', 'Trouser', 'T-shirt/top', 'Sneaker', 'Dress', 'Coat', 'Sneaker', 'Shirt', 'Coat', 'Shirt', 'Bag', 'Sandal', 'Sneaker', 'Ankle boot', 'Sandal', 'Sneaker', 'Dress', 'Shirt', 'Dress', 'Ankle boot', 'Dress', 'Coat', 'Trouser', 'Sandal', 'Shirt', 'Ankle boot', 'Sneaker', 'Coat', 'T-shirt/top', 'Shirt', 'Sandal', 'Bag', 'T-shirt/top', 'Sneaker', 'Sneaker', 'Dress', 'Pullover', 'T-shirt/top', 'Coat', 'Bag', 'Pullover', 'T-shirt/top', 'Shirt', 'Ankle boot', 'Bag', 'Ankle boot', 'Pullover', 'Sandal', 'T-shirt/top', 'Coat', 'T-shirt/top', 'Pullover', 'Shirt', 'Dress', 'Trouser', 'Bag', 'Sneaker', 'Coat', 'Trouser', 'Ankle boot', 'Trouser', 'Pullover', 'Bag', 'Sandal', 'Shirt', 'Dress', 'T-shirt/top', 'T-shirt/top', 'Pullover', 'Shirt', 'T-shirt/top', 'Sneaker', 'Pullover', 'Trouser', 'Bag', 'Coat', 'Bag', 'Sneaker', 'Ankle boot', 'Coat', 'Trouser', 'Shirt', 'Sandal', 'Sneaker', 'Sneaker', 'Dress', 'Pullover', 'Sandal', 'Sneaker', 'Dress', 'Shirt', 'Sneaker', 'Dress', 'Pullover', 'Pullover', 'Ankle boot', 'Shirt', 'Sneaker', 'Dress', 'Ankle boot', 'Trouser', 'Pullover', 'Trouser', 'Ankle boot', 'Sneaker', 'Pullover', 'Dress', 'Dress', 'Bag', 'Trouser', 'Bag', 'Dress', 'Sandal', 'T-shirt/top', 'Sandal', 'Dress', 'Bag', 'Sandal', 'Sneaker', 'Coat', 'Ankle boot', 'T-shirt/top', 'Shirt', 'Bag', 'Dress', 'Pullover', 'Dress', 'Dress', 'Coat', 'Dress', 'Sneaker', 'Bag', 'Sneaker', 'Trouser', 'Dress', 'Sneaker', 'Bag', 'Ankle boot', 'Sandal', 'Sandal', 'Pullover', 'Pullover', 'Coat', 'Sandal', 'T-shirt/top', 'Bag', 'T-shirt/top', 'Dress', 'Shirt', 'T-shirt/top', 'Bag', 'Bag', 'Ankle boot', 'Shirt', 'Ankle boot', 'Trouser', 'Sandal', 'Trouser', 'Pullover', 'Trouser', 'Dress', 'Pullover', 'Pullover', 'Pullover', 'Coat', 'Sandal', 'Sneaker', 'Sandal', 'Ankle boot', 'Pullover', 'T-shirt/top', 'Sandal', 'Sneaker', 'T-shirt/top', 'Sandal', 'Shirt', 'Sandal', 'Shirt', 'Shirt', 'Coat', 'T-shirt/top', 'Sneaker', 'Trouser', 'Sandal', 'Pullover', 'Ankle boot', 'Bag', 'Trouser', 'Sneaker', 'Shirt', 'Coat', 'Coat', 'T-shirt/top', 'Sneaker', 'Trouser', 'Bag', 'Sandal', 'Sneaker', 'Bag', 'Sandal', 'Sandal', 'Trouser', 'Bag', 'Sandal', 'Ankle boot', 'Sneaker', 'Sneaker', 'Shirt', 'Sandal', 'Pullover', 'Pullover', 'Trouser', 'Pullover', 'Coat', 'Coat', 'Trouser', 'Shirt', 'Dress', 'Ankle boot', 'Trouser', 'Bag', 'Pullover', 'Dress', 'Sneaker', 'Shirt', 'Ankle boot', 'Sandal', 'Sneaker', 'Coat', 'Dress', 'Ankle boot', 'Sandal', 'Shirt', 'Pullover', 'Pullover', 'Sneaker', 'Dress', 'Ankle boot', 'Dress', 'T-shirt/top', 'Sandal', 'Ankle boot', 'T-shirt/top', 'Ankle boot', 'Shirt', 'Shirt', 'Shirt', 'Sandal', 'Ankle boot', 'Trouser', 'Shirt', 'Sandal', 'Pullover', 'T-shirt/top', 'Pullover', 'Dress', 'Trouser', 'Trouser', 'Trouser', 'Sneaker', 'Shirt', 'Pullover', 'Shirt', 'Sandal', 'Ankle boot', 'Bag', 'Sneaker', 'Ankle boot', 'Dress', 'Pullover', 'Sneaker', 'Ankle boot', 'Pullover', 'T-shirt/top', 'Trouser', 'Trouser', 'Trouser', 'Coat', 'Bag', 'T-shirt/top', 'Bag', 'T-shirt/top', 'Ankle boot', 'Sandal', 'Shirt', 'Sneaker', 'T-shirt/top', 'Bag', 'Coat', 'Coat', 'Coat', 'Pullover', 'Pullover', 'Pullover', 'Sandal', 'Sneaker', 'Pullover', 'Ankle boot', 'Ankle boot', 'Pullover', 'Pullover', 'Pullover', 'T-shirt/top', 'Sneaker', 'Coat', 'Sandal', 'Pullover', 'Dress', 'Dress', 'Trouser', 'Ankle boot', 'Bag', 'Trouser', 'Bag', 'Shirt', 'Shirt', 'Dress', 'Ankle boot', 'Trouser', 'Ankle boot', 'Sneaker', 'Pullover', 'Ankle boot', 'T-shirt/top', 'Ankle boot', 'Dress', 'T-shirt/top', 'Coat', 'Pullover', 'Dress', 'Coat', 'Shirt', 'Shirt', 'Ankle boot', 'Shirt', 'Trouser', 'Trouser', 'T-shirt/top', 'Sandal', 'Shirt', 'Sneaker', 'T-shirt/top', 'Coat', 'Trouser', 'Trouser', 'Ankle boot', 'T-shirt/top', 'T-shirt/top', 'Trouser', 'Ankle boot', 'Shirt', 'Sneaker', 'Dress', 'Sandal', 'Coat', 'Trouser', 'Pullover', 'T-shirt/top', 'Coat', 'T-shirt/top', 'Dress', 'T-shirt/top', 'Pullover', 'Dress', 'Sandal', 'Ankle boot', 'Sandal', 'Bag', 'Ankle boot', 'Dress', 'Trouser', 'Sneaker', 'Bag', 'Ankle boot', 'Coat', 'Trouser', 'Trouser', 'Ankle boot', 'T-shirt/top', 'Sneaker', 'T-shirt/top', 'T-shirt/top', 'Ankle boot', 'Shirt', 'T-shirt/top', 'Pullover', 'Ankle boot', 'Shirt', 'Bag', 'Sandal', 'Sandal', 'Ankle boot', 'Dress', 'Dress', 'Sandal', 'Sneaker', 'Trouser', 'Pullover', 'Dress', 'Dress', 'Sandal', 'Shirt', 'Shirt', 'Coat', 'Trouser', 'Trouser', 'Ankle boot', 'Trouser', 'Shirt', 'Shirt', 'Shirt', 'Pullover', 'Pullover', 'Shirt', 'Shirt', 'Shirt', 'Dress', 'Sandal', 'T-shirt/top', 'Dress', 'T-shirt/top', 'Sandal', 'Trouser', 'Trouser', 'Bag', 'Pullover', 'Sandal', 'Dress', 'Sandal', 'Trouser', 'Coat', 'Coat', 'Dress', 'Trouser', 'Pullover', 'Sneaker', 'Ankle boot', 'Shirt', 'Dress', 'Bag', 'Sandal', 'Shirt', 'Shirt', 'Ankle boot', 'Trouser', 'Sandal', 'Sneaker', 'Sneaker', 'Coat', 'Pullover', 'Pullover', 'Sneaker', 'Sandal', 'Coat', 'Trouser', 'Sandal', 'Sneaker', 'Sneaker', 'Bag', 'Pullover', 'Bag', 'Dress', 'Sneaker', 'Coat', 'Shirt', 'Pullover', 'Ankle boot', 'Ankle boot', 'T-shirt/top', 'T-shirt/top', 'Sneaker', 'Dress', 'Trouser', 'T-shirt/top', 'Bag', 'Pullover', 'Coat', 'Coat', 'Shirt', 'Sneaker', 'Trouser', 'Bag', 'Shirt', 'T-shirt/top', 'Dress', 'Coat', 'T-shirt/top', 'Dress', 'Ankle boot', 'Bag', 'T-shirt/top', 'T-shirt/top', 'Bag', 'Dress', 'Ankle boot', 'Pullover', 'Trouser', 'Sandal', 'Coat', 'Sandal', 'T-shirt/top', 'Bag', 'Coat', 'Pullover', 'Sandal', 'Ankle boot', 'Dress', 'T-shirt/top', 'Pullover', 'Sneaker', 'Bag', 'Sandal', 'Ankle boot', 'Sandal', 'T-shirt/top', 'T-shirt/top', 'Shirt', 'Ankle boot', 'Sneaker', 'Pullover', 'Ankle boot', 'Pullover', 'Pullover', 'Shirt', 'Coat', 'T-shirt/top', 'Trouser', 'Coat', 'Dress', 'Ankle boot', 'Coat', 'T-shirt/top', 'Dress', 'Coat', 'Coat', 'Shirt', 'Ankle boot', 'Coat', 'Sneaker', 'Pullover', 'Sandal', 'Coat', 'Dress', 'Coat', 'Sandal', 'Sneaker', 'T-shirt/top', 'Pullover', 'Trouser', 'Trouser', 'Bag', 'Sneaker', 'Dress', 'Pullover', 'Shirt', 'Sandal', 'Pullover', 'Dress', 'Bag', 'Bag', 'Bag', 'Ankle boot', 'Dress', 'Shirt', 'Ankle boot', 'Shirt', 'T-shirt/top', 'Dress', 'Shirt', 'Coat', 'Pullover', 'Bag', 'Bag', 'Sandal', 'Ankle boot', 'Pullover', 'Sneaker', 'Trouser', 'Ankle boot', 'T-shirt/top', 'Dress', 'Dress', 'Dress', 'Pullover', 'Dress', 'Ankle boot', 'Ankle boot', 'Sandal', 'Dress', 'Pullover', 'Coat', 'Pullover', 'Coat', 'Shirt', 'Coat', 'Sandal', 'Dress', 'Coat', 'Ankle boot', 'Bag', 'Sandal', 'Bag', 'Dress', 'Coat', 'Trouser', 'Coat', 'Bag', 'Ankle boot', 'Pullover', 'Shirt', 'Pullover', 'Dress', 'Sandal', 'T-shirt/top', 'Dress', 'Sandal', 'Pullover', 'Sandal', 'Dress', 'Ankle boot', 'Trouser', 'Pullover', 'Ankle boot', 'Bag', 'Ankle boot', 'Dress', 'Bag', 'Bag', 'Sandal', 'Sandal', 'Bag', 'Coat', 'Coat', 'T-shirt/top', 'Bag', 'Dress', 'Shirt', 'Coat', 'Ankle boot', 'Shirt', 'Trouser', 'T-shirt/top', 'Sandal', 'Trouser', 'Coat', 'T-shirt/top', 'Ankle boot', 'Pullover', 'Shirt', 'Dress', 'Shirt', 'Sneaker', 'Coat', 'Shirt', 'Coat', 'Dress', 'Bag', 'Sandal', 'Trouser', 'Bag', 'Dress', 'Coat', 'Pullover', 'Sandal', 'Shirt', 'T-shirt/top', 'Sneaker', 'Bag', 'Sneaker', 'Coat', 'Coat', 'Pullover', 'Pullover', 'Ankle boot', 'Dress', 'Sandal', 'T-shirt/top', 'Ankle boot', 'Ankle boot', 'T-shirt/top', 'Trouser', 'Dress', 'Sneaker', 'Trouser', 'Ankle boot', 'Shirt', 'Sandal', 'Pullover', 'Shirt', 'Ankle boot', 'Sandal', 'Sneaker', 'Ankle boot', 'Coat', 'Pullover', 'Bag', 'Dress', 'Trouser', 'Sneaker', 'Bag', 'Bag', 'Shirt', 'Bag', 'T-shirt/top', 'Sandal', 'Sandal', 'Sneaker', 'Trouser', 'Ankle boot', 'Shirt', 'Pullover', 'Trouser', 'Sandal', 'Trouser', 'Ankle boot', 'Shirt', 'Trouser', 'Shirt', 'Dress', 'Pullover', 'Sandal', 'Dress', 'Ankle boot', 'Dress', 'Sandal', 'Coat', 'T-shirt/top', 'Shirt', 'Ankle boot', 'Sandal', 'Coat', 'Pullover', 'Dress', 'Bag', 'Sandal', 'Bag', 'Dress', 'Shirt', 'Coat', 'Trouser', 'Coat', 'Ankle boot', 'Sandal', 'Bag', 'Ankle boot', 'Sneaker', 'Dress', 'Shirt', 'Ankle boot', 'Sandal', 'Ankle boot', 'Trouser', 'Trouser', 'Trouser', 'Bag', 'Coat', 'Trouser', 'Coat', 'Shirt', 'Ankle boot', 'Ankle boot', 'Bag', 'Ankle boot', 'Sneaker', 'Coat', 'Coat', 'Trouser', 'Ankle boot', 'Ankle boot', 'Trouser', 'Ankle boot', 'Dress', 'Pullover', 'Dress', 'Sneaker', 'Trouser', 'Trouser', 'Dress', 'Shirt', 'Bag', 'Dress', 'Coat', 'Dress', 'Dress', 'Bag', 'Dress', 'Sneaker', 'Trouser', 'T-shirt/top', 'Dress', 'Bag', 'Coat', 'Sneaker', 'Ankle boot', 'Bag', 'T-shirt/top', 'Dress', 'T-shirt/top', 'Coat', 'Sandal', 'Sneaker', 'Shirt', 'Sneaker', 'Dress', 'Sandal', 'T-shirt/top', 'Pullover', 'Dress', 'Dress', 'Dress', 'T-shirt/top', 'Shirt', 'Coat', 'Coat', 'Coat', 'Coat', 'Coat', 'Ankle boot', 'Ankle boot', 'T-shirt/top', 'Sneaker', 'Coat', 'T-shirt/top', 'Pullover', 'Pullover', 'Trouser', 'Ankle boot', 'Sandal', 'Ankle boot', 'Ankle boot', 'T-shirt/top', 'Sandal', 'Bag', 'Shirt', 'Sneaker', 'Dress', 'Ankle boot', 'Sandal', 'Pullover', 'Bag', 'Ankle boot', 'Sandal', 'Bag', 'T-shirt/top', 'T-shirt/top', 'Dress', 'T-shirt/top', 'Shirt', 'Dress', 'Sneaker', 'Bag', 'T-shirt/top', 'Trouser', 'Pullover', 'Pullover', 'Dress', 'Trouser', 'Trouser', 'Dress', 'Pullover', 'Pullover', 'Sandal', 'Coat', 'Dress', 'Ankle boot', 'Dress', 'Dress', 'Pullover', 'Dress', 'Sneaker', 'Pullover', 'Ankle boot', 'Pullover', 'Trouser', 'Shirt', 'Sneaker', 'Sandal', 'Sandal', 'Ankle boot', 'Pullover', 'Shirt', 'Ankle boot', 'Sneaker', 'Ankle boot', 'Sneaker', 'Coat', 'Trouser', 'Bag', 'Dress', 'Dress', 'Bag', 'T-shirt/top', 'Bag', 'Sneaker', 'T-shirt/top', 'Sneaker', 'Sneaker', 'Ankle boot', 'Shirt', 'Dress', 'T-shirt/top', 'Dress', 'Sneaker', 'Coat', 'Trouser', 'Sandal', 'Pullover', 'T-shirt/top', 'Sandal', 'Bag', 'Shirt', 'Sneaker', 'T-shirt/top', 'Trouser', 'T-shirt/top', 'Sandal', 'Shirt', 'Pullover', 'Trouser', 'Coat', 'Trouser', 'Bag', 'Sneaker', 'Ankle boot', 'Ankle boot', 'Sneaker', 'Dress', 'Pullover', 'Pullover', 'Coat', 'Sneaker', 'Shirt', 'Dress', 'Ankle boot', 'Shirt', 'Dress', 'Ankle boot', 'Sandal', 'Trouser', 'Shirt', 'Ankle boot', 'Pullover', 'Sneaker', 'Coat', 'Dress', 'Sandal', 'Sneaker', 'Pullover', 'Sneaker', 'Pullover', 'Bag', 'Sneaker', 'Sandal', 'Coat', 'Sandal', 'Ankle boot', 'Coat', 'Dress', 'Sandal', 'T-shirt/top', 'Pullover', 'Sandal', 'Sandal', 'Dress', 'Trouser', 'Ankle boot', 'Dress', 'Sneaker', 'Trouser', 'T-shirt/top', 'Dress', 'Coat', 'Coat', 'Pullover', 'Sandal', 'Sneaker', 'Pullover', 'Trouser', 'Trouser', 'Sneaker', 'Sneaker', 'Sneaker', 'T-shirt/top', 'Trouser', 'Shirt', 'Bag', 'Sandal', 'Pullover', 'Sandal', 'Dress', 'Sneaker', 'Bag', 'Sneaker', 'Sneaker', 'T-shirt/top', 'Bag', 'Sandal', 'Shirt', 'Shirt', 'Sandal', 'Sandal', 'Shirt', 'Sneaker', 'Sneaker', 'Ankle boot', 'Sneaker', 'Trouser', 'T-shirt/top', 'T-shirt/top', 'Bag', 'T-shirt/top', 'Coat', 'T-shirt/top', 'Shirt', 'Coat', 'Sandal', 'Sandal', 'T-shirt/top', 'Sandal', 'Dress', 'Shirt', 'Coat', 'Sandal', 'T-shirt/top', 'Sneaker', 'Trouser', 'Bag', 'Sneaker', 'Trouser', 'Dress', 'Pullover', 'T-shirt/top', 'Shirt', 'Sneaker', 'Dress', 'Sneaker', 'Coat', 'Bag', 'T-shirt/top', 'Dress', 'Ankle boot', 'Coat', 'T-shirt/top', 'Dress', 'T-shirt/top', 'Bag', 'Sneaker', 'Dress', 'Dress', 'Shirt', 'Sandal', 'T-shirt/top', 'Trouser', 'Sandal', 'T-shirt/top', 'Ankle boot', 'Ankle boot', 'Trouser', 'Dress', 'T-shirt/top', 'Shirt', 'Trouser', 'Shirt', 'Shirt', 'Sandal', 'Sneaker', 'Pullover', 'Coat', 'T-shirt/top', 'Ankle boot', 'Pullover', 'Shirt', 'Bag', 'Pullover', 'Bag', 'Dress', 'Sneaker', 'Sneaker', 'Dress', 'Dress', 'Ankle boot', 'Sandal', 'Sneaker', 'Shirt', 'T-shirt/top', 'Ankle boot', 'Coat', 'Sandal', 'T-shirt/top', 'Sneaker', 'Pullover', 'Ankle boot', 'Sandal', 'Sandal', 'Bag', 'Sneaker', 'Trouser', 'Ankle boot', 'Sandal', 'Shirt', 'Dress', 'Shirt', 'Dress', 'T-shirt/top', 'Pullover', 'Sneaker', 'Shirt', 'Coat', 'Pullover', 'Sandal', 'Coat', 'Trouser', 'Sandal', 'Sneaker', 'Ankle boot', 'Sneaker', 'Dress', 'Ankle boot', 'Bag', 'T-shirt/top', 'Sandal', 'Trouser', 'Ankle boot', 'Shirt', 'Trouser', 'T-shirt/top', 'Shirt', 'Bag', 'T-shirt/top', 'Sneaker', 'Shirt', 'Ankle boot', 'Bag', 'Bag', 'Coat', 'Coat', 'Coat', 'Trouser', 'Sneaker', 'Sneaker', 'Trouser', 'Trouser', 'Shirt', 'Sneaker', 'Shirt', 'Dress', 'Pullover', 'Bag', 'Sneaker', 'Bag', 'Sneaker', 'Ankle boot', 'Trouser', 'Trouser', 'Dress', 'Bag', 'Ankle boot', 'Sandal', 'Ankle boot', 'Trouser', 'T-shirt/top', 'Shirt', 'Dress', 'Coat', 'Coat', 'Coat', 'Sneaker', 'Trouser', 'Dress', 'T-shirt/top', 'Trouser', 'Sandal', 'Coat', 'Coat', 'Ankle boot', 'Pullover', 'Coat', 'Pullover', 'Pullover', 'Shirt', 'Sneaker', 'Sneaker', 'Shirt', 'Sneaker', 'Trouser', 'Coat', 'T-shirt/top', 'Bag', 'Dress', 'Dress', 'Sandal', 'Shirt', 'T-shirt/top', 'Bag', 'Dress', 'T-shirt/top', 'Pullover', 'T-shirt/top', 'Trouser', 'Bag', 'Coat', 'T-shirt/top', 'Pullover', 'Ankle boot', 'Sandal', 'Coat', 'Coat', 'Sandal', 'Pullover', 'Trouser', 'Shirt', 'Coat', 'Shirt', 'Sandal', 'Bag', 'T-shirt/top', 'Sneaker', 'Dress', 'Pullover', 'Shirt', 'Sneaker', 'Pullover', 'Pullover', 'Dress', 'Shirt', 'Shirt', 'Pullover', 'T-shirt/top', 'Dress', 'Pullover', 'Sandal', 'Trouser', 'Sneaker', 'Sandal', 'Pullover', 'Sandal', 'Sneaker', 'Sneaker', 'Ankle boot', 'Ankle boot', 'Ankle boot', 'Pullover', 'T-shirt/top', 'Ankle boot', 'Pullover', 'T-shirt/top', 'Sandal', 'Sandal', 'Sandal', 'T-shirt/top', 'Sandal', 'T-shirt/top', 'Shirt', 'Shirt', 'T-shirt/top', 'Shirt', 'Ankle boot', 'Ankle boot', 'Pullover', 'Coat', 'Sandal', 'Coat', 'T-shirt/top', 'Trouser', 'T-shirt/top', 'Bag', 'Ankle boot', 'Sandal', 'Sneaker', 'Dress', 'T-shirt/top', 'Pullover', 'Coat', 'Trouser', 'Dress', 'Bag', 'Trouser', 'Bag', 'Pullover', 'T-shirt/top', 'Shirt', 'Ankle boot', 'Bag', 'Sandal', 'Trouser', 'Pullover', 'Coat', 'T-shirt/top', 'Ankle boot', 'Shirt', 'Bag', 'Bag', 'T-shirt/top', 'Sneaker', 'Trouser', 'Shirt', 'Ankle boot', 'Bag', 'Ankle boot', 'Ankle boot', 'Coat', 'Ankle boot', 'Shirt', 'Dress', 'Dress', 'Coat', 'Sandal', 'T-shirt/top', 'Bag', 'T-shirt/top', 'Coat', 'T-shirt/top', 'Dress', 'T-shirt/top', 'T-shirt/top', 'T-shirt/top', 'Dress', 'Dress', 'Sandal', 'Ankle boot', 'Coat', 'Sneaker', 'Trouser', 'Sandal', 'Coat', 'Trouser', 'Shirt', 'Trouser', 'Sneaker', 'Ankle boot', 'Coat', 'Dress', 'Coat', 'Sandal', 'Pullover', 'Ankle boot', 'Coat', 'Ankle boot', 'Bag', 'Bag', 'Sneaker', 'Coat', 'Pullover', 'Dress', 'Ankle boot', 'Dress', 'Shirt', 'Sneaker', 'T-shirt/top', 'Pullover', 'Sneaker', 'T-shirt/top', 'Shirt', 'Trouser', 'T-shirt/top', 'Sandal', 'Sneaker', 'T-shirt/top', 'Sandal', 'Ankle boot', 'Coat', 'Dress', 'Pullover', 'Bag', 'Sandal', 'Bag', 'Trouser', 'Ankle boot', 'Shirt', 'Sneaker', 'Shirt', 'Sneaker', 'Dress', 'Shirt', 'Coat', 'Sandal', 'Trouser', 'Bag', 'Bag', 'Bag', 'Sneaker', 'Coat', 'Shirt', 'Sandal', 'Trouser', 'Sandal', 'Ankle boot', 'Shirt', 'T-shirt/top', 'Ankle boot', 'Sandal', 'Bag', 'Sandal', 'Sneaker', 'Dress', 'Ankle boot', 'Bag', 'Dress', 'Coat', 'Shirt', 'Sandal', 'Sneaker', 'Sandal', 'Trouser', 'Trouser', 'Sandal', 'Coat', 'Trouser', 'Bag', 'Sandal', 'Bag', 'Pullover', 'Ankle boot', 'Shirt', 'Dress', 'Dress', 'Coat', 'T-shirt/top', 'Pullover', 'Coat', 'Trouser', 'Trouser', 'Shirt', 'Sneaker', 'Dress', 'Ankle boot', 'T-shirt/top', 'Pullover', 'Bag', 'Bag', 'Bag', 'Shirt', 'Sneaker', 'Sneaker', 'Trouser', 'Pullover', 'Shirt', 'Shirt', 'Trouser', 'Shirt', 'T-shirt/top', 'Pullover', 'Sandal', 'Bag', 'Pullover', 'Coat', 'Pullover', 'Dress', 'Trouser', 'Sandal', 'Sandal', 'Coat', 'Coat', 'T-shirt/top', 'Sandal', 'Coat', 'Sneaker', 'Shirt', 'Dress', 'Coat', 'Sandal', 'Sandal', 'Sneaker', 'Sandal', 'Sneaker', 'T-shirt/top', 'Trouser', 'Trouser', 'Ankle boot', 'Sneaker', 'Sandal', 'T-shirt/top', 'Trouser', 'Ankle boot', 'Shirt', 'Dress', 'Shirt', 'Sandal', 'Coat', 'Dress', 'Shirt', 'Sandal', 'Sneaker', 'Pullover', 'Pullover', 'Pullover', 'T-shirt/top', 'Sandal', 'Shirt', 'Shirt', 'Dress', 'Sneaker', 'Bag', 'Shirt', 'Pullover', 'Shirt', 'Trouser', 'Trouser', 'Sneaker', 'Sandal', 'Pullover', 'Sandal', 'Dress', 'Coat', 'Bag', 'Sandal', 'Bag', 'Bag', 'Shirt', 'Trouser', 'Pullover', 'Dress', 'Sandal', 'Shirt', 'Ankle boot', 'T-shirt/top', 'Coat', 'Sandal', 'Pullover', 'Dress', 'Coat', 'Ankle boot', 'Sandal', 'Sandal', 'Ankle boot', 'Coat', 'Shirt', 'Coat', 'Trouser', 'Trouser', 'Bag', 'Ankle boot', 'Coat', 'Coat', 'Pullover', 'Dress', 'Dress', 'T-shirt/top', 'Sneaker', 'Trouser', 'Bag', 'Bag', 'Sandal', 'T-shirt/top', 'T-shirt/top', 'Sneaker', 'Sneaker', 'Trouser', 'T-shirt/top', 'Trouser', 'Coat', 'Trouser', 'Ankle boot', 'T-shirt/top', 'Coat', 'Trouser', 'Trouser', 'T-shirt/top', 'Sneaker', 'Dress', 'Sneaker', 'Dress', 'Ankle boot', 'T-shirt/top', 'Trouser', 'Bag', 'Ankle boot', 'T-shirt/top', 'T-shirt/top', 'Shirt', 'T-shirt/top', 'Ankle boot', 'Trouser', 'Shirt', 'Trouser', 'Pullover', 'Sneaker', 'Bag', 'T-shirt/top', 'Sandal', 'Shirt', 'Bag', 'Pullover', 'Sandal', 'Sandal', 'Trouser', 'Sandal', 'Ankle boot', 'Trouser', 'Bag', 'Sandal', 'Dress', 'Trouser', 'Shirt', 'Shirt', 'T-shirt/top', 'Sneaker', 'Dress', 'Sandal', 'Coat', 'Bag', 'T-shirt/top', 'Sneaker', 'Trouser', 'Pullover', 'Dress', 'Ankle boot', 'Bag', 'Dress', 'Bag', 'Sneaker', 'Sneaker', 'Ankle boot', 'Sneaker', 'T-shirt/top', 'Ankle boot', 'Coat', 'T-shirt/top', 'Ankle boot', 'Shirt', 'Trouser', 'Ankle boot', 'Bag', 'Shirt', 'Dress', 'Sneaker', 'Coat', 'Ankle boot', 'Sandal', 'Coat', 'Sneaker', 'Trouser', 'Pullover', 'Trouser', 'Pullover', 'Dress', 'Ankle boot', 'Pullover', 'T-shirt/top', 'Sandal', 'T-shirt/top', 'T-shirt/top', 'Sandal', 'Sandal', 'Coat', 'T-shirt/top', 'Ankle boot', 'Ankle boot', 'Trouser', 'Shirt', 'Sneaker', 'Sneaker', 'Sneaker', 'Coat', 'Sandal', 'Trouser', 'Pullover', 'T-shirt/top', 'Shirt', 'Dress', 'Bag', 'Ankle boot', 'Bag', 'Coat', 'Trouser', 'T-shirt/top', 'Bag', 'Dress', 'Ankle boot', 'Bag', 'Bag', 'Sneaker', 'Bag', 'Dress', 'T-shirt/top', 'T-shirt/top', 'Sneaker', 'Coat', 'Bag', 'Shirt', 'Ankle boot', 'Ankle boot', 'Coat', 'Sandal', 'Sneaker', 'Pullover', 'Pullover', 'Trouser', 'Sandal', 'Dress', 'Coat', 'T-shirt/top', 'Sandal', 'Sandal', 'T-shirt/top', 'Bag', 'Coat', 'Sneaker', 'Bag', 'Ankle boot', 'Coat', 'Pullover', 'Trouser', 'Sneaker', 'Coat', 'Coat', 'Coat', 'Ankle boot', 'Coat', 'Dress', 'Shirt', 'T-shirt/top', 'Sneaker', 'Sneaker', 'Bag', 'T-shirt/top', 'Ankle boot', 'Trouser', 'Pullover', 'Shirt', 'Pullover', 'Ankle boot', 'Sneaker', 'Trouser', 'Ankle boot', 'Sneaker', 'Dress', 'Dress', 'Trouser', 'Pullover', 'Dress', 'Sandal', 'Coat', 'Dress', 'Sneaker', 'Coat', 'Trouser', 'Coat', 'Shirt', 'Shirt', 'Sneaker', 'Sandal', 'Coat', 'Shirt', 'Sneaker', 'Ankle boot', 'Bag', 'Trouser', 'Bag', 'Trouser', 'Pullover', 'Pullover', 'Sandal', 'Sandal', 'Shirt', 'Trouser', 'Coat', 'Shirt', 'Shirt', 'Trouser', 'Pullover', 'T-shirt/top', 'Sneaker', 'Shirt', 'Bag', 'Bag', 'Pullover', 'Bag', 'Coat', 'Sandal', 'T-shirt/top', 'T-shirt/top', 'Trouser', 'Sneaker', 'Ankle boot', 'Sneaker', 'Coat', 'Ankle boot', 'Coat', 'T-shirt/top', 'Pullover', 'Bag', 'Sneaker', 'Trouser', 'T-shirt/top', 'Bag', 'Sneaker', 'Shirt', 'Bag', 'Coat', 'Bag', 'Pullover', 'Bag', 'T-shirt/top', 'Trouser', 'Sandal', 'Dress', 'Bag', 'Trouser', 'Sneaker', 'Coat', 'Ankle boot', 'Dress', 'Sneaker', 'Ankle boot', 'Sandal', 'Trouser', 'Bag', 'Dress', 'T-shirt/top', 'Ankle boot', 'Dress', 'Shirt', 'Pullover', 'Coat', 'Pullover', 'Sneaker', 'Shirt', 'Pullover', 'Ankle boot', 'Bag', 'Bag', 'Trouser', 'Sandal', 'Sneaker', 'Sneaker', 'Trouser', 'Ankle boot', 'Sandal', 'Coat', 'Trouser', 'T-shirt/top', 'Sneaker', 'Bag', 'Sneaker', 'Dress', 'Sneaker', 'Shirt', 'Pullover', 'Sandal', 'Sandal', 'Coat', 'Shirt', 'Sneaker', 'Pullover', 'Shirt', 'Dress', 'Pullover', 'T-shirt/top', 'Coat', 'Sneaker', 'Bag', 'Shirt', 'Shirt', 'T-shirt/top', 'Trouser', 'Sandal', 'Dress', 'Bag', 'Dress', 'Ankle boot', 'Sneaker', 'Trouser', 'Sneaker', 'Trouser', 'T-shirt/top', 'Dress', 'Bag', 'Sandal', 'T-shirt/top', 'T-shirt/top', 'Shirt', 'Coat', 'Trouser', 'Trouser', 'Pullover', 'Ankle boot', 'T-shirt/top', 'Shirt', 'Pullover', 'Trouser', 'Dress', 'Pullover', 'Sneaker', 'Shirt', 'Trouser', 'Bag', 'Sandal', 'Sneaker', 'Pullover', 'T-shirt/top', 'Sandal', 'T-shirt/top', 'Coat', 'Shirt', 'Pullover', 'Pullover', 'Sandal', 'Coat', 'Trouser', 'Bag', 'Pullover', 'Trouser', 'Sandal', 'Dress', 'Bag', 'Bag', 'Ankle boot', 'Ankle boot', 'T-shirt/top', 'Trouser', 'Bag', 'Trouser', 'Coat', 'Ankle boot', 'T-shirt/top', 'Dress', 'Trouser', 'Trouser', 'Coat', 'Sneaker', 'Bag', 'Dress', 'Coat', 'Ankle boot', 'Shirt', 'Shirt', 'Bag', 'Dress', 'Bag', 'Pullover', 'Ankle boot', 'Coat', 'Sneaker', 'Sneaker', 'T-shirt/top', 'Dress', 'T-shirt/top', 'Pullover', 'Sandal', 'Sneaker', 'Dress', 'Sneaker', 'Coat', 'Shirt', 'T-shirt/top', 'Ankle boot', 'Dress', 'Shirt', 'Sandal', 'Coat', 'Trouser', 'Pullover', 'Trouser', 'Bag', 'Trouser', 'Ankle boot', 'Coat', 'Bag', 'Ankle boot', 'Ankle boot', 'Dress', 'Dress', 'Sneaker', 'T-shirt/top', 'Shirt', 'Shirt', 'Trouser', 'Shirt', 'Shirt', 'Shirt', 'Coat', 'Pullover', 'Pullover', 'Sneaker', 'T-shirt/top', 'Shirt', 'Trouser', 'Pullover', 'T-shirt/top', 'T-shirt/top', 'Trouser', 'Shirt', 'T-shirt/top', 'Dress', 'Sandal', 'Sneaker', 'Ankle boot', 'Trouser', 'Shirt', 'Dress', 'Sneaker', 'Sandal', 'Trouser', 'Pullover', 'Sneaker', 'Sneaker', 'Sandal', 'Bag', 'T-shirt/top', 'Ankle boot', 'Trouser', 'T-shirt/top', 'Trouser', 'Shirt', 'Ankle boot', 'Trouser', 'Shirt', 'Sandal', 'Dress', 'Dress', 'T-shirt/top', 'Sneaker', 'Trouser', 'Pullover', 'Sneaker', 'Ankle boot', 'Dress', 'Sneaker', 'Coat', 'Coat', 'Coat', 'Shirt', 'Sneaker', 'Coat', 'Sneaker', 'Dress', 'Trouser', 'Sneaker', 'Bag', 'Bag', 'Sneaker', 'T-shirt/top', 'Trouser', 'Coat', 'T-shirt/top', 'Ankle boot', 'Sneaker', 'Ankle boot', 'Ankle boot', 'Trouser', 'Pullover', 'T-shirt/top', 'Coat', 'Sneaker', 'Coat', 'Dress', 'Coat', 'Trouser', 'Sneaker', 'Sandal', 'Sneaker', 'T-shirt/top', 'Ankle boot', 'T-shirt/top', 'T-shirt/top', 'Dress', 'Trouser', 'Coat', 'Sneaker', 'Ankle boot', 'Dress', 'Shirt', 'Sneaker', 'Bag', 'Coat', 'Sneaker', 'Coat', 'T-shirt/top', 'Bag', 'Dress', 'T-shirt/top', 'Trouser', 'Sneaker', 'Ankle boot', 'Shirt', 'Ankle boot', 'Trouser', 'Coat', 'Shirt', 'Sneaker', 'Trouser', 'T-shirt/top', 'Shirt', 'Dress', 'Sneaker', 'Dress', 'Trouser', 'Bag', 'Shirt', 'Sandal', 'Ankle boot', 'Sandal', 'Bag', 'Trouser', 'T-shirt/top', 'Ankle boot', 'Pullover', 'Shirt', 'Pullover', 'Trouser', 'Trouser', 'Coat', 'Sneaker', 'Dress', 'T-shirt/top', 'Sneaker', 'Sandal', 'Bag', 'Ankle boot', 'Sandal', 'Coat', 'T-shirt/top', 'Coat', 'Sneaker', 'Pullover', 'Dress', 'Bag', 'Dress', 'Bag', 'Trouser', 'Trouser', 'Pullover', 'Coat', 'Bag', 'Trouser', 'Shirt', 'Bag', 'Trouser', 'Bag', 'Sandal', 'Dress', 'Pullover', 'Sneaker', 'Pullover', 'Pullover', 'Coat', 'Ankle boot', 'Shirt', 'T-shirt/top', 'Coat', 'Ankle boot', 'Ankle boot', 'Shirt', 'Ankle boot', 'Ankle boot', 'Shirt', 'Sneaker', 'Dress', 'Coat', 'Dress', 'Dress', 'Ankle boot', 'Coat', 'Sneaker', 'Sneaker', 'Bag', 'Trouser', 'Trouser', 'Shirt', 'Shirt', 'Sandal', 'Sneaker', 'Ankle boot', 'Coat', 'Sneaker', 'Shirt', 'Sneaker', 'T-shirt/top', 'T-shirt/top', 'Pullover', 'Ankle boot', 'Ankle boot', 'Sneaker', 'Sneaker', 'Sandal', 'T-shirt/top', 'Trouser', 'Coat', 'Dress', 'Coat', 'Shirt', 'Coat', 'T-shirt/top', 'Ankle boot', 'Bag', 'Sneaker', 'Bag', 'Coat', 'Coat', 'Bag', 'Ankle boot', 'Sneaker', 'Trouser', 'Shirt', 'Sneaker', 'Ankle boot', 'Ankle boot', 'T-shirt/top', 'Trouser', 'Sandal', 'Trouser', 'Trouser', 'Dress', 'Shirt', 'Sneaker', 'Ankle boot', 'Bag', 'Dress', 'Dress', 'Bag', 'Sandal', 'Pullover', 'Coat', 'Dress', 'Shirt', 'Bag', 'Shirt', 'Ankle boot', 'T-shirt/top', 'Shirt', 'Ankle boot', 'T-shirt/top', 'Trouser', 'Shirt', 'Bag', 'Trouser', 'Bag', 'Pullover', 'Trouser', 'Bag', 'Trouser', 'Sneaker', 'Trouser', 'Ankle boot', 'Trouser', 'Bag', 'T-shirt/top', 'Ankle boot', 'Coat', 'Trouser', 'T-shirt/top', 'Bag', 'Coat', 'Coat', 'Shirt', 'Bag', 'Pullover', 'Pullover', 'Sandal', 'Sandal', 'T-shirt/top', 'Shirt', 'Shirt', 'Ankle boot', 'Bag', 'T-shirt/top', 'Trouser', 'T-shirt/top', 'T-shirt/top', 'Coat', 'Bag', 'Dress', 'Coat', 'Sneaker', 'Sneaker', 'Sandal', 'Ankle boot', 'Pullover', 'Sandal', 'Coat', 'Coat', 'Ankle boot', 'Ankle boot', 'Coat', 'Bag', 'Sneaker', 'Shirt', 'Ankle boot', 'Dress', 'Coat', 'T-shirt/top', 'Coat', 'Bag', 'T-shirt/top', 'Trouser', 'Ankle boot', 'Pullover', 'Trouser', 'Shirt', 'Sneaker', 'Trouser', 'Bag', 'Sandal', 'T-shirt/top', 'Coat', 'Shirt', 'Coat', 'Trouser', 'Trouser', 'Ankle boot', 'Bag', 'Bag', 'Ankle boot', 'Trouser', 'Pullover', 'Shirt', 'T-shirt/top', 'Sandal', 'Pullover', 'Sandal', 'Shirt', 'Bag', 'Dress', 'Shirt', 'Trouser', 'Bag', 'Shirt', 'Trouser', 'Sandal', 'T-shirt/top', 'Dress', 'Dress', 'Trouser', 'Ankle boot', 'Pullover', 'Bag', 'Sneaker', 'Bag', 'Pullover', 'Dress', 'Shirt', 'Pullover', 'Sandal', 'T-shirt/top', 'Ankle boot', 'T-shirt/top', 'Sneaker', 'Trouser', 'Trouser', 'Sneaker', 'Ankle boot', 'Shirt', 'Trouser', 'Shirt', 'Sneaker', 'Sandal', 'Coat', 'Shirt', 'Dress', 'Dress', 'Shirt', 'Trouser', 'Shirt', 'T-shirt/top', 'Ankle boot', 'Ankle boot', 'Bag', 'Pullover', 'Ankle boot', 'Shirt', 'Pullover', 'Sandal', 'Coat', 'Sneaker', 'Pullover', 'Shirt', 'Sandal', 'Shirt', 'T-shirt/top', 'Ankle boot', 'Dress', 'Sneaker', 'T-shirt/top', 'Pullover', 'Dress', 'Sandal', 'Shirt', 'Coat', 'Dress', 'Coat', 'Shirt', 'Ankle boot', 'Bag', 'Bag', 'Dress', 'Pullover', 'T-shirt/top', 'T-shirt/top', 'Dress', 'Ankle boot', 'Pullover', 'Pullover', 'Bag', 'Trouser', 'Ankle boot', 'Pullover', 'Coat', 'Ankle boot', 'Dress', 'Shirt', 'Pullover', 'T-shirt/top', 'Shirt', 'Sneaker', 'T-shirt/top', 'Sandal', 'T-shirt/top', 'Shirt', 'Dress', 'Trouser', 'Dress', 'T-shirt/top', 'Ankle boot', 'Sandal', 'Coat', 'Dress', 'Sneaker', 'T-shirt/top', 'Shirt', 'Pullover', 'Ankle boot', 'T-shirt/top', 'Sneaker', 'Shirt', 'Sandal', 'Shirt', 'Bag', 'Pullover', 'Trouser', 'T-shirt/top', 'Shirt', 'Shirt', 'Sandal', 'Ankle boot', 'Dress', 'Sandal', 'T-shirt/top', 'Shirt', 'T-shirt/top', 'Sneaker', 'Coat', 'Shirt', 'Bag', 'Dress', 'Dress', 'Bag', 'Shirt', 'Dress', 'Bag', 'Ankle boot', 'Coat', 'T-shirt/top', 'Bag', 'Bag', 'Dress', 'Bag', 'T-shirt/top', 'Sneaker', 'Sneaker', 'T-shirt/top', 'Dress', 'Shirt', 'Bag', 'Trouser', 'Sandal', 'Ankle boot', 'Shirt', 'Pullover', 'Bag', 'Ankle boot', 'T-shirt/top', 'Trouser', 'T-shirt/top', 'Sandal', 'Sandal', 'Pullover', 'Pullover', 'Bag', 'Pullover', 'Dress', 'Shirt', 'Sneaker', 'Coat', 'Sandal', 'Dress', 'Sneaker', 'Coat', 'Sandal', 'Bag', 'Bag', 'Dress', 'Ankle boot', 'Sandal', 'T-shirt/top', 'Shirt', 'Pullover', 'Shirt', 'Dress', 'Shirt', 'Shirt', 'Ankle boot', 'Pullover', 'Sandal', 'Shirt', 'Sandal', 'Shirt', 'Dress', 'Trouser', 'Sneaker', 'Bag', 'T-shirt/top', 'Coat', 'Sneaker', 'Dress', 'Dress', 'Bag', 'Shirt', 'T-shirt/top', 'Ankle boot', 'Pullover', 'Bag', 'Sandal', 'Coat', 'Ankle boot', 'Shirt', 'Shirt', 'Coat', 'Pullover', 'T-shirt/top', 'Trouser', 'Trouser', 'Ankle boot', 'Dress', 'Bag', 'Pullover', 'Trouser', 'Ankle boot', 'Sandal', 'Bag', 'Coat', 'Bag', 'Pullover', 'Dress', 'Sandal', 'Dress', 'Shirt', 'Coat', 'Ankle boot', 'Pullover', 'Shirt', 'Pullover', 'Ankle boot', 'Bag', 'T-shirt/top', 'Sandal', 'Ankle boot', 'Pullover', 'Coat', 'Sandal', 'Pullover', 'Trouser', 'T-shirt/top', 'Sneaker', 'Coat', 'Coat', 'Pullover', 'Sneaker', 'Coat', 'T-shirt/top', 'Shirt', 'Shirt', 'Trouser', 'Sandal', 'Coat', 'T-shirt/top', 'Trouser', 'Ankle boot', 'Ankle boot', 'Sandal', 'Shirt', 'Sandal', 'Pullover', 'Ankle boot', 'Shirt', 'Shirt', 'Coat', 'Sandal', 'Coat', 'Bag', 'Ankle boot', 'T-shirt/top', 'Ankle boot', 'Sandal', 'Sandal', 'Sandal', 'Sneaker', 'Ankle boot', 'Dress', 'Dress', 'Bag', 'Coat', 'Dress', 'Ankle boot', 'Dress', 'Trouser', 'T-shirt/top', 'Pullover', 'Sandal', 'Pullover', 'Bag', 'Sneaker', 'Ankle boot', 'Sneaker', 'Sneaker', 'Sneaker', 'Ankle boot', 'Pullover', 'T-shirt/top', 'T-shirt/top', 'Shirt', 'Sneaker', 'Shirt', 'Trouser', 'Bag', 'T-shirt/top', 'Dress', 'Bag', 'Sandal', 'T-shirt/top', 'Sandal', 'Shirt', 'Ankle boot', 'Trouser', 'Trouser', 'Pullover', 'Shirt', 'Bag', 'Ankle boot', 'Sneaker', 'Sneaker', 'Sandal', 'Bag', 'Shirt', 'Trouser', 'Coat', 'T-shirt/top', 'Trouser', 'Bag', 'Coat', 'Dress', 'Coat', 'Sneaker', 'Ankle boot', 'Dress', 'Sneaker', 'Sandal', 'Sandal', 'T-shirt/top', 'Ankle boot', 'Trouser', 'Pullover', 'Trouser', 'Pullover', 'Sneaker', 'Shirt', 'T-shirt/top', 'Ankle boot', 'Dress', 'Pullover', 'Trouser', 'Trouser', 'Sneaker', 'Bag', 'Trouser', 'Shirt', 'Sandal', 'Ankle boot', 'T-shirt/top', 'T-shirt/top', 'Ankle boot', 'Sandal', 'Dress', 'Bag', 'Bag', 'Pullover', 'Bag', 'Sandal', 'Sneaker', 'T-shirt/top', 'Sneaker', 'T-shirt/top', 'Ankle boot', 'Shirt', 'Ankle boot', 'Pullover', 'Ankle boot', 'Coat', 'Bag', 'Sandal', 'Pullover', 'T-shirt/top', 'Trouser', 'Shirt', 'Shirt', 'Trouser', 'Sneaker', 'Shirt', 'Trouser', 'Sneaker', 'Sneaker', 'Bag', 'Sandal', 'Sneaker', 'T-shirt/top', 'Shirt', 'Coat', 'Pullover', 'Trouser', 'Shirt', 'Bag', 'T-shirt/top', 'T-shirt/top', 'Pullover', 'Sneaker', 'Sandal', 'Ankle boot', 'Trouser', 'T-shirt/top', 'Coat', 'Dress', 'Sneaker', 'Shirt', 'Shirt', 'Dress', 'Trouser', 'Bag', 'Coat', 'Sneaker', 'Pullover', 'Sandal', 'Ankle boot', 'Dress', 'Trouser', 'Bag', 'Trouser', 'Ankle boot', 'Pullover', 'Ankle boot', 'Shirt', 'Pullover', 'Pullover', 'Trouser', 'Bag', 'Dress', 'Ankle boot', 'Bag', 'Pullover', 'T-shirt/top', 'Coat', 'Bag', 'Coat', 'Sandal', 'Trouser', 'Pullover', 'Pullover', 'Shirt', 'Coat', 'Trouser', 'Bag', 'Sandal', 'Sneaker', 'Sneaker', 'Sneaker', 'Dress', 'Sandal', 'Sandal', 'Sneaker', 'Ankle boot', 'Ankle boot', 'Bag', 'Pullover', 'Bag', 'Pullover', 'Trouser', 'Dress', 'Dress', 'Coat', 'Bag', 'Ankle boot', 'Coat', 'T-shirt/top', 'Sneaker', 'Shirt', 'Pullover', 'Bag', 'Trouser', 'T-shirt/top', 'Shirt', 'Trouser', 'Shirt', 'Sandal', 'Pullover', 'Ankle boot', 'Sneaker', 'Pullover', 'Bag', 'Sneaker', 'Dress', 'Sneaker', 'Bag', 'Trouser', 'Pullover', 'Trouser', 'Sneaker', 'Coat', 'Bag', 'Bag', 'Sandal', 'T-shirt/top', 'Pullover', 'Shirt', 'Shirt', 'Trouser', 'Pullover', 'Shirt', 'Sandal', 'T-shirt/top', 'Trouser', 'Sandal', 'Sandal', 'Pullover', 'Sandal', 'Trouser', 'Ankle boot', 'Bag', 'Sneaker', 'Trouser', 'Pullover', 'Sneaker', 'T-shirt/top', 'Ankle boot', 'Dress', 'Trouser', 'Ankle boot', 'T-shirt/top', 'Coat', 'Shirt', 'Shirt', 'Sandal', 'Ankle boot', 'Ankle boot', 'Coat', 'Pullover', 'Sneaker', 'Trouser', 'Bag', 'Trouser', 'Coat', 'Pullover', 'Dress', 'Sneaker', 'Bag', 'Coat', 'Shirt', 'Coat', 'Sandal', 'Trouser', 'Pullover', 'Ankle boot', 'Dress', 'Sandal', 'Bag', 'T-shirt/top', 'Trouser', 'Ankle boot', 'Shirt', 'Sneaker', 'Dress', 'Sneaker', 'Coat', 'Coat', 'T-shirt/top', 'Shirt', 'Pullover', 'Trouser', 'Trouser', 'Dress', 'T-shirt/top', 'Sneaker', 'T-shirt/top', 'Sandal', 'Ankle boot', 'Bag', 'Ankle boot', 'Dress', 'Sneaker', 'Ankle boot', 'Ankle boot', 'Coat', 'Bag', 'Bag', 'T-shirt/top', 'Trouser', 'Shirt', 'Coat', 'T-shirt/top', 'Shirt', 'Bag', 'Trouser', 'Shirt', 'Trouser', 'Shirt', 'Dress', 'Pullover', 'Sneaker', 'Bag', 'Sneaker', 'T-shirt/top', 'Coat', 'Dress', 'Coat', 'Coat', 'Sandal', 'Sneaker', 'Ankle boot', 'Pullover', 'Sandal', 'Pullover', 'Coat', 'Sandal', 'T-shirt/top', 'Trouser', 'Sneaker', 'Shirt', 'Sneaker', 'Shirt', 'T-shirt/top', 'T-shirt/top', 'T-shirt/top', 'Sandal', 'Trouser', 'Trouser', 'Pullover', 'Coat', 'Shirt', 'Ankle boot', 'Bag', 'Trouser', 'Shirt', 'Trouser', 'Shirt', 'Bag', 'Sandal', 'Coat', 'T-shirt/top', 'Coat', 'T-shirt/top', 'Coat', 'Ankle boot', 'Dress', 'Bag', 'Sandal', 'Pullover', 'Bag', 'Shirt', 'Pullover', 'Bag', 'T-shirt/top', 'Coat', 'Coat', 'T-shirt/top', 'Bag', 'Sneaker', 'Sandal', 'Pullover', 'Bag', 'Ankle boot', 'Pullover', 'Ankle boot', 'Sandal', 'Ankle boot', 'Pullover', 'Trouser', 'T-shirt/top', 'Coat', 'Trouser', 'Sneaker', 'Sneaker', 'Trouser', 'Sneaker', 'Dress', 'Sandal', 'Bag', 'Sneaker', 'Pullover', 'Sandal', 'Trouser', 'Sandal', 'Pullover', 'T-shirt/top', 'Shirt', 'T-shirt/top', 'Trouser', 'Pullover', 'Coat', 'Coat', 'Bag', 'T-shirt/top', 'Dress', 'Pullover', 'T-shirt/top', 'Dress', 'Sandal', 'Trouser', 'Dress', 'Dress', 'T-shirt/top', 'Sandal', 'Trouser', 'Bag', 'Dress', 'Trouser', 'Bag', 'Sneaker', 'Bag', 'Coat', 'Pullover', 'T-shirt/top', 'T-shirt/top', 'Sneaker', 'Bag', 'Trouser', 'Dress', 'Ankle boot', 'T-shirt/top', 'Pullover', 'Bag', 'Trouser', 'Coat', 'Bag', 'Bag', 'Dress', 'T-shirt/top', 'Bag', 'Sandal', 'Sneaker', 'Sandal', 'Coat', 'Sneaker', 'Sneaker', 'Shirt', 'Trouser', 'Bag', 'Trouser', 'Ankle boot', 'Sneaker', 'T-shirt/top', 'Dress', 'Trouser', 'Shirt', 'Sandal', 'Sandal', 'Dress', 'Bag', 'Ankle boot', 'Coat', 'T-shirt/top', 'Ankle boot', 'Sandal', 'Trouser', 'Sneaker', 'Pullover', 'Trouser', 'Sandal', 'Pullover', 'Bag', 'Dress', 'Dress', 'Shirt', 'Sneaker', 'Trouser', 'Dress', 'Coat', 'Coat', 'Sandal', 'Sneaker', 'T-shirt/top', 'Shirt', 'Sneaker', 'Dress', 'Dress', 'Sneaker', 'Bag', 'Bag', 'Pullover', 'Sandal', 'Shirt', 'Ankle boot', 'Sneaker', 'T-shirt/top', 'Pullover', 'Ankle boot', 'Dress', 'T-shirt/top', 'Sandal', 'Sandal', 'Shirt', 'Ankle boot', 'Trouser', 'Coat', 'Trouser', 'Sandal', 'Shirt', 'Coat', 'Trouser', 'Coat', 'T-shirt/top', 'Dress', 'Dress', 'Shirt', 'Dress', 'T-shirt/top', 'Bag', 'Shirt', 'Sneaker', 'Sandal', 'Sandal', 'Sneaker', 'T-shirt/top', 'Sneaker', 'Ankle boot', 'Coat', 'Coat', 'Pullover', 'Ankle boot', 'Trouser', 'Sneaker', 'Trouser', 'Bag', 'Bag', 'Bag', 'Sandal', 'Bag', 'Dress', 'Bag', 'Ankle boot', 'Dress', 'T-shirt/top', 'T-shirt/top', 'Pullover', 'Trouser', 'Bag', 'Coat', 'Coat', 'T-shirt/top', 'T-shirt/top', 'Ankle boot', 'Sandal', 'Dress', 'Trouser', 'Sandal', 'Trouser', 'Dress', 'Sandal', 'T-shirt/top', 'Pullover', 'Shirt', 'Trouser', 'Sandal', 'Dress', 'T-shirt/top', 'Bag', 'Shirt', 'Ankle boot', 'Shirt', 'Ankle boot', 'Shirt', 'T-shirt/top', 'Coat', 'Trouser', 'Shirt', 'Shirt', 'Coat', 'Ankle boot', 'Trouser', 'Coat', 'Ankle boot', 'Sneaker', 'Bag', 'Pullover', 'Shirt', 'Pullover', 'Ankle boot', 'Sneaker', 'Bag', 'Sandal', 'Shirt', 'Ankle boot', 'Shirt', 'T-shirt/top', 'T-shirt/top', 'Bag', 'Trouser', 'Dress', 'Pullover', 'Sneaker', 'Sandal', 'Bag', 'Coat', 'Sandal', 'Shirt', 'Bag', 'Ankle boot', 'Trouser', 'Ankle boot', 'Trouser', 'Bag', 'Trouser', 'Sandal']\n"
          ]
        }
      ]
    },
    {
      "cell_type": "code",
      "source": [
        "# sidequest: See if required packages are installed and if not, install them...\n",
        "from packaging import version\n",
        "import subprocess\n",
        "\n",
        "try:\n",
        "  import torchmetrics, mlxtend\n",
        "  print(f\"mlxtend version: {mlxtend.__version__}\")\n",
        "  assert version.parse(mlxtend.__version__) >= version.parse(\"0.19.0\"), \"mlextend version should be 0.19.0 or higher\"\n",
        "except AssertionError as e:\n",
        "    print(e)\n",
        "    print(\"Updating mlxtend\")\n",
        "    subprocess.check_call(['pip', 'install', '-U', 'mlxtend'])\n",
        "    print(f\"mlextend updated to version: {mlxtend.__version__}\")\n",
        "    import mlxtend # Re-import after installation\n",
        "except ImportError as e:\n",
        "    print(e)\n",
        "    print(\"Installing torchmetrics...\")\n",
        "    subprocess.check_call(['pip', 'install', '-q', 'torchmetrics'])\n",
        "    print(f\"torchmetrics installed - version: {torchmetrics.__version__} \")\n",
        "    print(\"Importing torchmetrics\")\n",
        "    import torchmetrics # import after installation"
      ],
      "metadata": {
        "colab": {
          "base_uri": "https://localhost:8080/"
        },
        "id": "jPgbabSljXbU",
        "outputId": "11159d29-bfdb-4c7d-d5d2-3b2d40474439"
      },
      "execution_count": 73,
      "outputs": [
        {
          "output_type": "stream",
          "name": "stdout",
          "text": [
            "mlxtend version: 0.23.3\n"
          ]
        }
      ]
    },
    {
      "cell_type": "code",
      "source": [
        "class_names\n",
        "y_pred_tensor"
      ],
      "metadata": {
        "colab": {
          "base_uri": "https://localhost:8080/"
        },
        "id": "UA5pJxZLZldQ",
        "outputId": "1d991856-f0b2-449f-a470-3b667935530b"
      },
      "execution_count": 75,
      "outputs": [
        {
          "output_type": "execute_result",
          "data": {
            "text/plain": [
              "tensor([2, 9, 6,  ..., 5, 6, 2])"
            ]
          },
          "metadata": {},
          "execution_count": 75
        }
      ]
    },
    {
      "cell_type": "code",
      "source": [
        "from torchmetrics import ConfusionMatrix\n",
        "from mlxtend.plotting import plot_confusion_matrix\n",
        "\n",
        "\n",
        "# 2. Setup confusion instance and compare `predictions` to `targets`\n",
        "# Note: PyTorch calls `labels` as `targets`\n",
        "confmat = ConfusionMatrix(num_classes=len(class_names), task=\"multiclass\")\n",
        "confmat_tensor = confmat(preds=y_pred_tensor, target=targets_tensor)\n",
        "\n",
        "# 3. Plot our confusion matrix\n",
        "fig, ax = plot_confusion_matrix(\n",
        "    conf_mat=confmat_tensor.numpy(), # matplotlib likes working with numpy\n",
        "    class_names=class_names,\n",
        "    figsize=(10,7)\n",
        ")"
      ],
      "metadata": {
        "colab": {
          "base_uri": "https://localhost:8080/",
          "height": 667
        },
        "id": "2DALt1Lzf7yN",
        "outputId": "d540736c-0b00-4831-e8a0-bd5d8c0869b9"
      },
      "execution_count": 87,
      "outputs": [
        {
          "output_type": "display_data",
          "data": {
            "text/plain": [
              "<Figure size 1000x700 with 1 Axes>"
            ],
            "image/png": "[encoded data removed]"
          },
          "metadata": {}
        }
      ]
    },
    {
      "cell_type": "markdown",
      "source": [
        "## 11. Save and load best performing model\n"
      ],
      "metadata": {
        "id": "8A4vUMnGf_0c"
      }
    },
    {
      "cell_type": "code",
      "source": [
        "from pathlib import Path\n",
        "\n",
        "# Create model directory path\n",
        "MODEL_PATH = Path(\"models\")\n",
        "MODEL_PATH.mkdir(parents=True,\n",
        "                 exist_ok=True)\n",
        "\n",
        "# Create model save\n",
        "MODEL_NAME = \"03_pytorch_computer_vision_model_2.pth\"\n",
        "MODEL_SAVE_PATH = MODEL_PATH / MODEL_NAME\n",
        "\n",
        "# Save the model state dict\n",
        "print(f\"Saving model to: {MODEL_SAVE_PATH}\")\n",
        "torch.save(obj=model_2.state_dict(),\n",
        "           f=MODEL_SAVE_PATH)\n"
      ],
      "metadata": {
        "colab": {
          "base_uri": "https://localhost:8080/"
        },
        "id": "Vfp__KJPjSER",
        "outputId": "ef278fbd-cdc8-4212-8c73-984f68df88ea"
      },
      "execution_count": 91,
      "outputs": [
        {
          "output_type": "stream",
          "name": "stdout",
          "text": [
            "Saving model to: models/03_pytorch_computer_vision_model_2.pth\n"
          ]
        }
      ]
    },
    {
      "cell_type": "code",
      "source": [
        "# Create a new instance\n",
        "torch.manual_seed(42)\n",
        "\n",
        "loaded_model_2 = FashionMNISTModelV2(input_shape=1,\n",
        "                                     hidden_units=10,\n",
        "                                     output_shape=len(class_names))\n",
        "\n",
        "# Load in the save state_dict()\n",
        "loaded_model_2.load_state_dict(torch.load(f=MODEL_SAVE_PATH))\n",
        "\n",
        "# Send the model to the target device\n",
        "loaded_model_2.to(device)"
      ],
      "metadata": {
        "colab": {
          "base_uri": "https://localhost:8080/"
        },
        "id": "x_11F_sCkzuy",
        "outputId": "102959a1-349c-4273-cec7-ce1919d1d1a4"
      },
      "execution_count": 92,
      "outputs": [
        {
          "output_type": "stream",
          "name": "stderr",
          "text": [
            "<ipython-input-92-d3aa727c7c4d>:9: FutureWarning: You are using `torch.load` with `weights_only=False` (the current default value), which uses the default pickle module implicitly. It is possible to construct malicious pickle data which will execute arbitrary code during unpickling (See https://github.com/pytorch/pytorch/blob/main/SECURITY.md#untrusted-models for more details). In a future release, the default value for `weights_only` will be flipped to `True`. This limits the functions that could be executed during unpickling. Arbitrary objects will no longer be allowed to be loaded via this mode unless they are explicitly allowlisted by the user via `torch.serialization.add_safe_globals`. We recommend you start setting `weights_only=True` for any use case where you don't have full control of the loaded file. Please open an issue on GitHub for any issues related to this experimental feature.\n",
            "  loaded_model_2.load_state_dict(torch.load(f=MODEL_SAVE_PATH))\n"
          ]
        },
        {
          "output_type": "execute_result",
          "data": {
            "text/plain": [
              "FashionMNISTModelV2(\n",
              "  (conv_block_1): Sequential(\n",
              "    (0): Conv2d(1, 10, kernel_size=(3, 3), stride=(1, 1), padding=(1, 1))\n",
              "    (1): ReLU()\n",
              "    (2): Conv2d(10, 10, kernel_size=(3, 3), stride=(1, 1), padding=(1, 1))\n",
              "    (3): ReLU()\n",
              "    (4): MaxPool2d(kernel_size=2, stride=2, padding=0, dilation=1, ceil_mode=False)\n",
              "  )\n",
              "  (conv_block_2): Sequential(\n",
              "    (0): Conv2d(10, 10, kernel_size=(3, 3), stride=(1, 1), padding=(1, 1))\n",
              "    (1): ReLU()\n",
              "    (2): Conv2d(10, 10, kernel_size=(3, 3), stride=(1, 1), padding=(1, 1))\n",
              "    (3): ReLU()\n",
              "    (4): MaxPool2d(kernel_size=2, stride=2, padding=0, dilation=1, ceil_mode=False)\n",
              "  )\n",
              "  (classifier): Sequential(\n",
              "    (0): Flatten(start_dim=1, end_dim=-1)\n",
              "    (1): Linear(in_features=490, out_features=10, bias=True)\n",
              "  )\n",
              ")"
            ]
          },
          "metadata": {},
          "execution_count": 92
        }
      ]
    },
    {
      "cell_type": "code",
      "source": [
        "# Evaluate loaded model\n",
        "\n",
        "print(f\" what's our original model_2_results:\\n {model_2_results}\")\n",
        "\n",
        "torch.manual_seed(42)\n",
        "loaded_model_2_results = eval_model(\n",
        "    model=loaded_model_2,\n",
        "    data_loader=test_dataloader,\n",
        "    loss_fn=loss_fn,\n",
        "    accuracy_fn=accuracy_fn\n",
        ")\n",
        "\n",
        "loaded_model_2_results"
      ],
      "metadata": {
        "colab": {
          "base_uri": "https://localhost:8080/",
          "height": 156,
          "referenced_widgets": [
            "84e16bf6b3a74e8bb132dc1e03d833a9",
            "04a239f8920f46ef8a8c3a164f8d35d9",
            "01c57348ee434c4f934a61e7715b7137",
            "dda6b07e4674444ea7e472ef525cf9db",
            "456985ca4bfc42d1a4580341463142fe",
            "5aeee1ed9fdf433abc2bd35062760661",
            "06196e48509d4fe7bd80c98321e9877a",
            "d8f8e3a7888e489cabf886a7fa761258",
            "44c837e1aeab471dbde7cf0d47c03630",
            "11e775e1646a493db720f75f1f7646b1",
            "12c3555efdd8452e903215c5c39a4d5d"
          ]
        },
        "id": "GuLrOA3TmB3J",
        "outputId": "7b9926ba-4436-4ebe-fc9d-b79b01084d1b"
      },
      "execution_count": 95,
      "outputs": [
        {
          "output_type": "stream",
          "name": "stdout",
          "text": [
            " what's our original model_2_results:\n",
            " {'model_name': 'FashionMNISTModelV2', 'model_loss': 0.3437938392162323, 'model_acc': 87.70966453674122}\n"
          ]
        },
        {
          "output_type": "display_data",
          "data": {
            "text/plain": [
              "  0%|          | 0/313 [00:00<?, ?it/s]"
            ],
            "application/vnd.jupyter.widget-view+json": {
              "version_major": 2,
              "version_minor": 0,
              "model_id": "84e16bf6b3a74e8bb132dc1e03d833a9"
            }
          },
          "metadata": {}
        },
        {
          "output_type": "execute_result",
          "data": {
            "text/plain": [
              "{'model_name': 'FashionMNISTModelV2',\n",
              " 'model_loss': 0.3440595865249634,\n",
              " 'model_acc': 87.69968051118211}"
            ]
          },
          "metadata": {},
          "execution_count": 95
        }
      ]
    },
    {
      "cell_type": "code",
      "source": [
        "# Check if model results are close to each other\n",
        "torch.isclose(torch.tensor(model_2_results[\"model_loss\"]),\n",
        "              torch.tensor(loaded_model_2_results[\"model_loss\"]),\n",
        "              atol=1e-03)"
      ],
      "metadata": {
        "colab": {
          "base_uri": "https://localhost:8080/"
        },
        "id": "-xO1vEHgm3SU",
        "outputId": "67b33637-3670-40b2-f516-e0ec6a94f096"
      },
      "execution_count": 102,
      "outputs": [
        {
          "output_type": "execute_result",
          "data": {
            "text/plain": [
              "tensor(True)"
            ]
          },
          "metadata": {},
          "execution_count": 102
        }
      ]
    }
  ]
}