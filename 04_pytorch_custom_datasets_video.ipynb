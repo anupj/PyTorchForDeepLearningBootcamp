{
  "nbformat": 4,
  "nbformat_minor": 0,
  "metadata": {
    "colab": {
      "provenance": [],
      "collapsed_sections": [
        "pBo6hGAfmy1B",
        "hHP4B1QenrJu"
      ],
      "gpuType": "A100",
      "authorship_tag": "ABX9TyN1YPeROpyd7jDzXXLL/KCL",
      "include_colab_link": true
    },
    "kernelspec": {
      "name": "python3",
      "display_name": "Python 3"
    },
    "language_info": {
      "name": "python"
    },
    "accelerator": "GPU"
  },
  "cells": [
    {
      "cell_type": "markdown",
      "metadata": {
        "id": "view-in-github",
        "colab_type": "text"
      },
      "source": [
        "<a href=\"https://colab.research.google.com/github/anupj/PyTorchForDeepLearningBootcamp/blob/main/04_pytorch_custom_datasets_video.ipynb\" target=\"_parent\"><img src=\"https://colab.research.google.com/assets/colab-badge.svg\" alt=\"Open In Colab\"/></a>"
      ]
    },
    {
      "cell_type": "markdown",
      "source": [
        "# 04. PyTorch Custom Datasets Video Notebook\n",
        "\n",
        "We've used some datasets with PyTorch before, but how do you get your own data into PyTorch?\n",
        "\n",
        "One of the ways to do so is via: **custom datasets**.\n",
        "\n",
        "## Domain libraries\n",
        "PyTorch has both existing data loading functions and customisable data loading functions for [domains](https://pytorch.org/pytorch-domains) like vision, text, audio, recommendations etc.\n",
        "e.g. [torchvision](https://pytorch.org/vision/stable/index.html), [torchdata - beta](https://pytorch.org/data/beta/index.html)\n",
        "\n",
        "**Resources**\n",
        "* Course Materials: https://www.learnpytorch.io/04_pytorch_custom_datasets/"
      ],
      "metadata": {
        "id": "5hezPkjnj89c"
      }
    },
    {
      "cell_type": "markdown",
      "source": [
        "## 0. Importing PyTorch and setting up device-agnostic code"
      ],
      "metadata": {
        "id": "pBo6hGAfmy1B"
      }
    },
    {
      "cell_type": "code",
      "source": [
        "import torch\n",
        "from torch import nn\n",
        "\n",
        "torch.__version__"
      ],
      "metadata": {
        "colab": {
          "base_uri": "https://localhost:8080/",
          "height": 0
        },
        "id": "E-vDZzndm4aO",
        "outputId": "9604c24b-e9d5-42bf-e9fb-ebe15bb5e68a"
      },
      "execution_count": 17,
      "outputs": [
        {
          "output_type": "execute_result",
          "data": {
            "text/plain": [
              "'2.5.1+cu121'"
            ],
            "application/vnd.google.colaboratory.intrinsic+json": {
              "type": "string"
            }
          },
          "metadata": {},
          "execution_count": 17
        }
      ]
    },
    {
      "cell_type": "code",
      "source": [
        "# Setup device-agnostic code\n",
        "device = \"cuda\" if torch.cuda.is_available() else \"cpu\"\n",
        "device"
      ],
      "metadata": {
        "colab": {
          "base_uri": "https://localhost:8080/",
          "height": 0
        },
        "id": "r5kJpD85nEDS",
        "outputId": "fbb52c66-85cb-4248-e099-4df9d6fc9faf"
      },
      "execution_count": 18,
      "outputs": [
        {
          "output_type": "execute_result",
          "data": {
            "text/plain": [
              "'cuda'"
            ],
            "application/vnd.google.colaboratory.intrinsic+json": {
              "type": "string"
            }
          },
          "metadata": {},
          "execution_count": 18
        }
      ]
    },
    {
      "cell_type": "code",
      "source": [
        "!nvidia-smi"
      ],
      "metadata": {
        "colab": {
          "base_uri": "https://localhost:8080/"
        },
        "collapsed": true,
        "id": "4N1h9t3gnZsf",
        "outputId": "eee7f182-9cc2-412f-c92c-87aff9132c03"
      },
      "execution_count": 19,
      "outputs": [
        {
          "output_type": "stream",
          "name": "stdout",
          "text": [
            "Sat Nov 23 06:42:42 2024       \n",
            "+---------------------------------------------------------------------------------------+\n",
            "| NVIDIA-SMI 535.104.05             Driver Version: 535.104.05   CUDA Version: 12.2     |\n",
            "|-----------------------------------------+----------------------+----------------------+\n",
            "| GPU  Name                 Persistence-M | Bus-Id        Disp.A | Volatile Uncorr. ECC |\n",
            "| Fan  Temp   Perf          Pwr:Usage/Cap |         Memory-Usage | GPU-Util  Compute M. |\n",
            "|                                         |                      |               MIG M. |\n",
            "|=========================================+======================+======================|\n",
            "|   0  NVIDIA A100-SXM4-40GB          Off | 00000000:00:04.0 Off |                    0 |\n",
            "| N/A   30C    P0              43W / 400W |      5MiB / 40960MiB |      0%      Default |\n",
            "|                                         |                      |             Disabled |\n",
            "+-----------------------------------------+----------------------+----------------------+\n",
            "                                                                                         \n",
            "+---------------------------------------------------------------------------------------+\n",
            "| Processes:                                                                            |\n",
            "|  GPU   GI   CI        PID   Type   Process name                            GPU Memory |\n",
            "|        ID   ID                                                             Usage      |\n",
            "|=======================================================================================|\n",
            "|  No running processes found                                                           |\n",
            "+---------------------------------------------------------------------------------------+\n"
          ]
        }
      ]
    },
    {
      "cell_type": "markdown",
      "source": [
        "## 1. Get data\n",
        "\n",
        "Our dataset is a subset of the [Food101 dataset](https://pytorch.org/vision/main/generated/torchvision.datasets.Food101.html)\n",
        ">The Food-101 is a challenging data set of 101 food categories with 101,000 images. For each class, 250 manually reviewed test images are provided as well as 750 training images. On purpose, the training images were not cleaned, and thus still contain some amount of noise. This comes mostly in the form of intense colors and sometimes wrong labels. All images were rescaled to have a maximum side length of 512 pixels.\n",
        "\n",
        "Our *mini* dataset contains 3 classes of food and only 10% of the images, so about ~75 training, and ~25 testing data points.\n",
        "\n",
        "**Why?**\n",
        "When starting out ML projects, it's important to try things on a small scale and then increase the scale when necessary.\n",
        "This will speed up experimentation cycles."
      ],
      "metadata": {
        "id": "hHP4B1QenrJu"
      }
    },
    {
      "cell_type": "code",
      "source": [
        "import requests\n",
        "import zipfile\n",
        "from pathlib import Path\n",
        "\n",
        "# Setup a path to a data folder\n",
        "data_path = Path(\"data/\")\n",
        "image_path = data_path / \"pizza_steak_sushi\"\n",
        "\n",
        "# Check if image folder exists\n",
        "if image_path.is_dir():\n",
        "  print(f\"{image_path} directory already exists...skipping downloading\")\n",
        "else:\n",
        "  # create the image folder\n",
        "  print(f\"{image_path} does not exist, creating one...\")\n",
        "  image_path.mkdir(parents=True, exist_ok=True)\n",
        "  # Download images data\n",
        "  with open(data_path / \"pizza_steak_sushi.zip\", \"wb\") as f:\n",
        "    request = requests.get(url=\"https://github.com/mrdbourke/pytorch-deep-learning/raw/refs/heads/main/data/pizza_steak_sushi.zip\")\n",
        "    print(\"Downloading pizza, steak, sushi data\")\n",
        "    f.write(request.content)\n",
        "  # Unzip pizza, steak, sushi data\n",
        "  with zipfile.ZipFile(data_path / \"pizza_steak_sushi.zip\", \"r\") as zip_ref:\n",
        "    print(\"Unzipping pizza, steak, and sushi data...\")\n",
        "    zip_ref.extractall(image_path)"
      ],
      "metadata": {
        "colab": {
          "base_uri": "https://localhost:8080/"
        },
        "id": "giQKPYBonp8L",
        "outputId": "1f0b0332-47c0-46bc-8637-b17a5d1b36c6"
      },
      "execution_count": 20,
      "outputs": [
        {
          "output_type": "stream",
          "name": "stdout",
          "text": [
            "data/pizza_steak_sushi directory already exists...skipping downloading\n"
          ]
        }
      ]
    },
    {
      "cell_type": "markdown",
      "source": [
        "## 2. Becoming one with the data (data prep and data exploration)"
      ],
      "metadata": {
        "id": "wy-TZfolpc9Z"
      }
    },
    {
      "cell_type": "code",
      "source": [
        "import os\n",
        "\n",
        "def walk_through_dir(dir_path: Path) -> None:\n",
        "  \"\"\"Walks through a directory and its subdirectories, printing the number of subdirectories and files found at each level.\n",
        "\n",
        "  This function is useful for exploring the structure and contents of a directory especially when working with directories. It provides a summary of the directory hierarchy and the number of files within each directory.\n",
        "\n",
        "  Args:\n",
        "    dir_path (str or pathlib.Path): The path to the directory you to explore.\n",
        "  Returns:\n",
        "    None: This function prints information to the console but does not return any values.\n",
        "\n",
        "  Example:\n",
        "    >>> walk_through_dir(\"data/my_dataset\")\n",
        "    There are 2 directories and 10 images in 'data/my_dataset'\n",
        "    There are 0 directories and 5 images in 'data/my_dataset/train'\n",
        "    There are 0 directories and 5 images in 'data/my_dataset/test'\n",
        "  \"\"\"\n",
        "  for dirpath, dirnames, filenames in os.walk(dir_path):\n",
        "    print(f\"There are {len(dirnames)} directories and {len(filenames)} images in '{dirpath}'\")"
      ],
      "metadata": {
        "id": "aS-7aezzpc6x"
      },
      "execution_count": 33,
      "outputs": []
    },
    {
      "cell_type": "code",
      "source": [
        "walk_through_dir(dir_path=image_path)"
      ],
      "metadata": {
        "id": "htDNxZGspc4O",
        "colab": {
          "base_uri": "https://localhost:8080/"
        },
        "outputId": "afd50447-b67a-4598-8122-92396b7e49e8"
      },
      "execution_count": 35,
      "outputs": [
        {
          "output_type": "stream",
          "name": "stdout",
          "text": [
            "There are 2 directories and 0 images in 'data/pizza_steak_sushi'\n",
            "There are 3 directories and 0 images in 'data/pizza_steak_sushi/train'\n",
            "There are 0 directories and 75 images in 'data/pizza_steak_sushi/train/steak'\n",
            "There are 0 directories and 72 images in 'data/pizza_steak_sushi/train/sushi'\n",
            "There are 0 directories and 78 images in 'data/pizza_steak_sushi/train/pizza'\n",
            "There are 3 directories and 0 images in 'data/pizza_steak_sushi/test'\n",
            "There are 0 directories and 19 images in 'data/pizza_steak_sushi/test/steak'\n",
            "There are 0 directories and 31 images in 'data/pizza_steak_sushi/test/sushi'\n",
            "There are 0 directories and 25 images in 'data/pizza_steak_sushi/test/pizza'\n"
          ]
        }
      ]
    },
    {
      "cell_type": "code",
      "source": [
        "# Setup train and training paths\n",
        "train_dir = image_path / \"train\"\n",
        "test_dir = image_path / \"test\"\n",
        "\n",
        "print(f\"Training directory path is '{train_dir}'\")\n",
        "print(f\"Testing directory path is '{test_dir}'\")"
      ],
      "metadata": {
        "id": "kIC2QScvpc0F",
        "colab": {
          "base_uri": "https://localhost:8080/"
        },
        "outputId": "eb2f51b4-99e4-45d4-96f9-6b546f5d99aa"
      },
      "execution_count": 36,
      "outputs": [
        {
          "output_type": "stream",
          "name": "stdout",
          "text": [
            "Training directory path is 'data/pizza_steak_sushi/train'\n",
            "Testing directory path is 'data/pizza_steak_sushi/test'\n"
          ]
        }
      ]
    },
    {
      "cell_type": "markdown",
      "source": [
        "### 2.1 Visualising images\n",
        "\n",
        "Let's write some code to:\n",
        "1. Get all of the image paths\n",
        "2. Pick a *random* image path using Python's `random.choice()`\n",
        "3. Get the image class name using `pathlib.Path.parent.stem`\n",
        "4. Since we're working with _images_, let's open the image with Python's PIL (or rather the `Pillow` fork of `PIL` library)\n",
        "5. Show the image and print metadata"
      ],
      "metadata": {
        "id": "IGCm934apcx_"
      }
    },
    {
      "cell_type": "code",
      "source": [
        "import random\n",
        "from PIL import Image # NTS - where's Pillow fork?\n",
        "\n",
        "# 1. Get all image paths\n",
        "image_path_list = list(image_path.glob(\"*/*/*.jpg\"))\n",
        "\n",
        "# 2. Pick a random image path\n"
      ],
      "metadata": {
        "id": "8XdKgpQypcvO"
      },
      "execution_count": 20,
      "outputs": []
    },
    {
      "cell_type": "code",
      "source": [],
      "metadata": {
        "id": "JJnpBje732mo"
      },
      "execution_count": null,
      "outputs": []
    },
    {
      "cell_type": "code",
      "source": [],
      "metadata": {
        "id": "TDPf4WJ732vR"
      },
      "execution_count": null,
      "outputs": []
    },
    {
      "cell_type": "code",
      "source": [],
      "metadata": {
        "id": "t4VEtleA32zg"
      },
      "execution_count": null,
      "outputs": []
    },
    {
      "cell_type": "code",
      "source": [],
      "metadata": {
        "id": "_bgnSpM0321y"
      },
      "execution_count": null,
      "outputs": []
    },
    {
      "cell_type": "code",
      "source": [],
      "metadata": {
        "id": "zmCDB5qz3240"
      },
      "execution_count": null,
      "outputs": []
    }
  ]
}